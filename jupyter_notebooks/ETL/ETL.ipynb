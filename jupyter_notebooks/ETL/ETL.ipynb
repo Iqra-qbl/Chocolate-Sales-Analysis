{
  "cells": [
    {
      "cell_type": "markdown",
      "metadata": {
        "id": "0aStgWSO0E0E"
      },
      "source": [
        "# **(ADD THE NOTEBOOK NAME HERE)**"
      ]
    },
    {
      "cell_type": "markdown",
      "metadata": {
        "id": "1eLEkw5O0ECa"
      },
      "source": [
        "## Objectives\n",
        "\n",
        "* Write your notebook objective here, for example, \"Fetch data from Kaggle and save as raw data\", or \"engineer features for modelling\"\n",
        "\n",
        "## Inputs\n",
        "\n",
        "* Write down which data or information you need to run the notebook \n",
        "\n",
        "## Outputs\n",
        "\n",
        "* Write here which files, code or artefacts you generate by the end of the notebook \n",
        "\n",
        "## Additional Comments\n",
        "\n",
        "* If you have any additional comments that don't fit in the previous bullets, please state them here. \n",
        "\n"
      ]
    },
    {
      "cell_type": "markdown",
      "metadata": {
        "id": "9uWZXH9LwoQg"
      },
      "source": [
        "---"
      ]
    },
    {
      "cell_type": "markdown",
      "metadata": {
        "id": "cqP-UeN-z3i2"
      },
      "source": [
        "# Change working directory"
      ]
    },
    {
      "cell_type": "markdown",
      "metadata": {},
      "source": [
        "* We are assuming you will store the notebooks in a subfolder, therefore when running the notebook in the editor, you will need to change the working directory"
      ]
    },
    {
      "cell_type": "markdown",
      "metadata": {
        "id": "aOGIGS-uz3i2"
      },
      "source": [
        "We need to change the working directory from its current folder to its parent folder\n",
        "* We access the current directory with os.getcwd()"
      ]
    },
    {
      "cell_type": "code",
      "execution_count": 7,
      "metadata": {
        "id": "wZfF_j-Bz3i4",
        "outputId": "66943449-1436-4c3d-85c7-b85f9f78349b"
      },
      "outputs": [
        {
          "data": {
            "text/plain": [
              "'/Users/hafeezahfagbo/Chocolate-Sales-Analysis'"
            ]
          },
          "execution_count": 7,
          "metadata": {},
          "output_type": "execute_result"
        }
      ],
      "source": [
        "import os\n",
        "current_dir = os.getcwd()\n",
        "current_dir"
      ]
    },
    {
      "cell_type": "markdown",
      "metadata": {
        "id": "9MWW8E7lz3i7"
      },
      "source": [
        "We want to make the parent of the current directory the new current directory\n",
        "* os.path.dirname() gets the parent directory\n",
        "* os.chir() defines the new current directory"
      ]
    },
    {
      "cell_type": "code",
      "execution_count": 8,
      "metadata": {
        "id": "TwHsQRWjz3i9",
        "outputId": "86849db3-cd2f-4cc5-ebb8-2d0caafa1a2c"
      },
      "outputs": [
        {
          "name": "stdout",
          "output_type": "stream",
          "text": [
            "You set a new current directory\n"
          ]
        }
      ],
      "source": [
        "os.chdir(os.path.dirname('/Users/hafeezahfagbo/Chocolate-Sales-Analysis/'  ))\n",
        "print(\"You set a new current directory\")"
      ]
    },
    {
      "cell_type": "markdown",
      "metadata": {
        "id": "M_xPk_Ijz3i-"
      },
      "source": [
        "Confirm the new current directory"
      ]
    },
    {
      "cell_type": "code",
      "execution_count": 9,
      "metadata": {
        "id": "vz3S-_kjz3jA",
        "outputId": "00b79ae4-75d0-4a96-d193-ac9ef9847ea2"
      },
      "outputs": [
        {
          "data": {
            "text/plain": [
              "'/Users/hafeezahfagbo/Chocolate-Sales-Analysis'"
            ]
          },
          "execution_count": 9,
          "metadata": {},
          "output_type": "execute_result"
        }
      ],
      "source": [
        "current_dir = os.getcwd()\n",
        "current_dir"
      ]
    },
    {
      "cell_type": "markdown",
      "metadata": {},
      "source": [
        "<h2 style='color:#35AED7;'>Importing Libraries and Packages</h2>"
      ]
    },
    {
      "cell_type": "markdown",
      "metadata": {},
      "source": [
        "Loading Python packages that we will be using in this project to carry out the analysis. For example Numpy to compute numerical operations and handle arrays, Pandas for data manipulation and analysis, Matplotlib, Seaborn and Plotly to create different data visualisations"
      ]
    },
    {
      "cell_type": "code",
      "execution_count": 10,
      "metadata": {},
      "outputs": [],
      "source": [
        "import numpy as np\n",
        "import pandas as pd \n",
        "import matplotlib.pyplot as plt\n",
        "import seaborn as sns\n",
        "sns.set_style('whitegrid')\n",
        "import plotly.express as px\n",
        "from scipy.stats import chi2_contingency, kurtosis, skew\n",
        "from sklearn.decomposition import PCA\n",
        "from sklearn.preprocessing import StandardScaler"
      ]
    },
    {
      "cell_type": "markdown",
      "metadata": {
        "id": "ZY3l0-AxO93d"
      },
      "source": [
        "---"
      ]
    },
    {
      "cell_type": "markdown",
      "metadata": {},
      "source": [
        "<h2 style='color:#35AED7;'> Extract</h2>"
      ]
    },
    {
      "cell_type": "markdown",
      "metadata": {},
      "source": [
        "Loading the CSV dataset containing the data collected previously and extracting it into dataframe using pd.read_csv() function"
      ]
    },
    {
      "cell_type": "markdown",
      "metadata": {},
      "source": [
        "---"
      ]
    },
    {
      "cell_type": "code",
      "execution_count": 13,
      "metadata": {},
      "outputs": [
        {
          "data": {
            "text/html": [
              "<div>\n",
              "<style scoped>\n",
              "    .dataframe tbody tr th:only-of-type {\n",
              "        vertical-align: middle;\n",
              "    }\n",
              "\n",
              "    .dataframe tbody tr th {\n",
              "        vertical-align: top;\n",
              "    }\n",
              "\n",
              "    .dataframe thead th {\n",
              "        text-align: right;\n",
              "    }\n",
              "</style>\n",
              "<table border=\"1\" class=\"dataframe\">\n",
              "  <thead>\n",
              "    <tr style=\"text-align: right;\">\n",
              "      <th></th>\n",
              "      <th>Sales Person</th>\n",
              "      <th>Country</th>\n",
              "      <th>Product</th>\n",
              "      <th>Date</th>\n",
              "      <th>Amount</th>\n",
              "      <th>Boxes Shipped</th>\n",
              "    </tr>\n",
              "  </thead>\n",
              "  <tbody>\n",
              "    <tr>\n",
              "      <th>0</th>\n",
              "      <td>Jehu Rudeforth</td>\n",
              "      <td>UK</td>\n",
              "      <td>Mint Chip Choco</td>\n",
              "      <td>04-Jan-22</td>\n",
              "      <td>$5,320</td>\n",
              "      <td>180</td>\n",
              "    </tr>\n",
              "    <tr>\n",
              "      <th>1</th>\n",
              "      <td>Van Tuxwell</td>\n",
              "      <td>India</td>\n",
              "      <td>85% Dark Bars</td>\n",
              "      <td>01-Aug-22</td>\n",
              "      <td>$7,896</td>\n",
              "      <td>94</td>\n",
              "    </tr>\n",
              "    <tr>\n",
              "      <th>2</th>\n",
              "      <td>Gigi Bohling</td>\n",
              "      <td>India</td>\n",
              "      <td>Peanut Butter Cubes</td>\n",
              "      <td>07-Jul-22</td>\n",
              "      <td>$4,501</td>\n",
              "      <td>91</td>\n",
              "    </tr>\n",
              "    <tr>\n",
              "      <th>3</th>\n",
              "      <td>Jan Morforth</td>\n",
              "      <td>Australia</td>\n",
              "      <td>Peanut Butter Cubes</td>\n",
              "      <td>27-Apr-22</td>\n",
              "      <td>$12,726</td>\n",
              "      <td>342</td>\n",
              "    </tr>\n",
              "    <tr>\n",
              "      <th>4</th>\n",
              "      <td>Jehu Rudeforth</td>\n",
              "      <td>UK</td>\n",
              "      <td>Peanut Butter Cubes</td>\n",
              "      <td>24-Feb-22</td>\n",
              "      <td>$13,685</td>\n",
              "      <td>184</td>\n",
              "    </tr>\n",
              "  </tbody>\n",
              "</table>\n",
              "</div>"
            ],
            "text/plain": [
              "     Sales Person    Country              Product       Date    Amount  \\\n",
              "0  Jehu Rudeforth         UK      Mint Chip Choco  04-Jan-22   $5,320    \n",
              "1     Van Tuxwell      India        85% Dark Bars  01-Aug-22   $7,896    \n",
              "2    Gigi Bohling      India  Peanut Butter Cubes  07-Jul-22   $4,501    \n",
              "3    Jan Morforth  Australia  Peanut Butter Cubes  27-Apr-22  $12,726    \n",
              "4  Jehu Rudeforth         UK  Peanut Butter Cubes  24-Feb-22  $13,685    \n",
              "\n",
              "   Boxes Shipped  \n",
              "0            180  \n",
              "1             94  \n",
              "2             91  \n",
              "3            342  \n",
              "4            184  "
            ]
          },
          "execution_count": 13,
          "metadata": {},
          "output_type": "execute_result"
        }
      ],
      "source": [
        "df = pd.read_csv(os.path.join(current_dir, \"Inputs\", \"Chocolate Sales.csv\"))\n",
        "df.head()"
      ]
    },
    {
      "cell_type": "markdown",
      "metadata": {},
      "source": []
    },
    {
      "cell_type": "markdown",
      "metadata": {},
      "source": [
        "<h2 style='color:#35AED7;'> Transform</h2>"
      ]
    },
    {
      "cell_type": "markdown",
      "metadata": {},
      "source": [
        "* Cleaning the data:\n",
        "\n",
        "Removal of personal names,converting the amount column to numeric, standadize the date,normalise the column names and check for missing values."
      ]
    },
    {
      "cell_type": "code",
      "execution_count": 14,
      "metadata": {},
      "outputs": [],
      "source": [
        "# Drop (Sales Person) Column\n",
        "df_cleaned = df.drop(columns=[\"Sales Person\"], errors=\"ignore\")\n"
      ]
    },
    {
      "cell_type": "code",
      "execution_count": 15,
      "metadata": {},
      "outputs": [
        {
          "name": "stderr",
          "output_type": "stream",
          "text": [
            "<>:2: SyntaxWarning: invalid escape sequence '\\$'\n",
            "<>:2: SyntaxWarning: invalid escape sequence '\\$'\n",
            "/var/folders/5w/h15_hs_x2dqcp2vlqtmrxlqm0000gn/T/ipykernel_29251/970674774.py:2: SyntaxWarning: invalid escape sequence '\\$'\n",
            "  df_cleaned[\"Amount\"] = df_cleaned[\"Amount\"].replace('[\\$,]', '', regex=True).astype(float)\n"
          ]
        }
      ],
      "source": [
        "# Convert Amount column to numeric by removing the \"$\" sign\n",
        "df_cleaned[\"Amount\"] = df_cleaned[\"Amount\"].replace('[\\$,]', '', regex=True).astype(float)\n"
      ]
    },
    {
      "cell_type": "code",
      "execution_count": 16,
      "metadata": {},
      "outputs": [],
      "source": [
        "# Convert Date column to standard format (YYYY-MM-DD)\n",
        "df_cleaned[\"Date\"] = pd.to_datetime(df_cleaned[\"Date\"], format=\"%d-%b-%y\", errors=\"coerce\")\n"
      ]
    },
    {
      "cell_type": "code",
      "execution_count": 17,
      "metadata": {},
      "outputs": [],
      "source": [
        "# Normalize column names (lowercase, replace spaces with underscores)\n",
        "df_cleaned.columns = df_cleaned.columns.str.lower().str.replace(\" \", \"_\")\n"
      ]
    },
    {
      "cell_type": "code",
      "execution_count": 18,
      "metadata": {},
      "outputs": [
        {
          "name": "stdout",
          "output_type": "stream",
          "text": [
            "Missing Values:\n",
            " country          0\n",
            "product          0\n",
            "date             0\n",
            "amount           0\n",
            "boxes_shipped    0\n",
            "dtype: int64\n",
            "     country              product       date   amount  boxes_shipped\n",
            "0         UK      Mint Chip Choco 2022-01-04   5320.0            180\n",
            "1      India        85% Dark Bars 2022-08-01   7896.0             94\n",
            "2      India  Peanut Butter Cubes 2022-07-07   4501.0             91\n",
            "3  Australia  Peanut Butter Cubes 2022-04-27  12726.0            342\n",
            "4         UK  Peanut Butter Cubes 2022-02-24  13685.0            184\n"
          ]
        }
      ],
      "source": [
        "# Check for missing values\n",
        "print(\"Missing Values:\\n\", df_cleaned.isnull().sum())\n",
        "print(df_cleaned.head())"
      ]
    },
    {
      "cell_type": "markdown",
      "metadata": {},
      "source": [
        "The data has been cleaned and ready to load. This will be saved into a csv file for further analysis"
      ]
    },
    {
      "cell_type": "markdown",
      "metadata": {},
      "source": [
        "<h2 style='color:#35AED7;'> Load</h2>"
      ]
    },
    {
      "cell_type": "code",
      "execution_count": 19,
      "metadata": {},
      "outputs": [],
      "source": [
        "# Save the cleaned dataset to a CSV file\n",
        "df_cleaned.to_csv('/Users/hafeezahfagbo/Chocolate-Sales-Analysis/df_cleaned.csv', index=False)"
      ]
    },
    {
      "cell_type": "markdown",
      "metadata": {},
      "source": [
        "---"
      ]
    },
    {
      "cell_type": "markdown",
      "metadata": {
        "id": "ltNetd085qHf"
      },
      "source": [
        "# Push files to Repo"
      ]
    },
    {
      "cell_type": "markdown",
      "metadata": {},
      "source": [
        "* In cases where you don't need to push files to Repo, you may replace this section with \"Conclusions and Next Steps\" and state your conclusions and next steps."
      ]
    },
    {
      "cell_type": "code",
      "execution_count": null,
      "metadata": {
        "id": "aKlnIozA4eQO",
        "outputId": "fd09bc1f-adb1-4511-f6ce-492a6af570c0"
      },
      "outputs": [],
      "source": [
        "import os\n",
        "try:\n",
        "  # create your folder here\n",
        "  # os.makedirs(name='')\n",
        "except Exception as e:\n",
        "  print(e)\n"
      ]
    }
  ],
  "metadata": {
    "accelerator": "GPU",
    "colab": {
      "name": "Data Practitioner Jupyter Notebook.ipynb",
      "provenance": [],
      "toc_visible": true
    },
    "kernelspec": {
      "display_name": "Python 3",
      "language": "python",
      "name": "python3"
    },
    "language_info": {
      "codemirror_mode": {
        "name": "ipython",
        "version": 3
      },
      "file_extension": ".py",
      "mimetype": "text/x-python",
      "name": "python",
      "nbconvert_exporter": "python",
      "pygments_lexer": "ipython3",
      "version": "3.12.8"
    },
    "orig_nbformat": 2
  },
  "nbformat": 4,
  "nbformat_minor": 2
}
