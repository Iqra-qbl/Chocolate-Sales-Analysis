{
  "cells": [
    {
      "cell_type": "markdown",
      "metadata": {
        "id": "0aStgWSO0E0E"
      },
      "source": [
        "<div style='background-color:#443025; padding: 15px; border-radius: 5px;'>\n",
        "<h1 style='color:#FEFEFE; text-align:center;'> Chocolate Sales Analysis – Data Analytics Project</h1>\n",
        "</div>"
      ]
    },
    {
      "cell_type": "markdown",
      "metadata": {
        "id": "9uWZXH9LwoQg"
      },
      "source": [
        "---"
      ]
    },
    {
      "cell_type": "markdown",
      "metadata": {},
      "source": [
        "<h2 style='color:#714737;'>Objectives</h2>\n",
        "\n",
        "- Load and preprocess the Chocolate dataset.\n",
        "- Clean the dataset by removing columns not required,standardise date column,normalise and convert columns where needed.\n",
        "- Perform exploratory data analysis (EDA) to understand data distribution and relationships.\n",
        "\n",
        "\n",
        "\n",
        "<h2 style='color:#714737;'>Inputs</h2>\n",
        "\n",
        "- **Dataset:** kagglehub.dataset_download(\"atharvasoundankar/chocolate-sales\")\n",
        "- **Required Libraries:** Pandas, NumPy, Matplotlib, Seaborn, Scikit-learn, Plotly\n",
        "\n",
        "- **Columns of Interest:** 'Sales Person', 'Country', 'Product', 'Date', 'Amount', 'Boxes Shipped'\n",
        "\n",
        " \n",
        "  \n",
        "<h2 style='color:#714737;'>Outputs</h2>\n",
        "\n",
        "- **Cleaned dataset:** Processed dataset stored as a CSV file for analysis (`df_cleaned.csv`).\n",
        "- **Exploratory Data Analysis (EDA):**\n",
        "  - Understanding the data types and statistics in analysis.\n",
        "  - Observing the distribution or features in column.\n",
        "  - Identify outliers in numerical data.\n",
        "  - Compare categorical variables with the target variable (Revenue Total).\n",
        "- **Feature-engineered dataset:** Enhanced dataset with new derived features.\n",
        "- **Insights & Summary Reports:** Key findings documented for further decision-making.\n",
        "\n",
        "<h2 style='color:#714737;'>Additional Comments</h2>\n",
        "\n",
        "- Ensure proper handling of missing, duplicated and outlier values to maintain data integrity.\n",
        "- Remove names of sales persons to avoid ethical concerns as we are not using that data column.\n",
        "\n",
        "\n"
      ]
    },
    {
      "cell_type": "markdown",
      "metadata": {
        "id": "cqP-UeN-z3i2"
      },
      "source": [
        "<h2 style='color:#714737;'>Changing work directory</h2>"
      ]
    },
    {
      "cell_type": "markdown",
      "metadata": {},
      "source": [
        "To run the notebook in the editor, the working directory needs to be changed from its current folder to its parent folder. Thus, we first access the current directory with os.getcwd()"
      ]
    },
    {
      "cell_type": "code",
      "execution_count": 1,
      "metadata": {
        "id": "wZfF_j-Bz3i4",
        "outputId": "66943449-1436-4c3d-85c7-b85f9f78349b"
      },
      "outputs": [
        {
          "data": {
            "text/plain": [
              "'s:\\\\Documents\\\\Code Institute\\\\vscode-projects\\\\Chocolate Sales Analysis\\\\Chocolate-Sales-Analysis\\\\jupyter_notebooks'"
            ]
          },
          "execution_count": 1,
          "metadata": {},
          "output_type": "execute_result"
        }
      ],
      "source": [
        "import os\n",
        "current_dir = os.getcwd()\n",
        "current_dir"
      ]
    },
    {
      "cell_type": "markdown",
      "metadata": {
        "id": "9MWW8E7lz3i7"
      },
      "source": [
        "Then we make the parent of the current directory the new current directory by using:\n",
        "  * os.path.dirname() to get the parent directory\n",
        "  * os.chir() to define the new current directory"
      ]
    },
    {
      "cell_type": "code",
      "execution_count": 2,
      "metadata": {
        "id": "TwHsQRWjz3i9",
        "outputId": "86849db3-cd2f-4cc5-ebb8-2d0caafa1a2c"
      },
      "outputs": [
        {
          "name": "stdout",
          "output_type": "stream",
          "text": [
            "You set a new current directory.\n"
          ]
        }
      ],
      "source": [
        "os.chdir(os.path.dirname(current_dir))\n",
        "print(\"You set a new current directory.\")"
      ]
    },
    {
      "cell_type": "markdown",
      "metadata": {
        "id": "M_xPk_Ijz3i-"
      },
      "source": [
        "Confirming the new current directory"
      ]
    },
    {
      "cell_type": "code",
      "execution_count": 3,
      "metadata": {
        "id": "vz3S-_kjz3jA",
        "outputId": "00b79ae4-75d0-4a96-d193-ac9ef9847ea2"
      },
      "outputs": [
        {
          "data": {
            "text/plain": [
              "'s:\\\\Documents\\\\Code Institute\\\\vscode-projects\\\\Chocolate Sales Analysis\\\\Chocolate-Sales-Analysis'"
            ]
          },
          "execution_count": 3,
          "metadata": {},
          "output_type": "execute_result"
        }
      ],
      "source": [
        "current_dir = os.getcwd()\n",
        "current_dir"
      ]
    },
    {
      "cell_type": "markdown",
      "metadata": {},
      "source": [
        "<h2 style='color:#714737;'>Importing Libraries and Packages</h2>"
      ]
    },
    {
      "cell_type": "markdown",
      "metadata": {},
      "source": [
        "Loading Python packages that we will be using in this project to carry out the analysis. For example Numpy to compute numerical operations and handle arrays, Pandas for data manipulation and analysis, Matplotlib, Seaborn and Plotly to create different data visualisations"
      ]
    },
    {
      "cell_type": "code",
      "execution_count": 4,
      "metadata": {},
      "outputs": [],
      "source": [
        "import numpy as np\n",
        "import pandas as pd \n",
        "import matplotlib.pyplot as plt\n",
        "import seaborn as sns\n",
        "sns.set_style('whitegrid')\n",
        "import plotly.express as px\n",
        "from scipy.stats import chi2_contingency, kurtosis, skew\n",
        "from sklearn.decomposition import PCA\n",
        "from sklearn.preprocessing import StandardScaler\n",
        "import warnings\n",
        "warnings.filterwarnings('ignore')"
      ]
    },
    {
      "cell_type": "markdown",
      "metadata": {
        "id": "ZY3l0-AxO93d"
      },
      "source": [
        "---"
      ]
    },
    {
      "cell_type": "markdown",
      "metadata": {},
      "source": [
        "<h2 style='color:#714737;'> Extracting the Data</h2>"
      ]
    },
    {
      "cell_type": "markdown",
      "metadata": {},
      "source": [
        "Loading the CSV dataset containing the data collected previously and extracting it into dataframe using pd.read_csv() function. Then using .head() to perview the dataset"
      ]
    },
    {
      "cell_type": "code",
      "execution_count": 5,
      "metadata": {},
      "outputs": [
        {
          "data": {
            "text/html": [
              "<div>\n",
              "<style scoped>\n",
              "    .dataframe tbody tr th:only-of-type {\n",
              "        vertical-align: middle;\n",
              "    }\n",
              "\n",
              "    .dataframe tbody tr th {\n",
              "        vertical-align: top;\n",
              "    }\n",
              "\n",
              "    .dataframe thead th {\n",
              "        text-align: right;\n",
              "    }\n",
              "</style>\n",
              "<table border=\"1\" class=\"dataframe\">\n",
              "  <thead>\n",
              "    <tr style=\"text-align: right;\">\n",
              "      <th></th>\n",
              "      <th>Sales Person</th>\n",
              "      <th>Country</th>\n",
              "      <th>Product</th>\n",
              "      <th>Date</th>\n",
              "      <th>Amount</th>\n",
              "      <th>Boxes Shipped</th>\n",
              "    </tr>\n",
              "  </thead>\n",
              "  <tbody>\n",
              "    <tr>\n",
              "      <th>0</th>\n",
              "      <td>Jehu Rudeforth</td>\n",
              "      <td>UK</td>\n",
              "      <td>Mint Chip Choco</td>\n",
              "      <td>04-Jan-22</td>\n",
              "      <td>$5,320</td>\n",
              "      <td>180</td>\n",
              "    </tr>\n",
              "    <tr>\n",
              "      <th>1</th>\n",
              "      <td>Van Tuxwell</td>\n",
              "      <td>India</td>\n",
              "      <td>85% Dark Bars</td>\n",
              "      <td>01-Aug-22</td>\n",
              "      <td>$7,896</td>\n",
              "      <td>94</td>\n",
              "    </tr>\n",
              "    <tr>\n",
              "      <th>2</th>\n",
              "      <td>Gigi Bohling</td>\n",
              "      <td>India</td>\n",
              "      <td>Peanut Butter Cubes</td>\n",
              "      <td>07-Jul-22</td>\n",
              "      <td>$4,501</td>\n",
              "      <td>91</td>\n",
              "    </tr>\n",
              "    <tr>\n",
              "      <th>3</th>\n",
              "      <td>Jan Morforth</td>\n",
              "      <td>Australia</td>\n",
              "      <td>Peanut Butter Cubes</td>\n",
              "      <td>27-Apr-22</td>\n",
              "      <td>$12,726</td>\n",
              "      <td>342</td>\n",
              "    </tr>\n",
              "    <tr>\n",
              "      <th>4</th>\n",
              "      <td>Jehu Rudeforth</td>\n",
              "      <td>UK</td>\n",
              "      <td>Peanut Butter Cubes</td>\n",
              "      <td>24-Feb-22</td>\n",
              "      <td>$13,685</td>\n",
              "      <td>184</td>\n",
              "    </tr>\n",
              "  </tbody>\n",
              "</table>\n",
              "</div>"
            ],
            "text/plain": [
              "     Sales Person    Country              Product       Date    Amount  \\\n",
              "0  Jehu Rudeforth         UK      Mint Chip Choco  04-Jan-22   $5,320    \n",
              "1     Van Tuxwell      India        85% Dark Bars  01-Aug-22   $7,896    \n",
              "2    Gigi Bohling      India  Peanut Butter Cubes  07-Jul-22   $4,501    \n",
              "3    Jan Morforth  Australia  Peanut Butter Cubes  27-Apr-22  $12,726    \n",
              "4  Jehu Rudeforth         UK  Peanut Butter Cubes  24-Feb-22  $13,685    \n",
              "\n",
              "   Boxes Shipped  \n",
              "0            180  \n",
              "1             94  \n",
              "2             91  \n",
              "3            342  \n",
              "4            184  "
            ]
          },
          "execution_count": 5,
          "metadata": {},
          "output_type": "execute_result"
        }
      ],
      "source": [
        "df = pd.read_csv(\"Inputs/Chocolate Sales.csv\")\n",
        "df.head()"
      ]
    },
    {
      "cell_type": "markdown",
      "metadata": {},
      "source": [
        "<h2 style='color:#714737;'> Exploring and Transforming the Data</h2>"
      ]
    },
    {
      "cell_type": "markdown",
      "metadata": {},
      "source": [
        "First, we will gain an initial understanding of the dataset. We will start by checking general information regarding the data such as column names, datatypes of columns, number of entries and the memory space used through .info() method"
      ]
    },
    {
      "cell_type": "code",
      "execution_count": 6,
      "metadata": {},
      "outputs": [
        {
          "name": "stdout",
          "output_type": "stream",
          "text": [
            "<class 'pandas.core.frame.DataFrame'>\n",
            "RangeIndex: 1094 entries, 0 to 1093\n",
            "Data columns (total 6 columns):\n",
            " #   Column         Non-Null Count  Dtype \n",
            "---  ------         --------------  ----- \n",
            " 0   Sales Person   1094 non-null   object\n",
            " 1   Country        1094 non-null   object\n",
            " 2   Product        1094 non-null   object\n",
            " 3   Date           1094 non-null   object\n",
            " 4   Amount         1094 non-null   object\n",
            " 5   Boxes Shipped  1094 non-null   int64 \n",
            "dtypes: int64(1), object(5)\n",
            "memory usage: 51.4+ KB\n"
          ]
        }
      ],
      "source": [
        "df.info()"
      ]
    },
    {
      "cell_type": "markdown",
      "metadata": {},
      "source": [
        "Getting list of Column names in dataset"
      ]
    },
    {
      "cell_type": "code",
      "execution_count": 7,
      "metadata": {},
      "outputs": [
        {
          "data": {
            "text/plain": [
              "['Sales Person', 'Country', 'Product', 'Date', 'Amount', 'Boxes Shipped']"
            ]
          },
          "execution_count": 7,
          "metadata": {},
          "output_type": "execute_result"
        }
      ],
      "source": [
        "df.columns.tolist()"
      ]
    },
    {
      "cell_type": "markdown",
      "metadata": {},
      "source": [
        "Checking each Column's datatype"
      ]
    },
    {
      "cell_type": "code",
      "execution_count": 8,
      "metadata": {},
      "outputs": [
        {
          "data": {
            "text/plain": [
              "Sales Person     object\n",
              "Country          object\n",
              "Product          object\n",
              "Date             object\n",
              "Amount           object\n",
              "Boxes Shipped     int64\n",
              "dtype: object"
            ]
          },
          "execution_count": 8,
          "metadata": {},
          "output_type": "execute_result"
        }
      ],
      "source": [
        "df.dtypes"
      ]
    },
    {
      "cell_type": "markdown",
      "metadata": {},
      "source": [
        "Then we will clean the data by removing sales person names column which we will not be using"
      ]
    },
    {
      "cell_type": "code",
      "execution_count": 9,
      "metadata": {},
      "outputs": [
        {
          "data": {
            "text/html": [
              "<div>\n",
              "<style scoped>\n",
              "    .dataframe tbody tr th:only-of-type {\n",
              "        vertical-align: middle;\n",
              "    }\n",
              "\n",
              "    .dataframe tbody tr th {\n",
              "        vertical-align: top;\n",
              "    }\n",
              "\n",
              "    .dataframe thead th {\n",
              "        text-align: right;\n",
              "    }\n",
              "</style>\n",
              "<table border=\"1\" class=\"dataframe\">\n",
              "  <thead>\n",
              "    <tr style=\"text-align: right;\">\n",
              "      <th></th>\n",
              "      <th>Country</th>\n",
              "      <th>Product</th>\n",
              "      <th>Date</th>\n",
              "      <th>Amount</th>\n",
              "      <th>Boxes Shipped</th>\n",
              "    </tr>\n",
              "  </thead>\n",
              "  <tbody>\n",
              "    <tr>\n",
              "      <th>0</th>\n",
              "      <td>UK</td>\n",
              "      <td>Mint Chip Choco</td>\n",
              "      <td>04-Jan-22</td>\n",
              "      <td>$5,320</td>\n",
              "      <td>180</td>\n",
              "    </tr>\n",
              "    <tr>\n",
              "      <th>1</th>\n",
              "      <td>India</td>\n",
              "      <td>85% Dark Bars</td>\n",
              "      <td>01-Aug-22</td>\n",
              "      <td>$7,896</td>\n",
              "      <td>94</td>\n",
              "    </tr>\n",
              "    <tr>\n",
              "      <th>2</th>\n",
              "      <td>India</td>\n",
              "      <td>Peanut Butter Cubes</td>\n",
              "      <td>07-Jul-22</td>\n",
              "      <td>$4,501</td>\n",
              "      <td>91</td>\n",
              "    </tr>\n",
              "    <tr>\n",
              "      <th>3</th>\n",
              "      <td>Australia</td>\n",
              "      <td>Peanut Butter Cubes</td>\n",
              "      <td>27-Apr-22</td>\n",
              "      <td>$12,726</td>\n",
              "      <td>342</td>\n",
              "    </tr>\n",
              "    <tr>\n",
              "      <th>4</th>\n",
              "      <td>UK</td>\n",
              "      <td>Peanut Butter Cubes</td>\n",
              "      <td>24-Feb-22</td>\n",
              "      <td>$13,685</td>\n",
              "      <td>184</td>\n",
              "    </tr>\n",
              "  </tbody>\n",
              "</table>\n",
              "</div>"
            ],
            "text/plain": [
              "     Country              Product       Date    Amount  Boxes Shipped\n",
              "0         UK      Mint Chip Choco  04-Jan-22   $5,320             180\n",
              "1      India        85% Dark Bars  01-Aug-22   $7,896              94\n",
              "2      India  Peanut Butter Cubes  07-Jul-22   $4,501              91\n",
              "3  Australia  Peanut Butter Cubes  27-Apr-22  $12,726             342\n",
              "4         UK  Peanut Butter Cubes  24-Feb-22  $13,685             184"
            ]
          },
          "execution_count": 9,
          "metadata": {},
          "output_type": "execute_result"
        }
      ],
      "source": [
        "df_cleaned = df.drop(columns=[\"Sales Person\"], errors=\"ignore\")\n",
        "df_cleaned.head()"
      ]
    },
    {
      "cell_type": "markdown",
      "metadata": {},
      "source": [
        "Check for missing values"
      ]
    },
    {
      "cell_type": "code",
      "execution_count": 10,
      "metadata": {},
      "outputs": [
        {
          "data": {
            "text/plain": [
              "Country          0\n",
              "Product          0\n",
              "Date             0\n",
              "Amount           0\n",
              "Boxes Shipped    0\n",
              "dtype: int64"
            ]
          },
          "execution_count": 10,
          "metadata": {},
          "output_type": "execute_result"
        }
      ],
      "source": [
        "df_cleaned.isnull().sum()"
      ]
    },
    {
      "cell_type": "markdown",
      "metadata": {},
      "source": [
        "Check for NAN or empty values"
      ]
    },
    {
      "cell_type": "code",
      "execution_count": 11,
      "metadata": {},
      "outputs": [
        {
          "data": {
            "text/html": [
              "<div>\n",
              "<style scoped>\n",
              "    .dataframe tbody tr th:only-of-type {\n",
              "        vertical-align: middle;\n",
              "    }\n",
              "\n",
              "    .dataframe tbody tr th {\n",
              "        vertical-align: top;\n",
              "    }\n",
              "\n",
              "    .dataframe thead th {\n",
              "        text-align: right;\n",
              "    }\n",
              "</style>\n",
              "<table border=\"1\" class=\"dataframe\">\n",
              "  <thead>\n",
              "    <tr style=\"text-align: right;\">\n",
              "      <th></th>\n",
              "      <th>Country</th>\n",
              "      <th>Product</th>\n",
              "      <th>Date</th>\n",
              "      <th>Amount</th>\n",
              "      <th>Boxes Shipped</th>\n",
              "    </tr>\n",
              "  </thead>\n",
              "  <tbody>\n",
              "    <tr>\n",
              "      <th>0</th>\n",
              "      <td>UK</td>\n",
              "      <td>Mint Chip Choco</td>\n",
              "      <td>04-Jan-22</td>\n",
              "      <td>$5,320</td>\n",
              "      <td>180</td>\n",
              "    </tr>\n",
              "    <tr>\n",
              "      <th>1</th>\n",
              "      <td>India</td>\n",
              "      <td>85% Dark Bars</td>\n",
              "      <td>01-Aug-22</td>\n",
              "      <td>$7,896</td>\n",
              "      <td>94</td>\n",
              "    </tr>\n",
              "    <tr>\n",
              "      <th>2</th>\n",
              "      <td>India</td>\n",
              "      <td>Peanut Butter Cubes</td>\n",
              "      <td>07-Jul-22</td>\n",
              "      <td>$4,501</td>\n",
              "      <td>91</td>\n",
              "    </tr>\n",
              "    <tr>\n",
              "      <th>3</th>\n",
              "      <td>Australia</td>\n",
              "      <td>Peanut Butter Cubes</td>\n",
              "      <td>27-Apr-22</td>\n",
              "      <td>$12,726</td>\n",
              "      <td>342</td>\n",
              "    </tr>\n",
              "    <tr>\n",
              "      <th>4</th>\n",
              "      <td>UK</td>\n",
              "      <td>Peanut Butter Cubes</td>\n",
              "      <td>24-Feb-22</td>\n",
              "      <td>$13,685</td>\n",
              "      <td>184</td>\n",
              "    </tr>\n",
              "    <tr>\n",
              "      <th>...</th>\n",
              "      <td>...</td>\n",
              "      <td>...</td>\n",
              "      <td>...</td>\n",
              "      <td>...</td>\n",
              "      <td>...</td>\n",
              "    </tr>\n",
              "    <tr>\n",
              "      <th>1089</th>\n",
              "      <td>Australia</td>\n",
              "      <td>Spicy Special Slims</td>\n",
              "      <td>17-May-22</td>\n",
              "      <td>$4,410</td>\n",
              "      <td>323</td>\n",
              "    </tr>\n",
              "    <tr>\n",
              "      <th>1090</th>\n",
              "      <td>USA</td>\n",
              "      <td>White Choc</td>\n",
              "      <td>07-Jun-22</td>\n",
              "      <td>$6,559</td>\n",
              "      <td>119</td>\n",
              "    </tr>\n",
              "    <tr>\n",
              "      <th>1091</th>\n",
              "      <td>Canada</td>\n",
              "      <td>Organic Choco Syrup</td>\n",
              "      <td>26-Jul-22</td>\n",
              "      <td>$574</td>\n",
              "      <td>217</td>\n",
              "    </tr>\n",
              "    <tr>\n",
              "      <th>1092</th>\n",
              "      <td>India</td>\n",
              "      <td>Eclairs</td>\n",
              "      <td>28-Jul-22</td>\n",
              "      <td>$2,086</td>\n",
              "      <td>384</td>\n",
              "    </tr>\n",
              "    <tr>\n",
              "      <th>1093</th>\n",
              "      <td>India</td>\n",
              "      <td>70% Dark Bites</td>\n",
              "      <td>23-May-22</td>\n",
              "      <td>$5,075</td>\n",
              "      <td>344</td>\n",
              "    </tr>\n",
              "  </tbody>\n",
              "</table>\n",
              "<p>1094 rows × 5 columns</p>\n",
              "</div>"
            ],
            "text/plain": [
              "        Country              Product       Date    Amount  Boxes Shipped\n",
              "0            UK      Mint Chip Choco  04-Jan-22   $5,320             180\n",
              "1         India        85% Dark Bars  01-Aug-22   $7,896              94\n",
              "2         India  Peanut Butter Cubes  07-Jul-22   $4,501              91\n",
              "3     Australia  Peanut Butter Cubes  27-Apr-22  $12,726             342\n",
              "4            UK  Peanut Butter Cubes  24-Feb-22  $13,685             184\n",
              "...         ...                  ...        ...       ...            ...\n",
              "1089  Australia  Spicy Special Slims  17-May-22   $4,410             323\n",
              "1090        USA           White Choc  07-Jun-22   $6,559             119\n",
              "1091     Canada  Organic Choco Syrup  26-Jul-22     $574             217\n",
              "1092      India              Eclairs  28-Jul-22   $2,086             384\n",
              "1093      India       70% Dark Bites  23-May-22   $5,075             344\n",
              "\n",
              "[1094 rows x 5 columns]"
            ]
          },
          "execution_count": 11,
          "metadata": {},
          "output_type": "execute_result"
        }
      ],
      "source": [
        "df_cleaned.dropna(axis=1, how='all')"
      ]
    },
    {
      "cell_type": "markdown",
      "metadata": {},
      "source": [
        "Check for duplicate values"
      ]
    },
    {
      "cell_type": "code",
      "execution_count": 12,
      "metadata": {},
      "outputs": [
        {
          "name": "stdout",
          "output_type": "stream",
          "text": [
            "There are duplicates: False\n"
          ]
        }
      ],
      "source": [
        "duplicate_check= df.duplicated().any()\n",
        "print('There are duplicates:', duplicate_check)"
      ]
    },
    {
      "cell_type": "markdown",
      "metadata": {},
      "source": [
        "Check for unique values"
      ]
    },
    {
      "cell_type": "code",
      "execution_count": 13,
      "metadata": {},
      "outputs": [
        {
          "data": {
            "text/html": [
              "<div>\n",
              "<style scoped>\n",
              "    .dataframe tbody tr th:only-of-type {\n",
              "        vertical-align: middle;\n",
              "    }\n",
              "\n",
              "    .dataframe tbody tr th {\n",
              "        vertical-align: top;\n",
              "    }\n",
              "\n",
              "    .dataframe thead th {\n",
              "        text-align: right;\n",
              "    }\n",
              "</style>\n",
              "<table border=\"1\" class=\"dataframe\">\n",
              "  <thead>\n",
              "    <tr style=\"text-align: right;\">\n",
              "      <th></th>\n",
              "      <th>Column</th>\n",
              "      <th>Unique Values</th>\n",
              "    </tr>\n",
              "  </thead>\n",
              "  <tbody>\n",
              "    <tr>\n",
              "      <th>0</th>\n",
              "      <td>Sales Person</td>\n",
              "      <td>25</td>\n",
              "    </tr>\n",
              "    <tr>\n",
              "      <th>1</th>\n",
              "      <td>Country</td>\n",
              "      <td>6</td>\n",
              "    </tr>\n",
              "    <tr>\n",
              "      <th>2</th>\n",
              "      <td>Product</td>\n",
              "      <td>22</td>\n",
              "    </tr>\n",
              "    <tr>\n",
              "      <th>3</th>\n",
              "      <td>Date</td>\n",
              "      <td>168</td>\n",
              "    </tr>\n",
              "    <tr>\n",
              "      <th>4</th>\n",
              "      <td>Amount</td>\n",
              "      <td>827</td>\n",
              "    </tr>\n",
              "    <tr>\n",
              "      <th>5</th>\n",
              "      <td>Boxes Shipped</td>\n",
              "      <td>385</td>\n",
              "    </tr>\n",
              "  </tbody>\n",
              "</table>\n",
              "</div>"
            ],
            "text/plain": [
              "          Column  Unique Values\n",
              "0   Sales Person             25\n",
              "1        Country              6\n",
              "2        Product             22\n",
              "3           Date            168\n",
              "4         Amount            827\n",
              "5  Boxes Shipped            385"
            ]
          },
          "execution_count": 13,
          "metadata": {},
          "output_type": "execute_result"
        }
      ],
      "source": [
        "unique_counts = df.nunique()\n",
        "unique_table = pd.DataFrame({'Column': unique_counts.index, 'Unique Values': unique_counts.values})\n",
        "unique_table"
      ]
    },
    {
      "cell_type": "markdown",
      "metadata": {},
      "source": [
        "Check the distribution of the categorical variables (Country and Product) "
      ]
    },
    {
      "cell_type": "code",
      "execution_count": 14,
      "metadata": {},
      "outputs": [
        {
          "name": "stdout",
          "output_type": "stream",
          "text": [
            "\n",
            "Frequency counts for Country:\n",
            "Country\n",
            "Australia      205\n",
            "India          184\n",
            "USA            179\n",
            "UK             178\n",
            "Canada         175\n",
            "New Zealand    173\n",
            "Name: count, dtype: int64\n",
            "\n",
            "Frequency counts for Product:\n",
            "Product\n",
            "50% Dark Bites          60\n",
            "Eclairs                 60\n",
            "Smooth Sliky Salty      59\n",
            "White Choc              58\n",
            "Drinking Coco           56\n",
            "Spicy Special Slims     54\n",
            "Organic Choco Syrup     52\n",
            "After Nines             50\n",
            "85% Dark Bars           50\n",
            "Fruit & Nut Bars        50\n",
            "Milk Bars               49\n",
            "Peanut Butter Cubes     49\n",
            "99% Dark & Pure         49\n",
            "Almond Choco            48\n",
            "Raspberry Choco         48\n",
            "Orange Choco            47\n",
            "Mint Chip Choco         45\n",
            "Manuka Honey Choco      45\n",
            "Caramel Stuffed Bars    43\n",
            "70% Dark Bites          42\n",
            "Baker's Choco Chips     41\n",
            "Choco Coated Almonds    39\n",
            "Name: count, dtype: int64\n"
          ]
        }
      ],
      "source": [
        "categorical_features = ['Country', 'Product']  \n",
        "for col in categorical_features:\n",
        "    print(f\"\\nFrequency counts for {col}:\")\n",
        "    print(df_cleaned[col].value_counts())"
      ]
    },
    {
      "cell_type": "markdown",
      "metadata": {},
      "source": [
        "Then convert the Amount column from dollars into numeric data type"
      ]
    },
    {
      "cell_type": "code",
      "execution_count": 15,
      "metadata": {},
      "outputs": [],
      "source": [
        "# Convert Amount column to numeric by removing the \"$\" sign\n",
        "df_cleaned[\"Amount\"] = df_cleaned[\"Amount\"].replace('[\\$,]', '', regex=True).astype(float)\n"
      ]
    },
    {
      "cell_type": "markdown",
      "metadata": {},
      "source": [
        "Standardize the dateformat by convert Date column to standard format (YYYY-MM-DD)"
      ]
    },
    {
      "cell_type": "code",
      "execution_count": 16,
      "metadata": {},
      "outputs": [],
      "source": [
        "df_cleaned[\"Date\"] = pd.to_datetime(df_cleaned[\"Date\"], format=\"%d-%b-%y\", errors=\"coerce\")"
      ]
    },
    {
      "cell_type": "markdown",
      "metadata": {},
      "source": [
        "Check if all the changes have been made into the cleaned dataframe"
      ]
    },
    {
      "cell_type": "code",
      "execution_count": 17,
      "metadata": {},
      "outputs": [
        {
          "name": "stdout",
          "output_type": "stream",
          "text": [
            "<class 'pandas.core.frame.DataFrame'>\n",
            "RangeIndex: 1094 entries, 0 to 1093\n",
            "Data columns (total 5 columns):\n",
            " #   Column         Non-Null Count  Dtype         \n",
            "---  ------         --------------  -----         \n",
            " 0   Country        1094 non-null   object        \n",
            " 1   Product        1094 non-null   object        \n",
            " 2   Date           1094 non-null   datetime64[ns]\n",
            " 3   Amount         1094 non-null   float64       \n",
            " 4   Boxes Shipped  1094 non-null   int64         \n",
            "dtypes: datetime64[ns](1), float64(1), int64(1), object(2)\n",
            "memory usage: 42.9+ KB\n"
          ]
        }
      ],
      "source": [
        "df_cleaned.info()"
      ]
    },
    {
      "cell_type": "markdown",
      "metadata": {},
      "source": [
        "<h2 style='color:#714737;'> Advance Exploratory Data Analysis</h2>"
      ]
    },
    {
      "cell_type": "markdown",
      "metadata": {},
      "source": [
        "Generate a summary of the statistics of the dataset for finding mean, median, total count of entries, standard deviation(std), minimum and maximum values"
      ]
    },
    {
      "cell_type": "code",
      "execution_count": 18,
      "metadata": {},
      "outputs": [
        {
          "data": {
            "text/html": [
              "<div>\n",
              "<style scoped>\n",
              "    .dataframe tbody tr th:only-of-type {\n",
              "        vertical-align: middle;\n",
              "    }\n",
              "\n",
              "    .dataframe tbody tr th {\n",
              "        vertical-align: top;\n",
              "    }\n",
              "\n",
              "    .dataframe thead th {\n",
              "        text-align: right;\n",
              "    }\n",
              "</style>\n",
              "<table border=\"1\" class=\"dataframe\">\n",
              "  <thead>\n",
              "    <tr style=\"text-align: right;\">\n",
              "      <th></th>\n",
              "      <th>Date</th>\n",
              "      <th>Amount</th>\n",
              "      <th>Boxes Shipped</th>\n",
              "    </tr>\n",
              "  </thead>\n",
              "  <tbody>\n",
              "    <tr>\n",
              "      <th>count</th>\n",
              "      <td>1094</td>\n",
              "      <td>1094.000000</td>\n",
              "      <td>1094.000000</td>\n",
              "    </tr>\n",
              "    <tr>\n",
              "      <th>mean</th>\n",
              "      <td>2022-05-03 09:04:56.160877568</td>\n",
              "      <td>5652.308044</td>\n",
              "      <td>161.797989</td>\n",
              "    </tr>\n",
              "    <tr>\n",
              "      <th>min</th>\n",
              "      <td>2022-01-03 00:00:00</td>\n",
              "      <td>7.000000</td>\n",
              "      <td>1.000000</td>\n",
              "    </tr>\n",
              "    <tr>\n",
              "      <th>25%</th>\n",
              "      <td>2022-03-02 00:00:00</td>\n",
              "      <td>2390.500000</td>\n",
              "      <td>70.000000</td>\n",
              "    </tr>\n",
              "    <tr>\n",
              "      <th>50%</th>\n",
              "      <td>2022-05-11 00:00:00</td>\n",
              "      <td>4868.500000</td>\n",
              "      <td>135.000000</td>\n",
              "    </tr>\n",
              "    <tr>\n",
              "      <th>75%</th>\n",
              "      <td>2022-07-04 00:00:00</td>\n",
              "      <td>8027.250000</td>\n",
              "      <td>228.750000</td>\n",
              "    </tr>\n",
              "    <tr>\n",
              "      <th>max</th>\n",
              "      <td>2022-08-31 00:00:00</td>\n",
              "      <td>22050.000000</td>\n",
              "      <td>709.000000</td>\n",
              "    </tr>\n",
              "    <tr>\n",
              "      <th>std</th>\n",
              "      <td>NaN</td>\n",
              "      <td>4102.442014</td>\n",
              "      <td>121.544145</td>\n",
              "    </tr>\n",
              "  </tbody>\n",
              "</table>\n",
              "</div>"
            ],
            "text/plain": [
              "                                Date        Amount  Boxes Shipped\n",
              "count                           1094   1094.000000    1094.000000\n",
              "mean   2022-05-03 09:04:56.160877568   5652.308044     161.797989\n",
              "min              2022-01-03 00:00:00      7.000000       1.000000\n",
              "25%              2022-03-02 00:00:00   2390.500000      70.000000\n",
              "50%              2022-05-11 00:00:00   4868.500000     135.000000\n",
              "75%              2022-07-04 00:00:00   8027.250000     228.750000\n",
              "max              2022-08-31 00:00:00  22050.000000     709.000000\n",
              "std                              NaN   4102.442014     121.544145"
            ]
          },
          "execution_count": 18,
          "metadata": {},
          "output_type": "execute_result"
        }
      ],
      "source": [
        "df_cleaned.describe()"
      ]
    },
    {
      "cell_type": "markdown",
      "metadata": {},
      "source": [
        "Check for outliers and skewness of data distribution using skew() and kurtosis() statistical measures that describe the shape of a distribution. They help us understand how data points are spread and how they deviate from a normal distribution"
      ]
    },
    {
      "cell_type": "code",
      "execution_count": 19,
      "metadata": {},
      "outputs": [
        {
          "name": "stdout",
          "output_type": "stream",
          "text": [
            "\n",
            "Skewness and Kurtosis for Numerical Features\n"
          ]
        },
        {
          "data": {
            "text/html": [
              "<div>\n",
              "<style scoped>\n",
              "    .dataframe tbody tr th:only-of-type {\n",
              "        vertical-align: middle;\n",
              "    }\n",
              "\n",
              "    .dataframe tbody tr th {\n",
              "        vertical-align: top;\n",
              "    }\n",
              "\n",
              "    .dataframe thead th {\n",
              "        text-align: right;\n",
              "    }\n",
              "</style>\n",
              "<table border=\"1\" class=\"dataframe\">\n",
              "  <thead>\n",
              "    <tr style=\"text-align: right;\">\n",
              "      <th></th>\n",
              "      <th>Feature</th>\n",
              "      <th>Skewness</th>\n",
              "      <th>Kurtosis</th>\n",
              "    </tr>\n",
              "  </thead>\n",
              "  <tbody>\n",
              "    <tr>\n",
              "      <th>0</th>\n",
              "      <td>Amount</td>\n",
              "      <td>0.891005</td>\n",
              "      <td>0.445925</td>\n",
              "    </tr>\n",
              "    <tr>\n",
              "      <th>1</th>\n",
              "      <td>Boxes Shipped</td>\n",
              "      <td>1.111052</td>\n",
              "      <td>1.153670</td>\n",
              "    </tr>\n",
              "  </tbody>\n",
              "</table>\n",
              "</div>"
            ],
            "text/plain": [
              "         Feature  Skewness  Kurtosis\n",
              "0         Amount  0.891005  0.445925\n",
              "1  Boxes Shipped  1.111052  1.153670"
            ]
          },
          "execution_count": 19,
          "metadata": {},
          "output_type": "execute_result"
        }
      ],
      "source": [
        "# Select numerical columns\n",
        "numerical_features = df_cleaned.select_dtypes(include=[float, int]).columns\n",
        "\n",
        "# Calculate skewness and kurtosis\n",
        "print(\"\\nSkewness and Kurtosis for Numerical Features\")\n",
        "results = []\n",
        "for col in numerical_features:\n",
        "    col_skewness = skew(df_cleaned[col].dropna())  # Drop NaN values for calculation\n",
        "    col_kurtosis = kurtosis(df_cleaned[col].dropna())  # Drop NaN values for calculation\n",
        "    results.append({'Feature': col, 'Skewness': col_skewness, 'Kurtosis': col_kurtosis})\n",
        "\n",
        "# Create a DataFrame to display the results neatly\n",
        "result_df = pd.DataFrame(results)\n",
        "result_df"
      ]
    },
    {
      "cell_type": "markdown",
      "metadata": {},
      "source": [
        "As there are 22 products, we are going to divide them by Product Category"
      ]
    },
    {
      "cell_type": "code",
      "execution_count": 20,
      "metadata": {},
      "outputs": [
        {
          "data": {
            "text/html": [
              "<div>\n",
              "<style scoped>\n",
              "    .dataframe tbody tr th:only-of-type {\n",
              "        vertical-align: middle;\n",
              "    }\n",
              "\n",
              "    .dataframe tbody tr th {\n",
              "        vertical-align: top;\n",
              "    }\n",
              "\n",
              "    .dataframe thead th {\n",
              "        text-align: right;\n",
              "    }\n",
              "</style>\n",
              "<table border=\"1\" class=\"dataframe\">\n",
              "  <thead>\n",
              "    <tr style=\"text-align: right;\">\n",
              "      <th></th>\n",
              "      <th>Country</th>\n",
              "      <th>Product</th>\n",
              "      <th>Date</th>\n",
              "      <th>Amount</th>\n",
              "      <th>Boxes Shipped</th>\n",
              "      <th>Product Category</th>\n",
              "    </tr>\n",
              "  </thead>\n",
              "  <tbody>\n",
              "    <tr>\n",
              "      <th>0</th>\n",
              "      <td>UK</td>\n",
              "      <td>Mint Chip Choco</td>\n",
              "      <td>2022-01-04</td>\n",
              "      <td>5320.0</td>\n",
              "      <td>180</td>\n",
              "      <td>Flavored Chocolate</td>\n",
              "    </tr>\n",
              "    <tr>\n",
              "      <th>1</th>\n",
              "      <td>India</td>\n",
              "      <td>85% Dark Bars</td>\n",
              "      <td>2022-08-01</td>\n",
              "      <td>7896.0</td>\n",
              "      <td>94</td>\n",
              "      <td>Dark Chocolate</td>\n",
              "    </tr>\n",
              "    <tr>\n",
              "      <th>2</th>\n",
              "      <td>India</td>\n",
              "      <td>Peanut Butter Cubes</td>\n",
              "      <td>2022-07-07</td>\n",
              "      <td>4501.0</td>\n",
              "      <td>91</td>\n",
              "      <td>Nut-based Chocolate</td>\n",
              "    </tr>\n",
              "    <tr>\n",
              "      <th>3</th>\n",
              "      <td>Australia</td>\n",
              "      <td>Peanut Butter Cubes</td>\n",
              "      <td>2022-04-27</td>\n",
              "      <td>12726.0</td>\n",
              "      <td>342</td>\n",
              "      <td>Nut-based Chocolate</td>\n",
              "    </tr>\n",
              "    <tr>\n",
              "      <th>4</th>\n",
              "      <td>UK</td>\n",
              "      <td>Peanut Butter Cubes</td>\n",
              "      <td>2022-02-24</td>\n",
              "      <td>13685.0</td>\n",
              "      <td>184</td>\n",
              "      <td>Nut-based Chocolate</td>\n",
              "    </tr>\n",
              "  </tbody>\n",
              "</table>\n",
              "</div>"
            ],
            "text/plain": [
              "     Country              Product       Date   Amount  Boxes Shipped  \\\n",
              "0         UK      Mint Chip Choco 2022-01-04   5320.0            180   \n",
              "1      India        85% Dark Bars 2022-08-01   7896.0             94   \n",
              "2      India  Peanut Butter Cubes 2022-07-07   4501.0             91   \n",
              "3  Australia  Peanut Butter Cubes 2022-04-27  12726.0            342   \n",
              "4         UK  Peanut Butter Cubes 2022-02-24  13685.0            184   \n",
              "\n",
              "      Product Category  \n",
              "0   Flavored Chocolate  \n",
              "1       Dark Chocolate  \n",
              "2  Nut-based Chocolate  \n",
              "3  Nut-based Chocolate  \n",
              "4  Nut-based Chocolate  "
            ]
          },
          "execution_count": 20,
          "metadata": {},
          "output_type": "execute_result"
        }
      ],
      "source": [
        "# Define product categories\n",
        "product_categories = {\n",
        "    \"Dark Chocolate\": [\n",
        "        \"99% Dark & Pure\", \"85% Dark Bars\", \"70% Dark Bites\", \"50% Dark Bites\"\n",
        "    ],\n",
        "    \"Milk & White Chocolate\": [\n",
        "        \"Milk Bars\", \"White Choc\"\n",
        "    ],\n",
        "    \"Flavored Chocolate\": [\n",
        "        \"Mint Chip Choco\", \"Orange Choco\", \"Raspberry Choco\", \"Fruit & Nut Bars\",\n",
        "        \"Spicy Special Slims\", \"Caramel Stuffed Bars\", \"Manuka Honey Choco\"\n",
        "    ],\n",
        "    \"Nut-based Chocolate\": [\n",
        "        \"Peanut Butter Cubes\", \"Almond Choco\", \"Choco Coated Almonds\"\n",
        "    ],\n",
        "    \"Specialty Chocolate\": [\n",
        "        \"Smooth Sliky Salty\", \"After Nines\", \"Eclairs\", \"Organic Choco Syrup\",\n",
        "        \"Drinking Coco\", \"Baker's Choco Chips\"\n",
        "    ]\n",
        "}\n",
        "# Function to assign categories\n",
        "def categorize_product(product):\n",
        "    for category, products in product_categories.items():\n",
        "        if product in products:\n",
        "            return category\n",
        "    return \"Other\"  # In case a new product appears\n",
        "# Apply the function to create a new category column\n",
        "df_cleaned[\"Product Category\"] = df_cleaned[\"Product\"].apply(categorize_product)\n",
        "df_cleaned.head()"
      ]
    },
    {
      "cell_type": "markdown",
      "metadata": {},
      "source": [
        "Create new columns for day, month number and month name"
      ]
    },
    {
      "cell_type": "code",
      "execution_count": 25,
      "metadata": {},
      "outputs": [
        {
          "data": {
            "text/html": [
              "<div>\n",
              "<style scoped>\n",
              "    .dataframe tbody tr th:only-of-type {\n",
              "        vertical-align: middle;\n",
              "    }\n",
              "\n",
              "    .dataframe tbody tr th {\n",
              "        vertical-align: top;\n",
              "    }\n",
              "\n",
              "    .dataframe thead th {\n",
              "        text-align: right;\n",
              "    }\n",
              "</style>\n",
              "<table border=\"1\" class=\"dataframe\">\n",
              "  <thead>\n",
              "    <tr style=\"text-align: right;\">\n",
              "      <th></th>\n",
              "      <th>Country</th>\n",
              "      <th>Product</th>\n",
              "      <th>Date</th>\n",
              "      <th>Amount</th>\n",
              "      <th>Boxes Shipped</th>\n",
              "      <th>Product Category</th>\n",
              "      <th>Month</th>\n",
              "      <th>Day</th>\n",
              "      <th>Month Name</th>\n",
              "    </tr>\n",
              "  </thead>\n",
              "  <tbody>\n",
              "    <tr>\n",
              "      <th>0</th>\n",
              "      <td>UK</td>\n",
              "      <td>Mint Chip Choco</td>\n",
              "      <td>2022-01-04</td>\n",
              "      <td>5320.0</td>\n",
              "      <td>180</td>\n",
              "      <td>Flavored Chocolate</td>\n",
              "      <td>1</td>\n",
              "      <td>4</td>\n",
              "      <td>January</td>\n",
              "    </tr>\n",
              "    <tr>\n",
              "      <th>1</th>\n",
              "      <td>India</td>\n",
              "      <td>85% Dark Bars</td>\n",
              "      <td>2022-08-01</td>\n",
              "      <td>7896.0</td>\n",
              "      <td>94</td>\n",
              "      <td>Dark Chocolate</td>\n",
              "      <td>8</td>\n",
              "      <td>1</td>\n",
              "      <td>August</td>\n",
              "    </tr>\n",
              "    <tr>\n",
              "      <th>2</th>\n",
              "      <td>India</td>\n",
              "      <td>Peanut Butter Cubes</td>\n",
              "      <td>2022-07-07</td>\n",
              "      <td>4501.0</td>\n",
              "      <td>91</td>\n",
              "      <td>Nut-based Chocolate</td>\n",
              "      <td>7</td>\n",
              "      <td>7</td>\n",
              "      <td>July</td>\n",
              "    </tr>\n",
              "    <tr>\n",
              "      <th>3</th>\n",
              "      <td>Australia</td>\n",
              "      <td>Peanut Butter Cubes</td>\n",
              "      <td>2022-04-27</td>\n",
              "      <td>12726.0</td>\n",
              "      <td>342</td>\n",
              "      <td>Nut-based Chocolate</td>\n",
              "      <td>4</td>\n",
              "      <td>27</td>\n",
              "      <td>April</td>\n",
              "    </tr>\n",
              "    <tr>\n",
              "      <th>4</th>\n",
              "      <td>UK</td>\n",
              "      <td>Peanut Butter Cubes</td>\n",
              "      <td>2022-02-24</td>\n",
              "      <td>13685.0</td>\n",
              "      <td>184</td>\n",
              "      <td>Nut-based Chocolate</td>\n",
              "      <td>2</td>\n",
              "      <td>24</td>\n",
              "      <td>February</td>\n",
              "    </tr>\n",
              "  </tbody>\n",
              "</table>\n",
              "</div>"
            ],
            "text/plain": [
              "     Country              Product       Date   Amount  Boxes Shipped  \\\n",
              "0         UK      Mint Chip Choco 2022-01-04   5320.0            180   \n",
              "1      India        85% Dark Bars 2022-08-01   7896.0             94   \n",
              "2      India  Peanut Butter Cubes 2022-07-07   4501.0             91   \n",
              "3  Australia  Peanut Butter Cubes 2022-04-27  12726.0            342   \n",
              "4         UK  Peanut Butter Cubes 2022-02-24  13685.0            184   \n",
              "\n",
              "      Product Category  Month  Day Month Name  \n",
              "0   Flavored Chocolate      1    4    January  \n",
              "1       Dark Chocolate      8    1     August  \n",
              "2  Nut-based Chocolate      7    7       July  \n",
              "3  Nut-based Chocolate      4   27      April  \n",
              "4  Nut-based Chocolate      2   24   February  "
            ]
          },
          "execution_count": 25,
          "metadata": {},
          "output_type": "execute_result"
        }
      ],
      "source": [
        "# Extract month and day from the Date column\n",
        "df_cleaned['Month'] = df_cleaned['Date'].dt.month\n",
        "df_cleaned['Day'] = df_cleaned['Date'].dt.day\n",
        "df_cleaned['Month Name'] = df_cleaned['Date'].dt.strftime('%B')\n",
        "\n",
        "# Display the updated dataframe\n",
        "df_cleaned.head()"
      ]
    },
    {
      "cell_type": "markdown",
      "metadata": {},
      "source": [
        "Creating a Revenue per Box Shipped metric (Amount / Boxes Shipped)"
      ]
    },
    {
      "cell_type": "code",
      "execution_count": 30,
      "metadata": {},
      "outputs": [
        {
          "data": {
            "text/html": [
              "<div>\n",
              "<style scoped>\n",
              "    .dataframe tbody tr th:only-of-type {\n",
              "        vertical-align: middle;\n",
              "    }\n",
              "\n",
              "    .dataframe tbody tr th {\n",
              "        vertical-align: top;\n",
              "    }\n",
              "\n",
              "    .dataframe thead th {\n",
              "        text-align: right;\n",
              "    }\n",
              "</style>\n",
              "<table border=\"1\" class=\"dataframe\">\n",
              "  <thead>\n",
              "    <tr style=\"text-align: right;\">\n",
              "      <th></th>\n",
              "      <th>Country</th>\n",
              "      <th>Product</th>\n",
              "      <th>Date</th>\n",
              "      <th>Amount</th>\n",
              "      <th>Boxes Shipped</th>\n",
              "      <th>Product Category</th>\n",
              "      <th>Month</th>\n",
              "      <th>Day</th>\n",
              "      <th>Month Name</th>\n",
              "      <th>Revenue per Box Shipped</th>\n",
              "    </tr>\n",
              "  </thead>\n",
              "  <tbody>\n",
              "    <tr>\n",
              "      <th>0</th>\n",
              "      <td>UK</td>\n",
              "      <td>Mint Chip Choco</td>\n",
              "      <td>2022-01-04</td>\n",
              "      <td>5320.0</td>\n",
              "      <td>180</td>\n",
              "      <td>Flavored Chocolate</td>\n",
              "      <td>1</td>\n",
              "      <td>4</td>\n",
              "      <td>January</td>\n",
              "      <td>30.0</td>\n",
              "    </tr>\n",
              "    <tr>\n",
              "      <th>1</th>\n",
              "      <td>India</td>\n",
              "      <td>85% Dark Bars</td>\n",
              "      <td>2022-08-01</td>\n",
              "      <td>7896.0</td>\n",
              "      <td>94</td>\n",
              "      <td>Dark Chocolate</td>\n",
              "      <td>8</td>\n",
              "      <td>1</td>\n",
              "      <td>August</td>\n",
              "      <td>84.0</td>\n",
              "    </tr>\n",
              "    <tr>\n",
              "      <th>2</th>\n",
              "      <td>India</td>\n",
              "      <td>Peanut Butter Cubes</td>\n",
              "      <td>2022-07-07</td>\n",
              "      <td>4501.0</td>\n",
              "      <td>91</td>\n",
              "      <td>Nut-based Chocolate</td>\n",
              "      <td>7</td>\n",
              "      <td>7</td>\n",
              "      <td>July</td>\n",
              "      <td>49.0</td>\n",
              "    </tr>\n",
              "    <tr>\n",
              "      <th>3</th>\n",
              "      <td>Australia</td>\n",
              "      <td>Peanut Butter Cubes</td>\n",
              "      <td>2022-04-27</td>\n",
              "      <td>12726.0</td>\n",
              "      <td>342</td>\n",
              "      <td>Nut-based Chocolate</td>\n",
              "      <td>4</td>\n",
              "      <td>27</td>\n",
              "      <td>April</td>\n",
              "      <td>37.0</td>\n",
              "    </tr>\n",
              "    <tr>\n",
              "      <th>4</th>\n",
              "      <td>UK</td>\n",
              "      <td>Peanut Butter Cubes</td>\n",
              "      <td>2022-02-24</td>\n",
              "      <td>13685.0</td>\n",
              "      <td>184</td>\n",
              "      <td>Nut-based Chocolate</td>\n",
              "      <td>2</td>\n",
              "      <td>24</td>\n",
              "      <td>February</td>\n",
              "      <td>74.0</td>\n",
              "    </tr>\n",
              "  </tbody>\n",
              "</table>\n",
              "</div>"
            ],
            "text/plain": [
              "     Country              Product       Date   Amount  Boxes Shipped  \\\n",
              "0         UK      Mint Chip Choco 2022-01-04   5320.0            180   \n",
              "1      India        85% Dark Bars 2022-08-01   7896.0             94   \n",
              "2      India  Peanut Butter Cubes 2022-07-07   4501.0             91   \n",
              "3  Australia  Peanut Butter Cubes 2022-04-27  12726.0            342   \n",
              "4         UK  Peanut Butter Cubes 2022-02-24  13685.0            184   \n",
              "\n",
              "      Product Category  Month  Day Month Name  Revenue per Box Shipped  \n",
              "0   Flavored Chocolate      1    4    January                     30.0  \n",
              "1       Dark Chocolate      8    1     August                     84.0  \n",
              "2  Nut-based Chocolate      7    7       July                     49.0  \n",
              "3  Nut-based Chocolate      4   27      April                     37.0  \n",
              "4  Nut-based Chocolate      2   24   February                     74.0  "
            ]
          },
          "execution_count": 30,
          "metadata": {},
          "output_type": "execute_result"
        }
      ],
      "source": [
        "# Create a new column for Revenue per Box Shipped\n",
        "df_cleaned['Revenue per Box Shipped'] = np.round(df_cleaned['Amount'] / df_cleaned['Boxes Shipped'])\n",
        "\n",
        "# Display the updated dataframe\n",
        "df_cleaned.head()"
      ]
    },
    {
      "cell_type": "markdown",
      "metadata": {},
      "source": [
        "The data has been cleaned and ready to load. This will be saved into a csv file for further analysis"
      ]
    },
    {
      "cell_type": "markdown",
      "metadata": {},
      "source": [
        "<h2 style='color:#714737;'> Loading</h2>"
      ]
    },
    {
      "cell_type": "code",
      "execution_count": 33,
      "metadata": {},
      "outputs": [],
      "source": [
        "# Save the cleaned dataset to a CSV file\n",
        "df_cleaned.to_csv(\"Output/df_cleaned.csv\", index=False)"
      ]
    }
  ],
  "metadata": {
    "accelerator": "GPU",
    "colab": {
      "name": "Data Practitioner Jupyter Notebook.ipynb",
      "provenance": [],
      "toc_visible": true
    },
    "kernelspec": {
      "display_name": ".venv",
      "language": "python",
      "name": "python3"
    },
    "language_info": {
      "codemirror_mode": {
        "name": "ipython",
        "version": 3
      },
      "file_extension": ".py",
      "mimetype": "text/x-python",
      "name": "python",
      "nbconvert_exporter": "python",
      "pygments_lexer": "ipython3",
      "version": "3.12.8"
    },
    "orig_nbformat": 2
  },
  "nbformat": 4,
  "nbformat_minor": 2
}
