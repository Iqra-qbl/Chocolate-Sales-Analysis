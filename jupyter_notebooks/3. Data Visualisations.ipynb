{
  "cells": [
    {
      "cell_type": "markdown",
      "metadata": {
        "id": "0aStgWSO0E0E"
      },
      "source": [
        "<div style='background-color:#714737; padding: 15px; border-radius: 5px;'>\n",
        "<h1 style='color:#FEFEFE; text-align:center;'>Chocolate Sales Analysis – Data Visualisation Notebook</h1>\n",
        "</div>\n"
      ]
    },
    {
      "cell_type": "markdown",
      "metadata": {
        "id": "1eLEkw5O0ECa"
      },
      "source": [
        "<h2 style='color:#714737;'>Objectives</h2>\n",
        "\n",
        "- Develop advanced data visualizations.\n",
        "- Prove the hypotheses we came up with in the ideation phase of the project.\n",
        "- Make visualisations from the Sales Data Analysis notebook in plotly.\n",
        "\n",
        "<h2 style='color:#714737;'>Inputs</h2>\n",
        "\n",
        "- **Dataset:** `df_cleaned.csv`\n",
        "- **Required Libraries:** Pandas, NumPy, Matplotlib, Seaborn, Scikit-learn, Plotly, Pengouin\n",
        "- **Columns of Interest:**\n",
        "  - **Sales and Performance metrics:** Anount, Boxes Shipped, Revenue per Box\n",
        "  - **Product details:** Product, Product category\n",
        "  - **Geographic Information:** Country\n",
        "  - **Time Based Columns:** Month, Month Name\n",
        "\n",
        "<h2 style='color:#714737;'>Outputs</h2>\n",
        "\n",
        "- **Advanced Data Visualisations:**\n",
        "\n",
        "  -Line chart showing monthly sales revenue trends\n",
        "\n",
        "  -Sales volume heatmap by Month and Country\n",
        "\n",
        "  -Choropleth map showing total sales by Country\n",
        "\n",
        "  -Treemap showing sales breakdown by Country and Product Category\n",
        "\n",
        "  -Bar chart showing total Sales by Country\n",
        "\n",
        "  -Bar chart showing Boxes Shipped per Country and Product Category\n",
        "\n",
        "  -Scatter plot showing Sales amount vs Boxes Shipped\n",
        "\n",
        "  -Box plot showing Revenue per Box Shipped by Product Category\n",
        "\n",
        "  -Bar chart showing top 5 Products by Total Revenue\n",
        "\n",
        "  -Pie chart showing total Sales by Product Category\n",
        "\n",
        "  -Box plot showing Product performance distribution\n",
        "\n",
        "  -Bar chart showing Boxes Shipped per Product Category\n",
        "\n",
        "  -Bar chart showing top selling Products by Revenue\n",
        "  \n",
        "  -Bubble chart showing the relationship between Boxes Shipped and Sales Revenue\n",
        "\n",
        "\n"
      ]
    },
    {
      "cell_type": "markdown",
      "metadata": {
        "id": "9uWZXH9LwoQg"
      },
      "source": [
        "---\n"
      ]
    },
    {
      "cell_type": "markdown",
      "metadata": {},
      "source": [
        "<div style='background-color:#714737; padding: 15px; border-radius: 5px;'>\n",
        "<h1 style='color:#FEFEFE; text-align:center;'>Section 2 :  Basic Data Visualisation</h1>\n",
        "</div>\n"
      ]
    },
    {
      "cell_type": "markdown",
      "metadata": {
        "id": "cqP-UeN-z3i2"
      },
      "source": [
        "<h2 style='color:#714737;'>Changing work directory</h2>\n"
      ]
    },
    {
      "cell_type": "markdown",
      "metadata": {},
      "source": [
        "To run the notebook in the editor, the working directory needs to be changed from its current folder to its parent folder. Thus, we first access the current directory with os.getcwd()\n"
      ]
    },
    {
      "cell_type": "code",
      "execution_count": 1,
      "metadata": {
        "id": "wZfF_j-Bz3i4",
        "outputId": "66943449-1436-4c3d-85c7-b85f9f78349b"
      },
      "outputs": [
        {
          "data": {
            "text/plain": [
              "'c:\\\\Users\\\\conor\\\\Desktop\\\\DA course\\\\Chocolate-Sales-Analysis\\\\jupyter_notebooks'"
            ]
          },
          "execution_count": 1,
          "metadata": {},
          "output_type": "execute_result"
        }
      ],
      "source": [
        "import os\n",
        "current_dir = os.getcwd()\n",
        "current_dir"
      ]
    },
    {
      "cell_type": "markdown",
      "metadata": {
        "id": "9MWW8E7lz3i7"
      },
      "source": [
        "Then we make the parent of the current directory the new current directory by using:\n",
        "\n",
        "- os.path.dirname() to get the parent directory\n",
        "- os.chir() to define the new current directory\n"
      ]
    },
    {
      "cell_type": "code",
      "execution_count": 2,
      "metadata": {
        "id": "TwHsQRWjz3i9",
        "outputId": "86849db3-cd2f-4cc5-ebb8-2d0caafa1a2c"
      },
      "outputs": [
        {
          "name": "stdout",
          "output_type": "stream",
          "text": [
            "You set a new current directory.\n"
          ]
        }
      ],
      "source": [
        "os.chdir(os.path.dirname(current_dir))\n",
        "print(\"You set a new current directory.\")"
      ]
    },
    {
      "cell_type": "markdown",
      "metadata": {
        "id": "M_xPk_Ijz3i-"
      },
      "source": [
        "Confirming the new current directory\n"
      ]
    },
    {
      "cell_type": "code",
      "execution_count": 3,
      "metadata": {
        "id": "vz3S-_kjz3jA",
        "outputId": "00b79ae4-75d0-4a96-d193-ac9ef9847ea2"
      },
      "outputs": [
        {
          "data": {
            "text/plain": [
              "'c:\\\\Users\\\\conor\\\\Desktop\\\\DA course\\\\Chocolate-Sales-Analysis'"
            ]
          },
          "execution_count": 3,
          "metadata": {},
          "output_type": "execute_result"
        }
      ],
      "source": [
        "current_dir = os.getcwd()\n",
        "current_dir"
      ]
    },
    {
      "cell_type": "markdown",
      "metadata": {},
      "source": [
        "<h2 style='color:#714737;'>Importing Libraries and Packages</h2>\n"
      ]
    },
    {
      "cell_type": "markdown",
      "metadata": {},
      "source": [
        "Loading Python packages that we will be using in this project to carry out the analysis. For example Numpy to compute numerical operations and handle arrays, Pandas for data manipulation and analysis, Matplotlib, Seaborn and Plotly to create different data visualisations\n"
      ]
    },
    {
      "cell_type": "code",
      "execution_count": 4,
      "metadata": {},
      "outputs": [],
      "source": [
        "import numpy as np\n",
        "import pandas as pd \n",
        "import matplotlib.pyplot as plt\n",
        "import seaborn as sns\n",
        "sns.set_style('whitegrid')\n",
        "import plotly.express as px\n",
        "import scipy.stats as stats\n",
        "from sklearn.decomposition import PCA\n",
        "from sklearn.preprocessing import StandardScaler\n",
        "import plotly.graph_objects as go\n",
        "from plotly.graph_objects import Figure, Scatter\n",
        "import plotly.figure_factory as ff\n",
        "from plotly.subplots import make_subplots\n",
        "import plotly.io as pio\n",
        "\n"
      ]
    },
    {
      "cell_type": "code",
      "execution_count": 5,
      "metadata": {},
      "outputs": [
        {
          "name": "stdout",
          "output_type": "stream",
          "text": [
            "Requirement already satisfied: pingouin in c:\\users\\conor\\desktop\\da course\\chocolate-sales-analysis\\.venv\\lib\\site-packages (0.5.5)\n",
            "Requirement already satisfied: matplotlib in c:\\users\\conor\\desktop\\da course\\chocolate-sales-analysis\\.venv\\lib\\site-packages (from pingouin) (3.8.0)\n",
            "Requirement already satisfied: numpy in c:\\users\\conor\\desktop\\da course\\chocolate-sales-analysis\\.venv\\lib\\site-packages (from pingouin) (1.26.1)\n",
            "Requirement already satisfied: pandas>=1.5 in c:\\users\\conor\\desktop\\da course\\chocolate-sales-analysis\\.venv\\lib\\site-packages (from pingouin) (2.1.1)\n",
            "Requirement already satisfied: pandas-flavor in c:\\users\\conor\\desktop\\da course\\chocolate-sales-analysis\\.venv\\lib\\site-packages (from pingouin) (0.6.0)\n",
            "Requirement already satisfied: scikit-learn>=1.2 in c:\\users\\conor\\desktop\\da course\\chocolate-sales-analysis\\.venv\\lib\\site-packages (from pingouin) (1.3.1)\n",
            "Requirement already satisfied: scipy in c:\\users\\conor\\desktop\\da course\\chocolate-sales-analysis\\.venv\\lib\\site-packages (from pingouin) (1.13.1)\n",
            "Requirement already satisfied: seaborn in c:\\users\\conor\\desktop\\da course\\chocolate-sales-analysis\\.venv\\lib\\site-packages (from pingouin) (0.13.2)\n",
            "Requirement already satisfied: statsmodels in c:\\users\\conor\\desktop\\da course\\chocolate-sales-analysis\\.venv\\lib\\site-packages (from pingouin) (0.14.4)\n",
            "Requirement already satisfied: tabulate in c:\\users\\conor\\desktop\\da course\\chocolate-sales-analysis\\.venv\\lib\\site-packages (from pingouin) (0.9.0)\n",
            "Requirement already satisfied: python-dateutil>=2.8.2 in c:\\users\\conor\\desktop\\da course\\chocolate-sales-analysis\\.venv\\lib\\site-packages (from pandas>=1.5->pingouin) (2.9.0.post0)\n",
            "Requirement already satisfied: pytz>=2020.1 in c:\\users\\conor\\desktop\\da course\\chocolate-sales-analysis\\.venv\\lib\\site-packages (from pandas>=1.5->pingouin) (2025.1)\n",
            "Requirement already satisfied: tzdata>=2022.1 in c:\\users\\conor\\desktop\\da course\\chocolate-sales-analysis\\.venv\\lib\\site-packages (from pandas>=1.5->pingouin) (2025.1)\n",
            "Requirement already satisfied: joblib>=1.1.1 in c:\\users\\conor\\desktop\\da course\\chocolate-sales-analysis\\.venv\\lib\\site-packages (from scikit-learn>=1.2->pingouin) (1.4.2)\n",
            "Requirement already satisfied: threadpoolctl>=2.0.0 in c:\\users\\conor\\desktop\\da course\\chocolate-sales-analysis\\.venv\\lib\\site-packages (from scikit-learn>=1.2->pingouin) (3.6.0)\n",
            "Requirement already satisfied: contourpy>=1.0.1 in c:\\users\\conor\\desktop\\da course\\chocolate-sales-analysis\\.venv\\lib\\site-packages (from matplotlib->pingouin) (1.3.1)\n",
            "Requirement already satisfied: cycler>=0.10 in c:\\users\\conor\\desktop\\da course\\chocolate-sales-analysis\\.venv\\lib\\site-packages (from matplotlib->pingouin) (0.12.1)\n",
            "Requirement already satisfied: fonttools>=4.22.0 in c:\\users\\conor\\desktop\\da course\\chocolate-sales-analysis\\.venv\\lib\\site-packages (from matplotlib->pingouin) (4.56.0)\n",
            "Requirement already satisfied: kiwisolver>=1.0.1 in c:\\users\\conor\\desktop\\da course\\chocolate-sales-analysis\\.venv\\lib\\site-packages (from matplotlib->pingouin) (1.4.8)\n",
            "Requirement already satisfied: packaging>=20.0 in c:\\users\\conor\\desktop\\da course\\chocolate-sales-analysis\\.venv\\lib\\site-packages (from matplotlib->pingouin) (24.2)\n",
            "Requirement already satisfied: pillow>=6.2.0 in c:\\users\\conor\\desktop\\da course\\chocolate-sales-analysis\\.venv\\lib\\site-packages (from matplotlib->pingouin) (10.0.1)\n",
            "Requirement already satisfied: pyparsing>=2.3.1 in c:\\users\\conor\\desktop\\da course\\chocolate-sales-analysis\\.venv\\lib\\site-packages (from matplotlib->pingouin) (3.2.1)\n",
            "Requirement already satisfied: xarray in c:\\users\\conor\\desktop\\da course\\chocolate-sales-analysis\\.venv\\lib\\site-packages (from pandas-flavor->pingouin) (2025.3.0)\n",
            "Requirement already satisfied: patsy>=0.5.6 in c:\\users\\conor\\desktop\\da course\\chocolate-sales-analysis\\.venv\\lib\\site-packages (from statsmodels->pingouin) (1.0.1)\n",
            "Requirement already satisfied: six>=1.5 in c:\\users\\conor\\desktop\\da course\\chocolate-sales-analysis\\.venv\\lib\\site-packages (from python-dateutil>=2.8.2->pandas>=1.5->pingouin) (1.17.0)\n"
          ]
        }
      ],
      "source": [
        "! pip install pingouin\n",
        "\n",
        "import pingouin as pg"
      ]
    },
    {
      "cell_type": "markdown",
      "metadata": {},
      "source": [
        "Loading the CSV dataset cleaned previously and extracting it into dataframe using pd.read_csv() function\n"
      ]
    },
    {
      "cell_type": "code",
      "execution_count": 6,
      "metadata": {},
      "outputs": [],
      "source": [
        "df = pd.read_csv(\"Output/df_cleaned.csv\")"
      ]
    },
    {
      "cell_type": "markdown",
      "metadata": {},
      "source": [
        "<h2 style='color:#714737;'>Advanced Visualisations and Statistical Tests</h2>\n"
      ]
    },
    {
      "cell_type": "markdown",
      "metadata": {},
      "source": [
        "<h3 style='color:#714737;'>Hypothesis testing</h3>\n"
      ]
    },
    {
      "cell_type": "markdown",
      "metadata": {},
      "source": [
        "We are going to preview the dateframe first to check correct dataset has been imported in dataframe\n"
      ]
    },
    {
      "cell_type": "code",
      "execution_count": 7,
      "metadata": {},
      "outputs": [
        {
          "data": {
            "text/html": [
              "<div>\n",
              "<style scoped>\n",
              "    .dataframe tbody tr th:only-of-type {\n",
              "        vertical-align: middle;\n",
              "    }\n",
              "\n",
              "    .dataframe tbody tr th {\n",
              "        vertical-align: top;\n",
              "    }\n",
              "\n",
              "    .dataframe thead th {\n",
              "        text-align: right;\n",
              "    }\n",
              "</style>\n",
              "<table border=\"1\" class=\"dataframe\">\n",
              "  <thead>\n",
              "    <tr style=\"text-align: right;\">\n",
              "      <th></th>\n",
              "      <th>Country</th>\n",
              "      <th>Product</th>\n",
              "      <th>Date</th>\n",
              "      <th>Amount</th>\n",
              "      <th>Boxes Shipped</th>\n",
              "      <th>Product Category</th>\n",
              "      <th>Month</th>\n",
              "      <th>Day</th>\n",
              "      <th>Month Name</th>\n",
              "      <th>Revenue per Box Shipped</th>\n",
              "    </tr>\n",
              "  </thead>\n",
              "  <tbody>\n",
              "    <tr>\n",
              "      <th>0</th>\n",
              "      <td>UK</td>\n",
              "      <td>Mint Chip Choco</td>\n",
              "      <td>2022-01-04</td>\n",
              "      <td>5320.0</td>\n",
              "      <td>180</td>\n",
              "      <td>Flavored Chocolate</td>\n",
              "      <td>1</td>\n",
              "      <td>4</td>\n",
              "      <td>January</td>\n",
              "      <td>30.0</td>\n",
              "    </tr>\n",
              "    <tr>\n",
              "      <th>1</th>\n",
              "      <td>India</td>\n",
              "      <td>85% Dark Bars</td>\n",
              "      <td>2022-08-01</td>\n",
              "      <td>7896.0</td>\n",
              "      <td>94</td>\n",
              "      <td>Dark Chocolate</td>\n",
              "      <td>8</td>\n",
              "      <td>1</td>\n",
              "      <td>August</td>\n",
              "      <td>84.0</td>\n",
              "    </tr>\n",
              "    <tr>\n",
              "      <th>2</th>\n",
              "      <td>India</td>\n",
              "      <td>Peanut Butter Cubes</td>\n",
              "      <td>2022-07-07</td>\n",
              "      <td>4501.0</td>\n",
              "      <td>91</td>\n",
              "      <td>Nut-based Chocolate</td>\n",
              "      <td>7</td>\n",
              "      <td>7</td>\n",
              "      <td>July</td>\n",
              "      <td>49.0</td>\n",
              "    </tr>\n",
              "    <tr>\n",
              "      <th>3</th>\n",
              "      <td>Australia</td>\n",
              "      <td>Peanut Butter Cubes</td>\n",
              "      <td>2022-04-27</td>\n",
              "      <td>12726.0</td>\n",
              "      <td>342</td>\n",
              "      <td>Nut-based Chocolate</td>\n",
              "      <td>4</td>\n",
              "      <td>27</td>\n",
              "      <td>April</td>\n",
              "      <td>37.0</td>\n",
              "    </tr>\n",
              "    <tr>\n",
              "      <th>4</th>\n",
              "      <td>UK</td>\n",
              "      <td>Peanut Butter Cubes</td>\n",
              "      <td>2022-02-24</td>\n",
              "      <td>13685.0</td>\n",
              "      <td>184</td>\n",
              "      <td>Nut-based Chocolate</td>\n",
              "      <td>2</td>\n",
              "      <td>24</td>\n",
              "      <td>February</td>\n",
              "      <td>74.0</td>\n",
              "    </tr>\n",
              "  </tbody>\n",
              "</table>\n",
              "</div>"
            ],
            "text/plain": [
              "     Country              Product        Date   Amount  Boxes Shipped  \\\n",
              "0         UK      Mint Chip Choco  2022-01-04   5320.0            180   \n",
              "1      India        85% Dark Bars  2022-08-01   7896.0             94   \n",
              "2      India  Peanut Butter Cubes  2022-07-07   4501.0             91   \n",
              "3  Australia  Peanut Butter Cubes  2022-04-27  12726.0            342   \n",
              "4         UK  Peanut Butter Cubes  2022-02-24  13685.0            184   \n",
              "\n",
              "      Product Category  Month  Day Month Name  Revenue per Box Shipped  \n",
              "0   Flavored Chocolate      1    4    January                     30.0  \n",
              "1       Dark Chocolate      8    1     August                     84.0  \n",
              "2  Nut-based Chocolate      7    7       July                     49.0  \n",
              "3  Nut-based Chocolate      4   27      April                     37.0  \n",
              "4  Nut-based Chocolate      2   24   February                     74.0  "
            ]
          },
          "execution_count": 7,
          "metadata": {},
          "output_type": "execute_result"
        }
      ],
      "source": [
        "df.head()"
      ]
    },
    {
      "cell_type": "markdown",
      "metadata": {},
      "source": [
        "<h3 style='color:#714737;'>Hypothesis 1</h3>"
      ]
    },
    {
      "cell_type": "markdown",
      "metadata": {},
      "source": [
        "Hypothesis: There is a significant difference in sales revenue across different months, meaning sales follow a seasonal pattern with peak holiday months.\n",
        "\n",
        "Null hypothesis: There is no significant difference in sales revenue across different months, meaning sales do not follow a seasonal trend.\n"
      ]
    },
    {
      "cell_type": "code",
      "execution_count": 8,
      "metadata": {},
      "outputs": [
        {
          "data": {
            "application/vnd.plotly.v1+json": {
              "config": {
                "plotlyServerURL": "https://plot.ly"
              },
              "data": [
                {
                  "hovertemplate": "Month=%{x}<br>Total Sales Revenue ($)=%{y}<extra></extra>",
                  "legendgroup": "",
                  "line": {
                    "color": "#636efa",
                    "dash": "solid"
                  },
                  "marker": {
                    "symbol": "circle"
                  },
                  "mode": "lines+markers",
                  "name": "",
                  "orientation": "v",
                  "showlegend": false,
                  "type": "scatter",
                  "x": [
                    "January",
                    "February",
                    "March",
                    "April",
                    "May",
                    "June",
                    "July",
                    "August"
                  ],
                  "xaxis": "x",
                  "y": [
                    896105,
                    699377,
                    749483,
                    674051,
                    752892,
                    865144,
                    803425,
                    743148
                  ],
                  "yaxis": "y"
                }
              ],
              "layout": {
                "legend": {
                  "tracegroupgap": 0
                },
                "template": {
                  "data": {
                    "bar": [
                      {
                        "error_x": {
                          "color": "#2a3f5f"
                        },
                        "error_y": {
                          "color": "#2a3f5f"
                        },
                        "marker": {
                          "line": {
                            "color": "#E5ECF6",
                            "width": 0.5
                          },
                          "pattern": {
                            "fillmode": "overlay",
                            "size": 10,
                            "solidity": 0.2
                          }
                        },
                        "type": "bar"
                      }
                    ],
                    "barpolar": [
                      {
                        "marker": {
                          "line": {
                            "color": "#E5ECF6",
                            "width": 0.5
                          },
                          "pattern": {
                            "fillmode": "overlay",
                            "size": 10,
                            "solidity": 0.2
                          }
                        },
                        "type": "barpolar"
                      }
                    ],
                    "carpet": [
                      {
                        "aaxis": {
                          "endlinecolor": "#2a3f5f",
                          "gridcolor": "white",
                          "linecolor": "white",
                          "minorgridcolor": "white",
                          "startlinecolor": "#2a3f5f"
                        },
                        "baxis": {
                          "endlinecolor": "#2a3f5f",
                          "gridcolor": "white",
                          "linecolor": "white",
                          "minorgridcolor": "white",
                          "startlinecolor": "#2a3f5f"
                        },
                        "type": "carpet"
                      }
                    ],
                    "choropleth": [
                      {
                        "colorbar": {
                          "outlinewidth": 0,
                          "ticks": ""
                        },
                        "type": "choropleth"
                      }
                    ],
                    "contour": [
                      {
                        "colorbar": {
                          "outlinewidth": 0,
                          "ticks": ""
                        },
                        "colorscale": [
                          [
                            0,
                            "#0d0887"
                          ],
                          [
                            0.1111111111111111,
                            "#46039f"
                          ],
                          [
                            0.2222222222222222,
                            "#7201a8"
                          ],
                          [
                            0.3333333333333333,
                            "#9c179e"
                          ],
                          [
                            0.4444444444444444,
                            "#bd3786"
                          ],
                          [
                            0.5555555555555556,
                            "#d8576b"
                          ],
                          [
                            0.6666666666666666,
                            "#ed7953"
                          ],
                          [
                            0.7777777777777778,
                            "#fb9f3a"
                          ],
                          [
                            0.8888888888888888,
                            "#fdca26"
                          ],
                          [
                            1,
                            "#f0f921"
                          ]
                        ],
                        "type": "contour"
                      }
                    ],
                    "contourcarpet": [
                      {
                        "colorbar": {
                          "outlinewidth": 0,
                          "ticks": ""
                        },
                        "type": "contourcarpet"
                      }
                    ],
                    "heatmap": [
                      {
                        "colorbar": {
                          "outlinewidth": 0,
                          "ticks": ""
                        },
                        "colorscale": [
                          [
                            0,
                            "#0d0887"
                          ],
                          [
                            0.1111111111111111,
                            "#46039f"
                          ],
                          [
                            0.2222222222222222,
                            "#7201a8"
                          ],
                          [
                            0.3333333333333333,
                            "#9c179e"
                          ],
                          [
                            0.4444444444444444,
                            "#bd3786"
                          ],
                          [
                            0.5555555555555556,
                            "#d8576b"
                          ],
                          [
                            0.6666666666666666,
                            "#ed7953"
                          ],
                          [
                            0.7777777777777778,
                            "#fb9f3a"
                          ],
                          [
                            0.8888888888888888,
                            "#fdca26"
                          ],
                          [
                            1,
                            "#f0f921"
                          ]
                        ],
                        "type": "heatmap"
                      }
                    ],
                    "heatmapgl": [
                      {
                        "colorbar": {
                          "outlinewidth": 0,
                          "ticks": ""
                        },
                        "colorscale": [
                          [
                            0,
                            "#0d0887"
                          ],
                          [
                            0.1111111111111111,
                            "#46039f"
                          ],
                          [
                            0.2222222222222222,
                            "#7201a8"
                          ],
                          [
                            0.3333333333333333,
                            "#9c179e"
                          ],
                          [
                            0.4444444444444444,
                            "#bd3786"
                          ],
                          [
                            0.5555555555555556,
                            "#d8576b"
                          ],
                          [
                            0.6666666666666666,
                            "#ed7953"
                          ],
                          [
                            0.7777777777777778,
                            "#fb9f3a"
                          ],
                          [
                            0.8888888888888888,
                            "#fdca26"
                          ],
                          [
                            1,
                            "#f0f921"
                          ]
                        ],
                        "type": "heatmapgl"
                      }
                    ],
                    "histogram": [
                      {
                        "marker": {
                          "pattern": {
                            "fillmode": "overlay",
                            "size": 10,
                            "solidity": 0.2
                          }
                        },
                        "type": "histogram"
                      }
                    ],
                    "histogram2d": [
                      {
                        "colorbar": {
                          "outlinewidth": 0,
                          "ticks": ""
                        },
                        "colorscale": [
                          [
                            0,
                            "#0d0887"
                          ],
                          [
                            0.1111111111111111,
                            "#46039f"
                          ],
                          [
                            0.2222222222222222,
                            "#7201a8"
                          ],
                          [
                            0.3333333333333333,
                            "#9c179e"
                          ],
                          [
                            0.4444444444444444,
                            "#bd3786"
                          ],
                          [
                            0.5555555555555556,
                            "#d8576b"
                          ],
                          [
                            0.6666666666666666,
                            "#ed7953"
                          ],
                          [
                            0.7777777777777778,
                            "#fb9f3a"
                          ],
                          [
                            0.8888888888888888,
                            "#fdca26"
                          ],
                          [
                            1,
                            "#f0f921"
                          ]
                        ],
                        "type": "histogram2d"
                      }
                    ],
                    "histogram2dcontour": [
                      {
                        "colorbar": {
                          "outlinewidth": 0,
                          "ticks": ""
                        },
                        "colorscale": [
                          [
                            0,
                            "#0d0887"
                          ],
                          [
                            0.1111111111111111,
                            "#46039f"
                          ],
                          [
                            0.2222222222222222,
                            "#7201a8"
                          ],
                          [
                            0.3333333333333333,
                            "#9c179e"
                          ],
                          [
                            0.4444444444444444,
                            "#bd3786"
                          ],
                          [
                            0.5555555555555556,
                            "#d8576b"
                          ],
                          [
                            0.6666666666666666,
                            "#ed7953"
                          ],
                          [
                            0.7777777777777778,
                            "#fb9f3a"
                          ],
                          [
                            0.8888888888888888,
                            "#fdca26"
                          ],
                          [
                            1,
                            "#f0f921"
                          ]
                        ],
                        "type": "histogram2dcontour"
                      }
                    ],
                    "mesh3d": [
                      {
                        "colorbar": {
                          "outlinewidth": 0,
                          "ticks": ""
                        },
                        "type": "mesh3d"
                      }
                    ],
                    "parcoords": [
                      {
                        "line": {
                          "colorbar": {
                            "outlinewidth": 0,
                            "ticks": ""
                          }
                        },
                        "type": "parcoords"
                      }
                    ],
                    "pie": [
                      {
                        "automargin": true,
                        "type": "pie"
                      }
                    ],
                    "scatter": [
                      {
                        "fillpattern": {
                          "fillmode": "overlay",
                          "size": 10,
                          "solidity": 0.2
                        },
                        "type": "scatter"
                      }
                    ],
                    "scatter3d": [
                      {
                        "line": {
                          "colorbar": {
                            "outlinewidth": 0,
                            "ticks": ""
                          }
                        },
                        "marker": {
                          "colorbar": {
                            "outlinewidth": 0,
                            "ticks": ""
                          }
                        },
                        "type": "scatter3d"
                      }
                    ],
                    "scattercarpet": [
                      {
                        "marker": {
                          "colorbar": {
                            "outlinewidth": 0,
                            "ticks": ""
                          }
                        },
                        "type": "scattercarpet"
                      }
                    ],
                    "scattergeo": [
                      {
                        "marker": {
                          "colorbar": {
                            "outlinewidth": 0,
                            "ticks": ""
                          }
                        },
                        "type": "scattergeo"
                      }
                    ],
                    "scattergl": [
                      {
                        "marker": {
                          "colorbar": {
                            "outlinewidth": 0,
                            "ticks": ""
                          }
                        },
                        "type": "scattergl"
                      }
                    ],
                    "scattermapbox": [
                      {
                        "marker": {
                          "colorbar": {
                            "outlinewidth": 0,
                            "ticks": ""
                          }
                        },
                        "type": "scattermapbox"
                      }
                    ],
                    "scatterpolar": [
                      {
                        "marker": {
                          "colorbar": {
                            "outlinewidth": 0,
                            "ticks": ""
                          }
                        },
                        "type": "scatterpolar"
                      }
                    ],
                    "scatterpolargl": [
                      {
                        "marker": {
                          "colorbar": {
                            "outlinewidth": 0,
                            "ticks": ""
                          }
                        },
                        "type": "scatterpolargl"
                      }
                    ],
                    "scatterternary": [
                      {
                        "marker": {
                          "colorbar": {
                            "outlinewidth": 0,
                            "ticks": ""
                          }
                        },
                        "type": "scatterternary"
                      }
                    ],
                    "surface": [
                      {
                        "colorbar": {
                          "outlinewidth": 0,
                          "ticks": ""
                        },
                        "colorscale": [
                          [
                            0,
                            "#0d0887"
                          ],
                          [
                            0.1111111111111111,
                            "#46039f"
                          ],
                          [
                            0.2222222222222222,
                            "#7201a8"
                          ],
                          [
                            0.3333333333333333,
                            "#9c179e"
                          ],
                          [
                            0.4444444444444444,
                            "#bd3786"
                          ],
                          [
                            0.5555555555555556,
                            "#d8576b"
                          ],
                          [
                            0.6666666666666666,
                            "#ed7953"
                          ],
                          [
                            0.7777777777777778,
                            "#fb9f3a"
                          ],
                          [
                            0.8888888888888888,
                            "#fdca26"
                          ],
                          [
                            1,
                            "#f0f921"
                          ]
                        ],
                        "type": "surface"
                      }
                    ],
                    "table": [
                      {
                        "cells": {
                          "fill": {
                            "color": "#EBF0F8"
                          },
                          "line": {
                            "color": "white"
                          }
                        },
                        "header": {
                          "fill": {
                            "color": "#C8D4E3"
                          },
                          "line": {
                            "color": "white"
                          }
                        },
                        "type": "table"
                      }
                    ]
                  },
                  "layout": {
                    "annotationdefaults": {
                      "arrowcolor": "#2a3f5f",
                      "arrowhead": 0,
                      "arrowwidth": 1
                    },
                    "autotypenumbers": "strict",
                    "coloraxis": {
                      "colorbar": {
                        "outlinewidth": 0,
                        "ticks": ""
                      }
                    },
                    "colorscale": {
                      "diverging": [
                        [
                          0,
                          "#8e0152"
                        ],
                        [
                          0.1,
                          "#c51b7d"
                        ],
                        [
                          0.2,
                          "#de77ae"
                        ],
                        [
                          0.3,
                          "#f1b6da"
                        ],
                        [
                          0.4,
                          "#fde0ef"
                        ],
                        [
                          0.5,
                          "#f7f7f7"
                        ],
                        [
                          0.6,
                          "#e6f5d0"
                        ],
                        [
                          0.7,
                          "#b8e186"
                        ],
                        [
                          0.8,
                          "#7fbc41"
                        ],
                        [
                          0.9,
                          "#4d9221"
                        ],
                        [
                          1,
                          "#276419"
                        ]
                      ],
                      "sequential": [
                        [
                          0,
                          "#0d0887"
                        ],
                        [
                          0.1111111111111111,
                          "#46039f"
                        ],
                        [
                          0.2222222222222222,
                          "#7201a8"
                        ],
                        [
                          0.3333333333333333,
                          "#9c179e"
                        ],
                        [
                          0.4444444444444444,
                          "#bd3786"
                        ],
                        [
                          0.5555555555555556,
                          "#d8576b"
                        ],
                        [
                          0.6666666666666666,
                          "#ed7953"
                        ],
                        [
                          0.7777777777777778,
                          "#fb9f3a"
                        ],
                        [
                          0.8888888888888888,
                          "#fdca26"
                        ],
                        [
                          1,
                          "#f0f921"
                        ]
                      ],
                      "sequentialminus": [
                        [
                          0,
                          "#0d0887"
                        ],
                        [
                          0.1111111111111111,
                          "#46039f"
                        ],
                        [
                          0.2222222222222222,
                          "#7201a8"
                        ],
                        [
                          0.3333333333333333,
                          "#9c179e"
                        ],
                        [
                          0.4444444444444444,
                          "#bd3786"
                        ],
                        [
                          0.5555555555555556,
                          "#d8576b"
                        ],
                        [
                          0.6666666666666666,
                          "#ed7953"
                        ],
                        [
                          0.7777777777777778,
                          "#fb9f3a"
                        ],
                        [
                          0.8888888888888888,
                          "#fdca26"
                        ],
                        [
                          1,
                          "#f0f921"
                        ]
                      ]
                    },
                    "colorway": [
                      "#636efa",
                      "#EF553B",
                      "#00cc96",
                      "#ab63fa",
                      "#FFA15A",
                      "#19d3f3",
                      "#FF6692",
                      "#B6E880",
                      "#FF97FF",
                      "#FECB52"
                    ],
                    "font": {
                      "color": "#2a3f5f"
                    },
                    "geo": {
                      "bgcolor": "white",
                      "lakecolor": "white",
                      "landcolor": "#E5ECF6",
                      "showlakes": true,
                      "showland": true,
                      "subunitcolor": "white"
                    },
                    "hoverlabel": {
                      "align": "left"
                    },
                    "hovermode": "closest",
                    "mapbox": {
                      "style": "light"
                    },
                    "paper_bgcolor": "white",
                    "plot_bgcolor": "#E5ECF6",
                    "polar": {
                      "angularaxis": {
                        "gridcolor": "white",
                        "linecolor": "white",
                        "ticks": ""
                      },
                      "bgcolor": "#E5ECF6",
                      "radialaxis": {
                        "gridcolor": "white",
                        "linecolor": "white",
                        "ticks": ""
                      }
                    },
                    "scene": {
                      "xaxis": {
                        "backgroundcolor": "#E5ECF6",
                        "gridcolor": "white",
                        "gridwidth": 2,
                        "linecolor": "white",
                        "showbackground": true,
                        "ticks": "",
                        "zerolinecolor": "white"
                      },
                      "yaxis": {
                        "backgroundcolor": "#E5ECF6",
                        "gridcolor": "white",
                        "gridwidth": 2,
                        "linecolor": "white",
                        "showbackground": true,
                        "ticks": "",
                        "zerolinecolor": "white"
                      },
                      "zaxis": {
                        "backgroundcolor": "#E5ECF6",
                        "gridcolor": "white",
                        "gridwidth": 2,
                        "linecolor": "white",
                        "showbackground": true,
                        "ticks": "",
                        "zerolinecolor": "white"
                      }
                    },
                    "shapedefaults": {
                      "line": {
                        "color": "#2a3f5f"
                      }
                    },
                    "ternary": {
                      "aaxis": {
                        "gridcolor": "white",
                        "linecolor": "white",
                        "ticks": ""
                      },
                      "baxis": {
                        "gridcolor": "white",
                        "linecolor": "white",
                        "ticks": ""
                      },
                      "bgcolor": "#E5ECF6",
                      "caxis": {
                        "gridcolor": "white",
                        "linecolor": "white",
                        "ticks": ""
                      }
                    },
                    "title": {
                      "x": 0.05
                    },
                    "xaxis": {
                      "automargin": true,
                      "gridcolor": "white",
                      "linecolor": "white",
                      "ticks": "",
                      "title": {
                        "standoff": 15
                      },
                      "zerolinecolor": "white",
                      "zerolinewidth": 2
                    },
                    "yaxis": {
                      "automargin": true,
                      "gridcolor": "white",
                      "linecolor": "white",
                      "ticks": "",
                      "title": {
                        "standoff": 15
                      },
                      "zerolinecolor": "white",
                      "zerolinewidth": 2
                    }
                  }
                },
                "title": {
                  "text": "Monthly Sales Revenue Trends"
                },
                "xaxis": {
                  "anchor": "y",
                  "domain": [
                    0,
                    1
                  ],
                  "title": {
                    "text": "Month"
                  }
                },
                "yaxis": {
                  "anchor": "x",
                  "domain": [
                    0,
                    1
                  ],
                  "title": {
                    "text": "Total Sales Revenue ($)"
                  }
                }
              }
            }
          },
          "metadata": {},
          "output_type": "display_data"
        }
      ],
      "source": [
        "# Aggregate total sales by month\n",
        "monthly_sales = df.groupby(\"Month Name\", as_index=False)[\"Amount\"].sum()\n",
        "\n",
        "# Order months correctly\n",
        "month_order = [\"January\", \"February\", \"March\", \"April\", \"May\", \"June\",\n",
        "               \"July\", \"August\"]\n",
        "monthly_sales[\"Month Name\"] = pd.Categorical(monthly_sales[\"Month Name\"], categories=month_order, ordered=True)\n",
        "monthly_sales = monthly_sales.sort_values(\"Month Name\")\n",
        "\n",
        "# Create line chart\n",
        "fig_line = px.line(monthly_sales, x=\"Month Name\", y=\"Amount\", markers=True,\n",
        "                   title=\"Monthly Sales Revenue Trends\",\n",
        "                   labels={\"Amount\": \"Total Sales Revenue ($)\", \"Month Name\": \"Month\"})\n",
        "\n",
        "fig_line.show()"
      ]
    },
    {
      "cell_type": "code",
      "execution_count": 9,
      "metadata": {},
      "outputs": [
        {
          "data": {
            "application/vnd.plotly.v1+json": {
              "config": {
                "plotlyServerURL": "https://plot.ly"
              },
              "data": [
                {
                  "coloraxis": "coloraxis",
                  "hovertemplate": "Month Name: %{x}<br>Country: %{y}<br>Boxes Shipped: %{z}<extra></extra>",
                  "name": "0",
                  "type": "heatmap",
                  "x": [
                    "January",
                    "February",
                    "March",
                    "April",
                    "May",
                    "June",
                    "July",
                    "August"
                  ],
                  "xaxis": "x",
                  "y": [
                    "Australia",
                    "Canada",
                    "India",
                    "New Zealand",
                    "UK",
                    "USA"
                  ],
                  "yaxis": "y",
                  "z": [
                    [
                      4470,
                      3168,
                      2635,
                      6449,
                      3443,
                      3955,
                      4309,
                      4218
                    ],
                    [
                      2950,
                      4483,
                      3563,
                      4455,
                      4407,
                      4528,
                      3388,
                      3447
                    ],
                    [
                      4015,
                      3163,
                      2486,
                      4354,
                      5319,
                      3872,
                      2261,
                      4000
                    ],
                    [
                      2910,
                      2130,
                      3138,
                      5516,
                      2023,
                      4495,
                      3240,
                      3128
                    ],
                    [
                      4199,
                      3684,
                      2837,
                      4173,
                      2724,
                      5628,
                      3341,
                      3679
                    ],
                    [
                      2459,
                      3273,
                      3356,
                      2588,
                      4960,
                      3782,
                      3022,
                      3384
                    ]
                  ]
                }
              ],
              "layout": {
                "coloraxis": {
                  "colorbar": {
                    "title": {
                      "text": "Boxes Shipped"
                    }
                  },
                  "colorscale": [
                    [
                      0,
                      "#440154"
                    ],
                    [
                      0.1111111111111111,
                      "#482878"
                    ],
                    [
                      0.2222222222222222,
                      "#3e4989"
                    ],
                    [
                      0.3333333333333333,
                      "#31688e"
                    ],
                    [
                      0.4444444444444444,
                      "#26828e"
                    ],
                    [
                      0.5555555555555556,
                      "#1f9e89"
                    ],
                    [
                      0.6666666666666666,
                      "#35b779"
                    ],
                    [
                      0.7777777777777778,
                      "#6ece58"
                    ],
                    [
                      0.8888888888888888,
                      "#b5de2b"
                    ],
                    [
                      1,
                      "#fde725"
                    ]
                  ]
                },
                "template": {
                  "data": {
                    "bar": [
                      {
                        "error_x": {
                          "color": "#2a3f5f"
                        },
                        "error_y": {
                          "color": "#2a3f5f"
                        },
                        "marker": {
                          "line": {
                            "color": "#E5ECF6",
                            "width": 0.5
                          },
                          "pattern": {
                            "fillmode": "overlay",
                            "size": 10,
                            "solidity": 0.2
                          }
                        },
                        "type": "bar"
                      }
                    ],
                    "barpolar": [
                      {
                        "marker": {
                          "line": {
                            "color": "#E5ECF6",
                            "width": 0.5
                          },
                          "pattern": {
                            "fillmode": "overlay",
                            "size": 10,
                            "solidity": 0.2
                          }
                        },
                        "type": "barpolar"
                      }
                    ],
                    "carpet": [
                      {
                        "aaxis": {
                          "endlinecolor": "#2a3f5f",
                          "gridcolor": "white",
                          "linecolor": "white",
                          "minorgridcolor": "white",
                          "startlinecolor": "#2a3f5f"
                        },
                        "baxis": {
                          "endlinecolor": "#2a3f5f",
                          "gridcolor": "white",
                          "linecolor": "white",
                          "minorgridcolor": "white",
                          "startlinecolor": "#2a3f5f"
                        },
                        "type": "carpet"
                      }
                    ],
                    "choropleth": [
                      {
                        "colorbar": {
                          "outlinewidth": 0,
                          "ticks": ""
                        },
                        "type": "choropleth"
                      }
                    ],
                    "contour": [
                      {
                        "colorbar": {
                          "outlinewidth": 0,
                          "ticks": ""
                        },
                        "colorscale": [
                          [
                            0,
                            "#0d0887"
                          ],
                          [
                            0.1111111111111111,
                            "#46039f"
                          ],
                          [
                            0.2222222222222222,
                            "#7201a8"
                          ],
                          [
                            0.3333333333333333,
                            "#9c179e"
                          ],
                          [
                            0.4444444444444444,
                            "#bd3786"
                          ],
                          [
                            0.5555555555555556,
                            "#d8576b"
                          ],
                          [
                            0.6666666666666666,
                            "#ed7953"
                          ],
                          [
                            0.7777777777777778,
                            "#fb9f3a"
                          ],
                          [
                            0.8888888888888888,
                            "#fdca26"
                          ],
                          [
                            1,
                            "#f0f921"
                          ]
                        ],
                        "type": "contour"
                      }
                    ],
                    "contourcarpet": [
                      {
                        "colorbar": {
                          "outlinewidth": 0,
                          "ticks": ""
                        },
                        "type": "contourcarpet"
                      }
                    ],
                    "heatmap": [
                      {
                        "colorbar": {
                          "outlinewidth": 0,
                          "ticks": ""
                        },
                        "colorscale": [
                          [
                            0,
                            "#0d0887"
                          ],
                          [
                            0.1111111111111111,
                            "#46039f"
                          ],
                          [
                            0.2222222222222222,
                            "#7201a8"
                          ],
                          [
                            0.3333333333333333,
                            "#9c179e"
                          ],
                          [
                            0.4444444444444444,
                            "#bd3786"
                          ],
                          [
                            0.5555555555555556,
                            "#d8576b"
                          ],
                          [
                            0.6666666666666666,
                            "#ed7953"
                          ],
                          [
                            0.7777777777777778,
                            "#fb9f3a"
                          ],
                          [
                            0.8888888888888888,
                            "#fdca26"
                          ],
                          [
                            1,
                            "#f0f921"
                          ]
                        ],
                        "type": "heatmap"
                      }
                    ],
                    "heatmapgl": [
                      {
                        "colorbar": {
                          "outlinewidth": 0,
                          "ticks": ""
                        },
                        "colorscale": [
                          [
                            0,
                            "#0d0887"
                          ],
                          [
                            0.1111111111111111,
                            "#46039f"
                          ],
                          [
                            0.2222222222222222,
                            "#7201a8"
                          ],
                          [
                            0.3333333333333333,
                            "#9c179e"
                          ],
                          [
                            0.4444444444444444,
                            "#bd3786"
                          ],
                          [
                            0.5555555555555556,
                            "#d8576b"
                          ],
                          [
                            0.6666666666666666,
                            "#ed7953"
                          ],
                          [
                            0.7777777777777778,
                            "#fb9f3a"
                          ],
                          [
                            0.8888888888888888,
                            "#fdca26"
                          ],
                          [
                            1,
                            "#f0f921"
                          ]
                        ],
                        "type": "heatmapgl"
                      }
                    ],
                    "histogram": [
                      {
                        "marker": {
                          "pattern": {
                            "fillmode": "overlay",
                            "size": 10,
                            "solidity": 0.2
                          }
                        },
                        "type": "histogram"
                      }
                    ],
                    "histogram2d": [
                      {
                        "colorbar": {
                          "outlinewidth": 0,
                          "ticks": ""
                        },
                        "colorscale": [
                          [
                            0,
                            "#0d0887"
                          ],
                          [
                            0.1111111111111111,
                            "#46039f"
                          ],
                          [
                            0.2222222222222222,
                            "#7201a8"
                          ],
                          [
                            0.3333333333333333,
                            "#9c179e"
                          ],
                          [
                            0.4444444444444444,
                            "#bd3786"
                          ],
                          [
                            0.5555555555555556,
                            "#d8576b"
                          ],
                          [
                            0.6666666666666666,
                            "#ed7953"
                          ],
                          [
                            0.7777777777777778,
                            "#fb9f3a"
                          ],
                          [
                            0.8888888888888888,
                            "#fdca26"
                          ],
                          [
                            1,
                            "#f0f921"
                          ]
                        ],
                        "type": "histogram2d"
                      }
                    ],
                    "histogram2dcontour": [
                      {
                        "colorbar": {
                          "outlinewidth": 0,
                          "ticks": ""
                        },
                        "colorscale": [
                          [
                            0,
                            "#0d0887"
                          ],
                          [
                            0.1111111111111111,
                            "#46039f"
                          ],
                          [
                            0.2222222222222222,
                            "#7201a8"
                          ],
                          [
                            0.3333333333333333,
                            "#9c179e"
                          ],
                          [
                            0.4444444444444444,
                            "#bd3786"
                          ],
                          [
                            0.5555555555555556,
                            "#d8576b"
                          ],
                          [
                            0.6666666666666666,
                            "#ed7953"
                          ],
                          [
                            0.7777777777777778,
                            "#fb9f3a"
                          ],
                          [
                            0.8888888888888888,
                            "#fdca26"
                          ],
                          [
                            1,
                            "#f0f921"
                          ]
                        ],
                        "type": "histogram2dcontour"
                      }
                    ],
                    "mesh3d": [
                      {
                        "colorbar": {
                          "outlinewidth": 0,
                          "ticks": ""
                        },
                        "type": "mesh3d"
                      }
                    ],
                    "parcoords": [
                      {
                        "line": {
                          "colorbar": {
                            "outlinewidth": 0,
                            "ticks": ""
                          }
                        },
                        "type": "parcoords"
                      }
                    ],
                    "pie": [
                      {
                        "automargin": true,
                        "type": "pie"
                      }
                    ],
                    "scatter": [
                      {
                        "fillpattern": {
                          "fillmode": "overlay",
                          "size": 10,
                          "solidity": 0.2
                        },
                        "type": "scatter"
                      }
                    ],
                    "scatter3d": [
                      {
                        "line": {
                          "colorbar": {
                            "outlinewidth": 0,
                            "ticks": ""
                          }
                        },
                        "marker": {
                          "colorbar": {
                            "outlinewidth": 0,
                            "ticks": ""
                          }
                        },
                        "type": "scatter3d"
                      }
                    ],
                    "scattercarpet": [
                      {
                        "marker": {
                          "colorbar": {
                            "outlinewidth": 0,
                            "ticks": ""
                          }
                        },
                        "type": "scattercarpet"
                      }
                    ],
                    "scattergeo": [
                      {
                        "marker": {
                          "colorbar": {
                            "outlinewidth": 0,
                            "ticks": ""
                          }
                        },
                        "type": "scattergeo"
                      }
                    ],
                    "scattergl": [
                      {
                        "marker": {
                          "colorbar": {
                            "outlinewidth": 0,
                            "ticks": ""
                          }
                        },
                        "type": "scattergl"
                      }
                    ],
                    "scattermapbox": [
                      {
                        "marker": {
                          "colorbar": {
                            "outlinewidth": 0,
                            "ticks": ""
                          }
                        },
                        "type": "scattermapbox"
                      }
                    ],
                    "scatterpolar": [
                      {
                        "marker": {
                          "colorbar": {
                            "outlinewidth": 0,
                            "ticks": ""
                          }
                        },
                        "type": "scatterpolar"
                      }
                    ],
                    "scatterpolargl": [
                      {
                        "marker": {
                          "colorbar": {
                            "outlinewidth": 0,
                            "ticks": ""
                          }
                        },
                        "type": "scatterpolargl"
                      }
                    ],
                    "scatterternary": [
                      {
                        "marker": {
                          "colorbar": {
                            "outlinewidth": 0,
                            "ticks": ""
                          }
                        },
                        "type": "scatterternary"
                      }
                    ],
                    "surface": [
                      {
                        "colorbar": {
                          "outlinewidth": 0,
                          "ticks": ""
                        },
                        "colorscale": [
                          [
                            0,
                            "#0d0887"
                          ],
                          [
                            0.1111111111111111,
                            "#46039f"
                          ],
                          [
                            0.2222222222222222,
                            "#7201a8"
                          ],
                          [
                            0.3333333333333333,
                            "#9c179e"
                          ],
                          [
                            0.4444444444444444,
                            "#bd3786"
                          ],
                          [
                            0.5555555555555556,
                            "#d8576b"
                          ],
                          [
                            0.6666666666666666,
                            "#ed7953"
                          ],
                          [
                            0.7777777777777778,
                            "#fb9f3a"
                          ],
                          [
                            0.8888888888888888,
                            "#fdca26"
                          ],
                          [
                            1,
                            "#f0f921"
                          ]
                        ],
                        "type": "surface"
                      }
                    ],
                    "table": [
                      {
                        "cells": {
                          "fill": {
                            "color": "#EBF0F8"
                          },
                          "line": {
                            "color": "white"
                          }
                        },
                        "header": {
                          "fill": {
                            "color": "#C8D4E3"
                          },
                          "line": {
                            "color": "white"
                          }
                        },
                        "type": "table"
                      }
                    ]
                  },
                  "layout": {
                    "annotationdefaults": {
                      "arrowcolor": "#2a3f5f",
                      "arrowhead": 0,
                      "arrowwidth": 1
                    },
                    "autotypenumbers": "strict",
                    "coloraxis": {
                      "colorbar": {
                        "outlinewidth": 0,
                        "ticks": ""
                      }
                    },
                    "colorscale": {
                      "diverging": [
                        [
                          0,
                          "#8e0152"
                        ],
                        [
                          0.1,
                          "#c51b7d"
                        ],
                        [
                          0.2,
                          "#de77ae"
                        ],
                        [
                          0.3,
                          "#f1b6da"
                        ],
                        [
                          0.4,
                          "#fde0ef"
                        ],
                        [
                          0.5,
                          "#f7f7f7"
                        ],
                        [
                          0.6,
                          "#e6f5d0"
                        ],
                        [
                          0.7,
                          "#b8e186"
                        ],
                        [
                          0.8,
                          "#7fbc41"
                        ],
                        [
                          0.9,
                          "#4d9221"
                        ],
                        [
                          1,
                          "#276419"
                        ]
                      ],
                      "sequential": [
                        [
                          0,
                          "#0d0887"
                        ],
                        [
                          0.1111111111111111,
                          "#46039f"
                        ],
                        [
                          0.2222222222222222,
                          "#7201a8"
                        ],
                        [
                          0.3333333333333333,
                          "#9c179e"
                        ],
                        [
                          0.4444444444444444,
                          "#bd3786"
                        ],
                        [
                          0.5555555555555556,
                          "#d8576b"
                        ],
                        [
                          0.6666666666666666,
                          "#ed7953"
                        ],
                        [
                          0.7777777777777778,
                          "#fb9f3a"
                        ],
                        [
                          0.8888888888888888,
                          "#fdca26"
                        ],
                        [
                          1,
                          "#f0f921"
                        ]
                      ],
                      "sequentialminus": [
                        [
                          0,
                          "#0d0887"
                        ],
                        [
                          0.1111111111111111,
                          "#46039f"
                        ],
                        [
                          0.2222222222222222,
                          "#7201a8"
                        ],
                        [
                          0.3333333333333333,
                          "#9c179e"
                        ],
                        [
                          0.4444444444444444,
                          "#bd3786"
                        ],
                        [
                          0.5555555555555556,
                          "#d8576b"
                        ],
                        [
                          0.6666666666666666,
                          "#ed7953"
                        ],
                        [
                          0.7777777777777778,
                          "#fb9f3a"
                        ],
                        [
                          0.8888888888888888,
                          "#fdca26"
                        ],
                        [
                          1,
                          "#f0f921"
                        ]
                      ]
                    },
                    "colorway": [
                      "#636efa",
                      "#EF553B",
                      "#00cc96",
                      "#ab63fa",
                      "#FFA15A",
                      "#19d3f3",
                      "#FF6692",
                      "#B6E880",
                      "#FF97FF",
                      "#FECB52"
                    ],
                    "font": {
                      "color": "#2a3f5f"
                    },
                    "geo": {
                      "bgcolor": "white",
                      "lakecolor": "white",
                      "landcolor": "#E5ECF6",
                      "showlakes": true,
                      "showland": true,
                      "subunitcolor": "white"
                    },
                    "hoverlabel": {
                      "align": "left"
                    },
                    "hovermode": "closest",
                    "mapbox": {
                      "style": "light"
                    },
                    "paper_bgcolor": "white",
                    "plot_bgcolor": "#E5ECF6",
                    "polar": {
                      "angularaxis": {
                        "gridcolor": "white",
                        "linecolor": "white",
                        "ticks": ""
                      },
                      "bgcolor": "#E5ECF6",
                      "radialaxis": {
                        "gridcolor": "white",
                        "linecolor": "white",
                        "ticks": ""
                      }
                    },
                    "scene": {
                      "xaxis": {
                        "backgroundcolor": "#E5ECF6",
                        "gridcolor": "white",
                        "gridwidth": 2,
                        "linecolor": "white",
                        "showbackground": true,
                        "ticks": "",
                        "zerolinecolor": "white"
                      },
                      "yaxis": {
                        "backgroundcolor": "#E5ECF6",
                        "gridcolor": "white",
                        "gridwidth": 2,
                        "linecolor": "white",
                        "showbackground": true,
                        "ticks": "",
                        "zerolinecolor": "white"
                      },
                      "zaxis": {
                        "backgroundcolor": "#E5ECF6",
                        "gridcolor": "white",
                        "gridwidth": 2,
                        "linecolor": "white",
                        "showbackground": true,
                        "ticks": "",
                        "zerolinecolor": "white"
                      }
                    },
                    "shapedefaults": {
                      "line": {
                        "color": "#2a3f5f"
                      }
                    },
                    "ternary": {
                      "aaxis": {
                        "gridcolor": "white",
                        "linecolor": "white",
                        "ticks": ""
                      },
                      "baxis": {
                        "gridcolor": "white",
                        "linecolor": "white",
                        "ticks": ""
                      },
                      "bgcolor": "#E5ECF6",
                      "caxis": {
                        "gridcolor": "white",
                        "linecolor": "white",
                        "ticks": ""
                      }
                    },
                    "title": {
                      "x": 0.05
                    },
                    "xaxis": {
                      "automargin": true,
                      "gridcolor": "white",
                      "linecolor": "white",
                      "ticks": "",
                      "title": {
                        "standoff": 15
                      },
                      "zerolinecolor": "white",
                      "zerolinewidth": 2
                    },
                    "yaxis": {
                      "automargin": true,
                      "gridcolor": "white",
                      "linecolor": "white",
                      "ticks": "",
                      "title": {
                        "standoff": 15
                      },
                      "zerolinecolor": "white",
                      "zerolinewidth": 2
                    }
                  }
                },
                "title": {
                  "text": "Sales Volume Heatmap by Month and Country"
                },
                "xaxis": {
                  "anchor": "y",
                  "constrain": "domain",
                  "domain": [
                    0,
                    1
                  ],
                  "scaleanchor": "y",
                  "title": {
                    "text": "Month Name"
                  }
                },
                "yaxis": {
                  "anchor": "x",
                  "autorange": "reversed",
                  "constrain": "domain",
                  "domain": [
                    0,
                    1
                  ],
                  "title": {
                    "text": "Country"
                  }
                }
              }
            }
          },
          "metadata": {},
          "output_type": "display_data"
        }
      ],
      "source": [
        "# Aggregate sales volume (boxes shipped) by country and month\n",
        "heatmap_data = df.groupby([\"Country\", \"Month Name\"], as_index=False)[\"Boxes Shipped\"].sum()\n",
        "\n",
        "# Pivot data for heatmap\n",
        "heatmap_pivot = heatmap_data.pivot(index=\"Country\", columns=\"Month Name\", values=\"Boxes Shipped\")\n",
        "\n",
        "# Create heatmap\n",
        "fig_heatmap = px.imshow(heatmap_pivot.values,\n",
        "                        labels=dict(x=\"Month Name\", y=\"Country\", color=\"Boxes Shipped\"),\n",
        "                        x=month_order,\n",
        "                        y=heatmap_pivot.index,\n",
        "                        title=\"Sales Volume Heatmap by Month and Country\",\n",
        "                        color_continuous_scale=\"viridis\")\n",
        "\n",
        "fig_heatmap.show()"
      ]
    },
    {
      "cell_type": "markdown",
      "metadata": {},
      "source": [
        "-The statistical tests for Hypothesis 1 — which aimed to detect significant differences in sales across months — were failing primarily due to limitations in the dataset structure. The data was aggregated, meaning there was only one total sales value per month.\n",
        "\n",
        "This was a problem for tests like ANOVA and Kruskal-Wallis, which rely on multiple observations per group to calculate within-group variance. With only one value per month, these tests couldn’t properly assess variability, leading to errors like zero degrees of freedom or invalid results. Additionally, the lack of variation across some months may have reduced statistical power, preventing even non-parametric tests from detecting meaningful trends.\n",
        "\n",
        "- As a result, we have to rely on our interpretation of the visuals shown, which we believe clearly shows the difference in total sales revenue across different months. There is enough evidence in the charts above to suggest we should reject the null hypothesis, although due to the limitations of the dataset (only including the time period of Jan-Aug) we are unfortunately not able to see how much events such as Halloween and Christmas would have had."
      ]
    },
    {
      "cell_type": "markdown",
      "metadata": {},
      "source": [
        "<h3 style='color:#714737;'>Hypothesis 2</h3>"
      ]
    },
    {
      "cell_type": "markdown",
      "metadata": {},
      "source": [
        "Hypothesis: There is a significant difference in chocolate sales across different countries.\n",
        "\n",
        "Null Hypothesis: There is no significant difference in chocolate sales across different countries."
      ]
    },
    {
      "cell_type": "code",
      "execution_count": 10,
      "metadata": {},
      "outputs": [
        {
          "data": {
            "text/html": [
              "<div>\n",
              "<style scoped>\n",
              "    .dataframe tbody tr th:only-of-type {\n",
              "        vertical-align: middle;\n",
              "    }\n",
              "\n",
              "    .dataframe tbody tr th {\n",
              "        vertical-align: top;\n",
              "    }\n",
              "\n",
              "    .dataframe thead th {\n",
              "        text-align: right;\n",
              "    }\n",
              "</style>\n",
              "<table border=\"1\" class=\"dataframe\">\n",
              "  <thead>\n",
              "    <tr style=\"text-align: right;\">\n",
              "      <th></th>\n",
              "      <th>W</th>\n",
              "      <th>pval</th>\n",
              "      <th>normal</th>\n",
              "    </tr>\n",
              "    <tr>\n",
              "      <th>Country</th>\n",
              "      <th></th>\n",
              "      <th></th>\n",
              "      <th></th>\n",
              "    </tr>\n",
              "  </thead>\n",
              "  <tbody>\n",
              "    <tr>\n",
              "      <th>UK</th>\n",
              "      <td>0.936965</td>\n",
              "      <td>4.924436e-07</td>\n",
              "      <td>False</td>\n",
              "    </tr>\n",
              "    <tr>\n",
              "      <th>India</th>\n",
              "      <td>0.915609</td>\n",
              "      <td>8.640916e-09</td>\n",
              "      <td>False</td>\n",
              "    </tr>\n",
              "    <tr>\n",
              "      <th>Australia</th>\n",
              "      <td>0.945493</td>\n",
              "      <td>5.369026e-07</td>\n",
              "      <td>False</td>\n",
              "    </tr>\n",
              "    <tr>\n",
              "      <th>New Zealand</th>\n",
              "      <td>0.942363</td>\n",
              "      <td>1.857252e-06</td>\n",
              "      <td>False</td>\n",
              "    </tr>\n",
              "    <tr>\n",
              "      <th>USA</th>\n",
              "      <td>0.921037</td>\n",
              "      <td>2.937018e-08</td>\n",
              "      <td>False</td>\n",
              "    </tr>\n",
              "    <tr>\n",
              "      <th>Canada</th>\n",
              "      <td>0.933991</td>\n",
              "      <td>3.486034e-07</td>\n",
              "      <td>False</td>\n",
              "    </tr>\n",
              "  </tbody>\n",
              "</table>\n",
              "</div>"
            ],
            "text/plain": [
              "                    W          pval  normal\n",
              "Country                                    \n",
              "UK           0.936965  4.924436e-07   False\n",
              "India        0.915609  8.640916e-09   False\n",
              "Australia    0.945493  5.369026e-07   False\n",
              "New Zealand  0.942363  1.857252e-06   False\n",
              "USA          0.921037  2.937018e-08   False\n",
              "Canada       0.933991  3.486034e-07   False"
            ]
          },
          "execution_count": 10,
          "metadata": {},
          "output_type": "execute_result"
        }
      ],
      "source": [
        "# Checking for normality to decide which test to use\n",
        "pg.normality(data=df, dv=\"Amount\", group=\"Country\")"
      ]
    },
    {
      "cell_type": "code",
      "execution_count": 11,
      "metadata": {},
      "outputs": [
        {
          "data": {
            "text/html": [
              "<div>\n",
              "<style scoped>\n",
              "    .dataframe tbody tr th:only-of-type {\n",
              "        vertical-align: middle;\n",
              "    }\n",
              "\n",
              "    .dataframe tbody tr th {\n",
              "        vertical-align: top;\n",
              "    }\n",
              "\n",
              "    .dataframe thead th {\n",
              "        text-align: right;\n",
              "    }\n",
              "</style>\n",
              "<table border=\"1\" class=\"dataframe\">\n",
              "  <thead>\n",
              "    <tr style=\"text-align: right;\">\n",
              "      <th></th>\n",
              "      <th>Source</th>\n",
              "      <th>ddof1</th>\n",
              "      <th>H</th>\n",
              "      <th>p-unc</th>\n",
              "    </tr>\n",
              "  </thead>\n",
              "  <tbody>\n",
              "    <tr>\n",
              "      <th>Kruskal</th>\n",
              "      <td>Country</td>\n",
              "      <td>5</td>\n",
              "      <td>0.937847</td>\n",
              "      <td>0.967421</td>\n",
              "    </tr>\n",
              "  </tbody>\n",
              "</table>\n",
              "</div>"
            ],
            "text/plain": [
              "          Source  ddof1         H     p-unc\n",
              "Kruskal  Country      5  0.937847  0.967421"
            ]
          },
          "execution_count": 11,
          "metadata": {},
          "output_type": "execute_result"
        }
      ],
      "source": [
        "# Using Kruskal-Wallis test to compare sales revenue by country \n",
        "pg.kruskal(data=df, dv=\"Amount\", between=\"Country\")"
      ]
    },
    {
      "cell_type": "markdown",
      "metadata": {},
      "source": [
        "- Due to the p-unc value of 0.96, we cannot reject the null hypothesis in this case as the statistical test shows there is no significant difference between the sales revenue of different countries.\n",
        "- Now we will show through some visualisations whether this is apparent when looking at the data through various charts/graphs. "
      ]
    },
    {
      "cell_type": "code",
      "execution_count": 12,
      "metadata": {},
      "outputs": [
        {
          "data": {
            "application/vnd.plotly.v1+json": {
              "config": {
                "plotlyServerURL": "https://plot.ly"
              },
              "data": [
                {
                  "coloraxis": "coloraxis",
                  "geo": "geo",
                  "hovertemplate": "Country=%{location}<br>Total Sales ($)=%{z}<extra></extra>",
                  "locationmode": "country names",
                  "locations": [
                    "Australia",
                    "Canada",
                    "India",
                    "New Zealand",
                    "UK",
                    "USA"
                  ],
                  "name": "",
                  "type": "choropleth",
                  "z": [
                    1137367,
                    962899,
                    1045800,
                    950418,
                    1051792,
                    1035349
                  ]
                }
              ],
              "layout": {
                "coloraxis": {
                  "colorbar": {
                    "title": {
                      "text": "Total Sales ($)"
                    }
                  },
                  "colorscale": [
                    [
                      0,
                      "#440154"
                    ],
                    [
                      0.1111111111111111,
                      "#482878"
                    ],
                    [
                      0.2222222222222222,
                      "#3e4989"
                    ],
                    [
                      0.3333333333333333,
                      "#31688e"
                    ],
                    [
                      0.4444444444444444,
                      "#26828e"
                    ],
                    [
                      0.5555555555555556,
                      "#1f9e89"
                    ],
                    [
                      0.6666666666666666,
                      "#35b779"
                    ],
                    [
                      0.7777777777777778,
                      "#6ece58"
                    ],
                    [
                      0.8888888888888888,
                      "#b5de2b"
                    ],
                    [
                      1,
                      "#fde725"
                    ]
                  ]
                },
                "geo": {
                  "center": {},
                  "domain": {
                    "x": [
                      0,
                      1
                    ],
                    "y": [
                      0,
                      1
                    ]
                  }
                },
                "legend": {
                  "tracegroupgap": 0
                },
                "template": {
                  "data": {
                    "bar": [
                      {
                        "error_x": {
                          "color": "#2a3f5f"
                        },
                        "error_y": {
                          "color": "#2a3f5f"
                        },
                        "marker": {
                          "line": {
                            "color": "#E5ECF6",
                            "width": 0.5
                          },
                          "pattern": {
                            "fillmode": "overlay",
                            "size": 10,
                            "solidity": 0.2
                          }
                        },
                        "type": "bar"
                      }
                    ],
                    "barpolar": [
                      {
                        "marker": {
                          "line": {
                            "color": "#E5ECF6",
                            "width": 0.5
                          },
                          "pattern": {
                            "fillmode": "overlay",
                            "size": 10,
                            "solidity": 0.2
                          }
                        },
                        "type": "barpolar"
                      }
                    ],
                    "carpet": [
                      {
                        "aaxis": {
                          "endlinecolor": "#2a3f5f",
                          "gridcolor": "white",
                          "linecolor": "white",
                          "minorgridcolor": "white",
                          "startlinecolor": "#2a3f5f"
                        },
                        "baxis": {
                          "endlinecolor": "#2a3f5f",
                          "gridcolor": "white",
                          "linecolor": "white",
                          "minorgridcolor": "white",
                          "startlinecolor": "#2a3f5f"
                        },
                        "type": "carpet"
                      }
                    ],
                    "choropleth": [
                      {
                        "colorbar": {
                          "outlinewidth": 0,
                          "ticks": ""
                        },
                        "type": "choropleth"
                      }
                    ],
                    "contour": [
                      {
                        "colorbar": {
                          "outlinewidth": 0,
                          "ticks": ""
                        },
                        "colorscale": [
                          [
                            0,
                            "#0d0887"
                          ],
                          [
                            0.1111111111111111,
                            "#46039f"
                          ],
                          [
                            0.2222222222222222,
                            "#7201a8"
                          ],
                          [
                            0.3333333333333333,
                            "#9c179e"
                          ],
                          [
                            0.4444444444444444,
                            "#bd3786"
                          ],
                          [
                            0.5555555555555556,
                            "#d8576b"
                          ],
                          [
                            0.6666666666666666,
                            "#ed7953"
                          ],
                          [
                            0.7777777777777778,
                            "#fb9f3a"
                          ],
                          [
                            0.8888888888888888,
                            "#fdca26"
                          ],
                          [
                            1,
                            "#f0f921"
                          ]
                        ],
                        "type": "contour"
                      }
                    ],
                    "contourcarpet": [
                      {
                        "colorbar": {
                          "outlinewidth": 0,
                          "ticks": ""
                        },
                        "type": "contourcarpet"
                      }
                    ],
                    "heatmap": [
                      {
                        "colorbar": {
                          "outlinewidth": 0,
                          "ticks": ""
                        },
                        "colorscale": [
                          [
                            0,
                            "#0d0887"
                          ],
                          [
                            0.1111111111111111,
                            "#46039f"
                          ],
                          [
                            0.2222222222222222,
                            "#7201a8"
                          ],
                          [
                            0.3333333333333333,
                            "#9c179e"
                          ],
                          [
                            0.4444444444444444,
                            "#bd3786"
                          ],
                          [
                            0.5555555555555556,
                            "#d8576b"
                          ],
                          [
                            0.6666666666666666,
                            "#ed7953"
                          ],
                          [
                            0.7777777777777778,
                            "#fb9f3a"
                          ],
                          [
                            0.8888888888888888,
                            "#fdca26"
                          ],
                          [
                            1,
                            "#f0f921"
                          ]
                        ],
                        "type": "heatmap"
                      }
                    ],
                    "heatmapgl": [
                      {
                        "colorbar": {
                          "outlinewidth": 0,
                          "ticks": ""
                        },
                        "colorscale": [
                          [
                            0,
                            "#0d0887"
                          ],
                          [
                            0.1111111111111111,
                            "#46039f"
                          ],
                          [
                            0.2222222222222222,
                            "#7201a8"
                          ],
                          [
                            0.3333333333333333,
                            "#9c179e"
                          ],
                          [
                            0.4444444444444444,
                            "#bd3786"
                          ],
                          [
                            0.5555555555555556,
                            "#d8576b"
                          ],
                          [
                            0.6666666666666666,
                            "#ed7953"
                          ],
                          [
                            0.7777777777777778,
                            "#fb9f3a"
                          ],
                          [
                            0.8888888888888888,
                            "#fdca26"
                          ],
                          [
                            1,
                            "#f0f921"
                          ]
                        ],
                        "type": "heatmapgl"
                      }
                    ],
                    "histogram": [
                      {
                        "marker": {
                          "pattern": {
                            "fillmode": "overlay",
                            "size": 10,
                            "solidity": 0.2
                          }
                        },
                        "type": "histogram"
                      }
                    ],
                    "histogram2d": [
                      {
                        "colorbar": {
                          "outlinewidth": 0,
                          "ticks": ""
                        },
                        "colorscale": [
                          [
                            0,
                            "#0d0887"
                          ],
                          [
                            0.1111111111111111,
                            "#46039f"
                          ],
                          [
                            0.2222222222222222,
                            "#7201a8"
                          ],
                          [
                            0.3333333333333333,
                            "#9c179e"
                          ],
                          [
                            0.4444444444444444,
                            "#bd3786"
                          ],
                          [
                            0.5555555555555556,
                            "#d8576b"
                          ],
                          [
                            0.6666666666666666,
                            "#ed7953"
                          ],
                          [
                            0.7777777777777778,
                            "#fb9f3a"
                          ],
                          [
                            0.8888888888888888,
                            "#fdca26"
                          ],
                          [
                            1,
                            "#f0f921"
                          ]
                        ],
                        "type": "histogram2d"
                      }
                    ],
                    "histogram2dcontour": [
                      {
                        "colorbar": {
                          "outlinewidth": 0,
                          "ticks": ""
                        },
                        "colorscale": [
                          [
                            0,
                            "#0d0887"
                          ],
                          [
                            0.1111111111111111,
                            "#46039f"
                          ],
                          [
                            0.2222222222222222,
                            "#7201a8"
                          ],
                          [
                            0.3333333333333333,
                            "#9c179e"
                          ],
                          [
                            0.4444444444444444,
                            "#bd3786"
                          ],
                          [
                            0.5555555555555556,
                            "#d8576b"
                          ],
                          [
                            0.6666666666666666,
                            "#ed7953"
                          ],
                          [
                            0.7777777777777778,
                            "#fb9f3a"
                          ],
                          [
                            0.8888888888888888,
                            "#fdca26"
                          ],
                          [
                            1,
                            "#f0f921"
                          ]
                        ],
                        "type": "histogram2dcontour"
                      }
                    ],
                    "mesh3d": [
                      {
                        "colorbar": {
                          "outlinewidth": 0,
                          "ticks": ""
                        },
                        "type": "mesh3d"
                      }
                    ],
                    "parcoords": [
                      {
                        "line": {
                          "colorbar": {
                            "outlinewidth": 0,
                            "ticks": ""
                          }
                        },
                        "type": "parcoords"
                      }
                    ],
                    "pie": [
                      {
                        "automargin": true,
                        "type": "pie"
                      }
                    ],
                    "scatter": [
                      {
                        "fillpattern": {
                          "fillmode": "overlay",
                          "size": 10,
                          "solidity": 0.2
                        },
                        "type": "scatter"
                      }
                    ],
                    "scatter3d": [
                      {
                        "line": {
                          "colorbar": {
                            "outlinewidth": 0,
                            "ticks": ""
                          }
                        },
                        "marker": {
                          "colorbar": {
                            "outlinewidth": 0,
                            "ticks": ""
                          }
                        },
                        "type": "scatter3d"
                      }
                    ],
                    "scattercarpet": [
                      {
                        "marker": {
                          "colorbar": {
                            "outlinewidth": 0,
                            "ticks": ""
                          }
                        },
                        "type": "scattercarpet"
                      }
                    ],
                    "scattergeo": [
                      {
                        "marker": {
                          "colorbar": {
                            "outlinewidth": 0,
                            "ticks": ""
                          }
                        },
                        "type": "scattergeo"
                      }
                    ],
                    "scattergl": [
                      {
                        "marker": {
                          "colorbar": {
                            "outlinewidth": 0,
                            "ticks": ""
                          }
                        },
                        "type": "scattergl"
                      }
                    ],
                    "scattermapbox": [
                      {
                        "marker": {
                          "colorbar": {
                            "outlinewidth": 0,
                            "ticks": ""
                          }
                        },
                        "type": "scattermapbox"
                      }
                    ],
                    "scatterpolar": [
                      {
                        "marker": {
                          "colorbar": {
                            "outlinewidth": 0,
                            "ticks": ""
                          }
                        },
                        "type": "scatterpolar"
                      }
                    ],
                    "scatterpolargl": [
                      {
                        "marker": {
                          "colorbar": {
                            "outlinewidth": 0,
                            "ticks": ""
                          }
                        },
                        "type": "scatterpolargl"
                      }
                    ],
                    "scatterternary": [
                      {
                        "marker": {
                          "colorbar": {
                            "outlinewidth": 0,
                            "ticks": ""
                          }
                        },
                        "type": "scatterternary"
                      }
                    ],
                    "surface": [
                      {
                        "colorbar": {
                          "outlinewidth": 0,
                          "ticks": ""
                        },
                        "colorscale": [
                          [
                            0,
                            "#0d0887"
                          ],
                          [
                            0.1111111111111111,
                            "#46039f"
                          ],
                          [
                            0.2222222222222222,
                            "#7201a8"
                          ],
                          [
                            0.3333333333333333,
                            "#9c179e"
                          ],
                          [
                            0.4444444444444444,
                            "#bd3786"
                          ],
                          [
                            0.5555555555555556,
                            "#d8576b"
                          ],
                          [
                            0.6666666666666666,
                            "#ed7953"
                          ],
                          [
                            0.7777777777777778,
                            "#fb9f3a"
                          ],
                          [
                            0.8888888888888888,
                            "#fdca26"
                          ],
                          [
                            1,
                            "#f0f921"
                          ]
                        ],
                        "type": "surface"
                      }
                    ],
                    "table": [
                      {
                        "cells": {
                          "fill": {
                            "color": "#EBF0F8"
                          },
                          "line": {
                            "color": "white"
                          }
                        },
                        "header": {
                          "fill": {
                            "color": "#C8D4E3"
                          },
                          "line": {
                            "color": "white"
                          }
                        },
                        "type": "table"
                      }
                    ]
                  },
                  "layout": {
                    "annotationdefaults": {
                      "arrowcolor": "#2a3f5f",
                      "arrowhead": 0,
                      "arrowwidth": 1
                    },
                    "autotypenumbers": "strict",
                    "coloraxis": {
                      "colorbar": {
                        "outlinewidth": 0,
                        "ticks": ""
                      }
                    },
                    "colorscale": {
                      "diverging": [
                        [
                          0,
                          "#8e0152"
                        ],
                        [
                          0.1,
                          "#c51b7d"
                        ],
                        [
                          0.2,
                          "#de77ae"
                        ],
                        [
                          0.3,
                          "#f1b6da"
                        ],
                        [
                          0.4,
                          "#fde0ef"
                        ],
                        [
                          0.5,
                          "#f7f7f7"
                        ],
                        [
                          0.6,
                          "#e6f5d0"
                        ],
                        [
                          0.7,
                          "#b8e186"
                        ],
                        [
                          0.8,
                          "#7fbc41"
                        ],
                        [
                          0.9,
                          "#4d9221"
                        ],
                        [
                          1,
                          "#276419"
                        ]
                      ],
                      "sequential": [
                        [
                          0,
                          "#0d0887"
                        ],
                        [
                          0.1111111111111111,
                          "#46039f"
                        ],
                        [
                          0.2222222222222222,
                          "#7201a8"
                        ],
                        [
                          0.3333333333333333,
                          "#9c179e"
                        ],
                        [
                          0.4444444444444444,
                          "#bd3786"
                        ],
                        [
                          0.5555555555555556,
                          "#d8576b"
                        ],
                        [
                          0.6666666666666666,
                          "#ed7953"
                        ],
                        [
                          0.7777777777777778,
                          "#fb9f3a"
                        ],
                        [
                          0.8888888888888888,
                          "#fdca26"
                        ],
                        [
                          1,
                          "#f0f921"
                        ]
                      ],
                      "sequentialminus": [
                        [
                          0,
                          "#0d0887"
                        ],
                        [
                          0.1111111111111111,
                          "#46039f"
                        ],
                        [
                          0.2222222222222222,
                          "#7201a8"
                        ],
                        [
                          0.3333333333333333,
                          "#9c179e"
                        ],
                        [
                          0.4444444444444444,
                          "#bd3786"
                        ],
                        [
                          0.5555555555555556,
                          "#d8576b"
                        ],
                        [
                          0.6666666666666666,
                          "#ed7953"
                        ],
                        [
                          0.7777777777777778,
                          "#fb9f3a"
                        ],
                        [
                          0.8888888888888888,
                          "#fdca26"
                        ],
                        [
                          1,
                          "#f0f921"
                        ]
                      ]
                    },
                    "colorway": [
                      "#636efa",
                      "#EF553B",
                      "#00cc96",
                      "#ab63fa",
                      "#FFA15A",
                      "#19d3f3",
                      "#FF6692",
                      "#B6E880",
                      "#FF97FF",
                      "#FECB52"
                    ],
                    "font": {
                      "color": "#2a3f5f"
                    },
                    "geo": {
                      "bgcolor": "white",
                      "lakecolor": "white",
                      "landcolor": "#E5ECF6",
                      "showlakes": true,
                      "showland": true,
                      "subunitcolor": "white"
                    },
                    "hoverlabel": {
                      "align": "left"
                    },
                    "hovermode": "closest",
                    "mapbox": {
                      "style": "light"
                    },
                    "paper_bgcolor": "white",
                    "plot_bgcolor": "#E5ECF6",
                    "polar": {
                      "angularaxis": {
                        "gridcolor": "white",
                        "linecolor": "white",
                        "ticks": ""
                      },
                      "bgcolor": "#E5ECF6",
                      "radialaxis": {
                        "gridcolor": "white",
                        "linecolor": "white",
                        "ticks": ""
                      }
                    },
                    "scene": {
                      "xaxis": {
                        "backgroundcolor": "#E5ECF6",
                        "gridcolor": "white",
                        "gridwidth": 2,
                        "linecolor": "white",
                        "showbackground": true,
                        "ticks": "",
                        "zerolinecolor": "white"
                      },
                      "yaxis": {
                        "backgroundcolor": "#E5ECF6",
                        "gridcolor": "white",
                        "gridwidth": 2,
                        "linecolor": "white",
                        "showbackground": true,
                        "ticks": "",
                        "zerolinecolor": "white"
                      },
                      "zaxis": {
                        "backgroundcolor": "#E5ECF6",
                        "gridcolor": "white",
                        "gridwidth": 2,
                        "linecolor": "white",
                        "showbackground": true,
                        "ticks": "",
                        "zerolinecolor": "white"
                      }
                    },
                    "shapedefaults": {
                      "line": {
                        "color": "#2a3f5f"
                      }
                    },
                    "ternary": {
                      "aaxis": {
                        "gridcolor": "white",
                        "linecolor": "white",
                        "ticks": ""
                      },
                      "baxis": {
                        "gridcolor": "white",
                        "linecolor": "white",
                        "ticks": ""
                      },
                      "bgcolor": "#E5ECF6",
                      "caxis": {
                        "gridcolor": "white",
                        "linecolor": "white",
                        "ticks": ""
                      }
                    },
                    "title": {
                      "x": 0.05
                    },
                    "xaxis": {
                      "automargin": true,
                      "gridcolor": "white",
                      "linecolor": "white",
                      "ticks": "",
                      "title": {
                        "standoff": 15
                      },
                      "zerolinecolor": "white",
                      "zerolinewidth": 2
                    },
                    "yaxis": {
                      "automargin": true,
                      "gridcolor": "white",
                      "linecolor": "white",
                      "ticks": "",
                      "title": {
                        "standoff": 15
                      },
                      "zerolinecolor": "white",
                      "zerolinewidth": 2
                    }
                  }
                },
                "title": {
                  "text": "Total Sales by Country"
                }
              }
            }
          },
          "metadata": {},
          "output_type": "display_data"
        }
      ],
      "source": [
        "# Aggregate total sales by country\n",
        "country_sales = df.groupby(\"Country\", as_index=False)[\"Amount\"].sum()\n",
        "\n",
        "# Create Choropleth Map\n",
        "fig_map = px.choropleth(country_sales,\n",
        "                        locations=\"Country\",\n",
        "                        locationmode=\"country names\",\n",
        "                        color=\"Amount\",\n",
        "                        title=\"Total Sales by Country\",\n",
        "                        labels={\"Amount\": \"Total Sales ($)\"},\n",
        "                        color_continuous_scale=\"viridis\")\n",
        "\n",
        "fig_map.show()"
      ]
    },
    {
      "cell_type": "markdown",
      "metadata": {},
      "source": [
        "- The World map does show some changes across countries, however there is only roughly a 15% difference between the country with the most sales and the country with the least."
      ]
    },
    {
      "cell_type": "code",
      "execution_count": 13,
      "metadata": {},
      "outputs": [
        {
          "data": {
            "application/vnd.plotly.v1+json": {
              "config": {
                "plotlyServerURL": "https://plot.ly"
              },
              "data": [
                {
                  "branchvalues": "total",
                  "domain": {
                    "x": [
                      0,
                      1
                    ],
                    "y": [
                      0,
                      1
                    ]
                  },
                  "hovertemplate": "labels=%{label}<br>Total Sales ($)=%{value}<br>parent=%{parent}<br>id=%{id}<extra></extra>",
                  "ids": [
                    "Australia/Dark Chocolate",
                    "Canada/Dark Chocolate",
                    "India/Dark Chocolate",
                    "New Zealand/Dark Chocolate",
                    "UK/Dark Chocolate",
                    "USA/Dark Chocolate",
                    "Australia/Flavored Chocolate",
                    "Canada/Flavored Chocolate",
                    "India/Flavored Chocolate",
                    "New Zealand/Flavored Chocolate",
                    "UK/Flavored Chocolate",
                    "USA/Flavored Chocolate",
                    "Australia/Milk & White Chocolate",
                    "Canada/Milk & White Chocolate",
                    "India/Milk & White Chocolate",
                    "New Zealand/Milk & White Chocolate",
                    "UK/Milk & White Chocolate",
                    "USA/Milk & White Chocolate",
                    "Australia/Nut-based Chocolate",
                    "Canada/Nut-based Chocolate",
                    "India/Nut-based Chocolate",
                    "New Zealand/Nut-based Chocolate",
                    "UK/Nut-based Chocolate",
                    "USA/Nut-based Chocolate",
                    "Australia/Specialty Chocolate",
                    "Canada/Specialty Chocolate",
                    "India/Specialty Chocolate",
                    "New Zealand/Specialty Chocolate",
                    "UK/Specialty Chocolate",
                    "USA/Specialty Chocolate",
                    "Australia",
                    "Canada",
                    "India",
                    "New Zealand",
                    "UK",
                    "USA"
                  ],
                  "labels": [
                    "Dark Chocolate",
                    "Dark Chocolate",
                    "Dark Chocolate",
                    "Dark Chocolate",
                    "Dark Chocolate",
                    "Dark Chocolate",
                    "Flavored Chocolate",
                    "Flavored Chocolate",
                    "Flavored Chocolate",
                    "Flavored Chocolate",
                    "Flavored Chocolate",
                    "Flavored Chocolate",
                    "Milk & White Chocolate",
                    "Milk & White Chocolate",
                    "Milk & White Chocolate",
                    "Milk & White Chocolate",
                    "Milk & White Chocolate",
                    "Milk & White Chocolate",
                    "Nut-based Chocolate",
                    "Nut-based Chocolate",
                    "Nut-based Chocolate",
                    "Nut-based Chocolate",
                    "Nut-based Chocolate",
                    "Nut-based Chocolate",
                    "Specialty Chocolate",
                    "Specialty Chocolate",
                    "Specialty Chocolate",
                    "Specialty Chocolate",
                    "Specialty Chocolate",
                    "Specialty Chocolate",
                    "Australia",
                    "Canada",
                    "India",
                    "New Zealand",
                    "UK",
                    "USA"
                  ],
                  "name": "",
                  "parents": [
                    "Australia",
                    "Canada",
                    "India",
                    "New Zealand",
                    "UK",
                    "USA",
                    "Australia",
                    "Canada",
                    "India",
                    "New Zealand",
                    "UK",
                    "USA",
                    "Australia",
                    "Canada",
                    "India",
                    "New Zealand",
                    "UK",
                    "USA",
                    "Australia",
                    "Canada",
                    "India",
                    "New Zealand",
                    "UK",
                    "USA",
                    "Australia",
                    "Canada",
                    "India",
                    "New Zealand",
                    "UK",
                    "USA",
                    "",
                    "",
                    "",
                    "",
                    "",
                    ""
                  ],
                  "type": "treemap",
                  "values": [
                    221963,
                    186263,
                    197813,
                    171843,
                    191352,
                    183113,
                    363258,
                    271516,
                    279923,
                    317212,
                    284872,
                    347802,
                    118559,
                    87822,
                    57092,
                    94731,
                    124719,
                    115472,
                    125279,
                    161672,
                    155687,
                    81473,
                    195734,
                    124019,
                    308308,
                    255626,
                    355285,
                    285159,
                    255115,
                    264943,
                    1137367,
                    962899,
                    1045800,
                    950418,
                    1051792,
                    1035349
                  ]
                }
              ],
              "layout": {
                "legend": {
                  "tracegroupgap": 0
                },
                "template": {
                  "data": {
                    "bar": [
                      {
                        "error_x": {
                          "color": "#2a3f5f"
                        },
                        "error_y": {
                          "color": "#2a3f5f"
                        },
                        "marker": {
                          "line": {
                            "color": "#E5ECF6",
                            "width": 0.5
                          },
                          "pattern": {
                            "fillmode": "overlay",
                            "size": 10,
                            "solidity": 0.2
                          }
                        },
                        "type": "bar"
                      }
                    ],
                    "barpolar": [
                      {
                        "marker": {
                          "line": {
                            "color": "#E5ECF6",
                            "width": 0.5
                          },
                          "pattern": {
                            "fillmode": "overlay",
                            "size": 10,
                            "solidity": 0.2
                          }
                        },
                        "type": "barpolar"
                      }
                    ],
                    "carpet": [
                      {
                        "aaxis": {
                          "endlinecolor": "#2a3f5f",
                          "gridcolor": "white",
                          "linecolor": "white",
                          "minorgridcolor": "white",
                          "startlinecolor": "#2a3f5f"
                        },
                        "baxis": {
                          "endlinecolor": "#2a3f5f",
                          "gridcolor": "white",
                          "linecolor": "white",
                          "minorgridcolor": "white",
                          "startlinecolor": "#2a3f5f"
                        },
                        "type": "carpet"
                      }
                    ],
                    "choropleth": [
                      {
                        "colorbar": {
                          "outlinewidth": 0,
                          "ticks": ""
                        },
                        "type": "choropleth"
                      }
                    ],
                    "contour": [
                      {
                        "colorbar": {
                          "outlinewidth": 0,
                          "ticks": ""
                        },
                        "colorscale": [
                          [
                            0,
                            "#0d0887"
                          ],
                          [
                            0.1111111111111111,
                            "#46039f"
                          ],
                          [
                            0.2222222222222222,
                            "#7201a8"
                          ],
                          [
                            0.3333333333333333,
                            "#9c179e"
                          ],
                          [
                            0.4444444444444444,
                            "#bd3786"
                          ],
                          [
                            0.5555555555555556,
                            "#d8576b"
                          ],
                          [
                            0.6666666666666666,
                            "#ed7953"
                          ],
                          [
                            0.7777777777777778,
                            "#fb9f3a"
                          ],
                          [
                            0.8888888888888888,
                            "#fdca26"
                          ],
                          [
                            1,
                            "#f0f921"
                          ]
                        ],
                        "type": "contour"
                      }
                    ],
                    "contourcarpet": [
                      {
                        "colorbar": {
                          "outlinewidth": 0,
                          "ticks": ""
                        },
                        "type": "contourcarpet"
                      }
                    ],
                    "heatmap": [
                      {
                        "colorbar": {
                          "outlinewidth": 0,
                          "ticks": ""
                        },
                        "colorscale": [
                          [
                            0,
                            "#0d0887"
                          ],
                          [
                            0.1111111111111111,
                            "#46039f"
                          ],
                          [
                            0.2222222222222222,
                            "#7201a8"
                          ],
                          [
                            0.3333333333333333,
                            "#9c179e"
                          ],
                          [
                            0.4444444444444444,
                            "#bd3786"
                          ],
                          [
                            0.5555555555555556,
                            "#d8576b"
                          ],
                          [
                            0.6666666666666666,
                            "#ed7953"
                          ],
                          [
                            0.7777777777777778,
                            "#fb9f3a"
                          ],
                          [
                            0.8888888888888888,
                            "#fdca26"
                          ],
                          [
                            1,
                            "#f0f921"
                          ]
                        ],
                        "type": "heatmap"
                      }
                    ],
                    "heatmapgl": [
                      {
                        "colorbar": {
                          "outlinewidth": 0,
                          "ticks": ""
                        },
                        "colorscale": [
                          [
                            0,
                            "#0d0887"
                          ],
                          [
                            0.1111111111111111,
                            "#46039f"
                          ],
                          [
                            0.2222222222222222,
                            "#7201a8"
                          ],
                          [
                            0.3333333333333333,
                            "#9c179e"
                          ],
                          [
                            0.4444444444444444,
                            "#bd3786"
                          ],
                          [
                            0.5555555555555556,
                            "#d8576b"
                          ],
                          [
                            0.6666666666666666,
                            "#ed7953"
                          ],
                          [
                            0.7777777777777778,
                            "#fb9f3a"
                          ],
                          [
                            0.8888888888888888,
                            "#fdca26"
                          ],
                          [
                            1,
                            "#f0f921"
                          ]
                        ],
                        "type": "heatmapgl"
                      }
                    ],
                    "histogram": [
                      {
                        "marker": {
                          "pattern": {
                            "fillmode": "overlay",
                            "size": 10,
                            "solidity": 0.2
                          }
                        },
                        "type": "histogram"
                      }
                    ],
                    "histogram2d": [
                      {
                        "colorbar": {
                          "outlinewidth": 0,
                          "ticks": ""
                        },
                        "colorscale": [
                          [
                            0,
                            "#0d0887"
                          ],
                          [
                            0.1111111111111111,
                            "#46039f"
                          ],
                          [
                            0.2222222222222222,
                            "#7201a8"
                          ],
                          [
                            0.3333333333333333,
                            "#9c179e"
                          ],
                          [
                            0.4444444444444444,
                            "#bd3786"
                          ],
                          [
                            0.5555555555555556,
                            "#d8576b"
                          ],
                          [
                            0.6666666666666666,
                            "#ed7953"
                          ],
                          [
                            0.7777777777777778,
                            "#fb9f3a"
                          ],
                          [
                            0.8888888888888888,
                            "#fdca26"
                          ],
                          [
                            1,
                            "#f0f921"
                          ]
                        ],
                        "type": "histogram2d"
                      }
                    ],
                    "histogram2dcontour": [
                      {
                        "colorbar": {
                          "outlinewidth": 0,
                          "ticks": ""
                        },
                        "colorscale": [
                          [
                            0,
                            "#0d0887"
                          ],
                          [
                            0.1111111111111111,
                            "#46039f"
                          ],
                          [
                            0.2222222222222222,
                            "#7201a8"
                          ],
                          [
                            0.3333333333333333,
                            "#9c179e"
                          ],
                          [
                            0.4444444444444444,
                            "#bd3786"
                          ],
                          [
                            0.5555555555555556,
                            "#d8576b"
                          ],
                          [
                            0.6666666666666666,
                            "#ed7953"
                          ],
                          [
                            0.7777777777777778,
                            "#fb9f3a"
                          ],
                          [
                            0.8888888888888888,
                            "#fdca26"
                          ],
                          [
                            1,
                            "#f0f921"
                          ]
                        ],
                        "type": "histogram2dcontour"
                      }
                    ],
                    "mesh3d": [
                      {
                        "colorbar": {
                          "outlinewidth": 0,
                          "ticks": ""
                        },
                        "type": "mesh3d"
                      }
                    ],
                    "parcoords": [
                      {
                        "line": {
                          "colorbar": {
                            "outlinewidth": 0,
                            "ticks": ""
                          }
                        },
                        "type": "parcoords"
                      }
                    ],
                    "pie": [
                      {
                        "automargin": true,
                        "type": "pie"
                      }
                    ],
                    "scatter": [
                      {
                        "fillpattern": {
                          "fillmode": "overlay",
                          "size": 10,
                          "solidity": 0.2
                        },
                        "type": "scatter"
                      }
                    ],
                    "scatter3d": [
                      {
                        "line": {
                          "colorbar": {
                            "outlinewidth": 0,
                            "ticks": ""
                          }
                        },
                        "marker": {
                          "colorbar": {
                            "outlinewidth": 0,
                            "ticks": ""
                          }
                        },
                        "type": "scatter3d"
                      }
                    ],
                    "scattercarpet": [
                      {
                        "marker": {
                          "colorbar": {
                            "outlinewidth": 0,
                            "ticks": ""
                          }
                        },
                        "type": "scattercarpet"
                      }
                    ],
                    "scattergeo": [
                      {
                        "marker": {
                          "colorbar": {
                            "outlinewidth": 0,
                            "ticks": ""
                          }
                        },
                        "type": "scattergeo"
                      }
                    ],
                    "scattergl": [
                      {
                        "marker": {
                          "colorbar": {
                            "outlinewidth": 0,
                            "ticks": ""
                          }
                        },
                        "type": "scattergl"
                      }
                    ],
                    "scattermapbox": [
                      {
                        "marker": {
                          "colorbar": {
                            "outlinewidth": 0,
                            "ticks": ""
                          }
                        },
                        "type": "scattermapbox"
                      }
                    ],
                    "scatterpolar": [
                      {
                        "marker": {
                          "colorbar": {
                            "outlinewidth": 0,
                            "ticks": ""
                          }
                        },
                        "type": "scatterpolar"
                      }
                    ],
                    "scatterpolargl": [
                      {
                        "marker": {
                          "colorbar": {
                            "outlinewidth": 0,
                            "ticks": ""
                          }
                        },
                        "type": "scatterpolargl"
                      }
                    ],
                    "scatterternary": [
                      {
                        "marker": {
                          "colorbar": {
                            "outlinewidth": 0,
                            "ticks": ""
                          }
                        },
                        "type": "scatterternary"
                      }
                    ],
                    "surface": [
                      {
                        "colorbar": {
                          "outlinewidth": 0,
                          "ticks": ""
                        },
                        "colorscale": [
                          [
                            0,
                            "#0d0887"
                          ],
                          [
                            0.1111111111111111,
                            "#46039f"
                          ],
                          [
                            0.2222222222222222,
                            "#7201a8"
                          ],
                          [
                            0.3333333333333333,
                            "#9c179e"
                          ],
                          [
                            0.4444444444444444,
                            "#bd3786"
                          ],
                          [
                            0.5555555555555556,
                            "#d8576b"
                          ],
                          [
                            0.6666666666666666,
                            "#ed7953"
                          ],
                          [
                            0.7777777777777778,
                            "#fb9f3a"
                          ],
                          [
                            0.8888888888888888,
                            "#fdca26"
                          ],
                          [
                            1,
                            "#f0f921"
                          ]
                        ],
                        "type": "surface"
                      }
                    ],
                    "table": [
                      {
                        "cells": {
                          "fill": {
                            "color": "#EBF0F8"
                          },
                          "line": {
                            "color": "white"
                          }
                        },
                        "header": {
                          "fill": {
                            "color": "#C8D4E3"
                          },
                          "line": {
                            "color": "white"
                          }
                        },
                        "type": "table"
                      }
                    ]
                  },
                  "layout": {
                    "annotationdefaults": {
                      "arrowcolor": "#2a3f5f",
                      "arrowhead": 0,
                      "arrowwidth": 1
                    },
                    "autotypenumbers": "strict",
                    "coloraxis": {
                      "colorbar": {
                        "outlinewidth": 0,
                        "ticks": ""
                      }
                    },
                    "colorscale": {
                      "diverging": [
                        [
                          0,
                          "#8e0152"
                        ],
                        [
                          0.1,
                          "#c51b7d"
                        ],
                        [
                          0.2,
                          "#de77ae"
                        ],
                        [
                          0.3,
                          "#f1b6da"
                        ],
                        [
                          0.4,
                          "#fde0ef"
                        ],
                        [
                          0.5,
                          "#f7f7f7"
                        ],
                        [
                          0.6,
                          "#e6f5d0"
                        ],
                        [
                          0.7,
                          "#b8e186"
                        ],
                        [
                          0.8,
                          "#7fbc41"
                        ],
                        [
                          0.9,
                          "#4d9221"
                        ],
                        [
                          1,
                          "#276419"
                        ]
                      ],
                      "sequential": [
                        [
                          0,
                          "#0d0887"
                        ],
                        [
                          0.1111111111111111,
                          "#46039f"
                        ],
                        [
                          0.2222222222222222,
                          "#7201a8"
                        ],
                        [
                          0.3333333333333333,
                          "#9c179e"
                        ],
                        [
                          0.4444444444444444,
                          "#bd3786"
                        ],
                        [
                          0.5555555555555556,
                          "#d8576b"
                        ],
                        [
                          0.6666666666666666,
                          "#ed7953"
                        ],
                        [
                          0.7777777777777778,
                          "#fb9f3a"
                        ],
                        [
                          0.8888888888888888,
                          "#fdca26"
                        ],
                        [
                          1,
                          "#f0f921"
                        ]
                      ],
                      "sequentialminus": [
                        [
                          0,
                          "#0d0887"
                        ],
                        [
                          0.1111111111111111,
                          "#46039f"
                        ],
                        [
                          0.2222222222222222,
                          "#7201a8"
                        ],
                        [
                          0.3333333333333333,
                          "#9c179e"
                        ],
                        [
                          0.4444444444444444,
                          "#bd3786"
                        ],
                        [
                          0.5555555555555556,
                          "#d8576b"
                        ],
                        [
                          0.6666666666666666,
                          "#ed7953"
                        ],
                        [
                          0.7777777777777778,
                          "#fb9f3a"
                        ],
                        [
                          0.8888888888888888,
                          "#fdca26"
                        ],
                        [
                          1,
                          "#f0f921"
                        ]
                      ]
                    },
                    "colorway": [
                      "#636efa",
                      "#EF553B",
                      "#00cc96",
                      "#ab63fa",
                      "#FFA15A",
                      "#19d3f3",
                      "#FF6692",
                      "#B6E880",
                      "#FF97FF",
                      "#FECB52"
                    ],
                    "font": {
                      "color": "#2a3f5f"
                    },
                    "geo": {
                      "bgcolor": "white",
                      "lakecolor": "white",
                      "landcolor": "#E5ECF6",
                      "showlakes": true,
                      "showland": true,
                      "subunitcolor": "white"
                    },
                    "hoverlabel": {
                      "align": "left"
                    },
                    "hovermode": "closest",
                    "mapbox": {
                      "style": "light"
                    },
                    "paper_bgcolor": "white",
                    "plot_bgcolor": "#E5ECF6",
                    "polar": {
                      "angularaxis": {
                        "gridcolor": "white",
                        "linecolor": "white",
                        "ticks": ""
                      },
                      "bgcolor": "#E5ECF6",
                      "radialaxis": {
                        "gridcolor": "white",
                        "linecolor": "white",
                        "ticks": ""
                      }
                    },
                    "scene": {
                      "xaxis": {
                        "backgroundcolor": "#E5ECF6",
                        "gridcolor": "white",
                        "gridwidth": 2,
                        "linecolor": "white",
                        "showbackground": true,
                        "ticks": "",
                        "zerolinecolor": "white"
                      },
                      "yaxis": {
                        "backgroundcolor": "#E5ECF6",
                        "gridcolor": "white",
                        "gridwidth": 2,
                        "linecolor": "white",
                        "showbackground": true,
                        "ticks": "",
                        "zerolinecolor": "white"
                      },
                      "zaxis": {
                        "backgroundcolor": "#E5ECF6",
                        "gridcolor": "white",
                        "gridwidth": 2,
                        "linecolor": "white",
                        "showbackground": true,
                        "ticks": "",
                        "zerolinecolor": "white"
                      }
                    },
                    "shapedefaults": {
                      "line": {
                        "color": "#2a3f5f"
                      }
                    },
                    "ternary": {
                      "aaxis": {
                        "gridcolor": "white",
                        "linecolor": "white",
                        "ticks": ""
                      },
                      "baxis": {
                        "gridcolor": "white",
                        "linecolor": "white",
                        "ticks": ""
                      },
                      "bgcolor": "#E5ECF6",
                      "caxis": {
                        "gridcolor": "white",
                        "linecolor": "white",
                        "ticks": ""
                      }
                    },
                    "title": {
                      "x": 0.05
                    },
                    "xaxis": {
                      "automargin": true,
                      "gridcolor": "white",
                      "linecolor": "white",
                      "ticks": "",
                      "title": {
                        "standoff": 15
                      },
                      "zerolinecolor": "white",
                      "zerolinewidth": 2
                    },
                    "yaxis": {
                      "automargin": true,
                      "gridcolor": "white",
                      "linecolor": "white",
                      "ticks": "",
                      "title": {
                        "standoff": 15
                      },
                      "zerolinecolor": "white",
                      "zerolinewidth": 2
                    }
                  }
                },
                "title": {
                  "text": "Sales Breakdown by Country & Product Category"
                }
              }
            }
          },
          "metadata": {},
          "output_type": "display_data"
        }
      ],
      "source": [
        "# Aggregate sales by country and product category\n",
        "treemap_data = df.groupby([\"Country\", \"Product Category\"], as_index=False)[\"Amount\"].sum()\n",
        "\n",
        "# Create Treemap\n",
        "fig_treemap = px.treemap(treemap_data,\n",
        "                          path=[\"Country\", \"Product Category\"],\n",
        "                          values=\"Amount\",\n",
        "                          title=\"Sales Breakdown by Country & Product Category\",\n",
        "                          labels={\"Amount\": \"Total Sales ($)\"})\n",
        "\n",
        "fig_treemap.show()"
      ]
    },
    {
      "cell_type": "markdown",
      "metadata": {},
      "source": [
        "- This treemap also shows the total sales of each country, while showcasing which categories contribute the most to the total in each country."
      ]
    },
    {
      "cell_type": "code",
      "execution_count": 14,
      "metadata": {},
      "outputs": [
        {
          "data": {
            "application/vnd.plotly.v1+json": {
              "config": {
                "plotlyServerURL": "https://plot.ly"
              },
              "data": [
                {
                  "alignmentgroup": "True",
                  "hovertemplate": "Country=%{x}<br>Total Sales ($)=%{y}<extra></extra>",
                  "legendgroup": "Australia",
                  "marker": {
                    "color": "#714737",
                    "pattern": {
                      "shape": ""
                    }
                  },
                  "name": "Australia",
                  "offsetgroup": "Australia",
                  "orientation": "v",
                  "showlegend": true,
                  "textposition": "auto",
                  "type": "bar",
                  "x": [
                    "Australia"
                  ],
                  "xaxis": "x",
                  "y": [
                    1137367
                  ],
                  "yaxis": "y"
                },
                {
                  "alignmentgroup": "True",
                  "hovertemplate": "Country=%{x}<br>Total Sales ($)=%{y}<extra></extra>",
                  "legendgroup": "Canada",
                  "marker": {
                    "color": "#443025",
                    "pattern": {
                      "shape": ""
                    }
                  },
                  "name": "Canada",
                  "offsetgroup": "Canada",
                  "orientation": "v",
                  "showlegend": true,
                  "textposition": "auto",
                  "type": "bar",
                  "x": [
                    "Canada"
                  ],
                  "xaxis": "x",
                  "y": [
                    962899
                  ],
                  "yaxis": "y"
                },
                {
                  "alignmentgroup": "True",
                  "hovertemplate": "Country=%{x}<br>Total Sales ($)=%{y}<extra></extra>",
                  "legendgroup": "India",
                  "marker": {
                    "color": "#D6B58C",
                    "pattern": {
                      "shape": ""
                    }
                  },
                  "name": "India",
                  "offsetgroup": "India",
                  "orientation": "v",
                  "showlegend": true,
                  "textposition": "auto",
                  "type": "bar",
                  "x": [
                    "India"
                  ],
                  "xaxis": "x",
                  "y": [
                    1045800
                  ],
                  "yaxis": "y"
                },
                {
                  "alignmentgroup": "True",
                  "hovertemplate": "Country=%{x}<br>Total Sales ($)=%{y}<extra></extra>",
                  "legendgroup": "New Zealand",
                  "marker": {
                    "color": "#3A211A",
                    "pattern": {
                      "shape": ""
                    }
                  },
                  "name": "New Zealand",
                  "offsetgroup": "New Zealand",
                  "orientation": "v",
                  "showlegend": true,
                  "textposition": "auto",
                  "type": "bar",
                  "x": [
                    "New Zealand"
                  ],
                  "xaxis": "x",
                  "y": [
                    950418
                  ],
                  "yaxis": "y"
                },
                {
                  "alignmentgroup": "True",
                  "hovertemplate": "Country=%{x}<br>Total Sales ($)=%{y}<extra></extra>",
                  "legendgroup": "UK",
                  "marker": {
                    "color": "#E5B07C",
                    "pattern": {
                      "shape": ""
                    }
                  },
                  "name": "UK",
                  "offsetgroup": "UK",
                  "orientation": "v",
                  "showlegend": true,
                  "textposition": "auto",
                  "type": "bar",
                  "x": [
                    "UK"
                  ],
                  "xaxis": "x",
                  "y": [
                    1051792
                  ],
                  "yaxis": "y"
                },
                {
                  "alignmentgroup": "True",
                  "hovertemplate": "Country=%{x}<br>Total Sales ($)=%{y}<extra></extra>",
                  "legendgroup": "USA",
                  "marker": {
                    "color": "#443025",
                    "pattern": {
                      "shape": ""
                    }
                  },
                  "name": "USA",
                  "offsetgroup": "USA",
                  "orientation": "v",
                  "showlegend": true,
                  "textposition": "auto",
                  "type": "bar",
                  "x": [
                    "USA"
                  ],
                  "xaxis": "x",
                  "y": [
                    1035349
                  ],
                  "yaxis": "y"
                }
              ],
              "layout": {
                "barmode": "relative",
                "legend": {
                  "title": {
                    "text": "Country"
                  },
                  "tracegroupgap": 0
                },
                "template": {
                  "data": {
                    "bar": [
                      {
                        "error_x": {
                          "color": "#2a3f5f"
                        },
                        "error_y": {
                          "color": "#2a3f5f"
                        },
                        "marker": {
                          "line": {
                            "color": "#E5ECF6",
                            "width": 0.5
                          },
                          "pattern": {
                            "fillmode": "overlay",
                            "size": 10,
                            "solidity": 0.2
                          }
                        },
                        "type": "bar"
                      }
                    ],
                    "barpolar": [
                      {
                        "marker": {
                          "line": {
                            "color": "#E5ECF6",
                            "width": 0.5
                          },
                          "pattern": {
                            "fillmode": "overlay",
                            "size": 10,
                            "solidity": 0.2
                          }
                        },
                        "type": "barpolar"
                      }
                    ],
                    "carpet": [
                      {
                        "aaxis": {
                          "endlinecolor": "#2a3f5f",
                          "gridcolor": "white",
                          "linecolor": "white",
                          "minorgridcolor": "white",
                          "startlinecolor": "#2a3f5f"
                        },
                        "baxis": {
                          "endlinecolor": "#2a3f5f",
                          "gridcolor": "white",
                          "linecolor": "white",
                          "minorgridcolor": "white",
                          "startlinecolor": "#2a3f5f"
                        },
                        "type": "carpet"
                      }
                    ],
                    "choropleth": [
                      {
                        "colorbar": {
                          "outlinewidth": 0,
                          "ticks": ""
                        },
                        "type": "choropleth"
                      }
                    ],
                    "contour": [
                      {
                        "colorbar": {
                          "outlinewidth": 0,
                          "ticks": ""
                        },
                        "colorscale": [
                          [
                            0,
                            "#0d0887"
                          ],
                          [
                            0.1111111111111111,
                            "#46039f"
                          ],
                          [
                            0.2222222222222222,
                            "#7201a8"
                          ],
                          [
                            0.3333333333333333,
                            "#9c179e"
                          ],
                          [
                            0.4444444444444444,
                            "#bd3786"
                          ],
                          [
                            0.5555555555555556,
                            "#d8576b"
                          ],
                          [
                            0.6666666666666666,
                            "#ed7953"
                          ],
                          [
                            0.7777777777777778,
                            "#fb9f3a"
                          ],
                          [
                            0.8888888888888888,
                            "#fdca26"
                          ],
                          [
                            1,
                            "#f0f921"
                          ]
                        ],
                        "type": "contour"
                      }
                    ],
                    "contourcarpet": [
                      {
                        "colorbar": {
                          "outlinewidth": 0,
                          "ticks": ""
                        },
                        "type": "contourcarpet"
                      }
                    ],
                    "heatmap": [
                      {
                        "colorbar": {
                          "outlinewidth": 0,
                          "ticks": ""
                        },
                        "colorscale": [
                          [
                            0,
                            "#0d0887"
                          ],
                          [
                            0.1111111111111111,
                            "#46039f"
                          ],
                          [
                            0.2222222222222222,
                            "#7201a8"
                          ],
                          [
                            0.3333333333333333,
                            "#9c179e"
                          ],
                          [
                            0.4444444444444444,
                            "#bd3786"
                          ],
                          [
                            0.5555555555555556,
                            "#d8576b"
                          ],
                          [
                            0.6666666666666666,
                            "#ed7953"
                          ],
                          [
                            0.7777777777777778,
                            "#fb9f3a"
                          ],
                          [
                            0.8888888888888888,
                            "#fdca26"
                          ],
                          [
                            1,
                            "#f0f921"
                          ]
                        ],
                        "type": "heatmap"
                      }
                    ],
                    "heatmapgl": [
                      {
                        "colorbar": {
                          "outlinewidth": 0,
                          "ticks": ""
                        },
                        "colorscale": [
                          [
                            0,
                            "#0d0887"
                          ],
                          [
                            0.1111111111111111,
                            "#46039f"
                          ],
                          [
                            0.2222222222222222,
                            "#7201a8"
                          ],
                          [
                            0.3333333333333333,
                            "#9c179e"
                          ],
                          [
                            0.4444444444444444,
                            "#bd3786"
                          ],
                          [
                            0.5555555555555556,
                            "#d8576b"
                          ],
                          [
                            0.6666666666666666,
                            "#ed7953"
                          ],
                          [
                            0.7777777777777778,
                            "#fb9f3a"
                          ],
                          [
                            0.8888888888888888,
                            "#fdca26"
                          ],
                          [
                            1,
                            "#f0f921"
                          ]
                        ],
                        "type": "heatmapgl"
                      }
                    ],
                    "histogram": [
                      {
                        "marker": {
                          "pattern": {
                            "fillmode": "overlay",
                            "size": 10,
                            "solidity": 0.2
                          }
                        },
                        "type": "histogram"
                      }
                    ],
                    "histogram2d": [
                      {
                        "colorbar": {
                          "outlinewidth": 0,
                          "ticks": ""
                        },
                        "colorscale": [
                          [
                            0,
                            "#0d0887"
                          ],
                          [
                            0.1111111111111111,
                            "#46039f"
                          ],
                          [
                            0.2222222222222222,
                            "#7201a8"
                          ],
                          [
                            0.3333333333333333,
                            "#9c179e"
                          ],
                          [
                            0.4444444444444444,
                            "#bd3786"
                          ],
                          [
                            0.5555555555555556,
                            "#d8576b"
                          ],
                          [
                            0.6666666666666666,
                            "#ed7953"
                          ],
                          [
                            0.7777777777777778,
                            "#fb9f3a"
                          ],
                          [
                            0.8888888888888888,
                            "#fdca26"
                          ],
                          [
                            1,
                            "#f0f921"
                          ]
                        ],
                        "type": "histogram2d"
                      }
                    ],
                    "histogram2dcontour": [
                      {
                        "colorbar": {
                          "outlinewidth": 0,
                          "ticks": ""
                        },
                        "colorscale": [
                          [
                            0,
                            "#0d0887"
                          ],
                          [
                            0.1111111111111111,
                            "#46039f"
                          ],
                          [
                            0.2222222222222222,
                            "#7201a8"
                          ],
                          [
                            0.3333333333333333,
                            "#9c179e"
                          ],
                          [
                            0.4444444444444444,
                            "#bd3786"
                          ],
                          [
                            0.5555555555555556,
                            "#d8576b"
                          ],
                          [
                            0.6666666666666666,
                            "#ed7953"
                          ],
                          [
                            0.7777777777777778,
                            "#fb9f3a"
                          ],
                          [
                            0.8888888888888888,
                            "#fdca26"
                          ],
                          [
                            1,
                            "#f0f921"
                          ]
                        ],
                        "type": "histogram2dcontour"
                      }
                    ],
                    "mesh3d": [
                      {
                        "colorbar": {
                          "outlinewidth": 0,
                          "ticks": ""
                        },
                        "type": "mesh3d"
                      }
                    ],
                    "parcoords": [
                      {
                        "line": {
                          "colorbar": {
                            "outlinewidth": 0,
                            "ticks": ""
                          }
                        },
                        "type": "parcoords"
                      }
                    ],
                    "pie": [
                      {
                        "automargin": true,
                        "type": "pie"
                      }
                    ],
                    "scatter": [
                      {
                        "fillpattern": {
                          "fillmode": "overlay",
                          "size": 10,
                          "solidity": 0.2
                        },
                        "type": "scatter"
                      }
                    ],
                    "scatter3d": [
                      {
                        "line": {
                          "colorbar": {
                            "outlinewidth": 0,
                            "ticks": ""
                          }
                        },
                        "marker": {
                          "colorbar": {
                            "outlinewidth": 0,
                            "ticks": ""
                          }
                        },
                        "type": "scatter3d"
                      }
                    ],
                    "scattercarpet": [
                      {
                        "marker": {
                          "colorbar": {
                            "outlinewidth": 0,
                            "ticks": ""
                          }
                        },
                        "type": "scattercarpet"
                      }
                    ],
                    "scattergeo": [
                      {
                        "marker": {
                          "colorbar": {
                            "outlinewidth": 0,
                            "ticks": ""
                          }
                        },
                        "type": "scattergeo"
                      }
                    ],
                    "scattergl": [
                      {
                        "marker": {
                          "colorbar": {
                            "outlinewidth": 0,
                            "ticks": ""
                          }
                        },
                        "type": "scattergl"
                      }
                    ],
                    "scattermapbox": [
                      {
                        "marker": {
                          "colorbar": {
                            "outlinewidth": 0,
                            "ticks": ""
                          }
                        },
                        "type": "scattermapbox"
                      }
                    ],
                    "scatterpolar": [
                      {
                        "marker": {
                          "colorbar": {
                            "outlinewidth": 0,
                            "ticks": ""
                          }
                        },
                        "type": "scatterpolar"
                      }
                    ],
                    "scatterpolargl": [
                      {
                        "marker": {
                          "colorbar": {
                            "outlinewidth": 0,
                            "ticks": ""
                          }
                        },
                        "type": "scatterpolargl"
                      }
                    ],
                    "scatterternary": [
                      {
                        "marker": {
                          "colorbar": {
                            "outlinewidth": 0,
                            "ticks": ""
                          }
                        },
                        "type": "scatterternary"
                      }
                    ],
                    "surface": [
                      {
                        "colorbar": {
                          "outlinewidth": 0,
                          "ticks": ""
                        },
                        "colorscale": [
                          [
                            0,
                            "#0d0887"
                          ],
                          [
                            0.1111111111111111,
                            "#46039f"
                          ],
                          [
                            0.2222222222222222,
                            "#7201a8"
                          ],
                          [
                            0.3333333333333333,
                            "#9c179e"
                          ],
                          [
                            0.4444444444444444,
                            "#bd3786"
                          ],
                          [
                            0.5555555555555556,
                            "#d8576b"
                          ],
                          [
                            0.6666666666666666,
                            "#ed7953"
                          ],
                          [
                            0.7777777777777778,
                            "#fb9f3a"
                          ],
                          [
                            0.8888888888888888,
                            "#fdca26"
                          ],
                          [
                            1,
                            "#f0f921"
                          ]
                        ],
                        "type": "surface"
                      }
                    ],
                    "table": [
                      {
                        "cells": {
                          "fill": {
                            "color": "#EBF0F8"
                          },
                          "line": {
                            "color": "white"
                          }
                        },
                        "header": {
                          "fill": {
                            "color": "#C8D4E3"
                          },
                          "line": {
                            "color": "white"
                          }
                        },
                        "type": "table"
                      }
                    ]
                  },
                  "layout": {
                    "annotationdefaults": {
                      "arrowcolor": "#2a3f5f",
                      "arrowhead": 0,
                      "arrowwidth": 1
                    },
                    "autotypenumbers": "strict",
                    "coloraxis": {
                      "colorbar": {
                        "outlinewidth": 0,
                        "ticks": ""
                      }
                    },
                    "colorscale": {
                      "diverging": [
                        [
                          0,
                          "#8e0152"
                        ],
                        [
                          0.1,
                          "#c51b7d"
                        ],
                        [
                          0.2,
                          "#de77ae"
                        ],
                        [
                          0.3,
                          "#f1b6da"
                        ],
                        [
                          0.4,
                          "#fde0ef"
                        ],
                        [
                          0.5,
                          "#f7f7f7"
                        ],
                        [
                          0.6,
                          "#e6f5d0"
                        ],
                        [
                          0.7,
                          "#b8e186"
                        ],
                        [
                          0.8,
                          "#7fbc41"
                        ],
                        [
                          0.9,
                          "#4d9221"
                        ],
                        [
                          1,
                          "#276419"
                        ]
                      ],
                      "sequential": [
                        [
                          0,
                          "#0d0887"
                        ],
                        [
                          0.1111111111111111,
                          "#46039f"
                        ],
                        [
                          0.2222222222222222,
                          "#7201a8"
                        ],
                        [
                          0.3333333333333333,
                          "#9c179e"
                        ],
                        [
                          0.4444444444444444,
                          "#bd3786"
                        ],
                        [
                          0.5555555555555556,
                          "#d8576b"
                        ],
                        [
                          0.6666666666666666,
                          "#ed7953"
                        ],
                        [
                          0.7777777777777778,
                          "#fb9f3a"
                        ],
                        [
                          0.8888888888888888,
                          "#fdca26"
                        ],
                        [
                          1,
                          "#f0f921"
                        ]
                      ],
                      "sequentialminus": [
                        [
                          0,
                          "#0d0887"
                        ],
                        [
                          0.1111111111111111,
                          "#46039f"
                        ],
                        [
                          0.2222222222222222,
                          "#7201a8"
                        ],
                        [
                          0.3333333333333333,
                          "#9c179e"
                        ],
                        [
                          0.4444444444444444,
                          "#bd3786"
                        ],
                        [
                          0.5555555555555556,
                          "#d8576b"
                        ],
                        [
                          0.6666666666666666,
                          "#ed7953"
                        ],
                        [
                          0.7777777777777778,
                          "#fb9f3a"
                        ],
                        [
                          0.8888888888888888,
                          "#fdca26"
                        ],
                        [
                          1,
                          "#f0f921"
                        ]
                      ]
                    },
                    "colorway": [
                      "#636efa",
                      "#EF553B",
                      "#00cc96",
                      "#ab63fa",
                      "#FFA15A",
                      "#19d3f3",
                      "#FF6692",
                      "#B6E880",
                      "#FF97FF",
                      "#FECB52"
                    ],
                    "font": {
                      "color": "#2a3f5f"
                    },
                    "geo": {
                      "bgcolor": "white",
                      "lakecolor": "white",
                      "landcolor": "#E5ECF6",
                      "showlakes": true,
                      "showland": true,
                      "subunitcolor": "white"
                    },
                    "hoverlabel": {
                      "align": "left"
                    },
                    "hovermode": "closest",
                    "mapbox": {
                      "style": "light"
                    },
                    "paper_bgcolor": "white",
                    "plot_bgcolor": "#E5ECF6",
                    "polar": {
                      "angularaxis": {
                        "gridcolor": "white",
                        "linecolor": "white",
                        "ticks": ""
                      },
                      "bgcolor": "#E5ECF6",
                      "radialaxis": {
                        "gridcolor": "white",
                        "linecolor": "white",
                        "ticks": ""
                      }
                    },
                    "scene": {
                      "xaxis": {
                        "backgroundcolor": "#E5ECF6",
                        "gridcolor": "white",
                        "gridwidth": 2,
                        "linecolor": "white",
                        "showbackground": true,
                        "ticks": "",
                        "zerolinecolor": "white"
                      },
                      "yaxis": {
                        "backgroundcolor": "#E5ECF6",
                        "gridcolor": "white",
                        "gridwidth": 2,
                        "linecolor": "white",
                        "showbackground": true,
                        "ticks": "",
                        "zerolinecolor": "white"
                      },
                      "zaxis": {
                        "backgroundcolor": "#E5ECF6",
                        "gridcolor": "white",
                        "gridwidth": 2,
                        "linecolor": "white",
                        "showbackground": true,
                        "ticks": "",
                        "zerolinecolor": "white"
                      }
                    },
                    "shapedefaults": {
                      "line": {
                        "color": "#2a3f5f"
                      }
                    },
                    "ternary": {
                      "aaxis": {
                        "gridcolor": "white",
                        "linecolor": "white",
                        "ticks": ""
                      },
                      "baxis": {
                        "gridcolor": "white",
                        "linecolor": "white",
                        "ticks": ""
                      },
                      "bgcolor": "#E5ECF6",
                      "caxis": {
                        "gridcolor": "white",
                        "linecolor": "white",
                        "ticks": ""
                      }
                    },
                    "title": {
                      "x": 0.05
                    },
                    "xaxis": {
                      "automargin": true,
                      "gridcolor": "white",
                      "linecolor": "white",
                      "ticks": "",
                      "title": {
                        "standoff": 15
                      },
                      "zerolinecolor": "white",
                      "zerolinewidth": 2
                    },
                    "yaxis": {
                      "automargin": true,
                      "gridcolor": "white",
                      "linecolor": "white",
                      "ticks": "",
                      "title": {
                        "standoff": 15
                      },
                      "zerolinecolor": "white",
                      "zerolinewidth": 2
                    }
                  }
                },
                "title": {
                  "text": "Total Sales by Country"
                },
                "xaxis": {
                  "anchor": "y",
                  "categoryarray": [
                    "Australia",
                    "Canada",
                    "India",
                    "New Zealand",
                    "UK",
                    "USA"
                  ],
                  "categoryorder": "array",
                  "domain": [
                    0,
                    1
                  ],
                  "title": {
                    "text": "Country"
                  }
                },
                "yaxis": {
                  "anchor": "x",
                  "domain": [
                    0,
                    1
                  ],
                  "title": {
                    "text": "Total Sales ($)"
                  }
                }
              }
            }
          },
          "metadata": {},
          "output_type": "display_data"
        }
      ],
      "source": [
        "# Aggregate total sales by country\n",
        "total_sales_by_country = df.groupby(\"Country\", as_index=False)[\"Amount\"].sum()\n",
        "\n",
        "# Custom color palette\n",
        "custom_palette = ['#714737','#443025','#D6B58C','#3A211A','#E5B07C','#443025']\n",
        "\n",
        "# Create Bar Chart in Plotly\n",
        "fig_sales_country = px.bar(total_sales_by_country, \n",
        "                           x=\"Country\", \n",
        "                           y=\"Amount\", \n",
        "                           color=\"Country\", \n",
        "                           title=\"Total Sales by Country\",\n",
        "                           labels={\"Amount\": \"Total Sales ($)\", \"Country\": \"Country\"},\n",
        "                           color_discrete_sequence=custom_palette)\n",
        "\n",
        "fig_sales_country.show()"
      ]
    },
    {
      "cell_type": "markdown",
      "metadata": {},
      "source": [
        "- This barchart shows in a more simplistic way how uniform the total sales in each country were, compared to the previous charts."
      ]
    },
    {
      "cell_type": "code",
      "execution_count": 15,
      "metadata": {},
      "outputs": [
        {
          "data": {
            "application/vnd.plotly.v1+json": {
              "config": {
                "plotlyServerURL": "https://plot.ly"
              },
              "data": [
                {
                  "alignmentgroup": "True",
                  "hovertemplate": "Product Category=Dark Chocolate<br>Country=%{x}<br>Total Boxes Shipped=%{y}<extra></extra>",
                  "legendgroup": "Dark Chocolate",
                  "marker": {
                    "color": "#714737",
                    "pattern": {
                      "shape": ""
                    }
                  },
                  "name": "Dark Chocolate",
                  "offsetgroup": "Dark Chocolate",
                  "orientation": "v",
                  "showlegend": true,
                  "textposition": "auto",
                  "type": "bar",
                  "x": [
                    "Australia",
                    "Canada",
                    "India",
                    "New Zealand",
                    "UK",
                    "USA"
                  ],
                  "xaxis": "x",
                  "y": [
                    7835,
                    4641,
                    5787,
                    4329,
                    5302,
                    5833
                  ],
                  "yaxis": "y"
                },
                {
                  "alignmentgroup": "True",
                  "hovertemplate": "Product Category=Flavored Chocolate<br>Country=%{x}<br>Total Boxes Shipped=%{y}<extra></extra>",
                  "legendgroup": "Flavored Chocolate",
                  "marker": {
                    "color": "#443025",
                    "pattern": {
                      "shape": ""
                    }
                  },
                  "name": "Flavored Chocolate",
                  "offsetgroup": "Flavored Chocolate",
                  "orientation": "v",
                  "showlegend": true,
                  "textposition": "auto",
                  "type": "bar",
                  "x": [
                    "Australia",
                    "Canada",
                    "India",
                    "New Zealand",
                    "UK",
                    "USA"
                  ],
                  "xaxis": "x",
                  "y": [
                    9186,
                    10549,
                    9072,
                    9274,
                    8481,
                    9413
                  ],
                  "yaxis": "y"
                },
                {
                  "alignmentgroup": "True",
                  "hovertemplate": "Product Category=Milk & White Chocolate<br>Country=%{x}<br>Total Boxes Shipped=%{y}<extra></extra>",
                  "legendgroup": "Milk & White Chocolate",
                  "marker": {
                    "color": "#D6B58C",
                    "pattern": {
                      "shape": ""
                    }
                  },
                  "name": "Milk & White Chocolate",
                  "offsetgroup": "Milk & White Chocolate",
                  "orientation": "v",
                  "showlegend": true,
                  "textposition": "auto",
                  "type": "bar",
                  "x": [
                    "Australia",
                    "Canada",
                    "India",
                    "New Zealand",
                    "UK",
                    "USA"
                  ],
                  "xaxis": "x",
                  "y": [
                    3331,
                    1530,
                    2698,
                    2602,
                    4180,
                    2229
                  ],
                  "yaxis": "y"
                },
                {
                  "alignmentgroup": "True",
                  "hovertemplate": "Product Category=Nut-based Chocolate<br>Country=%{x}<br>Total Boxes Shipped=%{y}<extra></extra>",
                  "legendgroup": "Nut-based Chocolate",
                  "marker": {
                    "color": "#3A211A",
                    "pattern": {
                      "shape": ""
                    }
                  },
                  "name": "Nut-based Chocolate",
                  "offsetgroup": "Nut-based Chocolate",
                  "orientation": "v",
                  "showlegend": true,
                  "textposition": "auto",
                  "type": "bar",
                  "x": [
                    "Australia",
                    "Canada",
                    "India",
                    "New Zealand",
                    "UK",
                    "USA"
                  ],
                  "xaxis": "x",
                  "y": [
                    3979,
                    4500,
                    4069,
                    2886,
                    3433,
                    2637
                  ],
                  "yaxis": "y"
                },
                {
                  "alignmentgroup": "True",
                  "hovertemplate": "Product Category=Specialty Chocolate<br>Country=%{x}<br>Total Boxes Shipped=%{y}<extra></extra>",
                  "legendgroup": "Specialty Chocolate",
                  "marker": {
                    "color": "#E5B07C",
                    "pattern": {
                      "shape": ""
                    }
                  },
                  "name": "Specialty Chocolate",
                  "offsetgroup": "Specialty Chocolate",
                  "orientation": "v",
                  "showlegend": true,
                  "textposition": "auto",
                  "type": "bar",
                  "x": [
                    "Australia",
                    "Canada",
                    "India",
                    "New Zealand",
                    "UK",
                    "USA"
                  ],
                  "xaxis": "x",
                  "y": [
                    8316,
                    10001,
                    7844,
                    7489,
                    8869,
                    6712
                  ],
                  "yaxis": "y"
                }
              ],
              "layout": {
                "barmode": "stack",
                "legend": {
                  "title": {
                    "text": "Product Category"
                  },
                  "tracegroupgap": 0
                },
                "template": {
                  "data": {
                    "bar": [
                      {
                        "error_x": {
                          "color": "#2a3f5f"
                        },
                        "error_y": {
                          "color": "#2a3f5f"
                        },
                        "marker": {
                          "line": {
                            "color": "#E5ECF6",
                            "width": 0.5
                          },
                          "pattern": {
                            "fillmode": "overlay",
                            "size": 10,
                            "solidity": 0.2
                          }
                        },
                        "type": "bar"
                      }
                    ],
                    "barpolar": [
                      {
                        "marker": {
                          "line": {
                            "color": "#E5ECF6",
                            "width": 0.5
                          },
                          "pattern": {
                            "fillmode": "overlay",
                            "size": 10,
                            "solidity": 0.2
                          }
                        },
                        "type": "barpolar"
                      }
                    ],
                    "carpet": [
                      {
                        "aaxis": {
                          "endlinecolor": "#2a3f5f",
                          "gridcolor": "white",
                          "linecolor": "white",
                          "minorgridcolor": "white",
                          "startlinecolor": "#2a3f5f"
                        },
                        "baxis": {
                          "endlinecolor": "#2a3f5f",
                          "gridcolor": "white",
                          "linecolor": "white",
                          "minorgridcolor": "white",
                          "startlinecolor": "#2a3f5f"
                        },
                        "type": "carpet"
                      }
                    ],
                    "choropleth": [
                      {
                        "colorbar": {
                          "outlinewidth": 0,
                          "ticks": ""
                        },
                        "type": "choropleth"
                      }
                    ],
                    "contour": [
                      {
                        "colorbar": {
                          "outlinewidth": 0,
                          "ticks": ""
                        },
                        "colorscale": [
                          [
                            0,
                            "#0d0887"
                          ],
                          [
                            0.1111111111111111,
                            "#46039f"
                          ],
                          [
                            0.2222222222222222,
                            "#7201a8"
                          ],
                          [
                            0.3333333333333333,
                            "#9c179e"
                          ],
                          [
                            0.4444444444444444,
                            "#bd3786"
                          ],
                          [
                            0.5555555555555556,
                            "#d8576b"
                          ],
                          [
                            0.6666666666666666,
                            "#ed7953"
                          ],
                          [
                            0.7777777777777778,
                            "#fb9f3a"
                          ],
                          [
                            0.8888888888888888,
                            "#fdca26"
                          ],
                          [
                            1,
                            "#f0f921"
                          ]
                        ],
                        "type": "contour"
                      }
                    ],
                    "contourcarpet": [
                      {
                        "colorbar": {
                          "outlinewidth": 0,
                          "ticks": ""
                        },
                        "type": "contourcarpet"
                      }
                    ],
                    "heatmap": [
                      {
                        "colorbar": {
                          "outlinewidth": 0,
                          "ticks": ""
                        },
                        "colorscale": [
                          [
                            0,
                            "#0d0887"
                          ],
                          [
                            0.1111111111111111,
                            "#46039f"
                          ],
                          [
                            0.2222222222222222,
                            "#7201a8"
                          ],
                          [
                            0.3333333333333333,
                            "#9c179e"
                          ],
                          [
                            0.4444444444444444,
                            "#bd3786"
                          ],
                          [
                            0.5555555555555556,
                            "#d8576b"
                          ],
                          [
                            0.6666666666666666,
                            "#ed7953"
                          ],
                          [
                            0.7777777777777778,
                            "#fb9f3a"
                          ],
                          [
                            0.8888888888888888,
                            "#fdca26"
                          ],
                          [
                            1,
                            "#f0f921"
                          ]
                        ],
                        "type": "heatmap"
                      }
                    ],
                    "heatmapgl": [
                      {
                        "colorbar": {
                          "outlinewidth": 0,
                          "ticks": ""
                        },
                        "colorscale": [
                          [
                            0,
                            "#0d0887"
                          ],
                          [
                            0.1111111111111111,
                            "#46039f"
                          ],
                          [
                            0.2222222222222222,
                            "#7201a8"
                          ],
                          [
                            0.3333333333333333,
                            "#9c179e"
                          ],
                          [
                            0.4444444444444444,
                            "#bd3786"
                          ],
                          [
                            0.5555555555555556,
                            "#d8576b"
                          ],
                          [
                            0.6666666666666666,
                            "#ed7953"
                          ],
                          [
                            0.7777777777777778,
                            "#fb9f3a"
                          ],
                          [
                            0.8888888888888888,
                            "#fdca26"
                          ],
                          [
                            1,
                            "#f0f921"
                          ]
                        ],
                        "type": "heatmapgl"
                      }
                    ],
                    "histogram": [
                      {
                        "marker": {
                          "pattern": {
                            "fillmode": "overlay",
                            "size": 10,
                            "solidity": 0.2
                          }
                        },
                        "type": "histogram"
                      }
                    ],
                    "histogram2d": [
                      {
                        "colorbar": {
                          "outlinewidth": 0,
                          "ticks": ""
                        },
                        "colorscale": [
                          [
                            0,
                            "#0d0887"
                          ],
                          [
                            0.1111111111111111,
                            "#46039f"
                          ],
                          [
                            0.2222222222222222,
                            "#7201a8"
                          ],
                          [
                            0.3333333333333333,
                            "#9c179e"
                          ],
                          [
                            0.4444444444444444,
                            "#bd3786"
                          ],
                          [
                            0.5555555555555556,
                            "#d8576b"
                          ],
                          [
                            0.6666666666666666,
                            "#ed7953"
                          ],
                          [
                            0.7777777777777778,
                            "#fb9f3a"
                          ],
                          [
                            0.8888888888888888,
                            "#fdca26"
                          ],
                          [
                            1,
                            "#f0f921"
                          ]
                        ],
                        "type": "histogram2d"
                      }
                    ],
                    "histogram2dcontour": [
                      {
                        "colorbar": {
                          "outlinewidth": 0,
                          "ticks": ""
                        },
                        "colorscale": [
                          [
                            0,
                            "#0d0887"
                          ],
                          [
                            0.1111111111111111,
                            "#46039f"
                          ],
                          [
                            0.2222222222222222,
                            "#7201a8"
                          ],
                          [
                            0.3333333333333333,
                            "#9c179e"
                          ],
                          [
                            0.4444444444444444,
                            "#bd3786"
                          ],
                          [
                            0.5555555555555556,
                            "#d8576b"
                          ],
                          [
                            0.6666666666666666,
                            "#ed7953"
                          ],
                          [
                            0.7777777777777778,
                            "#fb9f3a"
                          ],
                          [
                            0.8888888888888888,
                            "#fdca26"
                          ],
                          [
                            1,
                            "#f0f921"
                          ]
                        ],
                        "type": "histogram2dcontour"
                      }
                    ],
                    "mesh3d": [
                      {
                        "colorbar": {
                          "outlinewidth": 0,
                          "ticks": ""
                        },
                        "type": "mesh3d"
                      }
                    ],
                    "parcoords": [
                      {
                        "line": {
                          "colorbar": {
                            "outlinewidth": 0,
                            "ticks": ""
                          }
                        },
                        "type": "parcoords"
                      }
                    ],
                    "pie": [
                      {
                        "automargin": true,
                        "type": "pie"
                      }
                    ],
                    "scatter": [
                      {
                        "fillpattern": {
                          "fillmode": "overlay",
                          "size": 10,
                          "solidity": 0.2
                        },
                        "type": "scatter"
                      }
                    ],
                    "scatter3d": [
                      {
                        "line": {
                          "colorbar": {
                            "outlinewidth": 0,
                            "ticks": ""
                          }
                        },
                        "marker": {
                          "colorbar": {
                            "outlinewidth": 0,
                            "ticks": ""
                          }
                        },
                        "type": "scatter3d"
                      }
                    ],
                    "scattercarpet": [
                      {
                        "marker": {
                          "colorbar": {
                            "outlinewidth": 0,
                            "ticks": ""
                          }
                        },
                        "type": "scattercarpet"
                      }
                    ],
                    "scattergeo": [
                      {
                        "marker": {
                          "colorbar": {
                            "outlinewidth": 0,
                            "ticks": ""
                          }
                        },
                        "type": "scattergeo"
                      }
                    ],
                    "scattergl": [
                      {
                        "marker": {
                          "colorbar": {
                            "outlinewidth": 0,
                            "ticks": ""
                          }
                        },
                        "type": "scattergl"
                      }
                    ],
                    "scattermapbox": [
                      {
                        "marker": {
                          "colorbar": {
                            "outlinewidth": 0,
                            "ticks": ""
                          }
                        },
                        "type": "scattermapbox"
                      }
                    ],
                    "scatterpolar": [
                      {
                        "marker": {
                          "colorbar": {
                            "outlinewidth": 0,
                            "ticks": ""
                          }
                        },
                        "type": "scatterpolar"
                      }
                    ],
                    "scatterpolargl": [
                      {
                        "marker": {
                          "colorbar": {
                            "outlinewidth": 0,
                            "ticks": ""
                          }
                        },
                        "type": "scatterpolargl"
                      }
                    ],
                    "scatterternary": [
                      {
                        "marker": {
                          "colorbar": {
                            "outlinewidth": 0,
                            "ticks": ""
                          }
                        },
                        "type": "scatterternary"
                      }
                    ],
                    "surface": [
                      {
                        "colorbar": {
                          "outlinewidth": 0,
                          "ticks": ""
                        },
                        "colorscale": [
                          [
                            0,
                            "#0d0887"
                          ],
                          [
                            0.1111111111111111,
                            "#46039f"
                          ],
                          [
                            0.2222222222222222,
                            "#7201a8"
                          ],
                          [
                            0.3333333333333333,
                            "#9c179e"
                          ],
                          [
                            0.4444444444444444,
                            "#bd3786"
                          ],
                          [
                            0.5555555555555556,
                            "#d8576b"
                          ],
                          [
                            0.6666666666666666,
                            "#ed7953"
                          ],
                          [
                            0.7777777777777778,
                            "#fb9f3a"
                          ],
                          [
                            0.8888888888888888,
                            "#fdca26"
                          ],
                          [
                            1,
                            "#f0f921"
                          ]
                        ],
                        "type": "surface"
                      }
                    ],
                    "table": [
                      {
                        "cells": {
                          "fill": {
                            "color": "#EBF0F8"
                          },
                          "line": {
                            "color": "white"
                          }
                        },
                        "header": {
                          "fill": {
                            "color": "#C8D4E3"
                          },
                          "line": {
                            "color": "white"
                          }
                        },
                        "type": "table"
                      }
                    ]
                  },
                  "layout": {
                    "annotationdefaults": {
                      "arrowcolor": "#2a3f5f",
                      "arrowhead": 0,
                      "arrowwidth": 1
                    },
                    "autotypenumbers": "strict",
                    "coloraxis": {
                      "colorbar": {
                        "outlinewidth": 0,
                        "ticks": ""
                      }
                    },
                    "colorscale": {
                      "diverging": [
                        [
                          0,
                          "#8e0152"
                        ],
                        [
                          0.1,
                          "#c51b7d"
                        ],
                        [
                          0.2,
                          "#de77ae"
                        ],
                        [
                          0.3,
                          "#f1b6da"
                        ],
                        [
                          0.4,
                          "#fde0ef"
                        ],
                        [
                          0.5,
                          "#f7f7f7"
                        ],
                        [
                          0.6,
                          "#e6f5d0"
                        ],
                        [
                          0.7,
                          "#b8e186"
                        ],
                        [
                          0.8,
                          "#7fbc41"
                        ],
                        [
                          0.9,
                          "#4d9221"
                        ],
                        [
                          1,
                          "#276419"
                        ]
                      ],
                      "sequential": [
                        [
                          0,
                          "#0d0887"
                        ],
                        [
                          0.1111111111111111,
                          "#46039f"
                        ],
                        [
                          0.2222222222222222,
                          "#7201a8"
                        ],
                        [
                          0.3333333333333333,
                          "#9c179e"
                        ],
                        [
                          0.4444444444444444,
                          "#bd3786"
                        ],
                        [
                          0.5555555555555556,
                          "#d8576b"
                        ],
                        [
                          0.6666666666666666,
                          "#ed7953"
                        ],
                        [
                          0.7777777777777778,
                          "#fb9f3a"
                        ],
                        [
                          0.8888888888888888,
                          "#fdca26"
                        ],
                        [
                          1,
                          "#f0f921"
                        ]
                      ],
                      "sequentialminus": [
                        [
                          0,
                          "#0d0887"
                        ],
                        [
                          0.1111111111111111,
                          "#46039f"
                        ],
                        [
                          0.2222222222222222,
                          "#7201a8"
                        ],
                        [
                          0.3333333333333333,
                          "#9c179e"
                        ],
                        [
                          0.4444444444444444,
                          "#bd3786"
                        ],
                        [
                          0.5555555555555556,
                          "#d8576b"
                        ],
                        [
                          0.6666666666666666,
                          "#ed7953"
                        ],
                        [
                          0.7777777777777778,
                          "#fb9f3a"
                        ],
                        [
                          0.8888888888888888,
                          "#fdca26"
                        ],
                        [
                          1,
                          "#f0f921"
                        ]
                      ]
                    },
                    "colorway": [
                      "#636efa",
                      "#EF553B",
                      "#00cc96",
                      "#ab63fa",
                      "#FFA15A",
                      "#19d3f3",
                      "#FF6692",
                      "#B6E880",
                      "#FF97FF",
                      "#FECB52"
                    ],
                    "font": {
                      "color": "#2a3f5f"
                    },
                    "geo": {
                      "bgcolor": "white",
                      "lakecolor": "white",
                      "landcolor": "#E5ECF6",
                      "showlakes": true,
                      "showland": true,
                      "subunitcolor": "white"
                    },
                    "hoverlabel": {
                      "align": "left"
                    },
                    "hovermode": "closest",
                    "mapbox": {
                      "style": "light"
                    },
                    "paper_bgcolor": "white",
                    "plot_bgcolor": "#E5ECF6",
                    "polar": {
                      "angularaxis": {
                        "gridcolor": "white",
                        "linecolor": "white",
                        "ticks": ""
                      },
                      "bgcolor": "#E5ECF6",
                      "radialaxis": {
                        "gridcolor": "white",
                        "linecolor": "white",
                        "ticks": ""
                      }
                    },
                    "scene": {
                      "xaxis": {
                        "backgroundcolor": "#E5ECF6",
                        "gridcolor": "white",
                        "gridwidth": 2,
                        "linecolor": "white",
                        "showbackground": true,
                        "ticks": "",
                        "zerolinecolor": "white"
                      },
                      "yaxis": {
                        "backgroundcolor": "#E5ECF6",
                        "gridcolor": "white",
                        "gridwidth": 2,
                        "linecolor": "white",
                        "showbackground": true,
                        "ticks": "",
                        "zerolinecolor": "white"
                      },
                      "zaxis": {
                        "backgroundcolor": "#E5ECF6",
                        "gridcolor": "white",
                        "gridwidth": 2,
                        "linecolor": "white",
                        "showbackground": true,
                        "ticks": "",
                        "zerolinecolor": "white"
                      }
                    },
                    "shapedefaults": {
                      "line": {
                        "color": "#2a3f5f"
                      }
                    },
                    "ternary": {
                      "aaxis": {
                        "gridcolor": "white",
                        "linecolor": "white",
                        "ticks": ""
                      },
                      "baxis": {
                        "gridcolor": "white",
                        "linecolor": "white",
                        "ticks": ""
                      },
                      "bgcolor": "#E5ECF6",
                      "caxis": {
                        "gridcolor": "white",
                        "linecolor": "white",
                        "ticks": ""
                      }
                    },
                    "title": {
                      "x": 0.05
                    },
                    "xaxis": {
                      "automargin": true,
                      "gridcolor": "white",
                      "linecolor": "white",
                      "ticks": "",
                      "title": {
                        "standoff": 15
                      },
                      "zerolinecolor": "white",
                      "zerolinewidth": 2
                    },
                    "yaxis": {
                      "automargin": true,
                      "gridcolor": "white",
                      "linecolor": "white",
                      "ticks": "",
                      "title": {
                        "standoff": 15
                      },
                      "zerolinecolor": "white",
                      "zerolinewidth": 2
                    }
                  }
                },
                "title": {
                  "text": "Boxes Shipped per Country and Product Category"
                },
                "xaxis": {
                  "anchor": "y",
                  "domain": [
                    0,
                    1
                  ],
                  "title": {
                    "text": "Country"
                  }
                },
                "yaxis": {
                  "anchor": "x",
                  "domain": [
                    0,
                    1
                  ],
                  "title": {
                    "text": "Total Boxes Shipped"
                  }
                }
              }
            }
          },
          "metadata": {},
          "output_type": "display_data"
        }
      ],
      "source": [
        "# Aggregate total boxes shipped by country and product category\n",
        "boxes_country_category = df.groupby([\"Country\", \"Product Category\"], as_index=False)[\"Boxes Shipped\"].sum()\n",
        "\n",
        "# Create Stacked Bar Chart in Plotly\n",
        "fig_boxes_shipped = px.bar(boxes_country_category, \n",
        "                           x=\"Country\", \n",
        "                           y=\"Boxes Shipped\", \n",
        "                           color=\"Product Category\",\n",
        "                           title=\"Boxes Shipped per Country and Product Category\",\n",
        "                           labels={\"Boxes Shipped\": \"Total Boxes Shipped\", \"Country\": \"Country\"},\n",
        "                           barmode=\"stack\",  # Stacked bars\n",
        "                           color_discrete_sequence=custom_palette)\n",
        "\n",
        "fig_boxes_shipped.show()"
      ]
    },
    {
      "cell_type": "markdown",
      "metadata": {},
      "source": [
        "- The boxes shipped per country are shown in the bar chart above, showing a more significant difference in the countries compared to the total sales, which could be attributed to some countries buying less but more expensive boxes."
      ]
    },
    {
      "cell_type": "code",
      "execution_count": 16,
      "metadata": {},
      "outputs": [
        {
          "name": "stdout",
          "output_type": "stream",
          "text": [
            "Correlation between Sales Amount and Boxes Shipped: -0.018826853675834216\n"
          ]
        },
        {
          "data": {
            "application/vnd.plotly.v1+json": {
              "config": {
                "plotlyServerURL": "https://plot.ly"
              },
              "data": [
                {
                  "hovertemplate": "Boxes Shipped=%{x}<br>Sales Amount=%{y}<extra></extra>",
                  "legendgroup": "",
                  "marker": {
                    "color": "#714737",
                    "symbol": "circle"
                  },
                  "mode": "markers",
                  "name": "",
                  "showlegend": false,
                  "type": "scattergl",
                  "x": [
                    180,
                    94,
                    91,
                    342,
                    184,
                    38,
                    176,
                    73,
                    59,
                    102,
                    62,
                    11,
                    286,
                    156,
                    173,
                    356,
                    42,
                    140,
                    250,
                    172,
                    88,
                    157,
                    163,
                    113,
                    115,
                    321,
                    186,
                    112,
                    151,
                    301,
                    121,
                    150,
                    94,
                    133,
                    70,
                    315,
                    314,
                    72,
                    14,
                    581,
                    16,
                    354,
                    241,
                    142,
                    102,
                    188,
                    160,
                    18,
                    303,
                    176,
                    70,
                    23,
                    135,
                    83,
                    179,
                    24,
                    18,
                    416,
                    55,
                    227,
                    48,
                    174,
                    302,
                    149,
                    11,
                    11,
                    14,
                    411,
                    56,
                    102,
                    103,
                    9,
                    241,
                    265,
                    214,
                    32,
                    244,
                    181,
                    137,
                    24,
                    21,
                    311,
                    181,
                    10,
                    82,
                    108,
                    401,
                    408,
                    420,
                    348,
                    270,
                    9,
                    264,
                    111,
                    65,
                    97,
                    6,
                    482,
                    106,
                    180,
                    31,
                    359,
                    80,
                    296,
                    101,
                    40,
                    42,
                    167,
                    138,
                    520,
                    94,
                    175,
                    92,
                    141,
                    283,
                    21,
                    47,
                    125,
                    396,
                    87,
                    27,
                    547,
                    118,
                    46,
                    57,
                    22,
                    96,
                    44,
                    188,
                    387,
                    50,
                    264,
                    7,
                    90,
                    403,
                    174,
                    140,
                    27,
                    110,
                    30,
                    121,
                    101,
                    117,
                    272,
                    128,
                    45,
                    27,
                    212,
                    18,
                    149,
                    477,
                    108,
                    178,
                    81,
                    196,
                    447,
                    175,
                    136,
                    138,
                    184,
                    82,
                    12,
                    14,
                    104,
                    46,
                    112,
                    11,
                    21,
                    116,
                    202,
                    6,
                    520,
                    167,
                    72,
                    418,
                    389,
                    26,
                    146,
                    41,
                    54,
                    370,
                    176,
                    210,
                    12,
                    159,
                    187,
                    233,
                    282,
                    475,
                    65,
                    311,
                    43,
                    26,
                    84,
                    78,
                    100,
                    66,
                    265,
                    141,
                    42,
                    76,
                    190,
                    54,
                    32,
                    424,
                    134,
                    92,
                    48,
                    46,
                    62,
                    358,
                    249,
                    88,
                    144,
                    390,
                    79,
                    122,
                    135,
                    430,
                    69,
                    125,
                    154,
                    286,
                    99,
                    433,
                    19,
                    258,
                    92,
                    200,
                    61,
                    246,
                    56,
                    87,
                    173,
                    252,
                    256,
                    54,
                    6,
                    55,
                    277,
                    44,
                    96,
                    216,
                    424,
                    37,
                    59,
                    76,
                    109,
                    146,
                    185,
                    27,
                    69,
                    46,
                    170,
                    179,
                    126,
                    65,
                    99,
                    275,
                    157,
                    157,
                    145,
                    139,
                    406,
                    122,
                    38,
                    117,
                    417,
                    57,
                    125,
                    166,
                    3,
                    72,
                    95,
                    22,
                    100,
                    312,
                    86,
                    7,
                    149,
                    18,
                    242,
                    102,
                    158,
                    128,
                    96,
                    209,
                    52,
                    55,
                    108,
                    51,
                    216,
                    318,
                    238,
                    238,
                    315,
                    72,
                    3,
                    45,
                    184,
                    127,
                    53,
                    172,
                    87,
                    22,
                    122,
                    125,
                    259,
                    156,
                    107,
                    40,
                    311,
                    73,
                    288,
                    86,
                    72,
                    136,
                    303,
                    264,
                    218,
                    60,
                    418,
                    151,
                    202,
                    126,
                    160,
                    3,
                    58,
                    59,
                    273,
                    28,
                    118,
                    75,
                    329,
                    69,
                    395,
                    81,
                    38,
                    96,
                    195,
                    554,
                    47,
                    152,
                    134,
                    112,
                    16,
                    84,
                    99,
                    371,
                    136,
                    203,
                    183,
                    195,
                    135,
                    197,
                    242,
                    25,
                    252,
                    415,
                    348,
                    211,
                    81,
                    145,
                    74,
                    21,
                    101,
                    91,
                    54,
                    368,
                    409,
                    104,
                    164,
                    76,
                    178,
                    31,
                    352,
                    169,
                    223,
                    146,
                    112,
                    284,
                    139,
                    309,
                    100,
                    42,
                    24,
                    83,
                    234,
                    118,
                    46,
                    144,
                    47,
                    41,
                    275,
                    370,
                    138,
                    215,
                    134,
                    336,
                    280,
                    352,
                    150,
                    177,
                    142,
                    12,
                    24,
                    183,
                    147,
                    137,
                    13,
                    2,
                    261,
                    84,
                    68,
                    105,
                    40,
                    65,
                    107,
                    227,
                    39,
                    84,
                    100,
                    120,
                    257,
                    85,
                    178,
                    151,
                    142,
                    226,
                    341,
                    140,
                    330,
                    73,
                    4,
                    285,
                    60,
                    101,
                    58,
                    45,
                    281,
                    138,
                    322,
                    85,
                    409,
                    182,
                    467,
                    14,
                    178,
                    191,
                    317,
                    410,
                    137,
                    12,
                    254,
                    24,
                    232,
                    233,
                    118,
                    543,
                    223,
                    204,
                    65,
                    53,
                    469,
                    213,
                    5,
                    147,
                    74,
                    163,
                    248,
                    138,
                    151,
                    139,
                    103,
                    129,
                    102,
                    37,
                    31,
                    227,
                    145,
                    90,
                    59,
                    60,
                    148,
                    22,
                    142,
                    93,
                    208,
                    42,
                    120,
                    159,
                    316,
                    47,
                    233,
                    384,
                    4,
                    260,
                    22,
                    18,
                    42,
                    73,
                    154,
                    71,
                    127,
                    224,
                    223,
                    284,
                    73,
                    112,
                    85,
                    270,
                    45,
                    153,
                    7,
                    51,
                    67,
                    194,
                    116,
                    41,
                    111,
                    334,
                    155,
                    407,
                    52,
                    138,
                    70,
                    149,
                    179,
                    353,
                    97,
                    60,
                    5,
                    182,
                    114,
                    46,
                    320,
                    178,
                    170,
                    67,
                    301,
                    134,
                    211,
                    151,
                    208,
                    134,
                    49,
                    204,
                    34,
                    91,
                    130,
                    107,
                    121,
                    339,
                    321,
                    9,
                    69,
                    72,
                    392,
                    158,
                    9,
                    347,
                    114,
                    120,
                    333,
                    432,
                    236,
                    135,
                    97,
                    168,
                    402,
                    10,
                    84,
                    69,
                    111,
                    89,
                    199,
                    89,
                    131,
                    227,
                    301,
                    316,
                    390,
                    223,
                    101,
                    479,
                    287,
                    269,
                    277,
                    67,
                    135,
                    229,
                    88,
                    211,
                    293,
                    179,
                    129,
                    164,
                    219,
                    258,
                    116,
                    204,
                    321,
                    56,
                    74,
                    189,
                    131,
                    15,
                    140,
                    198,
                    103,
                    187,
                    125,
                    8,
                    70,
                    126,
                    265,
                    296,
                    21,
                    83,
                    162,
                    145,
                    44,
                    82,
                    226,
                    207,
                    176,
                    286,
                    300,
                    235,
                    125,
                    145,
                    65,
                    102,
                    93,
                    134,
                    189,
                    232,
                    45,
                    67,
                    138,
                    99,
                    251,
                    252,
                    78,
                    130,
                    154,
                    52,
                    53,
                    50,
                    44,
                    200,
                    361,
                    172,
                    239,
                    55,
                    27,
                    7,
                    301,
                    134,
                    350,
                    33,
                    23,
                    201,
                    323,
                    220,
                    488,
                    84,
                    79,
                    344,
                    7,
                    88,
                    275,
                    512,
                    113,
                    275,
                    47,
                    276,
                    212,
                    145,
                    31,
                    271,
                    52,
                    128,
                    142,
                    256,
                    106,
                    6,
                    226,
                    121,
                    151,
                    284,
                    89,
                    508,
                    243,
                    170,
                    18,
                    282,
                    277,
                    212,
                    126,
                    11,
                    30,
                    51,
                    92,
                    101,
                    98,
                    159,
                    62,
                    22,
                    187,
                    200,
                    201,
                    308,
                    55,
                    153,
                    101,
                    137,
                    398,
                    88,
                    232,
                    51,
                    66,
                    124,
                    78,
                    341,
                    114,
                    4,
                    22,
                    30,
                    351,
                    708,
                    50,
                    356,
                    185,
                    236,
                    30,
                    111,
                    289,
                    103,
                    20,
                    55,
                    90,
                    303,
                    126,
                    109,
                    92,
                    56,
                    58,
                    110,
                    171,
                    117,
                    51,
                    118,
                    79,
                    29,
                    103,
                    155,
                    31,
                    128,
                    419,
                    7,
                    106,
                    68,
                    44,
                    457,
                    524,
                    137,
                    86,
                    296,
                    597,
                    149,
                    207,
                    93,
                    23,
                    305,
                    125,
                    129,
                    252,
                    75,
                    87,
                    342,
                    13,
                    30,
                    203,
                    106,
                    234,
                    100,
                    91,
                    277,
                    42,
                    249,
                    97,
                    8,
                    275,
                    313,
                    323,
                    155,
                    377,
                    2,
                    170,
                    38,
                    105,
                    166,
                    164,
                    171,
                    49,
                    205,
                    313,
                    29,
                    307,
                    121,
                    285,
                    205,
                    157,
                    182,
                    100,
                    223,
                    61,
                    133,
                    228,
                    233,
                    425,
                    24,
                    495,
                    170,
                    26,
                    24,
                    33,
                    109,
                    276,
                    164,
                    1,
                    160,
                    98,
                    46,
                    259,
                    310,
                    78,
                    136,
                    130,
                    24,
                    5,
                    109,
                    294,
                    413,
                    136,
                    175,
                    237,
                    125,
                    16,
                    135,
                    91,
                    614,
                    216,
                    317,
                    21,
                    154,
                    222,
                    157,
                    27,
                    350,
                    157,
                    468,
                    130,
                    130,
                    518,
                    105,
                    293,
                    15,
                    384,
                    135,
                    92,
                    4,
                    239,
                    33,
                    518,
                    147,
                    84,
                    94,
                    194,
                    216,
                    247,
                    79,
                    237,
                    63,
                    172,
                    408,
                    233,
                    59,
                    123,
                    229,
                    198,
                    32,
                    236,
                    67,
                    438,
                    167,
                    135,
                    148,
                    54,
                    64,
                    181,
                    114,
                    181,
                    151,
                    137,
                    163,
                    84,
                    140,
                    187,
                    169,
                    12,
                    194,
                    252,
                    168,
                    261,
                    256,
                    43,
                    100,
                    98,
                    76,
                    262,
                    244,
                    12,
                    113,
                    48,
                    131,
                    174,
                    254,
                    284,
                    67,
                    249,
                    313,
                    167,
                    286,
                    109,
                    166,
                    85,
                    142,
                    104,
                    115,
                    18,
                    80,
                    88,
                    212,
                    306,
                    181,
                    65,
                    158,
                    271,
                    24,
                    10,
                    304,
                    88,
                    133,
                    165,
                    150,
                    180,
                    213,
                    133,
                    446,
                    141,
                    58,
                    58,
                    76,
                    296,
                    73,
                    119,
                    78,
                    392,
                    51,
                    207,
                    40,
                    100,
                    57,
                    42,
                    156,
                    23,
                    539,
                    158,
                    22,
                    73,
                    27,
                    64,
                    133,
                    149,
                    434,
                    85,
                    118,
                    299,
                    35,
                    44,
                    299,
                    62,
                    200,
                    235,
                    363,
                    68,
                    26,
                    200,
                    264,
                    175,
                    352,
                    183,
                    417,
                    146,
                    158,
                    168,
                    176,
                    172,
                    224,
                    68,
                    46,
                    2,
                    417,
                    109,
                    81,
                    350,
                    142,
                    264,
                    20,
                    421,
                    271,
                    204,
                    235,
                    46,
                    15,
                    430,
                    709,
                    47,
                    380,
                    465,
                    96,
                    188,
                    202,
                    106,
                    421,
                    27,
                    45,
                    60,
                    77,
                    464,
                    60,
                    157,
                    154,
                    239,
                    163,
                    28,
                    76,
                    96,
                    156,
                    106,
                    235,
                    259,
                    126,
                    85,
                    132,
                    91,
                    167,
                    203,
                    11,
                    295,
                    77,
                    319,
                    196,
                    102,
                    312,
                    55,
                    82,
                    260,
                    591,
                    24,
                    228,
                    268,
                    68,
                    173,
                    93,
                    338,
                    73,
                    251,
                    229,
                    91,
                    194,
                    403,
                    12,
                    195,
                    75,
                    96,
                    205,
                    323,
                    119,
                    217,
                    384,
                    344
                  ],
                  "xaxis": "x",
                  "y": [
                    5320,
                    7896,
                    4501,
                    12726,
                    13685,
                    5376,
                    13685,
                    3080,
                    3990,
                    2835,
                    4704,
                    3703,
                    1442,
                    168,
                    8379,
                    6790,
                    4067,
                    3017,
                    8799,
                    1085,
                    6888,
                    1267,
                    4753,
                    3003,
                    7672,
                    168,
                    1652,
                    4025,
                    9492,
                    5061,
                    1722,
                    12446,
                    4284,
                    6839,
                    2163,
                    9583,
                    2653,
                    147,
                    3654,
                    2443,
                    938,
                    14749,
                    4781,
                    6307,
                    7602,
                    6790,
                    9737,
                    6979,
                    4382,
                    5243,
                    4865,
                    8575,
                    91,
                    14798,
                    2205,
                    441,
                    3556,
                    16793,
                    15421,
                    4438,
                    1603,
                    273,
                    3073,
                    6090,
                    10255,
                    2030,
                    19453,
                    9275,
                    6181,
                    9037,
                    12313,
                    5642,
                    2800,
                    959,
                    2002,
                    609,
                    1274,
                    7595,
                    4725,
                    9681,
                    14504,
                    280,
                    63,
                    8001,
                    4032,
                    5859,
                    11095,
                    7182,
                    6881,
                    7154,
                    6188,
                    4221,
                    630,
                    1743,
                    2919,
                    49,
                    1827,
                    13006,
                    1064,
                    11571,
                    5740,
                    1456,
                    5334,
                    4151,
                    8106,
                    126,
                    4697,
                    7798,
                    9408,
                    1939,
                    10906,
                    5929,
                    5579,
                    10927,
                    623,
                    6013,
                    1505,
                    476,
                    11550,
                    17318,
                    1848,
                    7273,
                    854,
                    6832,
                    4606,
                    4466,
                    16114,
                    1561,
                    8897,
                    2464,
                    4830,
                    2765,
                    7126,
                    4263,
                    3605,
                    19929,
                    5103,
                    2541,
                    5663,
                    392,
                    10976,
                    9282,
                    1827,
                    8267,
                    4116,
                    2093,
                    1015,
                    12516,
                    2758,
                    3297,
                    6048,
                    10101,
                    2282,
                    4361,
                    7798,
                    3052,
                    8029,
                    854,
                    5460,
                    3017,
                    8911,
                    7203,
                    13083,
                    2779,
                    9058,
                    3549,
                    9436,
                    10283,
                    5446,
                    1043,
                    12586,
                    1687,
                    5299,
                    3213,
                    5194,
                    4753,
                    13706,
                    6489,
                    9324,
                    10829,
                    8113,
                    3269,
                    273,
                    7287,
                    2583,
                    9982,
                    4795,
                    9310,
                    497,
                    581,
                    3472,
                    4333,
                    3325,
                    11718,
                    2100,
                    4018,
                    6468,
                    7238,
                    6454,
                    3115,
                    6475,
                    1162,
                    14238,
                    3472,
                    1428,
                    8064,
                    9660,
                    7357,
                    6055,
                    5124,
                    3479,
                    784,
                    18991,
                    1372,
                    735,
                    6538,
                    3199,
                    3472,
                    4571,
                    5481,
                    3136,
                    252,
                    5460,
                    3395,
                    14938,
                    4053,
                    5565,
                    7161,
                    8883,
                    1351,
                    3171,
                    854,
                    7910,
                    9275,
                    3108,
                    5075,
                    378,
                    7350,
                    3388,
                    11837,
                    2282,
                    5425,
                    1267,
                    3752,
                    7728,
                    2296,
                    4403,
                    3192,
                    448,
                    4270,
                    70,
                    1743,
                    6762,
                    3745,
                    2639,
                    4389,
                    2604,
                    16569,
                    14658,
                    6454,
                    2100,
                    161,
                    2807,
                    2639,
                    4571,
                    4781,
                    13034,
                    6454,
                    8484,
                    4781,
                    2240,
                    6979,
                    1652,
                    13447,
                    9422,
                    8687,
                    2415,
                    6272,
                    4389,
                    3122,
                    8043,
                    11662,
                    392,
                    8925,
                    7294,
                    1526,
                    2688,
                    14889,
                    2912,
                    2632,
                    6328,
                    2527,
                    1414,
                    7714,
                    4347,
                    7490,
                    2058,
                    3640,
                    455,
                    10990,
                    5558,
                    2541,
                    1876,
                    5523,
                    11200,
                    5593,
                    7882,
                    10241,
                    6832,
                    1379,
                    3010,
                    6888,
                    1540,
                    6916,
                    1232,
                    602,
                    10927,
                    10185,
                    1603,
                    2170,
                    8673,
                    4760,
                    4753,
                    3374,
                    2058,
                    6454,
                    420,
                    2863,
                    5936,
                    889,
                    16016,
                    10479,
                    2912,
                    1575,
                    8197,
                    4221,
                    840,
                    5691,
                    3472,
                    4193,
                    9016,
                    6328,
                    9870,
                    161,
                    2576,
                    3178,
                    4676,
                    5502,
                    7462,
                    5803,
                    13888,
                    6867,
                    2317,
                    1218,
                    4109,
                    1953,
                    6790,
                    6797,
                    9226,
                    5733,
                    4312,
                    1638,
                    10815,
                    4466,
                    987,
                    4669,
                    2905,
                    7490,
                    6986,
                    1288,
                    2345,
                    3619,
                    16982,
                    8092,
                    6993,
                    2317,
                    637,
                    6034,
                    980,
                    2821,
                    3563,
                    2996,
                    2436,
                    1540,
                    6916,
                    5509,
                    12992,
                    3724,
                    7133,
                    8617,
                    9198,
                    11823,
                    5775,
                    13125,
                    14287,
                    16233,
                    5313,
                    3577,
                    3528,
                    679,
                    2450,
                    10577,
                    2597,
                    2219,
                    11319,
                    5978,
                    5327,
                    6020,
                    5614,
                    1736,
                    6384,
                    3577,
                    14539,
                    3493,
                    994,
                    4361,
                    1554,
                    966,
                    5334,
                    4935,
                    10024,
                    2506,
                    1043,
                    6524,
                    8148,
                    3577,
                    3374,
                    3948,
                    3269,
                    5271,
                    4571,
                    12327,
                    4935,
                    6167,
                    18340,
                    7014,
                    7119,
                    15491,
                    5747,
                    4550,
                    2191,
                    5663,
                    7623,
                    9023,
                    3402,
                    10507,
                    7721,
                    5033,
                    1960,
                    238,
                    7756,
                    1736,
                    2660,
                    7672,
                    11564,
                    1365,
                    4186,
                    7406,
                    8911,
                    112,
                    8204,
                    2611,
                    15652,
                    4074,
                    12250,
                    2366,
                    1687,
                    1232,
                    6965,
                    5292,
                    1379,
                    8001,
                    588,
                    4046,
                    5103,
                    2317,
                    7042,
                    6713,
                    1848,
                    6440,
                    10885,
                    2387,
                    2030,
                    6678,
                    4515,
                    3374,
                    5852,
                    1750,
                    5782,
                    2870,
                    3094,
                    3724,
                    12761,
                    3696,
                    5222,
                    8939,
                    2156,
                    2380,
                    3339,
                    14980,
                    1512,
                    6657,
                    3836,
                    8771,
                    651,
                    6706,
                    1421,
                    8526,
                    1435,
                    7434,
                    15316,
                    10479,
                    2751,
                    12586,
                    2786,
                    2303,
                    8113,
                    12271,
                    11298,
                    15855,
                    12404,
                    3990,
                    10808,
                    4858,
                    7742,
                    3752,
                    1218,
                    10983,
                    6769,
                    4361,
                    777,
                    3843,
                    6930,
                    5733,
                    8393,
                    3822,
                    6342,
                    6510,
                    10171,
                    5908,
                    10164,
                    1064,
                    9716,
                    22050,
                    2541,
                    9989,
                    4739,
                    3185,
                    8225,
                    14301,
                    1316,
                    3486,
                    13930,
                    5509,
                    8470,
                    77,
                    3381,
                    4102,
                    3577,
                    2975,
                    4137,
                    9541,
                    8001,
                    5152,
                    11116,
                    13076,
                    10213,
                    2485,
                    8715,
                    273,
                    7623,
                    7,
                    3010,
                    11550,
                    4046,
                    8904,
                    11298,
                    4396,
                    12068,
                    9772,
                    10458,
                    6426,
                    6188,
                    7504,
                    1750,
                    5439,
                    15547,
                    11956,
                    2723,
                    19327,
                    9058,
                    2996,
                    8848,
                    14336,
                    16401,
                    5173,
                    6328,
                    2534,
                    1435,
                    3052,
                    910,
                    2331,
                    679,
                    2086,
                    5012,
                    4501,
                    13482,
                    5621,
                    10486,
                    17626,
                    4494,
                    105,
                    2464,
                    1379,
                    2583,
                    3220,
                    4802,
                    5677,
                    945,
                    8757,
                    4816,
                    7532,
                    3549,
                    4340,
                    1799,
                    1127,
                    10038,
                    2926,
                    6279,
                    308,
                    3500,
                    658,
                    12565,
                    5012,
                    3955,
                    8512,
                    504,
                    2800,
                    4256,
                    13573,
                    6566,
                    13503,
                    8680,
                    385,
                    1267,
                    2961,
                    1981,
                    7959,
                    10794,
                    1897,
                    2744,
                    4382,
                    4515,
                    5474,
                    6069,
                    6944,
                    5859,
                    12173,
                    5292,
                    5705,
                    2492,
                    3024,
                    3437,
                    1869,
                    3171,
                    4858,
                    1225,
                    1155,
                    6811,
                    6433,
                    8169,
                    2275,
                    3857,
                    1463,
                    7924,
                    8799,
                    2898,
                    9506,
                    7175,
                    1729,
                    1589,
                    630,
                    112,
                    5187,
                    6223,
                    7714,
                    9457,
                    6678,
                    2107,
                    6069,
                    1862,
                    6972,
                    10220,
                    3969,
                    1547,
                    1162,
                    6342,
                    10633,
                    15057,
                    4704,
                    9338,
                    7959,
                    9023,
                    14525,
                    5810,
                    6426,
                    4403,
                    1582,
                    791,
                    9100,
                    9884,
                    3780,
                    4557,
                    5796,
                    84,
                    9037,
                    4746,
                    6713,
                    6237,
                    7483,
                    1309,
                    1155,
                    2989,
                    9625,
                    7357,
                    10031,
                    6587,
                    3311,
                    15330,
                    14028,
                    6678,
                    8624,
                    1197,
                    483,
                    1687,
                    1309,
                    9534,
                    1694,
                    70,
                    2443,
                    2933,
                    2044,
                    6524,
                    12656,
                    8722,
                    15750,
                    6839,
                    13685,
                    2912,
                    3339,
                    910,
                    19481,
                    8099,
                    13727,
                    8659,
                    5782,
                    8463,
                    4914,
                    3087,
                    9205,
                    2303,
                    1358,
                    3605,
                    8498,
                    700,
                    2191,
                    644,
                    4340,
                    2282,
                    7714,
                    826,
                    203,
                    13356,
                    6510,
                    5894,
                    7910,
                    784,
                    1750,
                    280,
                    504,
                    7154,
                    1617,
                    10822,
                    10724,
                    3640,
                    7532,
                    1582,
                    1456,
                    2016,
                    7588,
                    3402,
                    700,
                    1904,
                    4844,
                    9625,
                    4599,
                    3003,
                    9744,
                    1400,
                    364,
                    7231,
                    63,
                    8309,
                    3164,
                    5691,
                    490,
                    18032,
                    637,
                    4067,
                    8204,
                    9870,
                    5131,
                    1141,
                    7980,
                    5229,
                    3423,
                    6468,
                    4326,
                    7154,
                    3997,
                    5180,
                    2723,
                    952,
                    5691,
                    10969,
                    5964,
                    2821,
                    1302,
                    5474,
                    4179,
                    1946,
                    4291,
                    7196,
                    1939,
                    10437,
                    6916,
                    3647,
                    8995,
                    7252,
                    16380,
                    9660,
                    4522,
                    329,
                    3458,
                    4641,
                    4627,
                    3192,
                    252,
                    868,
                    210,
                    7007,
                    5845,
                    1372,
                    8428,
                    4977,
                    1694,
                    4326,
                    9527,
                    10766,
                    1288,
                    4879,
                    2408,
                    3094,
                    7231,
                    8981,
                    7,
                    1372,
                    5250,
                    7560,
                    5012,
                    3038,
                    1099,
                    7413,
                    5397,
                    2303,
                    1141,
                    10325,
                    2149,
                    12362,
                    12635,
                    2443,
                    6237,
                    1736,
                    7315,
                    4935,
                    1393,
                    3381,
                    2933,
                    3836,
                    8022,
                    371,
                    16702,
                    13258,
                    2058,
                    10192,
                    7140,
                    9835,
                    5775,
                    749,
                    7770,
                    5502,
                    6223,
                    3507,
                    5600,
                    721,
                    6615,
                    7420,
                    3164,
                    9114,
                    5404,
                    3990,
                    14924,
                    7091,
                    2807,
                    6496,
                    3738,
                    1190,
                    8379,
                    9268,
                    1029,
                    3549,
                    12026,
                    2303,
                    13405,
                    14763,
                    12894,
                    8302,
                    455,
                    8183,
                    1645,
                    3143,
                    5873,
                    11298,
                    12425,
                    1715,
                    8190,
                    4991,
                    15491,
                    5096,
                    7063,
                    2275,
                    7602,
                    4200,
                    11137,
                    3388,
                    6832,
                    3437,
                    301,
                    1869,
                    17465,
                    10143,
                    3626,
                    3346,
                    6321,
                    9345,
                    15008,
                    7609,
                    10332,
                    819,
                    5754,
                    28,
                    6440,
                    4956,
                    2352,
                    3906,
                    1813,
                    11788,
                    5768,
                    2401,
                    4515,
                    10794,
                    13706,
                    4361,
                    10122,
                    994,
                    2268,
                    574,
                    1792,
                    4844,
                    938,
                    4879,
                    9107,
                    12187,
                    5670,
                    476,
                    2681,
                    1533,
                    9765,
                    994,
                    3318,
                    4214,
                    7714,
                    4690,
                    13062,
                    12488,
                    14147,
                    49,
                    10199,
                    11389,
                    3584,
                    12481,
                    2107,
                    8603,
                    7483,
                    3381,
                    2030,
                    6559,
                    10822,
                    18697,
                    5845,
                    2317,
                    10150,
                    3437,
                    4592,
                    5691,
                    4158,
                    5684,
                    693,
                    546,
                    4263,
                    1036,
                    13846,
                    2499,
                    10689,
                    5768,
                    2226,
                    10262,
                    3864,
                    4900,
                    5250,
                    3507,
                    7413,
                    8155,
                    2478,
                    2471,
                    1666,
                    301,
                    8400,
                    6139,
                    1288,
                    7077,
                    2317,
                    63,
                    9744,
                    9954,
                    1260,
                    469,
                    973,
                    3647,
                    455,
                    2520,
                    10500,
                    7952,
                    483,
                    4872,
                    7756,
                    5446,
                    6594,
                    1470,
                    721,
                    4494,
                    2674,
                    658,
                    1127,
                    7364,
                    6818,
                    6776,
                    15099,
                    3612,
                    3710,
                    6111,
                    2702,
                    483,
                    5887,
                    952,
                    10647,
                    6055,
                    8757,
                    6055,
                    721,
                    8589,
                    11781,
                    672,
                    12558,
                    8337,
                    8134,
                    8491,
                    3066,
                    301,
                    4410,
                    6559,
                    574,
                    2086,
                    5075
                  ],
                  "yaxis": "y"
                }
              ],
              "layout": {
                "legend": {
                  "tracegroupgap": 0
                },
                "template": {
                  "data": {
                    "bar": [
                      {
                        "error_x": {
                          "color": "#2a3f5f"
                        },
                        "error_y": {
                          "color": "#2a3f5f"
                        },
                        "marker": {
                          "line": {
                            "color": "#E5ECF6",
                            "width": 0.5
                          },
                          "pattern": {
                            "fillmode": "overlay",
                            "size": 10,
                            "solidity": 0.2
                          }
                        },
                        "type": "bar"
                      }
                    ],
                    "barpolar": [
                      {
                        "marker": {
                          "line": {
                            "color": "#E5ECF6",
                            "width": 0.5
                          },
                          "pattern": {
                            "fillmode": "overlay",
                            "size": 10,
                            "solidity": 0.2
                          }
                        },
                        "type": "barpolar"
                      }
                    ],
                    "carpet": [
                      {
                        "aaxis": {
                          "endlinecolor": "#2a3f5f",
                          "gridcolor": "white",
                          "linecolor": "white",
                          "minorgridcolor": "white",
                          "startlinecolor": "#2a3f5f"
                        },
                        "baxis": {
                          "endlinecolor": "#2a3f5f",
                          "gridcolor": "white",
                          "linecolor": "white",
                          "minorgridcolor": "white",
                          "startlinecolor": "#2a3f5f"
                        },
                        "type": "carpet"
                      }
                    ],
                    "choropleth": [
                      {
                        "colorbar": {
                          "outlinewidth": 0,
                          "ticks": ""
                        },
                        "type": "choropleth"
                      }
                    ],
                    "contour": [
                      {
                        "colorbar": {
                          "outlinewidth": 0,
                          "ticks": ""
                        },
                        "colorscale": [
                          [
                            0,
                            "#0d0887"
                          ],
                          [
                            0.1111111111111111,
                            "#46039f"
                          ],
                          [
                            0.2222222222222222,
                            "#7201a8"
                          ],
                          [
                            0.3333333333333333,
                            "#9c179e"
                          ],
                          [
                            0.4444444444444444,
                            "#bd3786"
                          ],
                          [
                            0.5555555555555556,
                            "#d8576b"
                          ],
                          [
                            0.6666666666666666,
                            "#ed7953"
                          ],
                          [
                            0.7777777777777778,
                            "#fb9f3a"
                          ],
                          [
                            0.8888888888888888,
                            "#fdca26"
                          ],
                          [
                            1,
                            "#f0f921"
                          ]
                        ],
                        "type": "contour"
                      }
                    ],
                    "contourcarpet": [
                      {
                        "colorbar": {
                          "outlinewidth": 0,
                          "ticks": ""
                        },
                        "type": "contourcarpet"
                      }
                    ],
                    "heatmap": [
                      {
                        "colorbar": {
                          "outlinewidth": 0,
                          "ticks": ""
                        },
                        "colorscale": [
                          [
                            0,
                            "#0d0887"
                          ],
                          [
                            0.1111111111111111,
                            "#46039f"
                          ],
                          [
                            0.2222222222222222,
                            "#7201a8"
                          ],
                          [
                            0.3333333333333333,
                            "#9c179e"
                          ],
                          [
                            0.4444444444444444,
                            "#bd3786"
                          ],
                          [
                            0.5555555555555556,
                            "#d8576b"
                          ],
                          [
                            0.6666666666666666,
                            "#ed7953"
                          ],
                          [
                            0.7777777777777778,
                            "#fb9f3a"
                          ],
                          [
                            0.8888888888888888,
                            "#fdca26"
                          ],
                          [
                            1,
                            "#f0f921"
                          ]
                        ],
                        "type": "heatmap"
                      }
                    ],
                    "heatmapgl": [
                      {
                        "colorbar": {
                          "outlinewidth": 0,
                          "ticks": ""
                        },
                        "colorscale": [
                          [
                            0,
                            "#0d0887"
                          ],
                          [
                            0.1111111111111111,
                            "#46039f"
                          ],
                          [
                            0.2222222222222222,
                            "#7201a8"
                          ],
                          [
                            0.3333333333333333,
                            "#9c179e"
                          ],
                          [
                            0.4444444444444444,
                            "#bd3786"
                          ],
                          [
                            0.5555555555555556,
                            "#d8576b"
                          ],
                          [
                            0.6666666666666666,
                            "#ed7953"
                          ],
                          [
                            0.7777777777777778,
                            "#fb9f3a"
                          ],
                          [
                            0.8888888888888888,
                            "#fdca26"
                          ],
                          [
                            1,
                            "#f0f921"
                          ]
                        ],
                        "type": "heatmapgl"
                      }
                    ],
                    "histogram": [
                      {
                        "marker": {
                          "pattern": {
                            "fillmode": "overlay",
                            "size": 10,
                            "solidity": 0.2
                          }
                        },
                        "type": "histogram"
                      }
                    ],
                    "histogram2d": [
                      {
                        "colorbar": {
                          "outlinewidth": 0,
                          "ticks": ""
                        },
                        "colorscale": [
                          [
                            0,
                            "#0d0887"
                          ],
                          [
                            0.1111111111111111,
                            "#46039f"
                          ],
                          [
                            0.2222222222222222,
                            "#7201a8"
                          ],
                          [
                            0.3333333333333333,
                            "#9c179e"
                          ],
                          [
                            0.4444444444444444,
                            "#bd3786"
                          ],
                          [
                            0.5555555555555556,
                            "#d8576b"
                          ],
                          [
                            0.6666666666666666,
                            "#ed7953"
                          ],
                          [
                            0.7777777777777778,
                            "#fb9f3a"
                          ],
                          [
                            0.8888888888888888,
                            "#fdca26"
                          ],
                          [
                            1,
                            "#f0f921"
                          ]
                        ],
                        "type": "histogram2d"
                      }
                    ],
                    "histogram2dcontour": [
                      {
                        "colorbar": {
                          "outlinewidth": 0,
                          "ticks": ""
                        },
                        "colorscale": [
                          [
                            0,
                            "#0d0887"
                          ],
                          [
                            0.1111111111111111,
                            "#46039f"
                          ],
                          [
                            0.2222222222222222,
                            "#7201a8"
                          ],
                          [
                            0.3333333333333333,
                            "#9c179e"
                          ],
                          [
                            0.4444444444444444,
                            "#bd3786"
                          ],
                          [
                            0.5555555555555556,
                            "#d8576b"
                          ],
                          [
                            0.6666666666666666,
                            "#ed7953"
                          ],
                          [
                            0.7777777777777778,
                            "#fb9f3a"
                          ],
                          [
                            0.8888888888888888,
                            "#fdca26"
                          ],
                          [
                            1,
                            "#f0f921"
                          ]
                        ],
                        "type": "histogram2dcontour"
                      }
                    ],
                    "mesh3d": [
                      {
                        "colorbar": {
                          "outlinewidth": 0,
                          "ticks": ""
                        },
                        "type": "mesh3d"
                      }
                    ],
                    "parcoords": [
                      {
                        "line": {
                          "colorbar": {
                            "outlinewidth": 0,
                            "ticks": ""
                          }
                        },
                        "type": "parcoords"
                      }
                    ],
                    "pie": [
                      {
                        "automargin": true,
                        "type": "pie"
                      }
                    ],
                    "scatter": [
                      {
                        "fillpattern": {
                          "fillmode": "overlay",
                          "size": 10,
                          "solidity": 0.2
                        },
                        "type": "scatter"
                      }
                    ],
                    "scatter3d": [
                      {
                        "line": {
                          "colorbar": {
                            "outlinewidth": 0,
                            "ticks": ""
                          }
                        },
                        "marker": {
                          "colorbar": {
                            "outlinewidth": 0,
                            "ticks": ""
                          }
                        },
                        "type": "scatter3d"
                      }
                    ],
                    "scattercarpet": [
                      {
                        "marker": {
                          "colorbar": {
                            "outlinewidth": 0,
                            "ticks": ""
                          }
                        },
                        "type": "scattercarpet"
                      }
                    ],
                    "scattergeo": [
                      {
                        "marker": {
                          "colorbar": {
                            "outlinewidth": 0,
                            "ticks": ""
                          }
                        },
                        "type": "scattergeo"
                      }
                    ],
                    "scattergl": [
                      {
                        "marker": {
                          "colorbar": {
                            "outlinewidth": 0,
                            "ticks": ""
                          }
                        },
                        "type": "scattergl"
                      }
                    ],
                    "scattermapbox": [
                      {
                        "marker": {
                          "colorbar": {
                            "outlinewidth": 0,
                            "ticks": ""
                          }
                        },
                        "type": "scattermapbox"
                      }
                    ],
                    "scatterpolar": [
                      {
                        "marker": {
                          "colorbar": {
                            "outlinewidth": 0,
                            "ticks": ""
                          }
                        },
                        "type": "scatterpolar"
                      }
                    ],
                    "scatterpolargl": [
                      {
                        "marker": {
                          "colorbar": {
                            "outlinewidth": 0,
                            "ticks": ""
                          }
                        },
                        "type": "scatterpolargl"
                      }
                    ],
                    "scatterternary": [
                      {
                        "marker": {
                          "colorbar": {
                            "outlinewidth": 0,
                            "ticks": ""
                          }
                        },
                        "type": "scatterternary"
                      }
                    ],
                    "surface": [
                      {
                        "colorbar": {
                          "outlinewidth": 0,
                          "ticks": ""
                        },
                        "colorscale": [
                          [
                            0,
                            "#0d0887"
                          ],
                          [
                            0.1111111111111111,
                            "#46039f"
                          ],
                          [
                            0.2222222222222222,
                            "#7201a8"
                          ],
                          [
                            0.3333333333333333,
                            "#9c179e"
                          ],
                          [
                            0.4444444444444444,
                            "#bd3786"
                          ],
                          [
                            0.5555555555555556,
                            "#d8576b"
                          ],
                          [
                            0.6666666666666666,
                            "#ed7953"
                          ],
                          [
                            0.7777777777777778,
                            "#fb9f3a"
                          ],
                          [
                            0.8888888888888888,
                            "#fdca26"
                          ],
                          [
                            1,
                            "#f0f921"
                          ]
                        ],
                        "type": "surface"
                      }
                    ],
                    "table": [
                      {
                        "cells": {
                          "fill": {
                            "color": "#EBF0F8"
                          },
                          "line": {
                            "color": "white"
                          }
                        },
                        "header": {
                          "fill": {
                            "color": "#C8D4E3"
                          },
                          "line": {
                            "color": "white"
                          }
                        },
                        "type": "table"
                      }
                    ]
                  },
                  "layout": {
                    "annotationdefaults": {
                      "arrowcolor": "#2a3f5f",
                      "arrowhead": 0,
                      "arrowwidth": 1
                    },
                    "autotypenumbers": "strict",
                    "coloraxis": {
                      "colorbar": {
                        "outlinewidth": 0,
                        "ticks": ""
                      }
                    },
                    "colorscale": {
                      "diverging": [
                        [
                          0,
                          "#8e0152"
                        ],
                        [
                          0.1,
                          "#c51b7d"
                        ],
                        [
                          0.2,
                          "#de77ae"
                        ],
                        [
                          0.3,
                          "#f1b6da"
                        ],
                        [
                          0.4,
                          "#fde0ef"
                        ],
                        [
                          0.5,
                          "#f7f7f7"
                        ],
                        [
                          0.6,
                          "#e6f5d0"
                        ],
                        [
                          0.7,
                          "#b8e186"
                        ],
                        [
                          0.8,
                          "#7fbc41"
                        ],
                        [
                          0.9,
                          "#4d9221"
                        ],
                        [
                          1,
                          "#276419"
                        ]
                      ],
                      "sequential": [
                        [
                          0,
                          "#0d0887"
                        ],
                        [
                          0.1111111111111111,
                          "#46039f"
                        ],
                        [
                          0.2222222222222222,
                          "#7201a8"
                        ],
                        [
                          0.3333333333333333,
                          "#9c179e"
                        ],
                        [
                          0.4444444444444444,
                          "#bd3786"
                        ],
                        [
                          0.5555555555555556,
                          "#d8576b"
                        ],
                        [
                          0.6666666666666666,
                          "#ed7953"
                        ],
                        [
                          0.7777777777777778,
                          "#fb9f3a"
                        ],
                        [
                          0.8888888888888888,
                          "#fdca26"
                        ],
                        [
                          1,
                          "#f0f921"
                        ]
                      ],
                      "sequentialminus": [
                        [
                          0,
                          "#0d0887"
                        ],
                        [
                          0.1111111111111111,
                          "#46039f"
                        ],
                        [
                          0.2222222222222222,
                          "#7201a8"
                        ],
                        [
                          0.3333333333333333,
                          "#9c179e"
                        ],
                        [
                          0.4444444444444444,
                          "#bd3786"
                        ],
                        [
                          0.5555555555555556,
                          "#d8576b"
                        ],
                        [
                          0.6666666666666666,
                          "#ed7953"
                        ],
                        [
                          0.7777777777777778,
                          "#fb9f3a"
                        ],
                        [
                          0.8888888888888888,
                          "#fdca26"
                        ],
                        [
                          1,
                          "#f0f921"
                        ]
                      ]
                    },
                    "colorway": [
                      "#636efa",
                      "#EF553B",
                      "#00cc96",
                      "#ab63fa",
                      "#FFA15A",
                      "#19d3f3",
                      "#FF6692",
                      "#B6E880",
                      "#FF97FF",
                      "#FECB52"
                    ],
                    "font": {
                      "color": "#2a3f5f"
                    },
                    "geo": {
                      "bgcolor": "white",
                      "lakecolor": "white",
                      "landcolor": "#E5ECF6",
                      "showlakes": true,
                      "showland": true,
                      "subunitcolor": "white"
                    },
                    "hoverlabel": {
                      "align": "left"
                    },
                    "hovermode": "closest",
                    "mapbox": {
                      "style": "light"
                    },
                    "paper_bgcolor": "white",
                    "plot_bgcolor": "#E5ECF6",
                    "polar": {
                      "angularaxis": {
                        "gridcolor": "white",
                        "linecolor": "white",
                        "ticks": ""
                      },
                      "bgcolor": "#E5ECF6",
                      "radialaxis": {
                        "gridcolor": "white",
                        "linecolor": "white",
                        "ticks": ""
                      }
                    },
                    "scene": {
                      "xaxis": {
                        "backgroundcolor": "#E5ECF6",
                        "gridcolor": "white",
                        "gridwidth": 2,
                        "linecolor": "white",
                        "showbackground": true,
                        "ticks": "",
                        "zerolinecolor": "white"
                      },
                      "yaxis": {
                        "backgroundcolor": "#E5ECF6",
                        "gridcolor": "white",
                        "gridwidth": 2,
                        "linecolor": "white",
                        "showbackground": true,
                        "ticks": "",
                        "zerolinecolor": "white"
                      },
                      "zaxis": {
                        "backgroundcolor": "#E5ECF6",
                        "gridcolor": "white",
                        "gridwidth": 2,
                        "linecolor": "white",
                        "showbackground": true,
                        "ticks": "",
                        "zerolinecolor": "white"
                      }
                    },
                    "shapedefaults": {
                      "line": {
                        "color": "#2a3f5f"
                      }
                    },
                    "ternary": {
                      "aaxis": {
                        "gridcolor": "white",
                        "linecolor": "white",
                        "ticks": ""
                      },
                      "baxis": {
                        "gridcolor": "white",
                        "linecolor": "white",
                        "ticks": ""
                      },
                      "bgcolor": "#E5ECF6",
                      "caxis": {
                        "gridcolor": "white",
                        "linecolor": "white",
                        "ticks": ""
                      }
                    },
                    "title": {
                      "x": 0.05
                    },
                    "xaxis": {
                      "automargin": true,
                      "gridcolor": "white",
                      "linecolor": "white",
                      "ticks": "",
                      "title": {
                        "standoff": 15
                      },
                      "zerolinecolor": "white",
                      "zerolinewidth": 2
                    },
                    "yaxis": {
                      "automargin": true,
                      "gridcolor": "white",
                      "linecolor": "white",
                      "ticks": "",
                      "title": {
                        "standoff": 15
                      },
                      "zerolinecolor": "white",
                      "zerolinewidth": 2
                    }
                  }
                },
                "title": {
                  "text": "Sales Amount vs. Boxes Shipped"
                },
                "xaxis": {
                  "anchor": "y",
                  "domain": [
                    0,
                    1
                  ],
                  "title": {
                    "text": "Boxes Shipped"
                  }
                },
                "yaxis": {
                  "anchor": "x",
                  "domain": [
                    0,
                    1
                  ],
                  "title": {
                    "text": "Sales Amount"
                  }
                }
              }
            }
          },
          "metadata": {},
          "output_type": "display_data"
        }
      ],
      "source": [
        "# Calculate correlation between Sales Amount and Boxes Shipped\n",
        "correlation = df[\"Amount\"].corr(df[\"Boxes Shipped\"])\n",
        "print(f\"Correlation between Sales Amount and Boxes Shipped: {correlation}\")\n",
        "\n",
        "# Create Scatter Plot in Plotly\n",
        "fig_scatter = px.scatter(df, \n",
        "                         x=\"Boxes Shipped\", \n",
        "                         y=\"Amount\", \n",
        "                         title=\"Sales Amount vs. Boxes Shipped\",\n",
        "                         labels={\"Boxes Shipped\": \"Boxes Shipped\", \"Amount\": \"Sales Amount\"},\n",
        "                         color_discrete_sequence=[\"#714737\"])\n",
        "\n",
        "# Show the figure\n",
        "fig_scatter.show()"
      ]
    },
    {
      "cell_type": "markdown",
      "metadata": {},
      "source": [
        "- This scatter plot and correlation analysis showcases what we thought when looking at the bar chart for boxes shipped earlier, the number of boxes shipped has almost no correlation meaning that the fact that there was more variation in the number of boxes shipped compared to total sales revenue can be attributed to countries selling fewer boxes but at a higher price, leading to a more uniform distribution of revenue across countries."
      ]
    },
    {
      "cell_type": "markdown",
      "metadata": {},
      "source": [
        "<h3 style='color:#714737;'>Hypothesis 3</h3>"
      ]
    },
    {
      "cell_type": "markdown",
      "metadata": {},
      "source": [
        "Hypothesis: Certain chocolate categories generate higher revenue per box shipped compared to others.\n",
        "\n",
        "Null hypothesis: There is no significant difference in revenue per box shipped between different categories."
      ]
    },
    {
      "cell_type": "code",
      "execution_count": 17,
      "metadata": {},
      "outputs": [
        {
          "data": {
            "text/html": [
              "<div>\n",
              "<style scoped>\n",
              "    .dataframe tbody tr th:only-of-type {\n",
              "        vertical-align: middle;\n",
              "    }\n",
              "\n",
              "    .dataframe tbody tr th {\n",
              "        vertical-align: top;\n",
              "    }\n",
              "\n",
              "    .dataframe thead th {\n",
              "        text-align: right;\n",
              "    }\n",
              "</style>\n",
              "<table border=\"1\" class=\"dataframe\">\n",
              "  <thead>\n",
              "    <tr style=\"text-align: right;\">\n",
              "      <th></th>\n",
              "      <th>W</th>\n",
              "      <th>pval</th>\n",
              "      <th>normal</th>\n",
              "    </tr>\n",
              "    <tr>\n",
              "      <th>Product Category</th>\n",
              "      <th></th>\n",
              "      <th></th>\n",
              "      <th></th>\n",
              "    </tr>\n",
              "  </thead>\n",
              "  <tbody>\n",
              "    <tr>\n",
              "      <th>Flavored Chocolate</th>\n",
              "      <td>0.342095</td>\n",
              "      <td>8.356434e-33</td>\n",
              "      <td>False</td>\n",
              "    </tr>\n",
              "    <tr>\n",
              "      <th>Dark Chocolate</th>\n",
              "      <td>0.392644</td>\n",
              "      <td>1.504762e-25</td>\n",
              "      <td>False</td>\n",
              "    </tr>\n",
              "    <tr>\n",
              "      <th>Nut-based Chocolate</th>\n",
              "      <td>0.443419</td>\n",
              "      <td>1.516558e-20</td>\n",
              "      <td>False</td>\n",
              "    </tr>\n",
              "    <tr>\n",
              "      <th>Specialty Chocolate</th>\n",
              "      <td>0.385787</td>\n",
              "      <td>2.186638e-31</td>\n",
              "      <td>False</td>\n",
              "    </tr>\n",
              "    <tr>\n",
              "      <th>Milk &amp; White Chocolate</th>\n",
              "      <td>0.306886</td>\n",
              "      <td>3.209808e-20</td>\n",
              "      <td>False</td>\n",
              "    </tr>\n",
              "  </tbody>\n",
              "</table>\n",
              "</div>"
            ],
            "text/plain": [
              "                               W          pval  normal\n",
              "Product Category                                      \n",
              "Flavored Chocolate      0.342095  8.356434e-33   False\n",
              "Dark Chocolate          0.392644  1.504762e-25   False\n",
              "Nut-based Chocolate     0.443419  1.516558e-20   False\n",
              "Specialty Chocolate     0.385787  2.186638e-31   False\n",
              "Milk & White Chocolate  0.306886  3.209808e-20   False"
            ]
          },
          "execution_count": 17,
          "metadata": {},
          "output_type": "execute_result"
        }
      ],
      "source": [
        "# Checking for normality to decide which test to use\n",
        "pg.normality(data=df, dv='Revenue per Box Shipped', group='Product Category')\n"
      ]
    },
    {
      "cell_type": "code",
      "execution_count": 18,
      "metadata": {},
      "outputs": [
        {
          "data": {
            "text/html": [
              "<div>\n",
              "<style scoped>\n",
              "    .dataframe tbody tr th:only-of-type {\n",
              "        vertical-align: middle;\n",
              "    }\n",
              "\n",
              "    .dataframe tbody tr th {\n",
              "        vertical-align: top;\n",
              "    }\n",
              "\n",
              "    .dataframe thead th {\n",
              "        text-align: right;\n",
              "    }\n",
              "</style>\n",
              "<table border=\"1\" class=\"dataframe\">\n",
              "  <thead>\n",
              "    <tr style=\"text-align: right;\">\n",
              "      <th></th>\n",
              "      <th>Source</th>\n",
              "      <th>ddof1</th>\n",
              "      <th>H</th>\n",
              "      <th>p-unc</th>\n",
              "    </tr>\n",
              "  </thead>\n",
              "  <tbody>\n",
              "    <tr>\n",
              "      <th>Kruskal</th>\n",
              "      <td>Product Category</td>\n",
              "      <td>4</td>\n",
              "      <td>2.516008</td>\n",
              "      <td>0.641772</td>\n",
              "    </tr>\n",
              "  </tbody>\n",
              "</table>\n",
              "</div>"
            ],
            "text/plain": [
              "                   Source  ddof1         H     p-unc\n",
              "Kruskal  Product Category      4  2.516008  0.641772"
            ]
          },
          "execution_count": 18,
          "metadata": {},
          "output_type": "execute_result"
        }
      ],
      "source": [
        "# Using Kruskal-Wallis test to compare sales revenue by product category as the data is not normally distributed\n",
        "pg.kruskal(data=df, dv='Revenue per Box Shipped', between='Product Category')"
      ]
    },
    {
      "cell_type": "markdown",
      "metadata": {},
      "source": [
        "-The result of the Kruskal-Wallis test shows that we must once again accept the null hypothesis in this case.\n",
        "- We will try to show this visually below before concluding if this is truly the case."
      ]
    },
    {
      "cell_type": "code",
      "execution_count": 19,
      "metadata": {},
      "outputs": [
        {
          "name": "stdout",
          "output_type": "stream",
          "text": [
            "Original rows: 1094\n",
            "Rows after removing outliers: 964\n"
          ]
        },
        {
          "data": {
            "application/vnd.plotly.v1+json": {
              "config": {
                "plotlyServerURL": "https://plot.ly"
              },
              "data": [
                {
                  "alignmentgroup": "True",
                  "hovertemplate": "Product Category=%{x}<br>Revenue per Box ($)=%{y}<extra></extra>",
                  "legendgroup": "Flavored Chocolate",
                  "marker": {
                    "color": "#636efa"
                  },
                  "name": "Flavored Chocolate",
                  "notched": false,
                  "offsetgroup": "Flavored Chocolate",
                  "orientation": "v",
                  "showlegend": true,
                  "type": "box",
                  "x": [
                    "Flavored Chocolate",
                    "Flavored Chocolate",
                    "Flavored Chocolate",
                    "Flavored Chocolate",
                    "Flavored Chocolate",
                    "Flavored Chocolate",
                    "Flavored Chocolate",
                    "Flavored Chocolate",
                    "Flavored Chocolate",
                    "Flavored Chocolate",
                    "Flavored Chocolate",
                    "Flavored Chocolate",
                    "Flavored Chocolate",
                    "Flavored Chocolate",
                    "Flavored Chocolate",
                    "Flavored Chocolate",
                    "Flavored Chocolate",
                    "Flavored Chocolate",
                    "Flavored Chocolate",
                    "Flavored Chocolate",
                    "Flavored Chocolate",
                    "Flavored Chocolate",
                    "Flavored Chocolate",
                    "Flavored Chocolate",
                    "Flavored Chocolate",
                    "Flavored Chocolate",
                    "Flavored Chocolate",
                    "Flavored Chocolate",
                    "Flavored Chocolate",
                    "Flavored Chocolate",
                    "Flavored Chocolate",
                    "Flavored Chocolate",
                    "Flavored Chocolate",
                    "Flavored Chocolate",
                    "Flavored Chocolate",
                    "Flavored Chocolate",
                    "Flavored Chocolate",
                    "Flavored Chocolate",
                    "Flavored Chocolate",
                    "Flavored Chocolate",
                    "Flavored Chocolate",
                    "Flavored Chocolate",
                    "Flavored Chocolate",
                    "Flavored Chocolate",
                    "Flavored Chocolate",
                    "Flavored Chocolate",
                    "Flavored Chocolate",
                    "Flavored Chocolate",
                    "Flavored Chocolate",
                    "Flavored Chocolate",
                    "Flavored Chocolate",
                    "Flavored Chocolate",
                    "Flavored Chocolate",
                    "Flavored Chocolate",
                    "Flavored Chocolate",
                    "Flavored Chocolate",
                    "Flavored Chocolate",
                    "Flavored Chocolate",
                    "Flavored Chocolate",
                    "Flavored Chocolate",
                    "Flavored Chocolate",
                    "Flavored Chocolate",
                    "Flavored Chocolate",
                    "Flavored Chocolate",
                    "Flavored Chocolate",
                    "Flavored Chocolate",
                    "Flavored Chocolate",
                    "Flavored Chocolate",
                    "Flavored Chocolate",
                    "Flavored Chocolate",
                    "Flavored Chocolate",
                    "Flavored Chocolate",
                    "Flavored Chocolate",
                    "Flavored Chocolate",
                    "Flavored Chocolate",
                    "Flavored Chocolate",
                    "Flavored Chocolate",
                    "Flavored Chocolate",
                    "Flavored Chocolate",
                    "Flavored Chocolate",
                    "Flavored Chocolate",
                    "Flavored Chocolate",
                    "Flavored Chocolate",
                    "Flavored Chocolate",
                    "Flavored Chocolate",
                    "Flavored Chocolate",
                    "Flavored Chocolate",
                    "Flavored Chocolate",
                    "Flavored Chocolate",
                    "Flavored Chocolate",
                    "Flavored Chocolate",
                    "Flavored Chocolate",
                    "Flavored Chocolate",
                    "Flavored Chocolate",
                    "Flavored Chocolate",
                    "Flavored Chocolate",
                    "Flavored Chocolate",
                    "Flavored Chocolate",
                    "Flavored Chocolate",
                    "Flavored Chocolate",
                    "Flavored Chocolate",
                    "Flavored Chocolate",
                    "Flavored Chocolate",
                    "Flavored Chocolate",
                    "Flavored Chocolate",
                    "Flavored Chocolate",
                    "Flavored Chocolate",
                    "Flavored Chocolate",
                    "Flavored Chocolate",
                    "Flavored Chocolate",
                    "Flavored Chocolate",
                    "Flavored Chocolate",
                    "Flavored Chocolate",
                    "Flavored Chocolate",
                    "Flavored Chocolate",
                    "Flavored Chocolate",
                    "Flavored Chocolate",
                    "Flavored Chocolate",
                    "Flavored Chocolate",
                    "Flavored Chocolate",
                    "Flavored Chocolate",
                    "Flavored Chocolate",
                    "Flavored Chocolate",
                    "Flavored Chocolate",
                    "Flavored Chocolate",
                    "Flavored Chocolate",
                    "Flavored Chocolate",
                    "Flavored Chocolate",
                    "Flavored Chocolate",
                    "Flavored Chocolate",
                    "Flavored Chocolate",
                    "Flavored Chocolate",
                    "Flavored Chocolate",
                    "Flavored Chocolate",
                    "Flavored Chocolate",
                    "Flavored Chocolate",
                    "Flavored Chocolate",
                    "Flavored Chocolate",
                    "Flavored Chocolate",
                    "Flavored Chocolate",
                    "Flavored Chocolate",
                    "Flavored Chocolate",
                    "Flavored Chocolate",
                    "Flavored Chocolate",
                    "Flavored Chocolate",
                    "Flavored Chocolate",
                    "Flavored Chocolate",
                    "Flavored Chocolate",
                    "Flavored Chocolate",
                    "Flavored Chocolate",
                    "Flavored Chocolate",
                    "Flavored Chocolate",
                    "Flavored Chocolate",
                    "Flavored Chocolate",
                    "Flavored Chocolate",
                    "Flavored Chocolate",
                    "Flavored Chocolate",
                    "Flavored Chocolate",
                    "Flavored Chocolate",
                    "Flavored Chocolate",
                    "Flavored Chocolate",
                    "Flavored Chocolate",
                    "Flavored Chocolate",
                    "Flavored Chocolate",
                    "Flavored Chocolate",
                    "Flavored Chocolate",
                    "Flavored Chocolate",
                    "Flavored Chocolate",
                    "Flavored Chocolate",
                    "Flavored Chocolate",
                    "Flavored Chocolate",
                    "Flavored Chocolate",
                    "Flavored Chocolate",
                    "Flavored Chocolate",
                    "Flavored Chocolate",
                    "Flavored Chocolate",
                    "Flavored Chocolate",
                    "Flavored Chocolate",
                    "Flavored Chocolate",
                    "Flavored Chocolate",
                    "Flavored Chocolate",
                    "Flavored Chocolate",
                    "Flavored Chocolate",
                    "Flavored Chocolate",
                    "Flavored Chocolate",
                    "Flavored Chocolate",
                    "Flavored Chocolate",
                    "Flavored Chocolate",
                    "Flavored Chocolate",
                    "Flavored Chocolate",
                    "Flavored Chocolate",
                    "Flavored Chocolate",
                    "Flavored Chocolate",
                    "Flavored Chocolate",
                    "Flavored Chocolate",
                    "Flavored Chocolate",
                    "Flavored Chocolate",
                    "Flavored Chocolate",
                    "Flavored Chocolate",
                    "Flavored Chocolate",
                    "Flavored Chocolate",
                    "Flavored Chocolate",
                    "Flavored Chocolate",
                    "Flavored Chocolate",
                    "Flavored Chocolate",
                    "Flavored Chocolate",
                    "Flavored Chocolate",
                    "Flavored Chocolate",
                    "Flavored Chocolate",
                    "Flavored Chocolate",
                    "Flavored Chocolate",
                    "Flavored Chocolate",
                    "Flavored Chocolate",
                    "Flavored Chocolate",
                    "Flavored Chocolate",
                    "Flavored Chocolate",
                    "Flavored Chocolate",
                    "Flavored Chocolate",
                    "Flavored Chocolate",
                    "Flavored Chocolate",
                    "Flavored Chocolate",
                    "Flavored Chocolate",
                    "Flavored Chocolate",
                    "Flavored Chocolate",
                    "Flavored Chocolate",
                    "Flavored Chocolate",
                    "Flavored Chocolate",
                    "Flavored Chocolate",
                    "Flavored Chocolate",
                    "Flavored Chocolate",
                    "Flavored Chocolate",
                    "Flavored Chocolate",
                    "Flavored Chocolate",
                    "Flavored Chocolate",
                    "Flavored Chocolate",
                    "Flavored Chocolate",
                    "Flavored Chocolate",
                    "Flavored Chocolate",
                    "Flavored Chocolate",
                    "Flavored Chocolate",
                    "Flavored Chocolate",
                    "Flavored Chocolate",
                    "Flavored Chocolate",
                    "Flavored Chocolate",
                    "Flavored Chocolate",
                    "Flavored Chocolate",
                    "Flavored Chocolate",
                    "Flavored Chocolate",
                    "Flavored Chocolate",
                    "Flavored Chocolate",
                    "Flavored Chocolate",
                    "Flavored Chocolate",
                    "Flavored Chocolate",
                    "Flavored Chocolate",
                    "Flavored Chocolate",
                    "Flavored Chocolate",
                    "Flavored Chocolate",
                    "Flavored Chocolate",
                    "Flavored Chocolate",
                    "Flavored Chocolate",
                    "Flavored Chocolate",
                    "Flavored Chocolate",
                    "Flavored Chocolate",
                    "Flavored Chocolate",
                    "Flavored Chocolate",
                    "Flavored Chocolate",
                    "Flavored Chocolate",
                    "Flavored Chocolate",
                    "Flavored Chocolate",
                    "Flavored Chocolate",
                    "Flavored Chocolate",
                    "Flavored Chocolate",
                    "Flavored Chocolate",
                    "Flavored Chocolate",
                    "Flavored Chocolate",
                    "Flavored Chocolate",
                    "Flavored Chocolate",
                    "Flavored Chocolate",
                    "Flavored Chocolate",
                    "Flavored Chocolate",
                    "Flavored Chocolate",
                    "Flavored Chocolate",
                    "Flavored Chocolate",
                    "Flavored Chocolate"
                  ],
                  "x0": " ",
                  "xaxis": "x",
                  "y": [
                    30,
                    8,
                    1,
                    9,
                    17,
                    46,
                    30,
                    4,
                    42,
                    44,
                    30,
                    5,
                    42,
                    1,
                    0,
                    28,
                    18,
                    21,
                    1,
                    27,
                    4,
                    80,
                    112,
                    68,
                    4,
                    116,
                    61,
                    4,
                    68,
                    7,
                    149,
                    47,
                    10,
                    91,
                    92,
                    30,
                    54,
                    6,
                    32,
                    1,
                    16,
                    1,
                    98,
                    6,
                    60,
                    105,
                    83,
                    26,
                    79,
                    34,
                    78,
                    57,
                    25,
                    147,
                    40,
                    53,
                    1,
                    15,
                    21,
                    48,
                    4,
                    13,
                    53,
                    12,
                    4,
                    18,
                    60,
                    46,
                    13,
                    14,
                    8,
                    80,
                    6,
                    31,
                    16,
                    101,
                    11,
                    22,
                    135,
                    1,
                    68,
                    38,
                    9,
                    27,
                    22,
                    47,
                    4,
                    7,
                    25,
                    22,
                    15,
                    16,
                    60,
                    48,
                    10,
                    71,
                    29,
                    41,
                    41,
                    23,
                    9,
                    25,
                    96,
                    20,
                    22,
                    33,
                    68,
                    64,
                    70,
                    16,
                    28,
                    10,
                    19,
                    16,
                    9,
                    11,
                    21,
                    10,
                    53,
                    39,
                    23,
                    44,
                    63,
                    8,
                    24,
                    12,
                    54,
                    3,
                    13,
                    87,
                    18,
                    56,
                    61,
                    45,
                    38,
                    36,
                    38,
                    152,
                    5,
                    90,
                    12,
                    1,
                    12,
                    84,
                    26,
                    55,
                    76,
                    104,
                    45,
                    34,
                    19,
                    43,
                    40,
                    34,
                    42,
                    92,
                    39,
                    6,
                    4,
                    12,
                    171,
                    12,
                    16,
                    54,
                    33,
                    19,
                    6,
                    10,
                    27,
                    10,
                    45,
                    62,
                    64,
                    98,
                    66,
                    34,
                    10,
                    150,
                    12,
                    23,
                    76,
                    10,
                    15,
                    20,
                    93,
                    8,
                    29,
                    10,
                    6,
                    12,
                    24,
                    40,
                    9,
                    66,
                    28,
                    19,
                    1,
                    35,
                    17,
                    26,
                    22,
                    3,
                    6,
                    1,
                    53,
                    22,
                    80,
                    122,
                    20,
                    56,
                    22,
                    13,
                    50,
                    6,
                    6,
                    124,
                    14,
                    14,
                    26,
                    2,
                    27,
                    71,
                    54,
                    6,
                    40,
                    39,
                    15,
                    27,
                    13,
                    64,
                    2,
                    16,
                    48,
                    7,
                    13,
                    65,
                    11,
                    31,
                    152,
                    59,
                    144,
                    65,
                    5,
                    93,
                    32,
                    127,
                    16,
                    19,
                    12,
                    11,
                    72,
                    70,
                    57,
                    41,
                    51,
                    109,
                    17,
                    4,
                    9,
                    18,
                    11,
                    62,
                    18,
                    12,
                    14,
                    75,
                    14,
                    25,
                    16,
                    85,
                    12,
                    16,
                    1,
                    5,
                    1,
                    65,
                    5,
                    16,
                    9,
                    62,
                    26,
                    38,
                    3,
                    14
                  ],
                  "y0": " ",
                  "yaxis": "y"
                },
                {
                  "alignmentgroup": "True",
                  "hovertemplate": "Product Category=%{x}<br>Revenue per Box ($)=%{y}<extra></extra>",
                  "legendgroup": "Dark Chocolate",
                  "marker": {
                    "color": "#EF553B"
                  },
                  "name": "Dark Chocolate",
                  "notched": false,
                  "offsetgroup": "Dark Chocolate",
                  "orientation": "v",
                  "showlegend": true,
                  "type": "box",
                  "x": [
                    "Dark Chocolate",
                    "Dark Chocolate",
                    "Dark Chocolate",
                    "Dark Chocolate",
                    "Dark Chocolate",
                    "Dark Chocolate",
                    "Dark Chocolate",
                    "Dark Chocolate",
                    "Dark Chocolate",
                    "Dark Chocolate",
                    "Dark Chocolate",
                    "Dark Chocolate",
                    "Dark Chocolate",
                    "Dark Chocolate",
                    "Dark Chocolate",
                    "Dark Chocolate",
                    "Dark Chocolate",
                    "Dark Chocolate",
                    "Dark Chocolate",
                    "Dark Chocolate",
                    "Dark Chocolate",
                    "Dark Chocolate",
                    "Dark Chocolate",
                    "Dark Chocolate",
                    "Dark Chocolate",
                    "Dark Chocolate",
                    "Dark Chocolate",
                    "Dark Chocolate",
                    "Dark Chocolate",
                    "Dark Chocolate",
                    "Dark Chocolate",
                    "Dark Chocolate",
                    "Dark Chocolate",
                    "Dark Chocolate",
                    "Dark Chocolate",
                    "Dark Chocolate",
                    "Dark Chocolate",
                    "Dark Chocolate",
                    "Dark Chocolate",
                    "Dark Chocolate",
                    "Dark Chocolate",
                    "Dark Chocolate",
                    "Dark Chocolate",
                    "Dark Chocolate",
                    "Dark Chocolate",
                    "Dark Chocolate",
                    "Dark Chocolate",
                    "Dark Chocolate",
                    "Dark Chocolate",
                    "Dark Chocolate",
                    "Dark Chocolate",
                    "Dark Chocolate",
                    "Dark Chocolate",
                    "Dark Chocolate",
                    "Dark Chocolate",
                    "Dark Chocolate",
                    "Dark Chocolate",
                    "Dark Chocolate",
                    "Dark Chocolate",
                    "Dark Chocolate",
                    "Dark Chocolate",
                    "Dark Chocolate",
                    "Dark Chocolate",
                    "Dark Chocolate",
                    "Dark Chocolate",
                    "Dark Chocolate",
                    "Dark Chocolate",
                    "Dark Chocolate",
                    "Dark Chocolate",
                    "Dark Chocolate",
                    "Dark Chocolate",
                    "Dark Chocolate",
                    "Dark Chocolate",
                    "Dark Chocolate",
                    "Dark Chocolate",
                    "Dark Chocolate",
                    "Dark Chocolate",
                    "Dark Chocolate",
                    "Dark Chocolate",
                    "Dark Chocolate",
                    "Dark Chocolate",
                    "Dark Chocolate",
                    "Dark Chocolate",
                    "Dark Chocolate",
                    "Dark Chocolate",
                    "Dark Chocolate",
                    "Dark Chocolate",
                    "Dark Chocolate",
                    "Dark Chocolate",
                    "Dark Chocolate",
                    "Dark Chocolate",
                    "Dark Chocolate",
                    "Dark Chocolate",
                    "Dark Chocolate",
                    "Dark Chocolate",
                    "Dark Chocolate",
                    "Dark Chocolate",
                    "Dark Chocolate",
                    "Dark Chocolate",
                    "Dark Chocolate",
                    "Dark Chocolate",
                    "Dark Chocolate",
                    "Dark Chocolate",
                    "Dark Chocolate",
                    "Dark Chocolate",
                    "Dark Chocolate",
                    "Dark Chocolate",
                    "Dark Chocolate",
                    "Dark Chocolate",
                    "Dark Chocolate",
                    "Dark Chocolate",
                    "Dark Chocolate",
                    "Dark Chocolate",
                    "Dark Chocolate",
                    "Dark Chocolate",
                    "Dark Chocolate",
                    "Dark Chocolate",
                    "Dark Chocolate",
                    "Dark Chocolate",
                    "Dark Chocolate",
                    "Dark Chocolate",
                    "Dark Chocolate",
                    "Dark Chocolate",
                    "Dark Chocolate",
                    "Dark Chocolate",
                    "Dark Chocolate",
                    "Dark Chocolate",
                    "Dark Chocolate",
                    "Dark Chocolate",
                    "Dark Chocolate",
                    "Dark Chocolate",
                    "Dark Chocolate",
                    "Dark Chocolate",
                    "Dark Chocolate",
                    "Dark Chocolate",
                    "Dark Chocolate",
                    "Dark Chocolate",
                    "Dark Chocolate",
                    "Dark Chocolate",
                    "Dark Chocolate",
                    "Dark Chocolate",
                    "Dark Chocolate",
                    "Dark Chocolate",
                    "Dark Chocolate",
                    "Dark Chocolate",
                    "Dark Chocolate",
                    "Dark Chocolate",
                    "Dark Chocolate",
                    "Dark Chocolate",
                    "Dark Chocolate",
                    "Dark Chocolate",
                    "Dark Chocolate",
                    "Dark Chocolate",
                    "Dark Chocolate",
                    "Dark Chocolate",
                    "Dark Chocolate",
                    "Dark Chocolate",
                    "Dark Chocolate",
                    "Dark Chocolate",
                    "Dark Chocolate",
                    "Dark Chocolate",
                    "Dark Chocolate",
                    "Dark Chocolate",
                    "Dark Chocolate",
                    "Dark Chocolate",
                    "Dark Chocolate",
                    "Dark Chocolate",
                    "Dark Chocolate",
                    "Dark Chocolate",
                    "Dark Chocolate",
                    "Dark Chocolate",
                    "Dark Chocolate",
                    "Dark Chocolate",
                    "Dark Chocolate",
                    "Dark Chocolate",
                    "Dark Chocolate",
                    "Dark Chocolate"
                  ],
                  "x0": " ",
                  "xaxis": "x",
                  "y": [
                    84,
                    78,
                    68,
                    28,
                    6,
                    14,
                    83,
                    8,
                    61,
                    12,
                    40,
                    20,
                    23,
                    34,
                    54,
                    16,
                    45,
                    10,
                    14,
                    3,
                    77,
                    97,
                    9,
                    16,
                    153,
                    13,
                    109,
                    12,
                    33,
                    9,
                    40,
                    3,
                    3,
                    26,
                    25,
                    22,
                    12,
                    7,
                    52,
                    6,
                    39,
                    3,
                    3,
                    41,
                    13,
                    37,
                    111,
                    87,
                    24,
                    32,
                    48,
                    40,
                    75,
                    22,
                    34,
                    11,
                    17,
                    5,
                    119,
                    10,
                    56,
                    56,
                    8,
                    20,
                    46,
                    3,
                    157,
                    27,
                    2,
                    7,
                    134,
                    19,
                    1,
                    18,
                    4,
                    40,
                    121,
                    24,
                    14,
                    30,
                    5,
                    42,
                    106,
                    37,
                    8,
                    19,
                    12,
                    20,
                    64,
                    94,
                    29,
                    1,
                    0,
                    33,
                    28,
                    74,
                    12,
                    34,
                    53,
                    11,
                    2,
                    110,
                    40,
                    131,
                    56,
                    1,
                    73,
                    17,
                    78,
                    20,
                    49,
                    15,
                    18,
                    24,
                    88,
                    9,
                    86,
                    24,
                    2,
                    5,
                    13,
                    1,
                    144,
                    19,
                    53,
                    34,
                    18,
                    88,
                    18,
                    18,
                    12,
                    115,
                    11,
                    52,
                    81,
                    28,
                    69,
                    56,
                    69,
                    13,
                    18,
                    23,
                    132,
                    86,
                    34,
                    31,
                    5,
                    48,
                    38,
                    29,
                    9,
                    47,
                    36,
                    36,
                    68,
                    20,
                    52,
                    31,
                    54,
                    89,
                    115,
                    24,
                    41,
                    8,
                    64,
                    149,
                    9,
                    136,
                    92,
                    5,
                    34,
                    2,
                    9,
                    38,
                    14,
                    42,
                    15
                  ],
                  "y0": " ",
                  "yaxis": "y"
                },
                {
                  "alignmentgroup": "True",
                  "hovertemplate": "Product Category=%{x}<br>Revenue per Box ($)=%{y}<extra></extra>",
                  "legendgroup": "Nut-based Chocolate",
                  "marker": {
                    "color": "#00cc96"
                  },
                  "name": "Nut-based Chocolate",
                  "notched": false,
                  "offsetgroup": "Nut-based Chocolate",
                  "orientation": "v",
                  "showlegend": true,
                  "type": "box",
                  "x": [
                    "Nut-based Chocolate",
                    "Nut-based Chocolate",
                    "Nut-based Chocolate",
                    "Nut-based Chocolate",
                    "Nut-based Chocolate",
                    "Nut-based Chocolate",
                    "Nut-based Chocolate",
                    "Nut-based Chocolate",
                    "Nut-based Chocolate",
                    "Nut-based Chocolate",
                    "Nut-based Chocolate",
                    "Nut-based Chocolate",
                    "Nut-based Chocolate",
                    "Nut-based Chocolate",
                    "Nut-based Chocolate",
                    "Nut-based Chocolate",
                    "Nut-based Chocolate",
                    "Nut-based Chocolate",
                    "Nut-based Chocolate",
                    "Nut-based Chocolate",
                    "Nut-based Chocolate",
                    "Nut-based Chocolate",
                    "Nut-based Chocolate",
                    "Nut-based Chocolate",
                    "Nut-based Chocolate",
                    "Nut-based Chocolate",
                    "Nut-based Chocolate",
                    "Nut-based Chocolate",
                    "Nut-based Chocolate",
                    "Nut-based Chocolate",
                    "Nut-based Chocolate",
                    "Nut-based Chocolate",
                    "Nut-based Chocolate",
                    "Nut-based Chocolate",
                    "Nut-based Chocolate",
                    "Nut-based Chocolate",
                    "Nut-based Chocolate",
                    "Nut-based Chocolate",
                    "Nut-based Chocolate",
                    "Nut-based Chocolate",
                    "Nut-based Chocolate",
                    "Nut-based Chocolate",
                    "Nut-based Chocolate",
                    "Nut-based Chocolate",
                    "Nut-based Chocolate",
                    "Nut-based Chocolate",
                    "Nut-based Chocolate",
                    "Nut-based Chocolate",
                    "Nut-based Chocolate",
                    "Nut-based Chocolate",
                    "Nut-based Chocolate",
                    "Nut-based Chocolate",
                    "Nut-based Chocolate",
                    "Nut-based Chocolate",
                    "Nut-based Chocolate",
                    "Nut-based Chocolate",
                    "Nut-based Chocolate",
                    "Nut-based Chocolate",
                    "Nut-based Chocolate",
                    "Nut-based Chocolate",
                    "Nut-based Chocolate",
                    "Nut-based Chocolate",
                    "Nut-based Chocolate",
                    "Nut-based Chocolate",
                    "Nut-based Chocolate",
                    "Nut-based Chocolate",
                    "Nut-based Chocolate",
                    "Nut-based Chocolate",
                    "Nut-based Chocolate",
                    "Nut-based Chocolate",
                    "Nut-based Chocolate",
                    "Nut-based Chocolate",
                    "Nut-based Chocolate",
                    "Nut-based Chocolate",
                    "Nut-based Chocolate",
                    "Nut-based Chocolate",
                    "Nut-based Chocolate",
                    "Nut-based Chocolate",
                    "Nut-based Chocolate",
                    "Nut-based Chocolate",
                    "Nut-based Chocolate",
                    "Nut-based Chocolate",
                    "Nut-based Chocolate",
                    "Nut-based Chocolate",
                    "Nut-based Chocolate",
                    "Nut-based Chocolate",
                    "Nut-based Chocolate",
                    "Nut-based Chocolate",
                    "Nut-based Chocolate",
                    "Nut-based Chocolate",
                    "Nut-based Chocolate",
                    "Nut-based Chocolate",
                    "Nut-based Chocolate",
                    "Nut-based Chocolate",
                    "Nut-based Chocolate",
                    "Nut-based Chocolate",
                    "Nut-based Chocolate",
                    "Nut-based Chocolate",
                    "Nut-based Chocolate",
                    "Nut-based Chocolate",
                    "Nut-based Chocolate",
                    "Nut-based Chocolate",
                    "Nut-based Chocolate",
                    "Nut-based Chocolate",
                    "Nut-based Chocolate",
                    "Nut-based Chocolate",
                    "Nut-based Chocolate",
                    "Nut-based Chocolate",
                    "Nut-based Chocolate",
                    "Nut-based Chocolate",
                    "Nut-based Chocolate",
                    "Nut-based Chocolate",
                    "Nut-based Chocolate",
                    "Nut-based Chocolate",
                    "Nut-based Chocolate",
                    "Nut-based Chocolate",
                    "Nut-based Chocolate",
                    "Nut-based Chocolate",
                    "Nut-based Chocolate",
                    "Nut-based Chocolate",
                    "Nut-based Chocolate",
                    "Nut-based Chocolate",
                    "Nut-based Chocolate"
                  ],
                  "x0": " ",
                  "xaxis": "x",
                  "y": [
                    49,
                    37,
                    74,
                    48,
                    51,
                    20,
                    75,
                    36,
                    70,
                    41,
                    89,
                    120,
                    4,
                    47,
                    168,
                    47,
                    22,
                    45,
                    44,
                    19,
                    101,
                    140,
                    27,
                    83,
                    19,
                    34,
                    43,
                    9,
                    23,
                    6,
                    38,
                    73,
                    56,
                    57,
                    29,
                    44,
                    63,
                    10,
                    3,
                    89,
                    39,
                    150,
                    16,
                    60,
                    19,
                    45,
                    27,
                    64,
                    14,
                    25,
                    13,
                    45,
                    19,
                    8,
                    50,
                    76,
                    106,
                    19,
                    41,
                    10,
                    15,
                    44,
                    16,
                    58,
                    41,
                    40,
                    1,
                    171,
                    24,
                    5,
                    45,
                    65,
                    22,
                    158,
                    26,
                    123,
                    7,
                    44,
                    171,
                    8,
                    8,
                    4,
                    16,
                    50,
                    19,
                    33,
                    22,
                    12,
                    18,
                    14,
                    78,
                    8,
                    13,
                    65,
                    9,
                    43,
                    131,
                    6,
                    24,
                    74,
                    91,
                    0,
                    46,
                    161,
                    101,
                    125,
                    4,
                    120,
                    0,
                    150,
                    42,
                    2,
                    52,
                    62,
                    39,
                    91,
                    41,
                    72,
                    9,
                    4,
                    83,
                    32,
                    1
                  ],
                  "y0": " ",
                  "yaxis": "y"
                },
                {
                  "alignmentgroup": "True",
                  "hovertemplate": "Product Category=%{x}<br>Revenue per Box ($)=%{y}<extra></extra>",
                  "legendgroup": "Specialty Chocolate",
                  "marker": {
                    "color": "#ab63fa"
                  },
                  "name": "Specialty Chocolate",
                  "notched": false,
                  "offsetgroup": "Specialty Chocolate",
                  "orientation": "v",
                  "showlegend": true,
                  "type": "box",
                  "x": [
                    "Specialty Chocolate",
                    "Specialty Chocolate",
                    "Specialty Chocolate",
                    "Specialty Chocolate",
                    "Specialty Chocolate",
                    "Specialty Chocolate",
                    "Specialty Chocolate",
                    "Specialty Chocolate",
                    "Specialty Chocolate",
                    "Specialty Chocolate",
                    "Specialty Chocolate",
                    "Specialty Chocolate",
                    "Specialty Chocolate",
                    "Specialty Chocolate",
                    "Specialty Chocolate",
                    "Specialty Chocolate",
                    "Specialty Chocolate",
                    "Specialty Chocolate",
                    "Specialty Chocolate",
                    "Specialty Chocolate",
                    "Specialty Chocolate",
                    "Specialty Chocolate",
                    "Specialty Chocolate",
                    "Specialty Chocolate",
                    "Specialty Chocolate",
                    "Specialty Chocolate",
                    "Specialty Chocolate",
                    "Specialty Chocolate",
                    "Specialty Chocolate",
                    "Specialty Chocolate",
                    "Specialty Chocolate",
                    "Specialty Chocolate",
                    "Specialty Chocolate",
                    "Specialty Chocolate",
                    "Specialty Chocolate",
                    "Specialty Chocolate",
                    "Specialty Chocolate",
                    "Specialty Chocolate",
                    "Specialty Chocolate",
                    "Specialty Chocolate",
                    "Specialty Chocolate",
                    "Specialty Chocolate",
                    "Specialty Chocolate",
                    "Specialty Chocolate",
                    "Specialty Chocolate",
                    "Specialty Chocolate",
                    "Specialty Chocolate",
                    "Specialty Chocolate",
                    "Specialty Chocolate",
                    "Specialty Chocolate",
                    "Specialty Chocolate",
                    "Specialty Chocolate",
                    "Specialty Chocolate",
                    "Specialty Chocolate",
                    "Specialty Chocolate",
                    "Specialty Chocolate",
                    "Specialty Chocolate",
                    "Specialty Chocolate",
                    "Specialty Chocolate",
                    "Specialty Chocolate",
                    "Specialty Chocolate",
                    "Specialty Chocolate",
                    "Specialty Chocolate",
                    "Specialty Chocolate",
                    "Specialty Chocolate",
                    "Specialty Chocolate",
                    "Specialty Chocolate",
                    "Specialty Chocolate",
                    "Specialty Chocolate",
                    "Specialty Chocolate",
                    "Specialty Chocolate",
                    "Specialty Chocolate",
                    "Specialty Chocolate",
                    "Specialty Chocolate",
                    "Specialty Chocolate",
                    "Specialty Chocolate",
                    "Specialty Chocolate",
                    "Specialty Chocolate",
                    "Specialty Chocolate",
                    "Specialty Chocolate",
                    "Specialty Chocolate",
                    "Specialty Chocolate",
                    "Specialty Chocolate",
                    "Specialty Chocolate",
                    "Specialty Chocolate",
                    "Specialty Chocolate",
                    "Specialty Chocolate",
                    "Specialty Chocolate",
                    "Specialty Chocolate",
                    "Specialty Chocolate",
                    "Specialty Chocolate",
                    "Specialty Chocolate",
                    "Specialty Chocolate",
                    "Specialty Chocolate",
                    "Specialty Chocolate",
                    "Specialty Chocolate",
                    "Specialty Chocolate",
                    "Specialty Chocolate",
                    "Specialty Chocolate",
                    "Specialty Chocolate",
                    "Specialty Chocolate",
                    "Specialty Chocolate",
                    "Specialty Chocolate",
                    "Specialty Chocolate",
                    "Specialty Chocolate",
                    "Specialty Chocolate",
                    "Specialty Chocolate",
                    "Specialty Chocolate",
                    "Specialty Chocolate",
                    "Specialty Chocolate",
                    "Specialty Chocolate",
                    "Specialty Chocolate",
                    "Specialty Chocolate",
                    "Specialty Chocolate",
                    "Specialty Chocolate",
                    "Specialty Chocolate",
                    "Specialty Chocolate",
                    "Specialty Chocolate",
                    "Specialty Chocolate",
                    "Specialty Chocolate",
                    "Specialty Chocolate",
                    "Specialty Chocolate",
                    "Specialty Chocolate",
                    "Specialty Chocolate",
                    "Specialty Chocolate",
                    "Specialty Chocolate",
                    "Specialty Chocolate",
                    "Specialty Chocolate",
                    "Specialty Chocolate",
                    "Specialty Chocolate",
                    "Specialty Chocolate",
                    "Specialty Chocolate",
                    "Specialty Chocolate",
                    "Specialty Chocolate",
                    "Specialty Chocolate",
                    "Specialty Chocolate",
                    "Specialty Chocolate",
                    "Specialty Chocolate",
                    "Specialty Chocolate",
                    "Specialty Chocolate",
                    "Specialty Chocolate",
                    "Specialty Chocolate",
                    "Specialty Chocolate",
                    "Specialty Chocolate",
                    "Specialty Chocolate",
                    "Specialty Chocolate",
                    "Specialty Chocolate",
                    "Specialty Chocolate",
                    "Specialty Chocolate",
                    "Specialty Chocolate",
                    "Specialty Chocolate",
                    "Specialty Chocolate",
                    "Specialty Chocolate",
                    "Specialty Chocolate",
                    "Specialty Chocolate",
                    "Specialty Chocolate",
                    "Specialty Chocolate",
                    "Specialty Chocolate",
                    "Specialty Chocolate",
                    "Specialty Chocolate",
                    "Specialty Chocolate",
                    "Specialty Chocolate",
                    "Specialty Chocolate",
                    "Specialty Chocolate",
                    "Specialty Chocolate",
                    "Specialty Chocolate",
                    "Specialty Chocolate",
                    "Specialty Chocolate",
                    "Specialty Chocolate",
                    "Specialty Chocolate",
                    "Specialty Chocolate",
                    "Specialty Chocolate",
                    "Specialty Chocolate",
                    "Specialty Chocolate",
                    "Specialty Chocolate",
                    "Specialty Chocolate",
                    "Specialty Chocolate",
                    "Specialty Chocolate",
                    "Specialty Chocolate",
                    "Specialty Chocolate",
                    "Specialty Chocolate",
                    "Specialty Chocolate",
                    "Specialty Chocolate",
                    "Specialty Chocolate",
                    "Specialty Chocolate",
                    "Specialty Chocolate",
                    "Specialty Chocolate",
                    "Specialty Chocolate",
                    "Specialty Chocolate",
                    "Specialty Chocolate",
                    "Specialty Chocolate",
                    "Specialty Chocolate",
                    "Specialty Chocolate",
                    "Specialty Chocolate",
                    "Specialty Chocolate",
                    "Specialty Chocolate",
                    "Specialty Chocolate",
                    "Specialty Chocolate",
                    "Specialty Chocolate",
                    "Specialty Chocolate",
                    "Specialty Chocolate",
                    "Specialty Chocolate",
                    "Specialty Chocolate",
                    "Specialty Chocolate",
                    "Specialty Chocolate",
                    "Specialty Chocolate",
                    "Specialty Chocolate",
                    "Specialty Chocolate",
                    "Specialty Chocolate",
                    "Specialty Chocolate",
                    "Specialty Chocolate",
                    "Specialty Chocolate",
                    "Specialty Chocolate",
                    "Specialty Chocolate",
                    "Specialty Chocolate",
                    "Specialty Chocolate",
                    "Specialty Chocolate",
                    "Specialty Chocolate",
                    "Specialty Chocolate",
                    "Specialty Chocolate",
                    "Specialty Chocolate",
                    "Specialty Chocolate",
                    "Specialty Chocolate",
                    "Specialty Chocolate",
                    "Specialty Chocolate",
                    "Specialty Chocolate",
                    "Specialty Chocolate",
                    "Specialty Chocolate",
                    "Specialty Chocolate",
                    "Specialty Chocolate",
                    "Specialty Chocolate",
                    "Specialty Chocolate",
                    "Specialty Chocolate",
                    "Specialty Chocolate",
                    "Specialty Chocolate",
                    "Specialty Chocolate",
                    "Specialty Chocolate",
                    "Specialty Chocolate",
                    "Specialty Chocolate",
                    "Specialty Chocolate",
                    "Specialty Chocolate",
                    "Specialty Chocolate",
                    "Specialty Chocolate",
                    "Specialty Chocolate",
                    "Specialty Chocolate",
                    "Specialty Chocolate",
                    "Specialty Chocolate",
                    "Specialty Chocolate",
                    "Specialty Chocolate",
                    "Specialty Chocolate",
                    "Specialty Chocolate",
                    "Specialty Chocolate",
                    "Specialty Chocolate",
                    "Specialty Chocolate",
                    "Specialty Chocolate",
                    "Specialty Chocolate",
                    "Specialty Chocolate",
                    "Specialty Chocolate",
                    "Specialty Chocolate",
                    "Specialty Chocolate",
                    "Specialty Chocolate",
                    "Specialty Chocolate",
                    "Specialty Chocolate",
                    "Specialty Chocolate",
                    "Specialty Chocolate",
                    "Specialty Chocolate",
                    "Specialty Chocolate",
                    "Specialty Chocolate",
                    "Specialty Chocolate",
                    "Specialty Chocolate",
                    "Specialty Chocolate",
                    "Specialty Chocolate",
                    "Specialty Chocolate",
                    "Specialty Chocolate",
                    "Specialty Chocolate",
                    "Specialty Chocolate",
                    "Specialty Chocolate",
                    "Specialty Chocolate",
                    "Specialty Chocolate",
                    "Specialty Chocolate",
                    "Specialty Chocolate",
                    "Specialty Chocolate",
                    "Specialty Chocolate",
                    "Specialty Chocolate",
                    "Specialty Chocolate",
                    "Specialty Chocolate",
                    "Specialty Chocolate",
                    "Specialty Chocolate",
                    "Specialty Chocolate"
                  ],
                  "x0": " ",
                  "xaxis": "x",
                  "y": [
                    141,
                    42,
                    76,
                    5,
                    1,
                    19,
                    97,
                    22,
                    78,
                    29,
                    27,
                    67,
                    36,
                    31,
                    2,
                    59,
                    14,
                    1,
                    18,
                    33,
                    2,
                    10,
                    110,
                    9,
                    49,
                    23,
                    2,
                    16,
                    64,
                    67,
                    34,
                    2,
                    32,
                    29,
                    13,
                    81,
                    35,
                    115,
                    36,
                    94,
                    51,
                    13,
                    32,
                    38,
                    59,
                    94,
                    13,
                    40,
                    7,
                    46,
                    40,
                    16,
                    3,
                    12,
                    21,
                    11,
                    128,
                    46,
                    74,
                    132,
                    10,
                    10,
                    11,
                    2,
                    44,
                    22,
                    20,
                    62,
                    58,
                    29,
                    22,
                    15,
                    167,
                    20,
                    126,
                    149,
                    142,
                    8,
                    124,
                    10,
                    11,
                    44,
                    24,
                    145,
                    40,
                    49,
                    36,
                    16,
                    65,
                    23,
                    20,
                    43,
                    12,
                    21,
                    20,
                    139,
                    23,
                    22,
                    7,
                    165,
                    141,
                    39,
                    118,
                    25,
                    15,
                    16,
                    173,
                    51,
                    9,
                    24,
                    127,
                    119,
                    28,
                    128,
                    16,
                    18,
                    90,
                    22,
                    22,
                    63,
                    1,
                    40,
                    40,
                    17,
                    43,
                    8,
                    40,
                    138,
                    16,
                    108,
                    21,
                    43,
                    69,
                    117,
                    57,
                    55,
                    34,
                    143,
                    26,
                    93,
                    54,
                    23,
                    23,
                    67,
                    26,
                    127,
                    32,
                    4,
                    143,
                    7,
                    28,
                    27,
                    40,
                    20,
                    20,
                    43,
                    9,
                    2,
                    123,
                    30,
                    19,
                    14,
                    26,
                    16,
                    15,
                    8,
                    13,
                    49,
                    37,
                    30,
                    16,
                    38,
                    71,
                    58,
                    36,
                    49,
                    105,
                    71,
                    150,
                    40,
                    172,
                    3,
                    122,
                    23,
                    100,
                    26,
                    69,
                    174,
                    55,
                    159,
                    53,
                    4,
                    7,
                    6,
                    32,
                    16,
                    7,
                    7,
                    31,
                    19,
                    1,
                    10,
                    2,
                    82,
                    6,
                    51,
                    29,
                    34,
                    11,
                    65,
                    118,
                    50,
                    12,
                    45,
                    20,
                    53,
                    126,
                    3,
                    1,
                    7,
                    39,
                    43,
                    0,
                    23,
                    12,
                    70,
                    2,
                    70,
                    26,
                    25,
                    65,
                    2,
                    84,
                    16,
                    5,
                    31,
                    24,
                    37,
                    39,
                    14,
                    10,
                    47,
                    46,
                    63,
                    3,
                    75,
                    30,
                    22,
                    64,
                    43,
                    85,
                    48,
                    12,
                    66,
                    78,
                    6,
                    8,
                    16,
                    60,
                    47,
                    106,
                    34,
                    10,
                    38,
                    70,
                    4,
                    16,
                    52,
                    33,
                    48,
                    7,
                    112,
                    9,
                    21,
                    3,
                    35,
                    48,
                    99,
                    4,
                    22,
                    10,
                    113,
                    2,
                    14,
                    3,
                    129,
                    113,
                    3,
                    5
                  ],
                  "y0": " ",
                  "yaxis": "y"
                },
                {
                  "alignmentgroup": "True",
                  "hovertemplate": "Product Category=%{x}<br>Revenue per Box ($)=%{y}<extra></extra>",
                  "legendgroup": "Milk & White Chocolate",
                  "marker": {
                    "color": "#FFA15A"
                  },
                  "name": "Milk & White Chocolate",
                  "notched": false,
                  "offsetgroup": "Milk & White Chocolate",
                  "orientation": "v",
                  "showlegend": true,
                  "type": "box",
                  "x": [
                    "Milk & White Chocolate",
                    "Milk & White Chocolate",
                    "Milk & White Chocolate",
                    "Milk & White Chocolate",
                    "Milk & White Chocolate",
                    "Milk & White Chocolate",
                    "Milk & White Chocolate",
                    "Milk & White Chocolate",
                    "Milk & White Chocolate",
                    "Milk & White Chocolate",
                    "Milk & White Chocolate",
                    "Milk & White Chocolate",
                    "Milk & White Chocolate",
                    "Milk & White Chocolate",
                    "Milk & White Chocolate",
                    "Milk & White Chocolate",
                    "Milk & White Chocolate",
                    "Milk & White Chocolate",
                    "Milk & White Chocolate",
                    "Milk & White Chocolate",
                    "Milk & White Chocolate",
                    "Milk & White Chocolate",
                    "Milk & White Chocolate",
                    "Milk & White Chocolate",
                    "Milk & White Chocolate",
                    "Milk & White Chocolate",
                    "Milk & White Chocolate",
                    "Milk & White Chocolate",
                    "Milk & White Chocolate",
                    "Milk & White Chocolate",
                    "Milk & White Chocolate",
                    "Milk & White Chocolate",
                    "Milk & White Chocolate",
                    "Milk & White Chocolate",
                    "Milk & White Chocolate",
                    "Milk & White Chocolate",
                    "Milk & White Chocolate",
                    "Milk & White Chocolate",
                    "Milk & White Chocolate",
                    "Milk & White Chocolate",
                    "Milk & White Chocolate",
                    "Milk & White Chocolate",
                    "Milk & White Chocolate",
                    "Milk & White Chocolate",
                    "Milk & White Chocolate",
                    "Milk & White Chocolate",
                    "Milk & White Chocolate",
                    "Milk & White Chocolate",
                    "Milk & White Chocolate",
                    "Milk & White Chocolate",
                    "Milk & White Chocolate",
                    "Milk & White Chocolate",
                    "Milk & White Chocolate",
                    "Milk & White Chocolate",
                    "Milk & White Chocolate",
                    "Milk & White Chocolate",
                    "Milk & White Chocolate",
                    "Milk & White Chocolate",
                    "Milk & White Chocolate",
                    "Milk & White Chocolate",
                    "Milk & White Chocolate",
                    "Milk & White Chocolate",
                    "Milk & White Chocolate",
                    "Milk & White Chocolate",
                    "Milk & White Chocolate",
                    "Milk & White Chocolate",
                    "Milk & White Chocolate",
                    "Milk & White Chocolate",
                    "Milk & White Chocolate",
                    "Milk & White Chocolate",
                    "Milk & White Chocolate",
                    "Milk & White Chocolate",
                    "Milk & White Chocolate",
                    "Milk & White Chocolate",
                    "Milk & White Chocolate",
                    "Milk & White Chocolate",
                    "Milk & White Chocolate",
                    "Milk & White Chocolate",
                    "Milk & White Chocolate",
                    "Milk & White Chocolate",
                    "Milk & White Chocolate",
                    "Milk & White Chocolate",
                    "Milk & White Chocolate",
                    "Milk & White Chocolate",
                    "Milk & White Chocolate",
                    "Milk & White Chocolate",
                    "Milk & White Chocolate",
                    "Milk & White Chocolate",
                    "Milk & White Chocolate",
                    "Milk & White Chocolate",
                    "Milk & White Chocolate"
                  ],
                  "x0": " ",
                  "xaxis": "x",
                  "y": [
                    35,
                    63,
                    12,
                    19,
                    6,
                    47,
                    27,
                    47,
                    5,
                    32,
                    22,
                    53,
                    27,
                    85,
                    108,
                    153,
                    2,
                    13,
                    15,
                    91,
                    54,
                    35,
                    13,
                    23,
                    16,
                    24,
                    63,
                    21,
                    140,
                    75,
                    32,
                    13,
                    8,
                    109,
                    9,
                    14,
                    15,
                    37,
                    117,
                    30,
                    6,
                    58,
                    34,
                    27,
                    13,
                    110,
                    17,
                    47,
                    52,
                    45,
                    53,
                    49,
                    26,
                    24,
                    35,
                    54,
                    54,
                    38,
                    43,
                    39,
                    17,
                    6,
                    14,
                    7,
                    37,
                    89,
                    32,
                    63,
                    21,
                    140,
                    29,
                    34,
                    15,
                    22,
                    8,
                    46,
                    11,
                    6,
                    5,
                    51,
                    4,
                    6,
                    4,
                    9,
                    13,
                    67,
                    44,
                    22,
                    65,
                    31,
                    55
                  ],
                  "y0": " ",
                  "yaxis": "y"
                }
              ],
              "layout": {
                "boxmode": "overlay",
                "height": 500,
                "legend": {
                  "title": {
                    "text": "Product Category"
                  },
                  "tracegroupgap": 0
                },
                "template": {
                  "data": {
                    "bar": [
                      {
                        "error_x": {
                          "color": "#2a3f5f"
                        },
                        "error_y": {
                          "color": "#2a3f5f"
                        },
                        "marker": {
                          "line": {
                            "color": "#E5ECF6",
                            "width": 0.5
                          },
                          "pattern": {
                            "fillmode": "overlay",
                            "size": 10,
                            "solidity": 0.2
                          }
                        },
                        "type": "bar"
                      }
                    ],
                    "barpolar": [
                      {
                        "marker": {
                          "line": {
                            "color": "#E5ECF6",
                            "width": 0.5
                          },
                          "pattern": {
                            "fillmode": "overlay",
                            "size": 10,
                            "solidity": 0.2
                          }
                        },
                        "type": "barpolar"
                      }
                    ],
                    "carpet": [
                      {
                        "aaxis": {
                          "endlinecolor": "#2a3f5f",
                          "gridcolor": "white",
                          "linecolor": "white",
                          "minorgridcolor": "white",
                          "startlinecolor": "#2a3f5f"
                        },
                        "baxis": {
                          "endlinecolor": "#2a3f5f",
                          "gridcolor": "white",
                          "linecolor": "white",
                          "minorgridcolor": "white",
                          "startlinecolor": "#2a3f5f"
                        },
                        "type": "carpet"
                      }
                    ],
                    "choropleth": [
                      {
                        "colorbar": {
                          "outlinewidth": 0,
                          "ticks": ""
                        },
                        "type": "choropleth"
                      }
                    ],
                    "contour": [
                      {
                        "colorbar": {
                          "outlinewidth": 0,
                          "ticks": ""
                        },
                        "colorscale": [
                          [
                            0,
                            "#0d0887"
                          ],
                          [
                            0.1111111111111111,
                            "#46039f"
                          ],
                          [
                            0.2222222222222222,
                            "#7201a8"
                          ],
                          [
                            0.3333333333333333,
                            "#9c179e"
                          ],
                          [
                            0.4444444444444444,
                            "#bd3786"
                          ],
                          [
                            0.5555555555555556,
                            "#d8576b"
                          ],
                          [
                            0.6666666666666666,
                            "#ed7953"
                          ],
                          [
                            0.7777777777777778,
                            "#fb9f3a"
                          ],
                          [
                            0.8888888888888888,
                            "#fdca26"
                          ],
                          [
                            1,
                            "#f0f921"
                          ]
                        ],
                        "type": "contour"
                      }
                    ],
                    "contourcarpet": [
                      {
                        "colorbar": {
                          "outlinewidth": 0,
                          "ticks": ""
                        },
                        "type": "contourcarpet"
                      }
                    ],
                    "heatmap": [
                      {
                        "colorbar": {
                          "outlinewidth": 0,
                          "ticks": ""
                        },
                        "colorscale": [
                          [
                            0,
                            "#0d0887"
                          ],
                          [
                            0.1111111111111111,
                            "#46039f"
                          ],
                          [
                            0.2222222222222222,
                            "#7201a8"
                          ],
                          [
                            0.3333333333333333,
                            "#9c179e"
                          ],
                          [
                            0.4444444444444444,
                            "#bd3786"
                          ],
                          [
                            0.5555555555555556,
                            "#d8576b"
                          ],
                          [
                            0.6666666666666666,
                            "#ed7953"
                          ],
                          [
                            0.7777777777777778,
                            "#fb9f3a"
                          ],
                          [
                            0.8888888888888888,
                            "#fdca26"
                          ],
                          [
                            1,
                            "#f0f921"
                          ]
                        ],
                        "type": "heatmap"
                      }
                    ],
                    "heatmapgl": [
                      {
                        "colorbar": {
                          "outlinewidth": 0,
                          "ticks": ""
                        },
                        "colorscale": [
                          [
                            0,
                            "#0d0887"
                          ],
                          [
                            0.1111111111111111,
                            "#46039f"
                          ],
                          [
                            0.2222222222222222,
                            "#7201a8"
                          ],
                          [
                            0.3333333333333333,
                            "#9c179e"
                          ],
                          [
                            0.4444444444444444,
                            "#bd3786"
                          ],
                          [
                            0.5555555555555556,
                            "#d8576b"
                          ],
                          [
                            0.6666666666666666,
                            "#ed7953"
                          ],
                          [
                            0.7777777777777778,
                            "#fb9f3a"
                          ],
                          [
                            0.8888888888888888,
                            "#fdca26"
                          ],
                          [
                            1,
                            "#f0f921"
                          ]
                        ],
                        "type": "heatmapgl"
                      }
                    ],
                    "histogram": [
                      {
                        "marker": {
                          "pattern": {
                            "fillmode": "overlay",
                            "size": 10,
                            "solidity": 0.2
                          }
                        },
                        "type": "histogram"
                      }
                    ],
                    "histogram2d": [
                      {
                        "colorbar": {
                          "outlinewidth": 0,
                          "ticks": ""
                        },
                        "colorscale": [
                          [
                            0,
                            "#0d0887"
                          ],
                          [
                            0.1111111111111111,
                            "#46039f"
                          ],
                          [
                            0.2222222222222222,
                            "#7201a8"
                          ],
                          [
                            0.3333333333333333,
                            "#9c179e"
                          ],
                          [
                            0.4444444444444444,
                            "#bd3786"
                          ],
                          [
                            0.5555555555555556,
                            "#d8576b"
                          ],
                          [
                            0.6666666666666666,
                            "#ed7953"
                          ],
                          [
                            0.7777777777777778,
                            "#fb9f3a"
                          ],
                          [
                            0.8888888888888888,
                            "#fdca26"
                          ],
                          [
                            1,
                            "#f0f921"
                          ]
                        ],
                        "type": "histogram2d"
                      }
                    ],
                    "histogram2dcontour": [
                      {
                        "colorbar": {
                          "outlinewidth": 0,
                          "ticks": ""
                        },
                        "colorscale": [
                          [
                            0,
                            "#0d0887"
                          ],
                          [
                            0.1111111111111111,
                            "#46039f"
                          ],
                          [
                            0.2222222222222222,
                            "#7201a8"
                          ],
                          [
                            0.3333333333333333,
                            "#9c179e"
                          ],
                          [
                            0.4444444444444444,
                            "#bd3786"
                          ],
                          [
                            0.5555555555555556,
                            "#d8576b"
                          ],
                          [
                            0.6666666666666666,
                            "#ed7953"
                          ],
                          [
                            0.7777777777777778,
                            "#fb9f3a"
                          ],
                          [
                            0.8888888888888888,
                            "#fdca26"
                          ],
                          [
                            1,
                            "#f0f921"
                          ]
                        ],
                        "type": "histogram2dcontour"
                      }
                    ],
                    "mesh3d": [
                      {
                        "colorbar": {
                          "outlinewidth": 0,
                          "ticks": ""
                        },
                        "type": "mesh3d"
                      }
                    ],
                    "parcoords": [
                      {
                        "line": {
                          "colorbar": {
                            "outlinewidth": 0,
                            "ticks": ""
                          }
                        },
                        "type": "parcoords"
                      }
                    ],
                    "pie": [
                      {
                        "automargin": true,
                        "type": "pie"
                      }
                    ],
                    "scatter": [
                      {
                        "fillpattern": {
                          "fillmode": "overlay",
                          "size": 10,
                          "solidity": 0.2
                        },
                        "type": "scatter"
                      }
                    ],
                    "scatter3d": [
                      {
                        "line": {
                          "colorbar": {
                            "outlinewidth": 0,
                            "ticks": ""
                          }
                        },
                        "marker": {
                          "colorbar": {
                            "outlinewidth": 0,
                            "ticks": ""
                          }
                        },
                        "type": "scatter3d"
                      }
                    ],
                    "scattercarpet": [
                      {
                        "marker": {
                          "colorbar": {
                            "outlinewidth": 0,
                            "ticks": ""
                          }
                        },
                        "type": "scattercarpet"
                      }
                    ],
                    "scattergeo": [
                      {
                        "marker": {
                          "colorbar": {
                            "outlinewidth": 0,
                            "ticks": ""
                          }
                        },
                        "type": "scattergeo"
                      }
                    ],
                    "scattergl": [
                      {
                        "marker": {
                          "colorbar": {
                            "outlinewidth": 0,
                            "ticks": ""
                          }
                        },
                        "type": "scattergl"
                      }
                    ],
                    "scattermapbox": [
                      {
                        "marker": {
                          "colorbar": {
                            "outlinewidth": 0,
                            "ticks": ""
                          }
                        },
                        "type": "scattermapbox"
                      }
                    ],
                    "scatterpolar": [
                      {
                        "marker": {
                          "colorbar": {
                            "outlinewidth": 0,
                            "ticks": ""
                          }
                        },
                        "type": "scatterpolar"
                      }
                    ],
                    "scatterpolargl": [
                      {
                        "marker": {
                          "colorbar": {
                            "outlinewidth": 0,
                            "ticks": ""
                          }
                        },
                        "type": "scatterpolargl"
                      }
                    ],
                    "scatterternary": [
                      {
                        "marker": {
                          "colorbar": {
                            "outlinewidth": 0,
                            "ticks": ""
                          }
                        },
                        "type": "scatterternary"
                      }
                    ],
                    "surface": [
                      {
                        "colorbar": {
                          "outlinewidth": 0,
                          "ticks": ""
                        },
                        "colorscale": [
                          [
                            0,
                            "#0d0887"
                          ],
                          [
                            0.1111111111111111,
                            "#46039f"
                          ],
                          [
                            0.2222222222222222,
                            "#7201a8"
                          ],
                          [
                            0.3333333333333333,
                            "#9c179e"
                          ],
                          [
                            0.4444444444444444,
                            "#bd3786"
                          ],
                          [
                            0.5555555555555556,
                            "#d8576b"
                          ],
                          [
                            0.6666666666666666,
                            "#ed7953"
                          ],
                          [
                            0.7777777777777778,
                            "#fb9f3a"
                          ],
                          [
                            0.8888888888888888,
                            "#fdca26"
                          ],
                          [
                            1,
                            "#f0f921"
                          ]
                        ],
                        "type": "surface"
                      }
                    ],
                    "table": [
                      {
                        "cells": {
                          "fill": {
                            "color": "#EBF0F8"
                          },
                          "line": {
                            "color": "white"
                          }
                        },
                        "header": {
                          "fill": {
                            "color": "#C8D4E3"
                          },
                          "line": {
                            "color": "white"
                          }
                        },
                        "type": "table"
                      }
                    ]
                  },
                  "layout": {
                    "annotationdefaults": {
                      "arrowcolor": "#2a3f5f",
                      "arrowhead": 0,
                      "arrowwidth": 1
                    },
                    "autotypenumbers": "strict",
                    "coloraxis": {
                      "colorbar": {
                        "outlinewidth": 0,
                        "ticks": ""
                      }
                    },
                    "colorscale": {
                      "diverging": [
                        [
                          0,
                          "#8e0152"
                        ],
                        [
                          0.1,
                          "#c51b7d"
                        ],
                        [
                          0.2,
                          "#de77ae"
                        ],
                        [
                          0.3,
                          "#f1b6da"
                        ],
                        [
                          0.4,
                          "#fde0ef"
                        ],
                        [
                          0.5,
                          "#f7f7f7"
                        ],
                        [
                          0.6,
                          "#e6f5d0"
                        ],
                        [
                          0.7,
                          "#b8e186"
                        ],
                        [
                          0.8,
                          "#7fbc41"
                        ],
                        [
                          0.9,
                          "#4d9221"
                        ],
                        [
                          1,
                          "#276419"
                        ]
                      ],
                      "sequential": [
                        [
                          0,
                          "#0d0887"
                        ],
                        [
                          0.1111111111111111,
                          "#46039f"
                        ],
                        [
                          0.2222222222222222,
                          "#7201a8"
                        ],
                        [
                          0.3333333333333333,
                          "#9c179e"
                        ],
                        [
                          0.4444444444444444,
                          "#bd3786"
                        ],
                        [
                          0.5555555555555556,
                          "#d8576b"
                        ],
                        [
                          0.6666666666666666,
                          "#ed7953"
                        ],
                        [
                          0.7777777777777778,
                          "#fb9f3a"
                        ],
                        [
                          0.8888888888888888,
                          "#fdca26"
                        ],
                        [
                          1,
                          "#f0f921"
                        ]
                      ],
                      "sequentialminus": [
                        [
                          0,
                          "#0d0887"
                        ],
                        [
                          0.1111111111111111,
                          "#46039f"
                        ],
                        [
                          0.2222222222222222,
                          "#7201a8"
                        ],
                        [
                          0.3333333333333333,
                          "#9c179e"
                        ],
                        [
                          0.4444444444444444,
                          "#bd3786"
                        ],
                        [
                          0.5555555555555556,
                          "#d8576b"
                        ],
                        [
                          0.6666666666666666,
                          "#ed7953"
                        ],
                        [
                          0.7777777777777778,
                          "#fb9f3a"
                        ],
                        [
                          0.8888888888888888,
                          "#fdca26"
                        ],
                        [
                          1,
                          "#f0f921"
                        ]
                      ]
                    },
                    "colorway": [
                      "#636efa",
                      "#EF553B",
                      "#00cc96",
                      "#ab63fa",
                      "#FFA15A",
                      "#19d3f3",
                      "#FF6692",
                      "#B6E880",
                      "#FF97FF",
                      "#FECB52"
                    ],
                    "font": {
                      "color": "#2a3f5f"
                    },
                    "geo": {
                      "bgcolor": "white",
                      "lakecolor": "white",
                      "landcolor": "#E5ECF6",
                      "showlakes": true,
                      "showland": true,
                      "subunitcolor": "white"
                    },
                    "hoverlabel": {
                      "align": "left"
                    },
                    "hovermode": "closest",
                    "mapbox": {
                      "style": "light"
                    },
                    "paper_bgcolor": "white",
                    "plot_bgcolor": "#E5ECF6",
                    "polar": {
                      "angularaxis": {
                        "gridcolor": "white",
                        "linecolor": "white",
                        "ticks": ""
                      },
                      "bgcolor": "#E5ECF6",
                      "radialaxis": {
                        "gridcolor": "white",
                        "linecolor": "white",
                        "ticks": ""
                      }
                    },
                    "scene": {
                      "xaxis": {
                        "backgroundcolor": "#E5ECF6",
                        "gridcolor": "white",
                        "gridwidth": 2,
                        "linecolor": "white",
                        "showbackground": true,
                        "ticks": "",
                        "zerolinecolor": "white"
                      },
                      "yaxis": {
                        "backgroundcolor": "#E5ECF6",
                        "gridcolor": "white",
                        "gridwidth": 2,
                        "linecolor": "white",
                        "showbackground": true,
                        "ticks": "",
                        "zerolinecolor": "white"
                      },
                      "zaxis": {
                        "backgroundcolor": "#E5ECF6",
                        "gridcolor": "white",
                        "gridwidth": 2,
                        "linecolor": "white",
                        "showbackground": true,
                        "ticks": "",
                        "zerolinecolor": "white"
                      }
                    },
                    "shapedefaults": {
                      "line": {
                        "color": "#2a3f5f"
                      }
                    },
                    "ternary": {
                      "aaxis": {
                        "gridcolor": "white",
                        "linecolor": "white",
                        "ticks": ""
                      },
                      "baxis": {
                        "gridcolor": "white",
                        "linecolor": "white",
                        "ticks": ""
                      },
                      "bgcolor": "#E5ECF6",
                      "caxis": {
                        "gridcolor": "white",
                        "linecolor": "white",
                        "ticks": ""
                      }
                    },
                    "title": {
                      "x": 0.05
                    },
                    "xaxis": {
                      "automargin": true,
                      "gridcolor": "white",
                      "linecolor": "white",
                      "ticks": "",
                      "title": {
                        "standoff": 15
                      },
                      "zerolinecolor": "white",
                      "zerolinewidth": 2
                    },
                    "yaxis": {
                      "automargin": true,
                      "gridcolor": "white",
                      "linecolor": "white",
                      "ticks": "",
                      "title": {
                        "standoff": 15
                      },
                      "zerolinecolor": "white",
                      "zerolinewidth": 2
                    }
                  }
                },
                "title": {
                  "text": "Revenue per Box Shipped by Product Category (Outliers Removed)"
                },
                "xaxis": {
                  "anchor": "y",
                  "categoryarray": [
                    "Flavored Chocolate",
                    "Dark Chocolate",
                    "Nut-based Chocolate",
                    "Specialty Chocolate",
                    "Milk & White Chocolate"
                  ],
                  "categoryorder": "array",
                  "domain": [
                    0,
                    1
                  ],
                  "title": {
                    "text": "Product Category"
                  }
                },
                "yaxis": {
                  "anchor": "x",
                  "domain": [
                    0,
                    1
                  ],
                  "title": {
                    "text": "Revenue per Box ($)"
                  }
                }
              }
            }
          },
          "metadata": {},
          "output_type": "display_data"
        }
      ],
      "source": [
        "# Due to a large amount of outliers in the data for Revenue per Box Shipped, I will remove the outliers in order to see the data more clearly using IQR method\n",
        "# Step 1: Remove outliers using IQR method\n",
        "Q1 = df['Revenue per Box Shipped'].quantile(0.25)\n",
        "Q3 = df['Revenue per Box Shipped'].quantile(0.75)\n",
        "IQR = Q3 - Q1\n",
        "\n",
        "lower_bound = Q1 - 1.5 * IQR\n",
        "upper_bound = Q3 + 1.5 * IQR\n",
        "\n",
        "# Filter the dataframe to exclude outliers\n",
        "df_iqr_cleaned = df[(df['Revenue per Box Shipped'] >= lower_bound) & \n",
        "                    (df['Revenue per Box Shipped'] <= upper_bound)]\n",
        "\n",
        "# Optional: Print how many rows were removed\n",
        "print(f\"Original rows: {len(df)}\")\n",
        "print(f\"Rows after removing outliers: {len(df_iqr_cleaned)}\")\n",
        "\n",
        "# Step 2: Plot boxplot of Revenue per Box Shipped by Product Category\n",
        "fig = px.box(df_iqr_cleaned, \n",
        "             x=\"Product Category\", \n",
        "             y=\"Revenue per Box Shipped\", \n",
        "             color=\"Product Category\",\n",
        "             title=\"Revenue per Box Shipped by Product Category (Outliers Removed)\",\n",
        "             labels={\"Revenue per Box Shipped\": \"Revenue per Box ($)\"},\n",
        "             height=500)\n",
        "\n",
        "fig.show()"
      ]
    },
    {
      "cell_type": "markdown",
      "metadata": {},
      "source": [
        "- The box plot shows little difference between the product categories, with nut-based chocolate being the only one that shows a somewhat significant difference to the other four categories.\n",
        "- Generally speaking there is little difference between revenue per box and the product category, which shows why the statistical test led us to accepting the null hypothesis."
      ]
    },
    {
      "cell_type": "markdown",
      "metadata": {},
      "source": [
        "- Now we will just show some visualisations showcasing the the top individual products by revenue, the top selling categories and also the distribution of the performance of the individual products just to showcase that while there is not much differnce between revenue per box and the category of chocolate, there is a difference when it comes to the overall performance of certain categories compared to others."
      ]
    },
    {
      "cell_type": "code",
      "execution_count": 20,
      "metadata": {},
      "outputs": [
        {
          "data": {
            "application/vnd.plotly.v1+json": {
              "config": {
                "plotlyServerURL": "https://plot.ly"
              },
              "data": [
                {
                  "alignmentgroup": "True",
                  "hovertemplate": "Product=%{x}<br>Total Revenue ($)=%{y}<extra></extra>",
                  "legendgroup": "Smooth Sliky Salty",
                  "marker": {
                    "color": "#714737",
                    "pattern": {
                      "shape": ""
                    }
                  },
                  "name": "Smooth Sliky Salty",
                  "offsetgroup": "Smooth Sliky Salty",
                  "orientation": "v",
                  "showlegend": true,
                  "textposition": "auto",
                  "type": "bar",
                  "x": [
                    "Smooth Sliky Salty"
                  ],
                  "xaxis": "x",
                  "y": [
                    349692
                  ],
                  "yaxis": "y"
                },
                {
                  "alignmentgroup": "True",
                  "hovertemplate": "Product=%{x}<br>Total Revenue ($)=%{y}<extra></extra>",
                  "legendgroup": "50% Dark Bites",
                  "marker": {
                    "color": "#443025",
                    "pattern": {
                      "shape": ""
                    }
                  },
                  "name": "50% Dark Bites",
                  "offsetgroup": "50% Dark Bites",
                  "orientation": "v",
                  "showlegend": true,
                  "textposition": "auto",
                  "type": "bar",
                  "x": [
                    "50% Dark Bites"
                  ],
                  "xaxis": "x",
                  "y": [
                    341712
                  ],
                  "yaxis": "y"
                },
                {
                  "alignmentgroup": "True",
                  "hovertemplate": "Product=%{x}<br>Total Revenue ($)=%{y}<extra></extra>",
                  "legendgroup": "White Choc",
                  "marker": {
                    "color": "#D6B58C",
                    "pattern": {
                      "shape": ""
                    }
                  },
                  "name": "White Choc",
                  "offsetgroup": "White Choc",
                  "orientation": "v",
                  "showlegend": true,
                  "textposition": "auto",
                  "type": "bar",
                  "x": [
                    "White Choc"
                  ],
                  "xaxis": "x",
                  "y": [
                    329147
                  ],
                  "yaxis": "y"
                },
                {
                  "alignmentgroup": "True",
                  "hovertemplate": "Product=%{x}<br>Total Revenue ($)=%{y}<extra></extra>",
                  "legendgroup": "Peanut Butter Cubes",
                  "marker": {
                    "color": "#3A211A",
                    "pattern": {
                      "shape": ""
                    }
                  },
                  "name": "Peanut Butter Cubes",
                  "offsetgroup": "Peanut Butter Cubes",
                  "orientation": "v",
                  "showlegend": true,
                  "textposition": "auto",
                  "type": "bar",
                  "x": [
                    "Peanut Butter Cubes"
                  ],
                  "xaxis": "x",
                  "y": [
                    324842
                  ],
                  "yaxis": "y"
                },
                {
                  "alignmentgroup": "True",
                  "hovertemplate": "Product=%{x}<br>Total Revenue ($)=%{y}<extra></extra>",
                  "legendgroup": "Eclairs",
                  "marker": {
                    "color": "#E5B07C",
                    "pattern": {
                      "shape": ""
                    }
                  },
                  "name": "Eclairs",
                  "offsetgroup": "Eclairs",
                  "orientation": "v",
                  "showlegend": true,
                  "textposition": "auto",
                  "type": "bar",
                  "x": [
                    "Eclairs"
                  ],
                  "xaxis": "x",
                  "y": [
                    312445
                  ],
                  "yaxis": "y"
                }
              ],
              "layout": {
                "barmode": "relative",
                "legend": {
                  "title": {
                    "text": "Product"
                  },
                  "tracegroupgap": 0
                },
                "template": {
                  "data": {
                    "bar": [
                      {
                        "error_x": {
                          "color": "#2a3f5f"
                        },
                        "error_y": {
                          "color": "#2a3f5f"
                        },
                        "marker": {
                          "line": {
                            "color": "#E5ECF6",
                            "width": 0.5
                          },
                          "pattern": {
                            "fillmode": "overlay",
                            "size": 10,
                            "solidity": 0.2
                          }
                        },
                        "type": "bar"
                      }
                    ],
                    "barpolar": [
                      {
                        "marker": {
                          "line": {
                            "color": "#E5ECF6",
                            "width": 0.5
                          },
                          "pattern": {
                            "fillmode": "overlay",
                            "size": 10,
                            "solidity": 0.2
                          }
                        },
                        "type": "barpolar"
                      }
                    ],
                    "carpet": [
                      {
                        "aaxis": {
                          "endlinecolor": "#2a3f5f",
                          "gridcolor": "white",
                          "linecolor": "white",
                          "minorgridcolor": "white",
                          "startlinecolor": "#2a3f5f"
                        },
                        "baxis": {
                          "endlinecolor": "#2a3f5f",
                          "gridcolor": "white",
                          "linecolor": "white",
                          "minorgridcolor": "white",
                          "startlinecolor": "#2a3f5f"
                        },
                        "type": "carpet"
                      }
                    ],
                    "choropleth": [
                      {
                        "colorbar": {
                          "outlinewidth": 0,
                          "ticks": ""
                        },
                        "type": "choropleth"
                      }
                    ],
                    "contour": [
                      {
                        "colorbar": {
                          "outlinewidth": 0,
                          "ticks": ""
                        },
                        "colorscale": [
                          [
                            0,
                            "#0d0887"
                          ],
                          [
                            0.1111111111111111,
                            "#46039f"
                          ],
                          [
                            0.2222222222222222,
                            "#7201a8"
                          ],
                          [
                            0.3333333333333333,
                            "#9c179e"
                          ],
                          [
                            0.4444444444444444,
                            "#bd3786"
                          ],
                          [
                            0.5555555555555556,
                            "#d8576b"
                          ],
                          [
                            0.6666666666666666,
                            "#ed7953"
                          ],
                          [
                            0.7777777777777778,
                            "#fb9f3a"
                          ],
                          [
                            0.8888888888888888,
                            "#fdca26"
                          ],
                          [
                            1,
                            "#f0f921"
                          ]
                        ],
                        "type": "contour"
                      }
                    ],
                    "contourcarpet": [
                      {
                        "colorbar": {
                          "outlinewidth": 0,
                          "ticks": ""
                        },
                        "type": "contourcarpet"
                      }
                    ],
                    "heatmap": [
                      {
                        "colorbar": {
                          "outlinewidth": 0,
                          "ticks": ""
                        },
                        "colorscale": [
                          [
                            0,
                            "#0d0887"
                          ],
                          [
                            0.1111111111111111,
                            "#46039f"
                          ],
                          [
                            0.2222222222222222,
                            "#7201a8"
                          ],
                          [
                            0.3333333333333333,
                            "#9c179e"
                          ],
                          [
                            0.4444444444444444,
                            "#bd3786"
                          ],
                          [
                            0.5555555555555556,
                            "#d8576b"
                          ],
                          [
                            0.6666666666666666,
                            "#ed7953"
                          ],
                          [
                            0.7777777777777778,
                            "#fb9f3a"
                          ],
                          [
                            0.8888888888888888,
                            "#fdca26"
                          ],
                          [
                            1,
                            "#f0f921"
                          ]
                        ],
                        "type": "heatmap"
                      }
                    ],
                    "heatmapgl": [
                      {
                        "colorbar": {
                          "outlinewidth": 0,
                          "ticks": ""
                        },
                        "colorscale": [
                          [
                            0,
                            "#0d0887"
                          ],
                          [
                            0.1111111111111111,
                            "#46039f"
                          ],
                          [
                            0.2222222222222222,
                            "#7201a8"
                          ],
                          [
                            0.3333333333333333,
                            "#9c179e"
                          ],
                          [
                            0.4444444444444444,
                            "#bd3786"
                          ],
                          [
                            0.5555555555555556,
                            "#d8576b"
                          ],
                          [
                            0.6666666666666666,
                            "#ed7953"
                          ],
                          [
                            0.7777777777777778,
                            "#fb9f3a"
                          ],
                          [
                            0.8888888888888888,
                            "#fdca26"
                          ],
                          [
                            1,
                            "#f0f921"
                          ]
                        ],
                        "type": "heatmapgl"
                      }
                    ],
                    "histogram": [
                      {
                        "marker": {
                          "pattern": {
                            "fillmode": "overlay",
                            "size": 10,
                            "solidity": 0.2
                          }
                        },
                        "type": "histogram"
                      }
                    ],
                    "histogram2d": [
                      {
                        "colorbar": {
                          "outlinewidth": 0,
                          "ticks": ""
                        },
                        "colorscale": [
                          [
                            0,
                            "#0d0887"
                          ],
                          [
                            0.1111111111111111,
                            "#46039f"
                          ],
                          [
                            0.2222222222222222,
                            "#7201a8"
                          ],
                          [
                            0.3333333333333333,
                            "#9c179e"
                          ],
                          [
                            0.4444444444444444,
                            "#bd3786"
                          ],
                          [
                            0.5555555555555556,
                            "#d8576b"
                          ],
                          [
                            0.6666666666666666,
                            "#ed7953"
                          ],
                          [
                            0.7777777777777778,
                            "#fb9f3a"
                          ],
                          [
                            0.8888888888888888,
                            "#fdca26"
                          ],
                          [
                            1,
                            "#f0f921"
                          ]
                        ],
                        "type": "histogram2d"
                      }
                    ],
                    "histogram2dcontour": [
                      {
                        "colorbar": {
                          "outlinewidth": 0,
                          "ticks": ""
                        },
                        "colorscale": [
                          [
                            0,
                            "#0d0887"
                          ],
                          [
                            0.1111111111111111,
                            "#46039f"
                          ],
                          [
                            0.2222222222222222,
                            "#7201a8"
                          ],
                          [
                            0.3333333333333333,
                            "#9c179e"
                          ],
                          [
                            0.4444444444444444,
                            "#bd3786"
                          ],
                          [
                            0.5555555555555556,
                            "#d8576b"
                          ],
                          [
                            0.6666666666666666,
                            "#ed7953"
                          ],
                          [
                            0.7777777777777778,
                            "#fb9f3a"
                          ],
                          [
                            0.8888888888888888,
                            "#fdca26"
                          ],
                          [
                            1,
                            "#f0f921"
                          ]
                        ],
                        "type": "histogram2dcontour"
                      }
                    ],
                    "mesh3d": [
                      {
                        "colorbar": {
                          "outlinewidth": 0,
                          "ticks": ""
                        },
                        "type": "mesh3d"
                      }
                    ],
                    "parcoords": [
                      {
                        "line": {
                          "colorbar": {
                            "outlinewidth": 0,
                            "ticks": ""
                          }
                        },
                        "type": "parcoords"
                      }
                    ],
                    "pie": [
                      {
                        "automargin": true,
                        "type": "pie"
                      }
                    ],
                    "scatter": [
                      {
                        "fillpattern": {
                          "fillmode": "overlay",
                          "size": 10,
                          "solidity": 0.2
                        },
                        "type": "scatter"
                      }
                    ],
                    "scatter3d": [
                      {
                        "line": {
                          "colorbar": {
                            "outlinewidth": 0,
                            "ticks": ""
                          }
                        },
                        "marker": {
                          "colorbar": {
                            "outlinewidth": 0,
                            "ticks": ""
                          }
                        },
                        "type": "scatter3d"
                      }
                    ],
                    "scattercarpet": [
                      {
                        "marker": {
                          "colorbar": {
                            "outlinewidth": 0,
                            "ticks": ""
                          }
                        },
                        "type": "scattercarpet"
                      }
                    ],
                    "scattergeo": [
                      {
                        "marker": {
                          "colorbar": {
                            "outlinewidth": 0,
                            "ticks": ""
                          }
                        },
                        "type": "scattergeo"
                      }
                    ],
                    "scattergl": [
                      {
                        "marker": {
                          "colorbar": {
                            "outlinewidth": 0,
                            "ticks": ""
                          }
                        },
                        "type": "scattergl"
                      }
                    ],
                    "scattermapbox": [
                      {
                        "marker": {
                          "colorbar": {
                            "outlinewidth": 0,
                            "ticks": ""
                          }
                        },
                        "type": "scattermapbox"
                      }
                    ],
                    "scatterpolar": [
                      {
                        "marker": {
                          "colorbar": {
                            "outlinewidth": 0,
                            "ticks": ""
                          }
                        },
                        "type": "scatterpolar"
                      }
                    ],
                    "scatterpolargl": [
                      {
                        "marker": {
                          "colorbar": {
                            "outlinewidth": 0,
                            "ticks": ""
                          }
                        },
                        "type": "scatterpolargl"
                      }
                    ],
                    "scatterternary": [
                      {
                        "marker": {
                          "colorbar": {
                            "outlinewidth": 0,
                            "ticks": ""
                          }
                        },
                        "type": "scatterternary"
                      }
                    ],
                    "surface": [
                      {
                        "colorbar": {
                          "outlinewidth": 0,
                          "ticks": ""
                        },
                        "colorscale": [
                          [
                            0,
                            "#0d0887"
                          ],
                          [
                            0.1111111111111111,
                            "#46039f"
                          ],
                          [
                            0.2222222222222222,
                            "#7201a8"
                          ],
                          [
                            0.3333333333333333,
                            "#9c179e"
                          ],
                          [
                            0.4444444444444444,
                            "#bd3786"
                          ],
                          [
                            0.5555555555555556,
                            "#d8576b"
                          ],
                          [
                            0.6666666666666666,
                            "#ed7953"
                          ],
                          [
                            0.7777777777777778,
                            "#fb9f3a"
                          ],
                          [
                            0.8888888888888888,
                            "#fdca26"
                          ],
                          [
                            1,
                            "#f0f921"
                          ]
                        ],
                        "type": "surface"
                      }
                    ],
                    "table": [
                      {
                        "cells": {
                          "fill": {
                            "color": "#EBF0F8"
                          },
                          "line": {
                            "color": "white"
                          }
                        },
                        "header": {
                          "fill": {
                            "color": "#C8D4E3"
                          },
                          "line": {
                            "color": "white"
                          }
                        },
                        "type": "table"
                      }
                    ]
                  },
                  "layout": {
                    "annotationdefaults": {
                      "arrowcolor": "#2a3f5f",
                      "arrowhead": 0,
                      "arrowwidth": 1
                    },
                    "autotypenumbers": "strict",
                    "coloraxis": {
                      "colorbar": {
                        "outlinewidth": 0,
                        "ticks": ""
                      }
                    },
                    "colorscale": {
                      "diverging": [
                        [
                          0,
                          "#8e0152"
                        ],
                        [
                          0.1,
                          "#c51b7d"
                        ],
                        [
                          0.2,
                          "#de77ae"
                        ],
                        [
                          0.3,
                          "#f1b6da"
                        ],
                        [
                          0.4,
                          "#fde0ef"
                        ],
                        [
                          0.5,
                          "#f7f7f7"
                        ],
                        [
                          0.6,
                          "#e6f5d0"
                        ],
                        [
                          0.7,
                          "#b8e186"
                        ],
                        [
                          0.8,
                          "#7fbc41"
                        ],
                        [
                          0.9,
                          "#4d9221"
                        ],
                        [
                          1,
                          "#276419"
                        ]
                      ],
                      "sequential": [
                        [
                          0,
                          "#0d0887"
                        ],
                        [
                          0.1111111111111111,
                          "#46039f"
                        ],
                        [
                          0.2222222222222222,
                          "#7201a8"
                        ],
                        [
                          0.3333333333333333,
                          "#9c179e"
                        ],
                        [
                          0.4444444444444444,
                          "#bd3786"
                        ],
                        [
                          0.5555555555555556,
                          "#d8576b"
                        ],
                        [
                          0.6666666666666666,
                          "#ed7953"
                        ],
                        [
                          0.7777777777777778,
                          "#fb9f3a"
                        ],
                        [
                          0.8888888888888888,
                          "#fdca26"
                        ],
                        [
                          1,
                          "#f0f921"
                        ]
                      ],
                      "sequentialminus": [
                        [
                          0,
                          "#0d0887"
                        ],
                        [
                          0.1111111111111111,
                          "#46039f"
                        ],
                        [
                          0.2222222222222222,
                          "#7201a8"
                        ],
                        [
                          0.3333333333333333,
                          "#9c179e"
                        ],
                        [
                          0.4444444444444444,
                          "#bd3786"
                        ],
                        [
                          0.5555555555555556,
                          "#d8576b"
                        ],
                        [
                          0.6666666666666666,
                          "#ed7953"
                        ],
                        [
                          0.7777777777777778,
                          "#fb9f3a"
                        ],
                        [
                          0.8888888888888888,
                          "#fdca26"
                        ],
                        [
                          1,
                          "#f0f921"
                        ]
                      ]
                    },
                    "colorway": [
                      "#636efa",
                      "#EF553B",
                      "#00cc96",
                      "#ab63fa",
                      "#FFA15A",
                      "#19d3f3",
                      "#FF6692",
                      "#B6E880",
                      "#FF97FF",
                      "#FECB52"
                    ],
                    "font": {
                      "color": "#2a3f5f"
                    },
                    "geo": {
                      "bgcolor": "white",
                      "lakecolor": "white",
                      "landcolor": "#E5ECF6",
                      "showlakes": true,
                      "showland": true,
                      "subunitcolor": "white"
                    },
                    "hoverlabel": {
                      "align": "left"
                    },
                    "hovermode": "closest",
                    "mapbox": {
                      "style": "light"
                    },
                    "paper_bgcolor": "white",
                    "plot_bgcolor": "#E5ECF6",
                    "polar": {
                      "angularaxis": {
                        "gridcolor": "white",
                        "linecolor": "white",
                        "ticks": ""
                      },
                      "bgcolor": "#E5ECF6",
                      "radialaxis": {
                        "gridcolor": "white",
                        "linecolor": "white",
                        "ticks": ""
                      }
                    },
                    "scene": {
                      "xaxis": {
                        "backgroundcolor": "#E5ECF6",
                        "gridcolor": "white",
                        "gridwidth": 2,
                        "linecolor": "white",
                        "showbackground": true,
                        "ticks": "",
                        "zerolinecolor": "white"
                      },
                      "yaxis": {
                        "backgroundcolor": "#E5ECF6",
                        "gridcolor": "white",
                        "gridwidth": 2,
                        "linecolor": "white",
                        "showbackground": true,
                        "ticks": "",
                        "zerolinecolor": "white"
                      },
                      "zaxis": {
                        "backgroundcolor": "#E5ECF6",
                        "gridcolor": "white",
                        "gridwidth": 2,
                        "linecolor": "white",
                        "showbackground": true,
                        "ticks": "",
                        "zerolinecolor": "white"
                      }
                    },
                    "shapedefaults": {
                      "line": {
                        "color": "#2a3f5f"
                      }
                    },
                    "ternary": {
                      "aaxis": {
                        "gridcolor": "white",
                        "linecolor": "white",
                        "ticks": ""
                      },
                      "baxis": {
                        "gridcolor": "white",
                        "linecolor": "white",
                        "ticks": ""
                      },
                      "bgcolor": "#E5ECF6",
                      "caxis": {
                        "gridcolor": "white",
                        "linecolor": "white",
                        "ticks": ""
                      }
                    },
                    "title": {
                      "x": 0.05
                    },
                    "xaxis": {
                      "automargin": true,
                      "gridcolor": "white",
                      "linecolor": "white",
                      "ticks": "",
                      "title": {
                        "standoff": 15
                      },
                      "zerolinecolor": "white",
                      "zerolinewidth": 2
                    },
                    "yaxis": {
                      "automargin": true,
                      "gridcolor": "white",
                      "linecolor": "white",
                      "ticks": "",
                      "title": {
                        "standoff": 15
                      },
                      "zerolinecolor": "white",
                      "zerolinewidth": 2
                    }
                  }
                },
                "title": {
                  "text": "Top 5 Products by Total Revenue"
                },
                "xaxis": {
                  "anchor": "y",
                  "categoryarray": [
                    "Smooth Sliky Salty",
                    "50% Dark Bites",
                    "White Choc",
                    "Peanut Butter Cubes",
                    "Eclairs"
                  ],
                  "categoryorder": "array",
                  "domain": [
                    0,
                    1
                  ],
                  "title": {
                    "text": "Product"
                  }
                },
                "yaxis": {
                  "anchor": "x",
                  "domain": [
                    0,
                    1
                  ],
                  "title": {
                    "text": "Total Revenue ($)"
                  }
                }
              }
            }
          },
          "metadata": {},
          "output_type": "display_data"
        }
      ],
      "source": [
        "# Aggregate total sales by product and select top 5\n",
        "top_products = df.groupby('Product', as_index=False)['Amount'].sum().nlargest(5, 'Amount')\n",
        "\n",
        "# Create Bar Chart in Plotly\n",
        "fig_top_products = px.bar(top_products, \n",
        "                          x=\"Product\", \n",
        "                          y=\"Amount\", \n",
        "                          color=\"Product\", \n",
        "                          title=\"Top 5 Products by Total Revenue\",\n",
        "                          labels={\"Amount\": \"Total Revenue ($)\", \"Product\": \"Product\"},\n",
        "                          color_discrete_sequence=custom_palette)\n",
        "\n",
        "fig_top_products.show()"
      ]
    },
    {
      "cell_type": "code",
      "execution_count": 21,
      "metadata": {},
      "outputs": [
        {
          "data": {
            "application/vnd.plotly.v1+json": {
              "config": {
                "plotlyServerURL": "https://plot.ly"
              },
              "data": [
                {
                  "customdata": [
                    [
                      "Dark Chocolate"
                    ],
                    [
                      "Flavored Chocolate"
                    ],
                    [
                      "Milk & White Chocolate"
                    ],
                    [
                      "Nut-based Chocolate"
                    ],
                    [
                      "Specialty Chocolate"
                    ]
                  ],
                  "domain": {
                    "x": [
                      0,
                      1
                    ],
                    "y": [
                      0,
                      1
                    ]
                  },
                  "hole": 0,
                  "hovertemplate": "Product Category=%{customdata[0]}<br>Amount=%{value}<extra></extra>",
                  "labels": [
                    "Dark Chocolate",
                    "Flavored Chocolate",
                    "Milk & White Chocolate",
                    "Nut-based Chocolate",
                    "Specialty Chocolate"
                  ],
                  "legendgroup": "",
                  "marker": {
                    "colors": [
                      "#714737",
                      "#443025",
                      "#D6B58C",
                      "#3A211A",
                      "#E5B07C"
                    ]
                  },
                  "name": "",
                  "showlegend": true,
                  "type": "pie",
                  "values": [
                    1152347,
                    1864583,
                    598395,
                    843864,
                    1724436
                  ]
                }
              ],
              "layout": {
                "legend": {
                  "tracegroupgap": 0
                },
                "piecolorway": [
                  "#714737",
                  "#443025",
                  "#D6B58C",
                  "#3A211A",
                  "#E5B07C",
                  "#443025"
                ],
                "template": {
                  "data": {
                    "bar": [
                      {
                        "error_x": {
                          "color": "#2a3f5f"
                        },
                        "error_y": {
                          "color": "#2a3f5f"
                        },
                        "marker": {
                          "line": {
                            "color": "#E5ECF6",
                            "width": 0.5
                          },
                          "pattern": {
                            "fillmode": "overlay",
                            "size": 10,
                            "solidity": 0.2
                          }
                        },
                        "type": "bar"
                      }
                    ],
                    "barpolar": [
                      {
                        "marker": {
                          "line": {
                            "color": "#E5ECF6",
                            "width": 0.5
                          },
                          "pattern": {
                            "fillmode": "overlay",
                            "size": 10,
                            "solidity": 0.2
                          }
                        },
                        "type": "barpolar"
                      }
                    ],
                    "carpet": [
                      {
                        "aaxis": {
                          "endlinecolor": "#2a3f5f",
                          "gridcolor": "white",
                          "linecolor": "white",
                          "minorgridcolor": "white",
                          "startlinecolor": "#2a3f5f"
                        },
                        "baxis": {
                          "endlinecolor": "#2a3f5f",
                          "gridcolor": "white",
                          "linecolor": "white",
                          "minorgridcolor": "white",
                          "startlinecolor": "#2a3f5f"
                        },
                        "type": "carpet"
                      }
                    ],
                    "choropleth": [
                      {
                        "colorbar": {
                          "outlinewidth": 0,
                          "ticks": ""
                        },
                        "type": "choropleth"
                      }
                    ],
                    "contour": [
                      {
                        "colorbar": {
                          "outlinewidth": 0,
                          "ticks": ""
                        },
                        "colorscale": [
                          [
                            0,
                            "#0d0887"
                          ],
                          [
                            0.1111111111111111,
                            "#46039f"
                          ],
                          [
                            0.2222222222222222,
                            "#7201a8"
                          ],
                          [
                            0.3333333333333333,
                            "#9c179e"
                          ],
                          [
                            0.4444444444444444,
                            "#bd3786"
                          ],
                          [
                            0.5555555555555556,
                            "#d8576b"
                          ],
                          [
                            0.6666666666666666,
                            "#ed7953"
                          ],
                          [
                            0.7777777777777778,
                            "#fb9f3a"
                          ],
                          [
                            0.8888888888888888,
                            "#fdca26"
                          ],
                          [
                            1,
                            "#f0f921"
                          ]
                        ],
                        "type": "contour"
                      }
                    ],
                    "contourcarpet": [
                      {
                        "colorbar": {
                          "outlinewidth": 0,
                          "ticks": ""
                        },
                        "type": "contourcarpet"
                      }
                    ],
                    "heatmap": [
                      {
                        "colorbar": {
                          "outlinewidth": 0,
                          "ticks": ""
                        },
                        "colorscale": [
                          [
                            0,
                            "#0d0887"
                          ],
                          [
                            0.1111111111111111,
                            "#46039f"
                          ],
                          [
                            0.2222222222222222,
                            "#7201a8"
                          ],
                          [
                            0.3333333333333333,
                            "#9c179e"
                          ],
                          [
                            0.4444444444444444,
                            "#bd3786"
                          ],
                          [
                            0.5555555555555556,
                            "#d8576b"
                          ],
                          [
                            0.6666666666666666,
                            "#ed7953"
                          ],
                          [
                            0.7777777777777778,
                            "#fb9f3a"
                          ],
                          [
                            0.8888888888888888,
                            "#fdca26"
                          ],
                          [
                            1,
                            "#f0f921"
                          ]
                        ],
                        "type": "heatmap"
                      }
                    ],
                    "heatmapgl": [
                      {
                        "colorbar": {
                          "outlinewidth": 0,
                          "ticks": ""
                        },
                        "colorscale": [
                          [
                            0,
                            "#0d0887"
                          ],
                          [
                            0.1111111111111111,
                            "#46039f"
                          ],
                          [
                            0.2222222222222222,
                            "#7201a8"
                          ],
                          [
                            0.3333333333333333,
                            "#9c179e"
                          ],
                          [
                            0.4444444444444444,
                            "#bd3786"
                          ],
                          [
                            0.5555555555555556,
                            "#d8576b"
                          ],
                          [
                            0.6666666666666666,
                            "#ed7953"
                          ],
                          [
                            0.7777777777777778,
                            "#fb9f3a"
                          ],
                          [
                            0.8888888888888888,
                            "#fdca26"
                          ],
                          [
                            1,
                            "#f0f921"
                          ]
                        ],
                        "type": "heatmapgl"
                      }
                    ],
                    "histogram": [
                      {
                        "marker": {
                          "pattern": {
                            "fillmode": "overlay",
                            "size": 10,
                            "solidity": 0.2
                          }
                        },
                        "type": "histogram"
                      }
                    ],
                    "histogram2d": [
                      {
                        "colorbar": {
                          "outlinewidth": 0,
                          "ticks": ""
                        },
                        "colorscale": [
                          [
                            0,
                            "#0d0887"
                          ],
                          [
                            0.1111111111111111,
                            "#46039f"
                          ],
                          [
                            0.2222222222222222,
                            "#7201a8"
                          ],
                          [
                            0.3333333333333333,
                            "#9c179e"
                          ],
                          [
                            0.4444444444444444,
                            "#bd3786"
                          ],
                          [
                            0.5555555555555556,
                            "#d8576b"
                          ],
                          [
                            0.6666666666666666,
                            "#ed7953"
                          ],
                          [
                            0.7777777777777778,
                            "#fb9f3a"
                          ],
                          [
                            0.8888888888888888,
                            "#fdca26"
                          ],
                          [
                            1,
                            "#f0f921"
                          ]
                        ],
                        "type": "histogram2d"
                      }
                    ],
                    "histogram2dcontour": [
                      {
                        "colorbar": {
                          "outlinewidth": 0,
                          "ticks": ""
                        },
                        "colorscale": [
                          [
                            0,
                            "#0d0887"
                          ],
                          [
                            0.1111111111111111,
                            "#46039f"
                          ],
                          [
                            0.2222222222222222,
                            "#7201a8"
                          ],
                          [
                            0.3333333333333333,
                            "#9c179e"
                          ],
                          [
                            0.4444444444444444,
                            "#bd3786"
                          ],
                          [
                            0.5555555555555556,
                            "#d8576b"
                          ],
                          [
                            0.6666666666666666,
                            "#ed7953"
                          ],
                          [
                            0.7777777777777778,
                            "#fb9f3a"
                          ],
                          [
                            0.8888888888888888,
                            "#fdca26"
                          ],
                          [
                            1,
                            "#f0f921"
                          ]
                        ],
                        "type": "histogram2dcontour"
                      }
                    ],
                    "mesh3d": [
                      {
                        "colorbar": {
                          "outlinewidth": 0,
                          "ticks": ""
                        },
                        "type": "mesh3d"
                      }
                    ],
                    "parcoords": [
                      {
                        "line": {
                          "colorbar": {
                            "outlinewidth": 0,
                            "ticks": ""
                          }
                        },
                        "type": "parcoords"
                      }
                    ],
                    "pie": [
                      {
                        "automargin": true,
                        "type": "pie"
                      }
                    ],
                    "scatter": [
                      {
                        "fillpattern": {
                          "fillmode": "overlay",
                          "size": 10,
                          "solidity": 0.2
                        },
                        "type": "scatter"
                      }
                    ],
                    "scatter3d": [
                      {
                        "line": {
                          "colorbar": {
                            "outlinewidth": 0,
                            "ticks": ""
                          }
                        },
                        "marker": {
                          "colorbar": {
                            "outlinewidth": 0,
                            "ticks": ""
                          }
                        },
                        "type": "scatter3d"
                      }
                    ],
                    "scattercarpet": [
                      {
                        "marker": {
                          "colorbar": {
                            "outlinewidth": 0,
                            "ticks": ""
                          }
                        },
                        "type": "scattercarpet"
                      }
                    ],
                    "scattergeo": [
                      {
                        "marker": {
                          "colorbar": {
                            "outlinewidth": 0,
                            "ticks": ""
                          }
                        },
                        "type": "scattergeo"
                      }
                    ],
                    "scattergl": [
                      {
                        "marker": {
                          "colorbar": {
                            "outlinewidth": 0,
                            "ticks": ""
                          }
                        },
                        "type": "scattergl"
                      }
                    ],
                    "scattermapbox": [
                      {
                        "marker": {
                          "colorbar": {
                            "outlinewidth": 0,
                            "ticks": ""
                          }
                        },
                        "type": "scattermapbox"
                      }
                    ],
                    "scatterpolar": [
                      {
                        "marker": {
                          "colorbar": {
                            "outlinewidth": 0,
                            "ticks": ""
                          }
                        },
                        "type": "scatterpolar"
                      }
                    ],
                    "scatterpolargl": [
                      {
                        "marker": {
                          "colorbar": {
                            "outlinewidth": 0,
                            "ticks": ""
                          }
                        },
                        "type": "scatterpolargl"
                      }
                    ],
                    "scatterternary": [
                      {
                        "marker": {
                          "colorbar": {
                            "outlinewidth": 0,
                            "ticks": ""
                          }
                        },
                        "type": "scatterternary"
                      }
                    ],
                    "surface": [
                      {
                        "colorbar": {
                          "outlinewidth": 0,
                          "ticks": ""
                        },
                        "colorscale": [
                          [
                            0,
                            "#0d0887"
                          ],
                          [
                            0.1111111111111111,
                            "#46039f"
                          ],
                          [
                            0.2222222222222222,
                            "#7201a8"
                          ],
                          [
                            0.3333333333333333,
                            "#9c179e"
                          ],
                          [
                            0.4444444444444444,
                            "#bd3786"
                          ],
                          [
                            0.5555555555555556,
                            "#d8576b"
                          ],
                          [
                            0.6666666666666666,
                            "#ed7953"
                          ],
                          [
                            0.7777777777777778,
                            "#fb9f3a"
                          ],
                          [
                            0.8888888888888888,
                            "#fdca26"
                          ],
                          [
                            1,
                            "#f0f921"
                          ]
                        ],
                        "type": "surface"
                      }
                    ],
                    "table": [
                      {
                        "cells": {
                          "fill": {
                            "color": "#EBF0F8"
                          },
                          "line": {
                            "color": "white"
                          }
                        },
                        "header": {
                          "fill": {
                            "color": "#C8D4E3"
                          },
                          "line": {
                            "color": "white"
                          }
                        },
                        "type": "table"
                      }
                    ]
                  },
                  "layout": {
                    "annotationdefaults": {
                      "arrowcolor": "#2a3f5f",
                      "arrowhead": 0,
                      "arrowwidth": 1
                    },
                    "autotypenumbers": "strict",
                    "coloraxis": {
                      "colorbar": {
                        "outlinewidth": 0,
                        "ticks": ""
                      }
                    },
                    "colorscale": {
                      "diverging": [
                        [
                          0,
                          "#8e0152"
                        ],
                        [
                          0.1,
                          "#c51b7d"
                        ],
                        [
                          0.2,
                          "#de77ae"
                        ],
                        [
                          0.3,
                          "#f1b6da"
                        ],
                        [
                          0.4,
                          "#fde0ef"
                        ],
                        [
                          0.5,
                          "#f7f7f7"
                        ],
                        [
                          0.6,
                          "#e6f5d0"
                        ],
                        [
                          0.7,
                          "#b8e186"
                        ],
                        [
                          0.8,
                          "#7fbc41"
                        ],
                        [
                          0.9,
                          "#4d9221"
                        ],
                        [
                          1,
                          "#276419"
                        ]
                      ],
                      "sequential": [
                        [
                          0,
                          "#0d0887"
                        ],
                        [
                          0.1111111111111111,
                          "#46039f"
                        ],
                        [
                          0.2222222222222222,
                          "#7201a8"
                        ],
                        [
                          0.3333333333333333,
                          "#9c179e"
                        ],
                        [
                          0.4444444444444444,
                          "#bd3786"
                        ],
                        [
                          0.5555555555555556,
                          "#d8576b"
                        ],
                        [
                          0.6666666666666666,
                          "#ed7953"
                        ],
                        [
                          0.7777777777777778,
                          "#fb9f3a"
                        ],
                        [
                          0.8888888888888888,
                          "#fdca26"
                        ],
                        [
                          1,
                          "#f0f921"
                        ]
                      ],
                      "sequentialminus": [
                        [
                          0,
                          "#0d0887"
                        ],
                        [
                          0.1111111111111111,
                          "#46039f"
                        ],
                        [
                          0.2222222222222222,
                          "#7201a8"
                        ],
                        [
                          0.3333333333333333,
                          "#9c179e"
                        ],
                        [
                          0.4444444444444444,
                          "#bd3786"
                        ],
                        [
                          0.5555555555555556,
                          "#d8576b"
                        ],
                        [
                          0.6666666666666666,
                          "#ed7953"
                        ],
                        [
                          0.7777777777777778,
                          "#fb9f3a"
                        ],
                        [
                          0.8888888888888888,
                          "#fdca26"
                        ],
                        [
                          1,
                          "#f0f921"
                        ]
                      ]
                    },
                    "colorway": [
                      "#636efa",
                      "#EF553B",
                      "#00cc96",
                      "#ab63fa",
                      "#FFA15A",
                      "#19d3f3",
                      "#FF6692",
                      "#B6E880",
                      "#FF97FF",
                      "#FECB52"
                    ],
                    "font": {
                      "color": "#2a3f5f"
                    },
                    "geo": {
                      "bgcolor": "white",
                      "lakecolor": "white",
                      "landcolor": "#E5ECF6",
                      "showlakes": true,
                      "showland": true,
                      "subunitcolor": "white"
                    },
                    "hoverlabel": {
                      "align": "left"
                    },
                    "hovermode": "closest",
                    "mapbox": {
                      "style": "light"
                    },
                    "paper_bgcolor": "white",
                    "plot_bgcolor": "#E5ECF6",
                    "polar": {
                      "angularaxis": {
                        "gridcolor": "white",
                        "linecolor": "white",
                        "ticks": ""
                      },
                      "bgcolor": "#E5ECF6",
                      "radialaxis": {
                        "gridcolor": "white",
                        "linecolor": "white",
                        "ticks": ""
                      }
                    },
                    "scene": {
                      "xaxis": {
                        "backgroundcolor": "#E5ECF6",
                        "gridcolor": "white",
                        "gridwidth": 2,
                        "linecolor": "white",
                        "showbackground": true,
                        "ticks": "",
                        "zerolinecolor": "white"
                      },
                      "yaxis": {
                        "backgroundcolor": "#E5ECF6",
                        "gridcolor": "white",
                        "gridwidth": 2,
                        "linecolor": "white",
                        "showbackground": true,
                        "ticks": "",
                        "zerolinecolor": "white"
                      },
                      "zaxis": {
                        "backgroundcolor": "#E5ECF6",
                        "gridcolor": "white",
                        "gridwidth": 2,
                        "linecolor": "white",
                        "showbackground": true,
                        "ticks": "",
                        "zerolinecolor": "white"
                      }
                    },
                    "shapedefaults": {
                      "line": {
                        "color": "#2a3f5f"
                      }
                    },
                    "ternary": {
                      "aaxis": {
                        "gridcolor": "white",
                        "linecolor": "white",
                        "ticks": ""
                      },
                      "baxis": {
                        "gridcolor": "white",
                        "linecolor": "white",
                        "ticks": ""
                      },
                      "bgcolor": "#E5ECF6",
                      "caxis": {
                        "gridcolor": "white",
                        "linecolor": "white",
                        "ticks": ""
                      }
                    },
                    "title": {
                      "x": 0.05
                    },
                    "xaxis": {
                      "automargin": true,
                      "gridcolor": "white",
                      "linecolor": "white",
                      "ticks": "",
                      "title": {
                        "standoff": 15
                      },
                      "zerolinecolor": "white",
                      "zerolinewidth": 2
                    },
                    "yaxis": {
                      "automargin": true,
                      "gridcolor": "white",
                      "linecolor": "white",
                      "ticks": "",
                      "title": {
                        "standoff": 15
                      },
                      "zerolinecolor": "white",
                      "zerolinewidth": 2
                    }
                  }
                },
                "title": {
                  "text": "Total Sales by Product Category"
                }
              }
            }
          },
          "metadata": {},
          "output_type": "display_data"
        }
      ],
      "source": [
        "# Aggregate total sales by product category\n",
        "total_sales_by_category = df.groupby(\"Product Category\", as_index=False)[\"Amount\"].sum()\n",
        "\n",
        "# Custom color palette\n",
        "custom_palette = ['#714737','#443025','#D6B58C','#3A211A','#E5B07C','#443025']\n",
        "\n",
        "# Create Pie Chart in Plotly\n",
        "fig_pie = px.pie(total_sales_by_category, \n",
        "                 names=\"Product Category\", \n",
        "                 values=\"Amount\", \n",
        "                 title=\"Total Sales by Product Category\", \n",
        "                 color=\"Product Category\",\n",
        "                 color_discrete_sequence=custom_palette,\n",
        "                 hole=0)  # Set hole=0 for a standard pie chart\n",
        "\n",
        "fig_pie.show()"
      ]
    },
    {
      "cell_type": "code",
      "execution_count": 22,
      "metadata": {},
      "outputs": [
        {
          "data": {
            "application/vnd.plotly.v1+json": {
              "config": {
                "plotlyServerURL": "https://plot.ly"
              },
              "data": [
                {
                  "alignmentgroup": "True",
                  "hovertemplate": "Product=%{x}<br>Total Sales Amount=%{y}<extra></extra>",
                  "legendgroup": "Mint Chip Choco",
                  "marker": {
                    "color": "#636efa"
                  },
                  "name": "Mint Chip Choco",
                  "notched": false,
                  "offsetgroup": "Mint Chip Choco",
                  "orientation": "v",
                  "showlegend": true,
                  "type": "box",
                  "x": [
                    "Mint Chip Choco",
                    "Mint Chip Choco",
                    "Mint Chip Choco",
                    "Mint Chip Choco",
                    "Mint Chip Choco",
                    "Mint Chip Choco",
                    "Mint Chip Choco",
                    "Mint Chip Choco",
                    "Mint Chip Choco",
                    "Mint Chip Choco",
                    "Mint Chip Choco",
                    "Mint Chip Choco",
                    "Mint Chip Choco",
                    "Mint Chip Choco",
                    "Mint Chip Choco",
                    "Mint Chip Choco",
                    "Mint Chip Choco",
                    "Mint Chip Choco",
                    "Mint Chip Choco",
                    "Mint Chip Choco",
                    "Mint Chip Choco",
                    "Mint Chip Choco",
                    "Mint Chip Choco",
                    "Mint Chip Choco",
                    "Mint Chip Choco",
                    "Mint Chip Choco",
                    "Mint Chip Choco",
                    "Mint Chip Choco",
                    "Mint Chip Choco",
                    "Mint Chip Choco",
                    "Mint Chip Choco",
                    "Mint Chip Choco",
                    "Mint Chip Choco",
                    "Mint Chip Choco",
                    "Mint Chip Choco",
                    "Mint Chip Choco",
                    "Mint Chip Choco",
                    "Mint Chip Choco",
                    "Mint Chip Choco",
                    "Mint Chip Choco",
                    "Mint Chip Choco",
                    "Mint Chip Choco",
                    "Mint Chip Choco",
                    "Mint Chip Choco",
                    "Mint Chip Choco"
                  ],
                  "x0": " ",
                  "xaxis": "x",
                  "y": [
                    5320,
                    63,
                    1162,
                    9660,
                    6454,
                    11662,
                    2688,
                    10990,
                    6790,
                    6797,
                    10577,
                    6384,
                    18340,
                    5033,
                    7756,
                    15652,
                    5292,
                    4046,
                    6440,
                    2870,
                    3724,
                    3836,
                    2751,
                    4361,
                    1064,
                    1316,
                    9058,
                    8848,
                    17626,
                    3220,
                    4802,
                    4256,
                    13573,
                    4403,
                    1309,
                    1694,
                    4326,
                    4977,
                    7413,
                    2443,
                    15491,
                    7413,
                    8155,
                    1260,
                    2674
                  ],
                  "y0": " ",
                  "yaxis": "y"
                },
                {
                  "alignmentgroup": "True",
                  "hovertemplate": "Product=%{x}<br>Total Sales Amount=%{y}<extra></extra>",
                  "legendgroup": "85% Dark Bars",
                  "marker": {
                    "color": "#EF553B"
                  },
                  "name": "85% Dark Bars",
                  "notched": false,
                  "offsetgroup": "85% Dark Bars",
                  "orientation": "v",
                  "showlegend": true,
                  "type": "box",
                  "x": [
                    "85% Dark Bars",
                    "85% Dark Bars",
                    "85% Dark Bars",
                    "85% Dark Bars",
                    "85% Dark Bars",
                    "85% Dark Bars",
                    "85% Dark Bars",
                    "85% Dark Bars",
                    "85% Dark Bars",
                    "85% Dark Bars",
                    "85% Dark Bars",
                    "85% Dark Bars",
                    "85% Dark Bars",
                    "85% Dark Bars",
                    "85% Dark Bars",
                    "85% Dark Bars",
                    "85% Dark Bars",
                    "85% Dark Bars",
                    "85% Dark Bars",
                    "85% Dark Bars",
                    "85% Dark Bars",
                    "85% Dark Bars",
                    "85% Dark Bars",
                    "85% Dark Bars",
                    "85% Dark Bars",
                    "85% Dark Bars",
                    "85% Dark Bars",
                    "85% Dark Bars",
                    "85% Dark Bars",
                    "85% Dark Bars",
                    "85% Dark Bars",
                    "85% Dark Bars",
                    "85% Dark Bars",
                    "85% Dark Bars",
                    "85% Dark Bars",
                    "85% Dark Bars",
                    "85% Dark Bars",
                    "85% Dark Bars",
                    "85% Dark Bars",
                    "85% Dark Bars",
                    "85% Dark Bars",
                    "85% Dark Bars",
                    "85% Dark Bars",
                    "85% Dark Bars",
                    "85% Dark Bars",
                    "85% Dark Bars",
                    "85% Dark Bars",
                    "85% Dark Bars",
                    "85% Dark Bars",
                    "85% Dark Bars"
                  ],
                  "x0": " ",
                  "xaxis": "x",
                  "y": [
                    7896,
                    1085,
                    1722,
                    3654,
                    2205,
                    6881,
                    1827,
                    8911,
                    1428,
                    378,
                    2100,
                    2632,
                    2541,
                    11200,
                    10241,
                    4760,
                    1575,
                    3577,
                    4186,
                    10885,
                    4515,
                    12761,
                    12404,
                    1218,
                    273,
                    7504,
                    945,
                    6069,
                    6944,
                    1729,
                    7714,
                    6972,
                    10220,
                    9023,
                    8498,
                    4844,
                    18032,
                    3997,
                    7007,
                    8981,
                    12362,
                    5502,
                    5404,
                    14924,
                    4200,
                    2401,
                    3381,
                    6139,
                    483,
                    15099
                  ],
                  "y0": " ",
                  "yaxis": "y"
                },
                {
                  "alignmentgroup": "True",
                  "hovertemplate": "Product=%{x}<br>Total Sales Amount=%{y}<extra></extra>",
                  "legendgroup": "Peanut Butter Cubes",
                  "marker": {
                    "color": "#00cc96"
                  },
                  "name": "Peanut Butter Cubes",
                  "notched": false,
                  "offsetgroup": "Peanut Butter Cubes",
                  "orientation": "v",
                  "showlegend": true,
                  "type": "box",
                  "x": [
                    "Peanut Butter Cubes",
                    "Peanut Butter Cubes",
                    "Peanut Butter Cubes",
                    "Peanut Butter Cubes",
                    "Peanut Butter Cubes",
                    "Peanut Butter Cubes",
                    "Peanut Butter Cubes",
                    "Peanut Butter Cubes",
                    "Peanut Butter Cubes",
                    "Peanut Butter Cubes",
                    "Peanut Butter Cubes",
                    "Peanut Butter Cubes",
                    "Peanut Butter Cubes",
                    "Peanut Butter Cubes",
                    "Peanut Butter Cubes",
                    "Peanut Butter Cubes",
                    "Peanut Butter Cubes",
                    "Peanut Butter Cubes",
                    "Peanut Butter Cubes",
                    "Peanut Butter Cubes",
                    "Peanut Butter Cubes",
                    "Peanut Butter Cubes",
                    "Peanut Butter Cubes",
                    "Peanut Butter Cubes",
                    "Peanut Butter Cubes",
                    "Peanut Butter Cubes",
                    "Peanut Butter Cubes",
                    "Peanut Butter Cubes",
                    "Peanut Butter Cubes",
                    "Peanut Butter Cubes",
                    "Peanut Butter Cubes",
                    "Peanut Butter Cubes",
                    "Peanut Butter Cubes",
                    "Peanut Butter Cubes",
                    "Peanut Butter Cubes",
                    "Peanut Butter Cubes",
                    "Peanut Butter Cubes",
                    "Peanut Butter Cubes",
                    "Peanut Butter Cubes",
                    "Peanut Butter Cubes",
                    "Peanut Butter Cubes",
                    "Peanut Butter Cubes",
                    "Peanut Butter Cubes",
                    "Peanut Butter Cubes",
                    "Peanut Butter Cubes",
                    "Peanut Butter Cubes",
                    "Peanut Butter Cubes",
                    "Peanut Butter Cubes",
                    "Peanut Butter Cubes"
                  ],
                  "x0": " ",
                  "xaxis": "x",
                  "y": [
                    4501,
                    12726,
                    13685,
                    8379,
                    6790,
                    9037,
                    959,
                    10283,
                    6489,
                    3269,
                    2100,
                    5460,
                    11837,
                    6272,
                    8925,
                    889,
                    5691,
                    8092,
                    1736,
                    6678,
                    3094,
                    2156,
                    22050,
                    13930,
                    5152,
                    7532,
                    1162,
                    6342,
                    1582,
                    15330,
                    280,
                    10822,
                    5691,
                    4522,
                    4935,
                    2058,
                    14763,
                    12425,
                    15008,
                    28,
                    9107,
                    1533,
                    10199,
                    693,
                    4872,
                    7756,
                    6594,
                    1127,
                    301
                  ],
                  "y0": " ",
                  "yaxis": "y"
                },
                {
                  "alignmentgroup": "True",
                  "hovertemplate": "Product=%{x}<br>Total Sales Amount=%{y}<extra></extra>",
                  "legendgroup": "Smooth Sliky Salty",
                  "marker": {
                    "color": "#ab63fa"
                  },
                  "name": "Smooth Sliky Salty",
                  "notched": false,
                  "offsetgroup": "Smooth Sliky Salty",
                  "orientation": "v",
                  "showlegend": true,
                  "type": "box",
                  "x": [
                    "Smooth Sliky Salty",
                    "Smooth Sliky Salty",
                    "Smooth Sliky Salty",
                    "Smooth Sliky Salty",
                    "Smooth Sliky Salty",
                    "Smooth Sliky Salty",
                    "Smooth Sliky Salty",
                    "Smooth Sliky Salty",
                    "Smooth Sliky Salty",
                    "Smooth Sliky Salty",
                    "Smooth Sliky Salty",
                    "Smooth Sliky Salty",
                    "Smooth Sliky Salty",
                    "Smooth Sliky Salty",
                    "Smooth Sliky Salty",
                    "Smooth Sliky Salty",
                    "Smooth Sliky Salty",
                    "Smooth Sliky Salty",
                    "Smooth Sliky Salty",
                    "Smooth Sliky Salty",
                    "Smooth Sliky Salty",
                    "Smooth Sliky Salty",
                    "Smooth Sliky Salty",
                    "Smooth Sliky Salty",
                    "Smooth Sliky Salty",
                    "Smooth Sliky Salty",
                    "Smooth Sliky Salty",
                    "Smooth Sliky Salty",
                    "Smooth Sliky Salty",
                    "Smooth Sliky Salty",
                    "Smooth Sliky Salty",
                    "Smooth Sliky Salty",
                    "Smooth Sliky Salty",
                    "Smooth Sliky Salty",
                    "Smooth Sliky Salty",
                    "Smooth Sliky Salty",
                    "Smooth Sliky Salty",
                    "Smooth Sliky Salty",
                    "Smooth Sliky Salty",
                    "Smooth Sliky Salty",
                    "Smooth Sliky Salty",
                    "Smooth Sliky Salty",
                    "Smooth Sliky Salty",
                    "Smooth Sliky Salty",
                    "Smooth Sliky Salty",
                    "Smooth Sliky Salty",
                    "Smooth Sliky Salty",
                    "Smooth Sliky Salty",
                    "Smooth Sliky Salty",
                    "Smooth Sliky Salty",
                    "Smooth Sliky Salty",
                    "Smooth Sliky Salty",
                    "Smooth Sliky Salty",
                    "Smooth Sliky Salty",
                    "Smooth Sliky Salty",
                    "Smooth Sliky Salty",
                    "Smooth Sliky Salty",
                    "Smooth Sliky Salty",
                    "Smooth Sliky Salty"
                  ],
                  "x0": " ",
                  "xaxis": "x",
                  "y": [
                    5376,
                    4704,
                    3017,
                    5929,
                    5103,
                    5663,
                    1015,
                    10101,
                    5460,
                    3017,
                    3115,
                    18991,
                    4403,
                    3745,
                    8484,
                    8043,
                    8673,
                    9016,
                    1638,
                    7490,
                    2317,
                    14287,
                    14539,
                    10507,
                    2660,
                    7406,
                    2387,
                    6657,
                    3752,
                    3577,
                    2975,
                    11298,
                    1750,
                    19327,
                    2464,
                    2583,
                    1155,
                    1463,
                    3969,
                    10633,
                    15057,
                    9338,
                    8099,
                    504,
                    700,
                    9625,
                    9870,
                    5691,
                    5964,
                    1939,
                    7,
                    749,
                    3990,
                    4991,
                    5768,
                    4158,
                    546,
                    2226,
                    11781
                  ],
                  "y0": " ",
                  "yaxis": "y"
                },
                {
                  "alignmentgroup": "True",
                  "hovertemplate": "Product=%{x}<br>Total Sales Amount=%{y}<extra></extra>",
                  "legendgroup": "99% Dark & Pure",
                  "marker": {
                    "color": "#FFA15A"
                  },
                  "name": "99% Dark & Pure",
                  "notched": false,
                  "offsetgroup": "99% Dark & Pure",
                  "orientation": "v",
                  "showlegend": true,
                  "type": "box",
                  "x": [
                    "99% Dark & Pure",
                    "99% Dark & Pure",
                    "99% Dark & Pure",
                    "99% Dark & Pure",
                    "99% Dark & Pure",
                    "99% Dark & Pure",
                    "99% Dark & Pure",
                    "99% Dark & Pure",
                    "99% Dark & Pure",
                    "99% Dark & Pure",
                    "99% Dark & Pure",
                    "99% Dark & Pure",
                    "99% Dark & Pure",
                    "99% Dark & Pure",
                    "99% Dark & Pure",
                    "99% Dark & Pure",
                    "99% Dark & Pure",
                    "99% Dark & Pure",
                    "99% Dark & Pure",
                    "99% Dark & Pure",
                    "99% Dark & Pure",
                    "99% Dark & Pure",
                    "99% Dark & Pure",
                    "99% Dark & Pure",
                    "99% Dark & Pure",
                    "99% Dark & Pure",
                    "99% Dark & Pure",
                    "99% Dark & Pure",
                    "99% Dark & Pure",
                    "99% Dark & Pure",
                    "99% Dark & Pure",
                    "99% Dark & Pure",
                    "99% Dark & Pure",
                    "99% Dark & Pure",
                    "99% Dark & Pure",
                    "99% Dark & Pure",
                    "99% Dark & Pure",
                    "99% Dark & Pure",
                    "99% Dark & Pure",
                    "99% Dark & Pure",
                    "99% Dark & Pure",
                    "99% Dark & Pure",
                    "99% Dark & Pure",
                    "99% Dark & Pure",
                    "99% Dark & Pure",
                    "99% Dark & Pure",
                    "99% Dark & Pure",
                    "99% Dark & Pure",
                    "99% Dark & Pure"
                  ],
                  "x0": " ",
                  "xaxis": "x",
                  "y": [
                    13685,
                    2835,
                    12446,
                    16793,
                    10255,
                    4725,
                    4151,
                    4830,
                    3605,
                    2758,
                    12586,
                    9310,
                    784,
                    7714,
                    6888,
                    4676,
                    1953,
                    4669,
                    1288,
                    10479,
                    12586,
                    8113,
                    6769,
                    3822,
                    3185,
                    3486,
                    7,
                    2534,
                    10486,
                    112,
                    9100,
                    1155,
                    9534,
                    3087,
                    203,
                    10724,
                    4326,
                    10766,
                    3507,
                    3164,
                    2303,
                    5096,
                    2268,
                    12187,
                    7483,
                    10822,
                    455,
                    7952,
                    8134
                  ],
                  "y0": " ",
                  "yaxis": "y"
                },
                {
                  "alignmentgroup": "True",
                  "hovertemplate": "Product=%{x}<br>Total Sales Amount=%{y}<extra></extra>",
                  "legendgroup": "After Nines",
                  "marker": {
                    "color": "#19d3f3"
                  },
                  "name": "After Nines",
                  "notched": false,
                  "offsetgroup": "After Nines",
                  "orientation": "v",
                  "showlegend": true,
                  "type": "box",
                  "x": [
                    "After Nines",
                    "After Nines",
                    "After Nines",
                    "After Nines",
                    "After Nines",
                    "After Nines",
                    "After Nines",
                    "After Nines",
                    "After Nines",
                    "After Nines",
                    "After Nines",
                    "After Nines",
                    "After Nines",
                    "After Nines",
                    "After Nines",
                    "After Nines",
                    "After Nines",
                    "After Nines",
                    "After Nines",
                    "After Nines",
                    "After Nines",
                    "After Nines",
                    "After Nines",
                    "After Nines",
                    "After Nines",
                    "After Nines",
                    "After Nines",
                    "After Nines",
                    "After Nines",
                    "After Nines",
                    "After Nines",
                    "After Nines",
                    "After Nines",
                    "After Nines",
                    "After Nines",
                    "After Nines",
                    "After Nines",
                    "After Nines",
                    "After Nines",
                    "After Nines",
                    "After Nines",
                    "After Nines",
                    "After Nines",
                    "After Nines",
                    "After Nines",
                    "After Nines",
                    "After Nines",
                    "After Nines",
                    "After Nines",
                    "After Nines"
                  ],
                  "x0": " ",
                  "xaxis": "x",
                  "y": [
                    3080,
                    4753,
                    2163,
                    147,
                    938,
                    8001,
                    630,
                    11571,
                    1561,
                    392,
                    8029,
                    1687,
                    3325,
                    4571,
                    2639,
                    6916,
                    2576,
                    2345,
                    10024,
                    5747,
                    1848,
                    1512,
                    2303,
                    4739,
                    9772,
                    2744,
                    4515,
                    5705,
                    6433,
                    7175,
                    7959,
                    63,
                    1946,
                    252,
                    1099,
                    16702,
                    5600,
                    6496,
                    3738,
                    12026,
                    8190,
                    6832,
                    13706,
                    14147,
                    18697,
                    5845,
                    5250,
                    3507,
                    483,
                    952
                  ],
                  "y0": " ",
                  "yaxis": "y"
                },
                {
                  "alignmentgroup": "True",
                  "hovertemplate": "Product=%{x}<br>Total Sales Amount=%{y}<extra></extra>",
                  "legendgroup": "50% Dark Bites",
                  "marker": {
                    "color": "#FF6692"
                  },
                  "name": "50% Dark Bites",
                  "notched": false,
                  "offsetgroup": "50% Dark Bites",
                  "orientation": "v",
                  "showlegend": true,
                  "type": "box",
                  "x": [
                    "50% Dark Bites",
                    "50% Dark Bites",
                    "50% Dark Bites",
                    "50% Dark Bites",
                    "50% Dark Bites",
                    "50% Dark Bites",
                    "50% Dark Bites",
                    "50% Dark Bites",
                    "50% Dark Bites",
                    "50% Dark Bites",
                    "50% Dark Bites",
                    "50% Dark Bites",
                    "50% Dark Bites",
                    "50% Dark Bites",
                    "50% Dark Bites",
                    "50% Dark Bites",
                    "50% Dark Bites",
                    "50% Dark Bites",
                    "50% Dark Bites",
                    "50% Dark Bites",
                    "50% Dark Bites",
                    "50% Dark Bites",
                    "50% Dark Bites",
                    "50% Dark Bites",
                    "50% Dark Bites",
                    "50% Dark Bites",
                    "50% Dark Bites",
                    "50% Dark Bites",
                    "50% Dark Bites",
                    "50% Dark Bites",
                    "50% Dark Bites",
                    "50% Dark Bites",
                    "50% Dark Bites",
                    "50% Dark Bites",
                    "50% Dark Bites",
                    "50% Dark Bites",
                    "50% Dark Bites",
                    "50% Dark Bites",
                    "50% Dark Bites",
                    "50% Dark Bites",
                    "50% Dark Bites",
                    "50% Dark Bites",
                    "50% Dark Bites",
                    "50% Dark Bites",
                    "50% Dark Bites",
                    "50% Dark Bites",
                    "50% Dark Bites",
                    "50% Dark Bites",
                    "50% Dark Bites",
                    "50% Dark Bites",
                    "50% Dark Bites",
                    "50% Dark Bites",
                    "50% Dark Bites",
                    "50% Dark Bites",
                    "50% Dark Bites",
                    "50% Dark Bites",
                    "50% Dark Bites",
                    "50% Dark Bites",
                    "50% Dark Bites",
                    "50% Dark Bites"
                  ],
                  "x0": " ",
                  "xaxis": "x",
                  "y": [
                    3990,
                    2653,
                    9737,
                    4438,
                    9275,
                    2919,
                    1064,
                    5194,
                    7287,
                    581,
                    3472,
                    3108,
                    7350,
                    2296,
                    70,
                    13034,
                    8687,
                    14889,
                    3010,
                    10185,
                    3374,
                    8197,
                    5502,
                    4312,
                    12992,
                    2450,
                    1736,
                    3402,
                    588,
                    5103,
                    3374,
                    12271,
                    5908,
                    10458,
                    6188,
                    4501,
                    13482,
                    504,
                    3024,
                    2107,
                    4557,
                    2989,
                    10031,
                    6678,
                    13685,
                    700,
                    644,
                    3647,
                    8995,
                    5250,
                    721,
                    6615,
                    3143,
                    11298,
                    3626,
                    5670,
                    9765,
                    10150,
                    2499,
                    8337
                  ],
                  "y0": " ",
                  "yaxis": "y"
                },
                {
                  "alignmentgroup": "True",
                  "hovertemplate": "Product=%{x}<br>Total Sales Amount=%{y}<extra></extra>",
                  "legendgroup": "Orange Choco",
                  "marker": {
                    "color": "#B6E880"
                  },
                  "name": "Orange Choco",
                  "notched": false,
                  "offsetgroup": "Orange Choco",
                  "orientation": "v",
                  "showlegend": true,
                  "type": "box",
                  "x": [
                    "Orange Choco",
                    "Orange Choco",
                    "Orange Choco",
                    "Orange Choco",
                    "Orange Choco",
                    "Orange Choco",
                    "Orange Choco",
                    "Orange Choco",
                    "Orange Choco",
                    "Orange Choco",
                    "Orange Choco",
                    "Orange Choco",
                    "Orange Choco",
                    "Orange Choco",
                    "Orange Choco",
                    "Orange Choco",
                    "Orange Choco",
                    "Orange Choco",
                    "Orange Choco",
                    "Orange Choco",
                    "Orange Choco",
                    "Orange Choco",
                    "Orange Choco",
                    "Orange Choco",
                    "Orange Choco",
                    "Orange Choco",
                    "Orange Choco",
                    "Orange Choco",
                    "Orange Choco",
                    "Orange Choco",
                    "Orange Choco",
                    "Orange Choco",
                    "Orange Choco",
                    "Orange Choco",
                    "Orange Choco",
                    "Orange Choco",
                    "Orange Choco",
                    "Orange Choco",
                    "Orange Choco",
                    "Orange Choco",
                    "Orange Choco",
                    "Orange Choco",
                    "Orange Choco",
                    "Orange Choco",
                    "Orange Choco",
                    "Orange Choco",
                    "Orange Choco"
                  ],
                  "x0": " ",
                  "xaxis": "x",
                  "y": [
                    3703,
                    7595,
                    11095,
                    49,
                    9408,
                    8897,
                    854,
                    13706,
                    14238,
                    3199,
                    4053,
                    1743,
                    14658,
                    3122,
                    3640,
                    1379,
                    980,
                    11319,
                    6020,
                    8148,
                    3577,
                    4571,
                    1960,
                    1379,
                    7042,
                    7742,
                    11116,
                    1225,
                    8169,
                    3857,
                    3780,
                    6713,
                    8722,
                    6510,
                    784,
                    364,
                    8204,
                    2723,
                    7315,
                    7770,
                    1190,
                    7602,
                    4361,
                    574,
                    2030,
                    301,
                    8757
                  ],
                  "y0": " ",
                  "yaxis": "y"
                },
                {
                  "alignmentgroup": "True",
                  "hovertemplate": "Product=%{x}<br>Total Sales Amount=%{y}<extra></extra>",
                  "legendgroup": "Eclairs",
                  "marker": {
                    "color": "#FF97FF"
                  },
                  "name": "Eclairs",
                  "notched": false,
                  "offsetgroup": "Eclairs",
                  "orientation": "v",
                  "showlegend": true,
                  "type": "box",
                  "x": [
                    "Eclairs",
                    "Eclairs",
                    "Eclairs",
                    "Eclairs",
                    "Eclairs",
                    "Eclairs",
                    "Eclairs",
                    "Eclairs",
                    "Eclairs",
                    "Eclairs",
                    "Eclairs",
                    "Eclairs",
                    "Eclairs",
                    "Eclairs",
                    "Eclairs",
                    "Eclairs",
                    "Eclairs",
                    "Eclairs",
                    "Eclairs",
                    "Eclairs",
                    "Eclairs",
                    "Eclairs",
                    "Eclairs",
                    "Eclairs",
                    "Eclairs",
                    "Eclairs",
                    "Eclairs",
                    "Eclairs",
                    "Eclairs",
                    "Eclairs",
                    "Eclairs",
                    "Eclairs",
                    "Eclairs",
                    "Eclairs",
                    "Eclairs",
                    "Eclairs",
                    "Eclairs",
                    "Eclairs",
                    "Eclairs",
                    "Eclairs",
                    "Eclairs",
                    "Eclairs",
                    "Eclairs",
                    "Eclairs",
                    "Eclairs",
                    "Eclairs",
                    "Eclairs",
                    "Eclairs",
                    "Eclairs",
                    "Eclairs",
                    "Eclairs",
                    "Eclairs",
                    "Eclairs",
                    "Eclairs",
                    "Eclairs",
                    "Eclairs",
                    "Eclairs",
                    "Eclairs",
                    "Eclairs",
                    "Eclairs"
                  ],
                  "x0": " ",
                  "xaxis": "x",
                  "y": [
                    1442,
                    6888,
                    7672,
                    4025,
                    4382,
                    6188,
                    1827,
                    5334,
                    7273,
                    4606,
                    2541,
                    4116,
                    7798,
                    3479,
                    8883,
                    1351,
                    6979,
                    6328,
                    455,
                    1876,
                    3472,
                    3619,
                    6993,
                    6916,
                    2597,
                    3493,
                    5663,
                    6713,
                    3696,
                    8771,
                    3990,
                    7623,
                    1379,
                    308,
                    5796,
                    6237,
                    3311,
                    2044,
                    19481,
                    8463,
                    4914,
                    1750,
                    490,
                    5229,
                    5474,
                    10437,
                    7252,
                    868,
                    9527,
                    10325,
                    2149,
                    3549,
                    12894,
                    4956,
                    4515,
                    4690,
                    10500,
                    721,
                    6111,
                    2086
                  ],
                  "y0": " ",
                  "yaxis": "y"
                },
                {
                  "alignmentgroup": "True",
                  "hovertemplate": "Product=%{x}<br>Total Sales Amount=%{y}<extra></extra>",
                  "legendgroup": "Drinking Coco",
                  "marker": {
                    "color": "#FECB52"
                  },
                  "name": "Drinking Coco",
                  "notched": false,
                  "offsetgroup": "Drinking Coco",
                  "orientation": "v",
                  "showlegend": true,
                  "type": "box",
                  "x": [
                    "Drinking Coco",
                    "Drinking Coco",
                    "Drinking Coco",
                    "Drinking Coco",
                    "Drinking Coco",
                    "Drinking Coco",
                    "Drinking Coco",
                    "Drinking Coco",
                    "Drinking Coco",
                    "Drinking Coco",
                    "Drinking Coco",
                    "Drinking Coco",
                    "Drinking Coco",
                    "Drinking Coco",
                    "Drinking Coco",
                    "Drinking Coco",
                    "Drinking Coco",
                    "Drinking Coco",
                    "Drinking Coco",
                    "Drinking Coco",
                    "Drinking Coco",
                    "Drinking Coco",
                    "Drinking Coco",
                    "Drinking Coco",
                    "Drinking Coco",
                    "Drinking Coco",
                    "Drinking Coco",
                    "Drinking Coco",
                    "Drinking Coco",
                    "Drinking Coco",
                    "Drinking Coco",
                    "Drinking Coco",
                    "Drinking Coco",
                    "Drinking Coco",
                    "Drinking Coco",
                    "Drinking Coco",
                    "Drinking Coco",
                    "Drinking Coco",
                    "Drinking Coco",
                    "Drinking Coco",
                    "Drinking Coco",
                    "Drinking Coco",
                    "Drinking Coco",
                    "Drinking Coco",
                    "Drinking Coco",
                    "Drinking Coco",
                    "Drinking Coco",
                    "Drinking Coco",
                    "Drinking Coco",
                    "Drinking Coco",
                    "Drinking Coco",
                    "Drinking Coco",
                    "Drinking Coco",
                    "Drinking Coco",
                    "Drinking Coco",
                    "Drinking Coco"
                  ],
                  "x0": " ",
                  "xaxis": "x",
                  "y": [
                    168,
                    3003,
                    91,
                    441,
                    1603,
                    623,
                    11550,
                    4795,
                    6055,
                    3388,
                    2807,
                    6832,
                    6454,
                    5803,
                    2317,
                    4109,
                    2219,
                    1554,
                    3948,
                    2191,
                    112,
                    2611,
                    5782,
                    8526,
                    15855,
                    3843,
                    3549,
                    12565,
                    5187,
                    9884,
                    7532,
                    1582,
                    3003,
                    3423,
                    2821,
                    16380,
                    1141,
                    6237,
                    7140,
                    7091,
                    1029,
                    8302,
                    455,
                    5754,
                    1792,
                    994,
                    7714,
                    12481,
                    2317,
                    4900,
                    1288,
                    469,
                    973,
                    4494,
                    6776,
                    2702
                  ],
                  "y0": " ",
                  "yaxis": "y"
                },
                {
                  "alignmentgroup": "True",
                  "hovertemplate": "Product=%{x}<br>Total Sales Amount=%{y}<extra></extra>",
                  "legendgroup": "Organic Choco Syrup",
                  "marker": {
                    "color": "#636efa"
                  },
                  "name": "Organic Choco Syrup",
                  "notched": false,
                  "offsetgroup": "Organic Choco Syrup",
                  "orientation": "v",
                  "showlegend": true,
                  "type": "box",
                  "x": [
                    "Organic Choco Syrup",
                    "Organic Choco Syrup",
                    "Organic Choco Syrup",
                    "Organic Choco Syrup",
                    "Organic Choco Syrup",
                    "Organic Choco Syrup",
                    "Organic Choco Syrup",
                    "Organic Choco Syrup",
                    "Organic Choco Syrup",
                    "Organic Choco Syrup",
                    "Organic Choco Syrup",
                    "Organic Choco Syrup",
                    "Organic Choco Syrup",
                    "Organic Choco Syrup",
                    "Organic Choco Syrup",
                    "Organic Choco Syrup",
                    "Organic Choco Syrup",
                    "Organic Choco Syrup",
                    "Organic Choco Syrup",
                    "Organic Choco Syrup",
                    "Organic Choco Syrup",
                    "Organic Choco Syrup",
                    "Organic Choco Syrup",
                    "Organic Choco Syrup",
                    "Organic Choco Syrup",
                    "Organic Choco Syrup",
                    "Organic Choco Syrup",
                    "Organic Choco Syrup",
                    "Organic Choco Syrup",
                    "Organic Choco Syrup",
                    "Organic Choco Syrup",
                    "Organic Choco Syrup",
                    "Organic Choco Syrup",
                    "Organic Choco Syrup",
                    "Organic Choco Syrup",
                    "Organic Choco Syrup",
                    "Organic Choco Syrup",
                    "Organic Choco Syrup",
                    "Organic Choco Syrup",
                    "Organic Choco Syrup",
                    "Organic Choco Syrup",
                    "Organic Choco Syrup",
                    "Organic Choco Syrup",
                    "Organic Choco Syrup",
                    "Organic Choco Syrup",
                    "Organic Choco Syrup",
                    "Organic Choco Syrup",
                    "Organic Choco Syrup",
                    "Organic Choco Syrup",
                    "Organic Choco Syrup",
                    "Organic Choco Syrup",
                    "Organic Choco Syrup"
                  ],
                  "x0": " ",
                  "xaxis": "x",
                  "y": [
                    6790,
                    4067,
                    273,
                    19453,
                    6181,
                    2002,
                    4032,
                    1743,
                    19929,
                    2282,
                    3472,
                    5075,
                    16569,
                    4781,
                    2415,
                    9870,
                    5775,
                    16233,
                    994,
                    4935,
                    7623,
                    7721,
                    8204,
                    1232,
                    6965,
                    2380,
                    15316,
                    4858,
                    2331,
                    1799,
                    3955,
                    10794,
                    6678,
                    791,
                    8624,
                    1197,
                    12656,
                    2016,
                    637,
                    1141,
                    7980,
                    7196,
                    8428,
                    2303,
                    371,
                    938,
                    5684,
                    4263,
                    1036,
                    3647,
                    8491,
                    574
                  ],
                  "y0": " ",
                  "yaxis": "y"
                },
                {
                  "alignmentgroup": "True",
                  "hovertemplate": "Product=%{x}<br>Total Sales Amount=%{y}<extra></extra>",
                  "legendgroup": "Milk Bars",
                  "marker": {
                    "color": "#EF553B"
                  },
                  "name": "Milk Bars",
                  "notched": false,
                  "offsetgroup": "Milk Bars",
                  "orientation": "v",
                  "showlegend": true,
                  "type": "box",
                  "x": [
                    "Milk Bars",
                    "Milk Bars",
                    "Milk Bars",
                    "Milk Bars",
                    "Milk Bars",
                    "Milk Bars",
                    "Milk Bars",
                    "Milk Bars",
                    "Milk Bars",
                    "Milk Bars",
                    "Milk Bars",
                    "Milk Bars",
                    "Milk Bars",
                    "Milk Bars",
                    "Milk Bars",
                    "Milk Bars",
                    "Milk Bars",
                    "Milk Bars",
                    "Milk Bars",
                    "Milk Bars",
                    "Milk Bars",
                    "Milk Bars",
                    "Milk Bars",
                    "Milk Bars",
                    "Milk Bars",
                    "Milk Bars",
                    "Milk Bars",
                    "Milk Bars",
                    "Milk Bars",
                    "Milk Bars",
                    "Milk Bars",
                    "Milk Bars",
                    "Milk Bars",
                    "Milk Bars",
                    "Milk Bars",
                    "Milk Bars",
                    "Milk Bars",
                    "Milk Bars",
                    "Milk Bars",
                    "Milk Bars",
                    "Milk Bars",
                    "Milk Bars",
                    "Milk Bars",
                    "Milk Bars",
                    "Milk Bars",
                    "Milk Bars",
                    "Milk Bars",
                    "Milk Bars",
                    "Milk Bars"
                  ],
                  "x0": " ",
                  "xaxis": "x",
                  "y": [
                    8799,
                    6979,
                    609,
                    2464,
                    4263,
                    7203,
                    2779,
                    5446,
                    735,
                    854,
                    7910,
                    4389,
                    4389,
                    1526,
                    7490,
                    16016,
                    2905,
                    3563,
                    2436,
                    966,
                    15491,
                    7672,
                    1365,
                    10808,
                    777,
                    14301,
                    4046,
                    12068,
                    14336,
                    3052,
                    4494,
                    10038,
                    5012,
                    13503,
                    1981,
                    3437,
                    1869,
                    8659,
                    7910,
                    6468,
                    2408,
                    1736,
                    2807,
                    301,
                    476,
                    3864,
                    2478,
                    3612,
                    12558
                  ],
                  "y0": " ",
                  "yaxis": "y"
                },
                {
                  "alignmentgroup": "True",
                  "hovertemplate": "Product=%{x}<br>Total Sales Amount=%{y}<extra></extra>",
                  "legendgroup": "Spicy Special Slims",
                  "marker": {
                    "color": "#00cc96"
                  },
                  "name": "Spicy Special Slims",
                  "notched": false,
                  "offsetgroup": "Spicy Special Slims",
                  "orientation": "v",
                  "showlegend": true,
                  "type": "box",
                  "x": [
                    "Spicy Special Slims",
                    "Spicy Special Slims",
                    "Spicy Special Slims",
                    "Spicy Special Slims",
                    "Spicy Special Slims",
                    "Spicy Special Slims",
                    "Spicy Special Slims",
                    "Spicy Special Slims",
                    "Spicy Special Slims",
                    "Spicy Special Slims",
                    "Spicy Special Slims",
                    "Spicy Special Slims",
                    "Spicy Special Slims",
                    "Spicy Special Slims",
                    "Spicy Special Slims",
                    "Spicy Special Slims",
                    "Spicy Special Slims",
                    "Spicy Special Slims",
                    "Spicy Special Slims",
                    "Spicy Special Slims",
                    "Spicy Special Slims",
                    "Spicy Special Slims",
                    "Spicy Special Slims",
                    "Spicy Special Slims",
                    "Spicy Special Slims",
                    "Spicy Special Slims",
                    "Spicy Special Slims",
                    "Spicy Special Slims",
                    "Spicy Special Slims",
                    "Spicy Special Slims",
                    "Spicy Special Slims",
                    "Spicy Special Slims",
                    "Spicy Special Slims",
                    "Spicy Special Slims",
                    "Spicy Special Slims",
                    "Spicy Special Slims",
                    "Spicy Special Slims",
                    "Spicy Special Slims",
                    "Spicy Special Slims",
                    "Spicy Special Slims",
                    "Spicy Special Slims",
                    "Spicy Special Slims",
                    "Spicy Special Slims",
                    "Spicy Special Slims",
                    "Spicy Special Slims",
                    "Spicy Special Slims",
                    "Spicy Special Slims",
                    "Spicy Special Slims",
                    "Spicy Special Slims",
                    "Spicy Special Slims",
                    "Spicy Special Slims",
                    "Spicy Special Slims",
                    "Spicy Special Slims",
                    "Spicy Special Slims"
                  ],
                  "x0": " ",
                  "xaxis": "x",
                  "y": [
                    1267,
                    1652,
                    6307,
                    3556,
                    1274,
                    7182,
                    8106,
                    4697,
                    1939,
                    10906,
                    1848,
                    854,
                    10829,
                    8064,
                    7728,
                    2527,
                    1603,
                    6328,
                    161,
                    6867,
                    13125,
                    3528,
                    5327,
                    5614,
                    6167,
                    11564,
                    4074,
                    2366,
                    6510,
                    8225,
                    77,
                    5439,
                    11956,
                    910,
                    658,
                    8680,
                    2492,
                    6223,
                    3339,
                    1617,
                    1302,
                    5012,
                    13405,
                    11137,
                    9345,
                    2352,
                    12488,
                    11389,
                    2107,
                    5691,
                    63,
                    2520,
                    10647,
                    4410
                  ],
                  "y0": " ",
                  "yaxis": "y"
                },
                {
                  "alignmentgroup": "True",
                  "hovertemplate": "Product=%{x}<br>Total Sales Amount=%{y}<extra></extra>",
                  "legendgroup": "Fruit & Nut Bars",
                  "marker": {
                    "color": "#ab63fa"
                  },
                  "name": "Fruit & Nut Bars",
                  "notched": false,
                  "offsetgroup": "Fruit & Nut Bars",
                  "orientation": "v",
                  "showlegend": true,
                  "type": "box",
                  "x": [
                    "Fruit & Nut Bars",
                    "Fruit & Nut Bars",
                    "Fruit & Nut Bars",
                    "Fruit & Nut Bars",
                    "Fruit & Nut Bars",
                    "Fruit & Nut Bars",
                    "Fruit & Nut Bars",
                    "Fruit & Nut Bars",
                    "Fruit & Nut Bars",
                    "Fruit & Nut Bars",
                    "Fruit & Nut Bars",
                    "Fruit & Nut Bars",
                    "Fruit & Nut Bars",
                    "Fruit & Nut Bars",
                    "Fruit & Nut Bars",
                    "Fruit & Nut Bars",
                    "Fruit & Nut Bars",
                    "Fruit & Nut Bars",
                    "Fruit & Nut Bars",
                    "Fruit & Nut Bars",
                    "Fruit & Nut Bars",
                    "Fruit & Nut Bars",
                    "Fruit & Nut Bars",
                    "Fruit & Nut Bars",
                    "Fruit & Nut Bars",
                    "Fruit & Nut Bars",
                    "Fruit & Nut Bars",
                    "Fruit & Nut Bars",
                    "Fruit & Nut Bars",
                    "Fruit & Nut Bars",
                    "Fruit & Nut Bars",
                    "Fruit & Nut Bars",
                    "Fruit & Nut Bars",
                    "Fruit & Nut Bars",
                    "Fruit & Nut Bars",
                    "Fruit & Nut Bars",
                    "Fruit & Nut Bars",
                    "Fruit & Nut Bars",
                    "Fruit & Nut Bars",
                    "Fruit & Nut Bars",
                    "Fruit & Nut Bars",
                    "Fruit & Nut Bars",
                    "Fruit & Nut Bars",
                    "Fruit & Nut Bars",
                    "Fruit & Nut Bars",
                    "Fruit & Nut Bars",
                    "Fruit & Nut Bars",
                    "Fruit & Nut Bars",
                    "Fruit & Nut Bars",
                    "Fruit & Nut Bars"
                  ],
                  "x0": " ",
                  "xaxis": "x",
                  "y": [
                    168,
                    5243,
                    8575,
                    15421,
                    280,
                    13006,
                    1456,
                    5579,
                    6013,
                    10976,
                    9058,
                    2604,
                    392,
                    2912,
                    1414,
                    1232,
                    10927,
                    4753,
                    4193,
                    13888,
                    1218,
                    2821,
                    5509,
                    1687,
                    5852,
                    8939,
                    7434,
                    8904,
                    2996,
                    1435,
                    5677,
                    4816,
                    4340,
                    6279,
                    8512,
                    7959,
                    4382,
                    2898,
                    6426,
                    483,
                    5782,
                    9205,
                    826,
                    952,
                    210,
                    1288,
                    3437,
                    1869,
                    10332,
                    8589
                  ],
                  "y0": " ",
                  "yaxis": "y"
                },
                {
                  "alignmentgroup": "True",
                  "hovertemplate": "Product=%{x}<br>Total Sales Amount=%{y}<extra></extra>",
                  "legendgroup": "White Choc",
                  "marker": {
                    "color": "#FFA15A"
                  },
                  "name": "White Choc",
                  "notched": false,
                  "offsetgroup": "White Choc",
                  "orientation": "v",
                  "showlegend": true,
                  "type": "box",
                  "x": [
                    "White Choc",
                    "White Choc",
                    "White Choc",
                    "White Choc",
                    "White Choc",
                    "White Choc",
                    "White Choc",
                    "White Choc",
                    "White Choc",
                    "White Choc",
                    "White Choc",
                    "White Choc",
                    "White Choc",
                    "White Choc",
                    "White Choc",
                    "White Choc",
                    "White Choc",
                    "White Choc",
                    "White Choc",
                    "White Choc",
                    "White Choc",
                    "White Choc",
                    "White Choc",
                    "White Choc",
                    "White Choc",
                    "White Choc",
                    "White Choc",
                    "White Choc",
                    "White Choc",
                    "White Choc",
                    "White Choc",
                    "White Choc",
                    "White Choc",
                    "White Choc",
                    "White Choc",
                    "White Choc",
                    "White Choc",
                    "White Choc",
                    "White Choc",
                    "White Choc",
                    "White Choc",
                    "White Choc",
                    "White Choc",
                    "White Choc",
                    "White Choc",
                    "White Choc",
                    "White Choc",
                    "White Choc",
                    "White Choc",
                    "White Choc",
                    "White Choc",
                    "White Choc",
                    "White Choc",
                    "White Choc",
                    "White Choc",
                    "White Choc",
                    "White Choc",
                    "White Choc"
                  ],
                  "x0": " ",
                  "xaxis": "x",
                  "y": [
                    9492,
                    2800,
                    9681,
                    7126,
                    1043,
                    5299,
                    8113,
                    9982,
                    7238,
                    6475,
                    3472,
                    7357,
                    3171,
                    9275,
                    2240,
                    1652,
                    9422,
                    5523,
                    1540,
                    420,
                    10815,
                    4361,
                    3269,
                    5271,
                    12327,
                    7014,
                    12250,
                    2030,
                    5509,
                    3381,
                    8715,
                    1897,
                    5292,
                    3171,
                    8799,
                    1862,
                    4704,
                    9037,
                    7483,
                    6587,
                    7154,
                    4067,
                    4291,
                    4627,
                    7560,
                    1393,
                    7420,
                    1715,
                    7609,
                    819,
                    1813,
                    10794,
                    4879,
                    4592,
                    6818,
                    5887,
                    6055,
                    6559
                  ],
                  "y0": " ",
                  "yaxis": "y"
                },
                {
                  "alignmentgroup": "True",
                  "hovertemplate": "Product=%{x}<br>Total Sales Amount=%{y}<extra></extra>",
                  "legendgroup": "Manuka Honey Choco",
                  "marker": {
                    "color": "#19d3f3"
                  },
                  "name": "Manuka Honey Choco",
                  "notched": false,
                  "offsetgroup": "Manuka Honey Choco",
                  "orientation": "v",
                  "showlegend": true,
                  "type": "box",
                  "x": [
                    "Manuka Honey Choco",
                    "Manuka Honey Choco",
                    "Manuka Honey Choco",
                    "Manuka Honey Choco",
                    "Manuka Honey Choco",
                    "Manuka Honey Choco",
                    "Manuka Honey Choco",
                    "Manuka Honey Choco",
                    "Manuka Honey Choco",
                    "Manuka Honey Choco",
                    "Manuka Honey Choco",
                    "Manuka Honey Choco",
                    "Manuka Honey Choco",
                    "Manuka Honey Choco",
                    "Manuka Honey Choco",
                    "Manuka Honey Choco",
                    "Manuka Honey Choco",
                    "Manuka Honey Choco",
                    "Manuka Honey Choco",
                    "Manuka Honey Choco",
                    "Manuka Honey Choco",
                    "Manuka Honey Choco",
                    "Manuka Honey Choco",
                    "Manuka Honey Choco",
                    "Manuka Honey Choco",
                    "Manuka Honey Choco",
                    "Manuka Honey Choco",
                    "Manuka Honey Choco",
                    "Manuka Honey Choco",
                    "Manuka Honey Choco",
                    "Manuka Honey Choco",
                    "Manuka Honey Choco",
                    "Manuka Honey Choco",
                    "Manuka Honey Choco",
                    "Manuka Honey Choco",
                    "Manuka Honey Choco",
                    "Manuka Honey Choco",
                    "Manuka Honey Choco",
                    "Manuka Honey Choco",
                    "Manuka Honey Choco",
                    "Manuka Honey Choco",
                    "Manuka Honey Choco",
                    "Manuka Honey Choco",
                    "Manuka Honey Choco",
                    "Manuka Honey Choco"
                  ],
                  "x0": " ",
                  "xaxis": "x",
                  "y": [
                    5061,
                    4284,
                    9583,
                    2443,
                    17318,
                    2765,
                    8267,
                    9436,
                    273,
                    7161,
                    5425,
                    6762,
                    4221,
                    637,
                    3724,
                    7133,
                    8617,
                    4935,
                    2317,
                    14980,
                    1435,
                    10983,
                    6930,
                    10171,
                    13076,
                    10213,
                    11550,
                    4396,
                    16401,
                    5474,
                    4858,
                    1589,
                    1547,
                    70,
                    1358,
                    4340,
                    3402,
                    1904,
                    9744,
                    9835,
                    8379,
                    3388,
                    3906,
                    3584,
                    1666
                  ],
                  "y0": " ",
                  "yaxis": "y"
                },
                {
                  "alignmentgroup": "True",
                  "hovertemplate": "Product=%{x}<br>Total Sales Amount=%{y}<extra></extra>",
                  "legendgroup": "Almond Choco",
                  "marker": {
                    "color": "#FF6692"
                  },
                  "name": "Almond Choco",
                  "notched": false,
                  "offsetgroup": "Almond Choco",
                  "orientation": "v",
                  "showlegend": true,
                  "type": "box",
                  "x": [
                    "Almond Choco",
                    "Almond Choco",
                    "Almond Choco",
                    "Almond Choco",
                    "Almond Choco",
                    "Almond Choco",
                    "Almond Choco",
                    "Almond Choco",
                    "Almond Choco",
                    "Almond Choco",
                    "Almond Choco",
                    "Almond Choco",
                    "Almond Choco",
                    "Almond Choco",
                    "Almond Choco",
                    "Almond Choco",
                    "Almond Choco",
                    "Almond Choco",
                    "Almond Choco",
                    "Almond Choco",
                    "Almond Choco",
                    "Almond Choco",
                    "Almond Choco",
                    "Almond Choco",
                    "Almond Choco",
                    "Almond Choco",
                    "Almond Choco",
                    "Almond Choco",
                    "Almond Choco",
                    "Almond Choco",
                    "Almond Choco",
                    "Almond Choco",
                    "Almond Choco",
                    "Almond Choco",
                    "Almond Choco",
                    "Almond Choco",
                    "Almond Choco",
                    "Almond Choco",
                    "Almond Choco",
                    "Almond Choco",
                    "Almond Choco",
                    "Almond Choco",
                    "Almond Choco",
                    "Almond Choco",
                    "Almond Choco",
                    "Almond Choco",
                    "Almond Choco",
                    "Almond Choco"
                  ],
                  "x0": " ",
                  "xaxis": "x",
                  "y": [
                    6839,
                    7602,
                    4865,
                    6090,
                    5642,
                    7798,
                    4466,
                    16114,
                    3297,
                    3213,
                    11718,
                    3395,
                    3752,
                    4781,
                    7294,
                    5558,
                    7882,
                    2170,
                    2912,
                    4466,
                    6986,
                    6034,
                    9198,
                    2506,
                    9989,
                    4102,
                    6426,
                    2723,
                    5173,
                    105,
                    385,
                    1309,
                    910,
                    1456,
                    8309,
                    5180,
                    3192,
                    4879,
                    10143,
                    6440,
                    11788,
                    10122,
                    4214,
                    6559,
                    10689,
                    9744,
                    6055,
                    3066
                  ],
                  "y0": " ",
                  "yaxis": "y"
                },
                {
                  "alignmentgroup": "True",
                  "hovertemplate": "Product=%{x}<br>Total Sales Amount=%{y}<extra></extra>",
                  "legendgroup": "Raspberry Choco",
                  "marker": {
                    "color": "#B6E880"
                  },
                  "name": "Raspberry Choco",
                  "notched": false,
                  "offsetgroup": "Raspberry Choco",
                  "orientation": "v",
                  "showlegend": true,
                  "type": "box",
                  "x": [
                    "Raspberry Choco",
                    "Raspberry Choco",
                    "Raspberry Choco",
                    "Raspberry Choco",
                    "Raspberry Choco",
                    "Raspberry Choco",
                    "Raspberry Choco",
                    "Raspberry Choco",
                    "Raspberry Choco",
                    "Raspberry Choco",
                    "Raspberry Choco",
                    "Raspberry Choco",
                    "Raspberry Choco",
                    "Raspberry Choco",
                    "Raspberry Choco",
                    "Raspberry Choco",
                    "Raspberry Choco",
                    "Raspberry Choco",
                    "Raspberry Choco",
                    "Raspberry Choco",
                    "Raspberry Choco",
                    "Raspberry Choco",
                    "Raspberry Choco",
                    "Raspberry Choco",
                    "Raspberry Choco",
                    "Raspberry Choco",
                    "Raspberry Choco",
                    "Raspberry Choco",
                    "Raspberry Choco",
                    "Raspberry Choco",
                    "Raspberry Choco",
                    "Raspberry Choco",
                    "Raspberry Choco",
                    "Raspberry Choco",
                    "Raspberry Choco",
                    "Raspberry Choco",
                    "Raspberry Choco",
                    "Raspberry Choco",
                    "Raspberry Choco",
                    "Raspberry Choco",
                    "Raspberry Choco",
                    "Raspberry Choco",
                    "Raspberry Choco",
                    "Raspberry Choco",
                    "Raspberry Choco",
                    "Raspberry Choco",
                    "Raspberry Choco",
                    "Raspberry Choco"
                  ],
                  "x0": " ",
                  "xaxis": "x",
                  "y": [
                    14749,
                    14798,
                    14504,
                    4221,
                    5740,
                    6832,
                    9282,
                    2583,
                    6468,
                    6538,
                    5481,
                    4347,
                    602,
                    2058,
                    9226,
                    2996,
                    1043,
                    6524,
                    4550,
                    1750,
                    3339,
                    651,
                    6342,
                    6328,
                    679,
                    1127,
                    2800,
                    1267,
                    6811,
                    630,
                    6069,
                    4746,
                    7357,
                    6524,
                    4599,
                    1400,
                    7154,
                    6916,
                    5845,
                    12635,
                    9268,
                    8183,
                    6321,
                    994,
                    3437,
                    8400,
                    9954,
                    672
                  ],
                  "y0": " ",
                  "yaxis": "y"
                },
                {
                  "alignmentgroup": "True",
                  "hovertemplate": "Product=%{x}<br>Total Sales Amount=%{y}<extra></extra>",
                  "legendgroup": "Choco Coated Almonds",
                  "marker": {
                    "color": "#FF97FF"
                  },
                  "name": "Choco Coated Almonds",
                  "notched": false,
                  "offsetgroup": "Choco Coated Almonds",
                  "orientation": "v",
                  "showlegend": true,
                  "type": "box",
                  "x": [
                    "Choco Coated Almonds",
                    "Choco Coated Almonds",
                    "Choco Coated Almonds",
                    "Choco Coated Almonds",
                    "Choco Coated Almonds",
                    "Choco Coated Almonds",
                    "Choco Coated Almonds",
                    "Choco Coated Almonds",
                    "Choco Coated Almonds",
                    "Choco Coated Almonds",
                    "Choco Coated Almonds",
                    "Choco Coated Almonds",
                    "Choco Coated Almonds",
                    "Choco Coated Almonds",
                    "Choco Coated Almonds",
                    "Choco Coated Almonds",
                    "Choco Coated Almonds",
                    "Choco Coated Almonds",
                    "Choco Coated Almonds",
                    "Choco Coated Almonds",
                    "Choco Coated Almonds",
                    "Choco Coated Almonds",
                    "Choco Coated Almonds",
                    "Choco Coated Almonds",
                    "Choco Coated Almonds",
                    "Choco Coated Almonds",
                    "Choco Coated Almonds",
                    "Choco Coated Almonds",
                    "Choco Coated Almonds",
                    "Choco Coated Almonds",
                    "Choco Coated Almonds",
                    "Choco Coated Almonds",
                    "Choco Coated Almonds",
                    "Choco Coated Almonds",
                    "Choco Coated Almonds",
                    "Choco Coated Almonds",
                    "Choco Coated Almonds",
                    "Choco Coated Almonds",
                    "Choco Coated Almonds"
                  ],
                  "x0": " ",
                  "xaxis": "x",
                  "y": [
                    4781,
                    12313,
                    2093,
                    9324,
                    4333,
                    5124,
                    4270,
                    2639,
                    2058,
                    10479,
                    5733,
                    3577,
                    11298,
                    5733,
                    10164,
                    2541,
                    3010,
                    15547,
                    3500,
                    5859,
                    9506,
                    9457,
                    14525,
                    9625,
                    1687,
                    15750,
                    2282,
                    3164,
                    3458,
                    3381,
                    2933,
                    8022,
                    5775,
                    1645,
                    5873,
                    13062,
                    49,
                    5446,
                    1470
                  ],
                  "y0": " ",
                  "yaxis": "y"
                },
                {
                  "alignmentgroup": "True",
                  "hovertemplate": "Product=%{x}<br>Total Sales Amount=%{y}<extra></extra>",
                  "legendgroup": "Baker's Choco Chips",
                  "marker": {
                    "color": "#FECB52"
                  },
                  "name": "Baker's Choco Chips",
                  "notched": false,
                  "offsetgroup": "Baker's Choco Chips",
                  "orientation": "v",
                  "showlegend": true,
                  "type": "box",
                  "x": [
                    "Baker's Choco Chips",
                    "Baker's Choco Chips",
                    "Baker's Choco Chips",
                    "Baker's Choco Chips",
                    "Baker's Choco Chips",
                    "Baker's Choco Chips",
                    "Baker's Choco Chips",
                    "Baker's Choco Chips",
                    "Baker's Choco Chips",
                    "Baker's Choco Chips",
                    "Baker's Choco Chips",
                    "Baker's Choco Chips",
                    "Baker's Choco Chips",
                    "Baker's Choco Chips",
                    "Baker's Choco Chips",
                    "Baker's Choco Chips",
                    "Baker's Choco Chips",
                    "Baker's Choco Chips",
                    "Baker's Choco Chips",
                    "Baker's Choco Chips",
                    "Baker's Choco Chips",
                    "Baker's Choco Chips",
                    "Baker's Choco Chips",
                    "Baker's Choco Chips",
                    "Baker's Choco Chips",
                    "Baker's Choco Chips",
                    "Baker's Choco Chips",
                    "Baker's Choco Chips",
                    "Baker's Choco Chips",
                    "Baker's Choco Chips",
                    "Baker's Choco Chips",
                    "Baker's Choco Chips",
                    "Baker's Choco Chips",
                    "Baker's Choco Chips",
                    "Baker's Choco Chips",
                    "Baker's Choco Chips",
                    "Baker's Choco Chips",
                    "Baker's Choco Chips",
                    "Baker's Choco Chips",
                    "Baker's Choco Chips",
                    "Baker's Choco Chips"
                  ],
                  "x0": " ",
                  "xaxis": "x",
                  "y": [
                    3073,
                    1505,
                    12516,
                    3052,
                    4753,
                    6454,
                    1372,
                    252,
                    3192,
                    13447,
                    2863,
                    7462,
                    11823,
                    5313,
                    5978,
                    9023,
                    2786,
                    8470,
                    8001,
                    2485,
                    2086,
                    5012,
                    5621,
                    2961,
                    2275,
                    5810,
                    14028,
                    2443,
                    2912,
                    13727,
                    3605,
                    2191,
                    10969,
                    9660,
                    329,
                    3038,
                    3836,
                    13258,
                    17465,
                    13846,
                    721
                  ],
                  "y0": " ",
                  "yaxis": "y"
                },
                {
                  "alignmentgroup": "True",
                  "hovertemplate": "Product=%{x}<br>Total Sales Amount=%{y}<extra></extra>",
                  "legendgroup": "Caramel Stuffed Bars",
                  "marker": {
                    "color": "#636efa"
                  },
                  "name": "Caramel Stuffed Bars",
                  "notched": false,
                  "offsetgroup": "Caramel Stuffed Bars",
                  "orientation": "v",
                  "showlegend": true,
                  "type": "box",
                  "x": [
                    "Caramel Stuffed Bars",
                    "Caramel Stuffed Bars",
                    "Caramel Stuffed Bars",
                    "Caramel Stuffed Bars",
                    "Caramel Stuffed Bars",
                    "Caramel Stuffed Bars",
                    "Caramel Stuffed Bars",
                    "Caramel Stuffed Bars",
                    "Caramel Stuffed Bars",
                    "Caramel Stuffed Bars",
                    "Caramel Stuffed Bars",
                    "Caramel Stuffed Bars",
                    "Caramel Stuffed Bars",
                    "Caramel Stuffed Bars",
                    "Caramel Stuffed Bars",
                    "Caramel Stuffed Bars",
                    "Caramel Stuffed Bars",
                    "Caramel Stuffed Bars",
                    "Caramel Stuffed Bars",
                    "Caramel Stuffed Bars",
                    "Caramel Stuffed Bars",
                    "Caramel Stuffed Bars",
                    "Caramel Stuffed Bars",
                    "Caramel Stuffed Bars",
                    "Caramel Stuffed Bars",
                    "Caramel Stuffed Bars",
                    "Caramel Stuffed Bars",
                    "Caramel Stuffed Bars",
                    "Caramel Stuffed Bars",
                    "Caramel Stuffed Bars",
                    "Caramel Stuffed Bars",
                    "Caramel Stuffed Bars",
                    "Caramel Stuffed Bars",
                    "Caramel Stuffed Bars",
                    "Caramel Stuffed Bars",
                    "Caramel Stuffed Bars",
                    "Caramel Stuffed Bars",
                    "Caramel Stuffed Bars",
                    "Caramel Stuffed Bars",
                    "Caramel Stuffed Bars",
                    "Caramel Stuffed Bars",
                    "Caramel Stuffed Bars",
                    "Caramel Stuffed Bars"
                  ],
                  "x0": " ",
                  "xaxis": "x",
                  "y": [
                    2030,
                    7154,
                    476,
                    4361,
                    13083,
                    3549,
                    497,
                    14938,
                    161,
                    5593,
                    5936,
                    3178,
                    987,
                    16982,
                    1540,
                    5334,
                    3374,
                    7119,
                    8911,
                    8001,
                    8393,
                    4137,
                    9541,
                    8757,
                    2926,
                    6566,
                    7924,
                    84,
                    2933,
                    6839,
                    7588,
                    4179,
                    1372,
                    3094,
                    10192,
                    9114,
                    3346,
                    4844,
                    2681,
                    3318,
                    5768,
                    2471,
                    2317
                  ],
                  "y0": " ",
                  "yaxis": "y"
                },
                {
                  "alignmentgroup": "True",
                  "hovertemplate": "Product=%{x}<br>Total Sales Amount=%{y}<extra></extra>",
                  "legendgroup": "70% Dark Bites",
                  "marker": {
                    "color": "#EF553B"
                  },
                  "name": "70% Dark Bites",
                  "notched": false,
                  "offsetgroup": "70% Dark Bites",
                  "orientation": "v",
                  "showlegend": true,
                  "type": "box",
                  "x": [
                    "70% Dark Bites",
                    "70% Dark Bites",
                    "70% Dark Bites",
                    "70% Dark Bites",
                    "70% Dark Bites",
                    "70% Dark Bites",
                    "70% Dark Bites",
                    "70% Dark Bites",
                    "70% Dark Bites",
                    "70% Dark Bites",
                    "70% Dark Bites",
                    "70% Dark Bites",
                    "70% Dark Bites",
                    "70% Dark Bites",
                    "70% Dark Bites",
                    "70% Dark Bites",
                    "70% Dark Bites",
                    "70% Dark Bites",
                    "70% Dark Bites",
                    "70% Dark Bites",
                    "70% Dark Bites",
                    "70% Dark Bites",
                    "70% Dark Bites",
                    "70% Dark Bites",
                    "70% Dark Bites",
                    "70% Dark Bites",
                    "70% Dark Bites",
                    "70% Dark Bites",
                    "70% Dark Bites",
                    "70% Dark Bites",
                    "70% Dark Bites",
                    "70% Dark Bites",
                    "70% Dark Bites",
                    "70% Dark Bites",
                    "70% Dark Bites",
                    "70% Dark Bites",
                    "70% Dark Bites",
                    "70% Dark Bites",
                    "70% Dark Bites",
                    "70% Dark Bites",
                    "70% Dark Bites",
                    "70% Dark Bites"
                  ],
                  "x0": " ",
                  "xaxis": "x",
                  "y": [
                    5859,
                    126,
                    10927,
                    6048,
                    4018,
                    3136,
                    5565,
                    2282,
                    1267,
                    448,
                    6454,
                    4571,
                    840,
                    679,
                    238,
                    5222,
                    6706,
                    1421,
                    9716,
                    12173,
                    2303,
                    7714,
                    13356,
                    5894,
                    3640,
                    7231,
                    5131,
                    4641,
                    1694,
                    7231,
                    1372,
                    5397,
                    6223,
                    7063,
                    2275,
                    8603,
                    10262,
                    7077,
                    658,
                    7364,
                    3710,
                    5075
                  ],
                  "y0": " ",
                  "yaxis": "y"
                }
              ],
              "layout": {
                "boxmode": "overlay",
                "height": 600,
                "legend": {
                  "title": {
                    "text": "Product"
                  },
                  "tracegroupgap": 0
                },
                "template": {
                  "data": {
                    "bar": [
                      {
                        "error_x": {
                          "color": "#2a3f5f"
                        },
                        "error_y": {
                          "color": "#2a3f5f"
                        },
                        "marker": {
                          "line": {
                            "color": "#E5ECF6",
                            "width": 0.5
                          },
                          "pattern": {
                            "fillmode": "overlay",
                            "size": 10,
                            "solidity": 0.2
                          }
                        },
                        "type": "bar"
                      }
                    ],
                    "barpolar": [
                      {
                        "marker": {
                          "line": {
                            "color": "#E5ECF6",
                            "width": 0.5
                          },
                          "pattern": {
                            "fillmode": "overlay",
                            "size": 10,
                            "solidity": 0.2
                          }
                        },
                        "type": "barpolar"
                      }
                    ],
                    "carpet": [
                      {
                        "aaxis": {
                          "endlinecolor": "#2a3f5f",
                          "gridcolor": "white",
                          "linecolor": "white",
                          "minorgridcolor": "white",
                          "startlinecolor": "#2a3f5f"
                        },
                        "baxis": {
                          "endlinecolor": "#2a3f5f",
                          "gridcolor": "white",
                          "linecolor": "white",
                          "minorgridcolor": "white",
                          "startlinecolor": "#2a3f5f"
                        },
                        "type": "carpet"
                      }
                    ],
                    "choropleth": [
                      {
                        "colorbar": {
                          "outlinewidth": 0,
                          "ticks": ""
                        },
                        "type": "choropleth"
                      }
                    ],
                    "contour": [
                      {
                        "colorbar": {
                          "outlinewidth": 0,
                          "ticks": ""
                        },
                        "colorscale": [
                          [
                            0,
                            "#0d0887"
                          ],
                          [
                            0.1111111111111111,
                            "#46039f"
                          ],
                          [
                            0.2222222222222222,
                            "#7201a8"
                          ],
                          [
                            0.3333333333333333,
                            "#9c179e"
                          ],
                          [
                            0.4444444444444444,
                            "#bd3786"
                          ],
                          [
                            0.5555555555555556,
                            "#d8576b"
                          ],
                          [
                            0.6666666666666666,
                            "#ed7953"
                          ],
                          [
                            0.7777777777777778,
                            "#fb9f3a"
                          ],
                          [
                            0.8888888888888888,
                            "#fdca26"
                          ],
                          [
                            1,
                            "#f0f921"
                          ]
                        ],
                        "type": "contour"
                      }
                    ],
                    "contourcarpet": [
                      {
                        "colorbar": {
                          "outlinewidth": 0,
                          "ticks": ""
                        },
                        "type": "contourcarpet"
                      }
                    ],
                    "heatmap": [
                      {
                        "colorbar": {
                          "outlinewidth": 0,
                          "ticks": ""
                        },
                        "colorscale": [
                          [
                            0,
                            "#0d0887"
                          ],
                          [
                            0.1111111111111111,
                            "#46039f"
                          ],
                          [
                            0.2222222222222222,
                            "#7201a8"
                          ],
                          [
                            0.3333333333333333,
                            "#9c179e"
                          ],
                          [
                            0.4444444444444444,
                            "#bd3786"
                          ],
                          [
                            0.5555555555555556,
                            "#d8576b"
                          ],
                          [
                            0.6666666666666666,
                            "#ed7953"
                          ],
                          [
                            0.7777777777777778,
                            "#fb9f3a"
                          ],
                          [
                            0.8888888888888888,
                            "#fdca26"
                          ],
                          [
                            1,
                            "#f0f921"
                          ]
                        ],
                        "type": "heatmap"
                      }
                    ],
                    "heatmapgl": [
                      {
                        "colorbar": {
                          "outlinewidth": 0,
                          "ticks": ""
                        },
                        "colorscale": [
                          [
                            0,
                            "#0d0887"
                          ],
                          [
                            0.1111111111111111,
                            "#46039f"
                          ],
                          [
                            0.2222222222222222,
                            "#7201a8"
                          ],
                          [
                            0.3333333333333333,
                            "#9c179e"
                          ],
                          [
                            0.4444444444444444,
                            "#bd3786"
                          ],
                          [
                            0.5555555555555556,
                            "#d8576b"
                          ],
                          [
                            0.6666666666666666,
                            "#ed7953"
                          ],
                          [
                            0.7777777777777778,
                            "#fb9f3a"
                          ],
                          [
                            0.8888888888888888,
                            "#fdca26"
                          ],
                          [
                            1,
                            "#f0f921"
                          ]
                        ],
                        "type": "heatmapgl"
                      }
                    ],
                    "histogram": [
                      {
                        "marker": {
                          "pattern": {
                            "fillmode": "overlay",
                            "size": 10,
                            "solidity": 0.2
                          }
                        },
                        "type": "histogram"
                      }
                    ],
                    "histogram2d": [
                      {
                        "colorbar": {
                          "outlinewidth": 0,
                          "ticks": ""
                        },
                        "colorscale": [
                          [
                            0,
                            "#0d0887"
                          ],
                          [
                            0.1111111111111111,
                            "#46039f"
                          ],
                          [
                            0.2222222222222222,
                            "#7201a8"
                          ],
                          [
                            0.3333333333333333,
                            "#9c179e"
                          ],
                          [
                            0.4444444444444444,
                            "#bd3786"
                          ],
                          [
                            0.5555555555555556,
                            "#d8576b"
                          ],
                          [
                            0.6666666666666666,
                            "#ed7953"
                          ],
                          [
                            0.7777777777777778,
                            "#fb9f3a"
                          ],
                          [
                            0.8888888888888888,
                            "#fdca26"
                          ],
                          [
                            1,
                            "#f0f921"
                          ]
                        ],
                        "type": "histogram2d"
                      }
                    ],
                    "histogram2dcontour": [
                      {
                        "colorbar": {
                          "outlinewidth": 0,
                          "ticks": ""
                        },
                        "colorscale": [
                          [
                            0,
                            "#0d0887"
                          ],
                          [
                            0.1111111111111111,
                            "#46039f"
                          ],
                          [
                            0.2222222222222222,
                            "#7201a8"
                          ],
                          [
                            0.3333333333333333,
                            "#9c179e"
                          ],
                          [
                            0.4444444444444444,
                            "#bd3786"
                          ],
                          [
                            0.5555555555555556,
                            "#d8576b"
                          ],
                          [
                            0.6666666666666666,
                            "#ed7953"
                          ],
                          [
                            0.7777777777777778,
                            "#fb9f3a"
                          ],
                          [
                            0.8888888888888888,
                            "#fdca26"
                          ],
                          [
                            1,
                            "#f0f921"
                          ]
                        ],
                        "type": "histogram2dcontour"
                      }
                    ],
                    "mesh3d": [
                      {
                        "colorbar": {
                          "outlinewidth": 0,
                          "ticks": ""
                        },
                        "type": "mesh3d"
                      }
                    ],
                    "parcoords": [
                      {
                        "line": {
                          "colorbar": {
                            "outlinewidth": 0,
                            "ticks": ""
                          }
                        },
                        "type": "parcoords"
                      }
                    ],
                    "pie": [
                      {
                        "automargin": true,
                        "type": "pie"
                      }
                    ],
                    "scatter": [
                      {
                        "fillpattern": {
                          "fillmode": "overlay",
                          "size": 10,
                          "solidity": 0.2
                        },
                        "type": "scatter"
                      }
                    ],
                    "scatter3d": [
                      {
                        "line": {
                          "colorbar": {
                            "outlinewidth": 0,
                            "ticks": ""
                          }
                        },
                        "marker": {
                          "colorbar": {
                            "outlinewidth": 0,
                            "ticks": ""
                          }
                        },
                        "type": "scatter3d"
                      }
                    ],
                    "scattercarpet": [
                      {
                        "marker": {
                          "colorbar": {
                            "outlinewidth": 0,
                            "ticks": ""
                          }
                        },
                        "type": "scattercarpet"
                      }
                    ],
                    "scattergeo": [
                      {
                        "marker": {
                          "colorbar": {
                            "outlinewidth": 0,
                            "ticks": ""
                          }
                        },
                        "type": "scattergeo"
                      }
                    ],
                    "scattergl": [
                      {
                        "marker": {
                          "colorbar": {
                            "outlinewidth": 0,
                            "ticks": ""
                          }
                        },
                        "type": "scattergl"
                      }
                    ],
                    "scattermapbox": [
                      {
                        "marker": {
                          "colorbar": {
                            "outlinewidth": 0,
                            "ticks": ""
                          }
                        },
                        "type": "scattermapbox"
                      }
                    ],
                    "scatterpolar": [
                      {
                        "marker": {
                          "colorbar": {
                            "outlinewidth": 0,
                            "ticks": ""
                          }
                        },
                        "type": "scatterpolar"
                      }
                    ],
                    "scatterpolargl": [
                      {
                        "marker": {
                          "colorbar": {
                            "outlinewidth": 0,
                            "ticks": ""
                          }
                        },
                        "type": "scatterpolargl"
                      }
                    ],
                    "scatterternary": [
                      {
                        "marker": {
                          "colorbar": {
                            "outlinewidth": 0,
                            "ticks": ""
                          }
                        },
                        "type": "scatterternary"
                      }
                    ],
                    "surface": [
                      {
                        "colorbar": {
                          "outlinewidth": 0,
                          "ticks": ""
                        },
                        "colorscale": [
                          [
                            0,
                            "#0d0887"
                          ],
                          [
                            0.1111111111111111,
                            "#46039f"
                          ],
                          [
                            0.2222222222222222,
                            "#7201a8"
                          ],
                          [
                            0.3333333333333333,
                            "#9c179e"
                          ],
                          [
                            0.4444444444444444,
                            "#bd3786"
                          ],
                          [
                            0.5555555555555556,
                            "#d8576b"
                          ],
                          [
                            0.6666666666666666,
                            "#ed7953"
                          ],
                          [
                            0.7777777777777778,
                            "#fb9f3a"
                          ],
                          [
                            0.8888888888888888,
                            "#fdca26"
                          ],
                          [
                            1,
                            "#f0f921"
                          ]
                        ],
                        "type": "surface"
                      }
                    ],
                    "table": [
                      {
                        "cells": {
                          "fill": {
                            "color": "#EBF0F8"
                          },
                          "line": {
                            "color": "white"
                          }
                        },
                        "header": {
                          "fill": {
                            "color": "#C8D4E3"
                          },
                          "line": {
                            "color": "white"
                          }
                        },
                        "type": "table"
                      }
                    ]
                  },
                  "layout": {
                    "annotationdefaults": {
                      "arrowcolor": "#2a3f5f",
                      "arrowhead": 0,
                      "arrowwidth": 1
                    },
                    "autotypenumbers": "strict",
                    "coloraxis": {
                      "colorbar": {
                        "outlinewidth": 0,
                        "ticks": ""
                      }
                    },
                    "colorscale": {
                      "diverging": [
                        [
                          0,
                          "#8e0152"
                        ],
                        [
                          0.1,
                          "#c51b7d"
                        ],
                        [
                          0.2,
                          "#de77ae"
                        ],
                        [
                          0.3,
                          "#f1b6da"
                        ],
                        [
                          0.4,
                          "#fde0ef"
                        ],
                        [
                          0.5,
                          "#f7f7f7"
                        ],
                        [
                          0.6,
                          "#e6f5d0"
                        ],
                        [
                          0.7,
                          "#b8e186"
                        ],
                        [
                          0.8,
                          "#7fbc41"
                        ],
                        [
                          0.9,
                          "#4d9221"
                        ],
                        [
                          1,
                          "#276419"
                        ]
                      ],
                      "sequential": [
                        [
                          0,
                          "#0d0887"
                        ],
                        [
                          0.1111111111111111,
                          "#46039f"
                        ],
                        [
                          0.2222222222222222,
                          "#7201a8"
                        ],
                        [
                          0.3333333333333333,
                          "#9c179e"
                        ],
                        [
                          0.4444444444444444,
                          "#bd3786"
                        ],
                        [
                          0.5555555555555556,
                          "#d8576b"
                        ],
                        [
                          0.6666666666666666,
                          "#ed7953"
                        ],
                        [
                          0.7777777777777778,
                          "#fb9f3a"
                        ],
                        [
                          0.8888888888888888,
                          "#fdca26"
                        ],
                        [
                          1,
                          "#f0f921"
                        ]
                      ],
                      "sequentialminus": [
                        [
                          0,
                          "#0d0887"
                        ],
                        [
                          0.1111111111111111,
                          "#46039f"
                        ],
                        [
                          0.2222222222222222,
                          "#7201a8"
                        ],
                        [
                          0.3333333333333333,
                          "#9c179e"
                        ],
                        [
                          0.4444444444444444,
                          "#bd3786"
                        ],
                        [
                          0.5555555555555556,
                          "#d8576b"
                        ],
                        [
                          0.6666666666666666,
                          "#ed7953"
                        ],
                        [
                          0.7777777777777778,
                          "#fb9f3a"
                        ],
                        [
                          0.8888888888888888,
                          "#fdca26"
                        ],
                        [
                          1,
                          "#f0f921"
                        ]
                      ]
                    },
                    "colorway": [
                      "#636efa",
                      "#EF553B",
                      "#00cc96",
                      "#ab63fa",
                      "#FFA15A",
                      "#19d3f3",
                      "#FF6692",
                      "#B6E880",
                      "#FF97FF",
                      "#FECB52"
                    ],
                    "font": {
                      "color": "#2a3f5f"
                    },
                    "geo": {
                      "bgcolor": "white",
                      "lakecolor": "white",
                      "landcolor": "#E5ECF6",
                      "showlakes": true,
                      "showland": true,
                      "subunitcolor": "white"
                    },
                    "hoverlabel": {
                      "align": "left"
                    },
                    "hovermode": "closest",
                    "mapbox": {
                      "style": "light"
                    },
                    "paper_bgcolor": "white",
                    "plot_bgcolor": "#E5ECF6",
                    "polar": {
                      "angularaxis": {
                        "gridcolor": "white",
                        "linecolor": "white",
                        "ticks": ""
                      },
                      "bgcolor": "#E5ECF6",
                      "radialaxis": {
                        "gridcolor": "white",
                        "linecolor": "white",
                        "ticks": ""
                      }
                    },
                    "scene": {
                      "xaxis": {
                        "backgroundcolor": "#E5ECF6",
                        "gridcolor": "white",
                        "gridwidth": 2,
                        "linecolor": "white",
                        "showbackground": true,
                        "ticks": "",
                        "zerolinecolor": "white"
                      },
                      "yaxis": {
                        "backgroundcolor": "#E5ECF6",
                        "gridcolor": "white",
                        "gridwidth": 2,
                        "linecolor": "white",
                        "showbackground": true,
                        "ticks": "",
                        "zerolinecolor": "white"
                      },
                      "zaxis": {
                        "backgroundcolor": "#E5ECF6",
                        "gridcolor": "white",
                        "gridwidth": 2,
                        "linecolor": "white",
                        "showbackground": true,
                        "ticks": "",
                        "zerolinecolor": "white"
                      }
                    },
                    "shapedefaults": {
                      "line": {
                        "color": "#2a3f5f"
                      }
                    },
                    "ternary": {
                      "aaxis": {
                        "gridcolor": "white",
                        "linecolor": "white",
                        "ticks": ""
                      },
                      "baxis": {
                        "gridcolor": "white",
                        "linecolor": "white",
                        "ticks": ""
                      },
                      "bgcolor": "#E5ECF6",
                      "caxis": {
                        "gridcolor": "white",
                        "linecolor": "white",
                        "ticks": ""
                      }
                    },
                    "title": {
                      "x": 0.05
                    },
                    "xaxis": {
                      "automargin": true,
                      "gridcolor": "white",
                      "linecolor": "white",
                      "ticks": "",
                      "title": {
                        "standoff": 15
                      },
                      "zerolinecolor": "white",
                      "zerolinewidth": 2
                    },
                    "yaxis": {
                      "automargin": true,
                      "gridcolor": "white",
                      "linecolor": "white",
                      "ticks": "",
                      "title": {
                        "standoff": 15
                      },
                      "zerolinecolor": "white",
                      "zerolinewidth": 2
                    }
                  }
                },
                "title": {
                  "text": "Product Performance Distribution"
                },
                "xaxis": {
                  "anchor": "y",
                  "categoryarray": [
                    "Mint Chip Choco",
                    "85% Dark Bars",
                    "Peanut Butter Cubes",
                    "Smooth Sliky Salty",
                    "99% Dark & Pure",
                    "After Nines",
                    "50% Dark Bites",
                    "Orange Choco",
                    "Eclairs",
                    "Drinking Coco",
                    "Organic Choco Syrup",
                    "Milk Bars",
                    "Spicy Special Slims",
                    "Fruit & Nut Bars",
                    "White Choc",
                    "Manuka Honey Choco",
                    "Almond Choco",
                    "Raspberry Choco",
                    "Choco Coated Almonds",
                    "Baker's Choco Chips",
                    "Caramel Stuffed Bars",
                    "70% Dark Bites"
                  ],
                  "categoryorder": "array",
                  "domain": [
                    0,
                    1
                  ],
                  "title": {
                    "text": "Product"
                  }
                },
                "yaxis": {
                  "anchor": "x",
                  "domain": [
                    0,
                    1
                  ],
                  "title": {
                    "text": "Total Sales Amount"
                  }
                }
              }
            }
          },
          "metadata": {},
          "output_type": "display_data"
        }
      ],
      "source": [
        "# Create Box Plot in Plotly\n",
        "fig_box_product = px.box(df, \n",
        "                         x=\"Product\",  # Corrected column name\n",
        "                         y=\"Amount\", \n",
        "                         color=\"Product\", \n",
        "                         title=\"Product Performance Distribution\",\n",
        "                         labels={\"Amount\": \"Total Sales Amount\", \"Product\": \"Product\"},\n",
        "                         height=600)\n",
        "\n",
        "# Show the plot\n",
        "fig_box_product.show()"
      ]
    },
    {
      "cell_type": "markdown",
      "metadata": {},
      "source": [
        "<h3 style='color:#714737;'>Additional Advanced Visualisations</h3>"
      ]
    },
    {
      "cell_type": "markdown",
      "metadata": {},
      "source": [
        "- In this section, we will showcase some additional visualtions with plotly that weren't really relevant to our hypotheses.\n",
        "- Some of these were shown in the Sales Data Analysis notebook using matplotlib or seaborn, but we will showcase more advanced versions using plotly here."
      ]
    },
    {
      "cell_type": "code",
      "execution_count": 23,
      "metadata": {},
      "outputs": [
        {
          "data": {
            "application/vnd.plotly.v1+json": {
              "config": {
                "plotlyServerURL": "https://plot.ly"
              },
              "data": [
                {
                  "alignmentgroup": "True",
                  "hovertemplate": "Product Category=%{x}<br>Total Boxes Shipped=%{y}<extra></extra>",
                  "legendgroup": "Dark Chocolate",
                  "marker": {
                    "color": "#714737",
                    "pattern": {
                      "shape": ""
                    }
                  },
                  "name": "Dark Chocolate",
                  "offsetgroup": "Dark Chocolate",
                  "orientation": "v",
                  "showlegend": true,
                  "textposition": "auto",
                  "type": "bar",
                  "x": [
                    "Dark Chocolate"
                  ],
                  "xaxis": "x",
                  "y": [
                    33727
                  ],
                  "yaxis": "y"
                },
                {
                  "alignmentgroup": "True",
                  "hovertemplate": "Product Category=%{x}<br>Total Boxes Shipped=%{y}<extra></extra>",
                  "legendgroup": "Flavored Chocolate",
                  "marker": {
                    "color": "#443025",
                    "pattern": {
                      "shape": ""
                    }
                  },
                  "name": "Flavored Chocolate",
                  "offsetgroup": "Flavored Chocolate",
                  "orientation": "v",
                  "showlegend": true,
                  "textposition": "auto",
                  "type": "bar",
                  "x": [
                    "Flavored Chocolate"
                  ],
                  "xaxis": "x",
                  "y": [
                    55975
                  ],
                  "yaxis": "y"
                },
                {
                  "alignmentgroup": "True",
                  "hovertemplate": "Product Category=%{x}<br>Total Boxes Shipped=%{y}<extra></extra>",
                  "legendgroup": "Milk & White Chocolate",
                  "marker": {
                    "color": "#D6B58C",
                    "pattern": {
                      "shape": ""
                    }
                  },
                  "name": "Milk & White Chocolate",
                  "offsetgroup": "Milk & White Chocolate",
                  "orientation": "v",
                  "showlegend": true,
                  "textposition": "auto",
                  "type": "bar",
                  "x": [
                    "Milk & White Chocolate"
                  ],
                  "xaxis": "x",
                  "y": [
                    16570
                  ],
                  "yaxis": "y"
                },
                {
                  "alignmentgroup": "True",
                  "hovertemplate": "Product Category=%{x}<br>Total Boxes Shipped=%{y}<extra></extra>",
                  "legendgroup": "Nut-based Chocolate",
                  "marker": {
                    "color": "#3A211A",
                    "pattern": {
                      "shape": ""
                    }
                  },
                  "name": "Nut-based Chocolate",
                  "offsetgroup": "Nut-based Chocolate",
                  "orientation": "v",
                  "showlegend": true,
                  "textposition": "auto",
                  "type": "bar",
                  "x": [
                    "Nut-based Chocolate"
                  ],
                  "xaxis": "x",
                  "y": [
                    21504
                  ],
                  "yaxis": "y"
                },
                {
                  "alignmentgroup": "True",
                  "hovertemplate": "Product Category=%{x}<br>Total Boxes Shipped=%{y}<extra></extra>",
                  "legendgroup": "Specialty Chocolate",
                  "marker": {
                    "color": "#E5B07C",
                    "pattern": {
                      "shape": ""
                    }
                  },
                  "name": "Specialty Chocolate",
                  "offsetgroup": "Specialty Chocolate",
                  "orientation": "v",
                  "showlegend": true,
                  "textposition": "auto",
                  "type": "bar",
                  "x": [
                    "Specialty Chocolate"
                  ],
                  "xaxis": "x",
                  "y": [
                    49231
                  ],
                  "yaxis": "y"
                }
              ],
              "layout": {
                "barmode": "relative",
                "legend": {
                  "title": {
                    "text": "Product Category"
                  },
                  "tracegroupgap": 0
                },
                "template": {
                  "data": {
                    "bar": [
                      {
                        "error_x": {
                          "color": "#2a3f5f"
                        },
                        "error_y": {
                          "color": "#2a3f5f"
                        },
                        "marker": {
                          "line": {
                            "color": "#E5ECF6",
                            "width": 0.5
                          },
                          "pattern": {
                            "fillmode": "overlay",
                            "size": 10,
                            "solidity": 0.2
                          }
                        },
                        "type": "bar"
                      }
                    ],
                    "barpolar": [
                      {
                        "marker": {
                          "line": {
                            "color": "#E5ECF6",
                            "width": 0.5
                          },
                          "pattern": {
                            "fillmode": "overlay",
                            "size": 10,
                            "solidity": 0.2
                          }
                        },
                        "type": "barpolar"
                      }
                    ],
                    "carpet": [
                      {
                        "aaxis": {
                          "endlinecolor": "#2a3f5f",
                          "gridcolor": "white",
                          "linecolor": "white",
                          "minorgridcolor": "white",
                          "startlinecolor": "#2a3f5f"
                        },
                        "baxis": {
                          "endlinecolor": "#2a3f5f",
                          "gridcolor": "white",
                          "linecolor": "white",
                          "minorgridcolor": "white",
                          "startlinecolor": "#2a3f5f"
                        },
                        "type": "carpet"
                      }
                    ],
                    "choropleth": [
                      {
                        "colorbar": {
                          "outlinewidth": 0,
                          "ticks": ""
                        },
                        "type": "choropleth"
                      }
                    ],
                    "contour": [
                      {
                        "colorbar": {
                          "outlinewidth": 0,
                          "ticks": ""
                        },
                        "colorscale": [
                          [
                            0,
                            "#0d0887"
                          ],
                          [
                            0.1111111111111111,
                            "#46039f"
                          ],
                          [
                            0.2222222222222222,
                            "#7201a8"
                          ],
                          [
                            0.3333333333333333,
                            "#9c179e"
                          ],
                          [
                            0.4444444444444444,
                            "#bd3786"
                          ],
                          [
                            0.5555555555555556,
                            "#d8576b"
                          ],
                          [
                            0.6666666666666666,
                            "#ed7953"
                          ],
                          [
                            0.7777777777777778,
                            "#fb9f3a"
                          ],
                          [
                            0.8888888888888888,
                            "#fdca26"
                          ],
                          [
                            1,
                            "#f0f921"
                          ]
                        ],
                        "type": "contour"
                      }
                    ],
                    "contourcarpet": [
                      {
                        "colorbar": {
                          "outlinewidth": 0,
                          "ticks": ""
                        },
                        "type": "contourcarpet"
                      }
                    ],
                    "heatmap": [
                      {
                        "colorbar": {
                          "outlinewidth": 0,
                          "ticks": ""
                        },
                        "colorscale": [
                          [
                            0,
                            "#0d0887"
                          ],
                          [
                            0.1111111111111111,
                            "#46039f"
                          ],
                          [
                            0.2222222222222222,
                            "#7201a8"
                          ],
                          [
                            0.3333333333333333,
                            "#9c179e"
                          ],
                          [
                            0.4444444444444444,
                            "#bd3786"
                          ],
                          [
                            0.5555555555555556,
                            "#d8576b"
                          ],
                          [
                            0.6666666666666666,
                            "#ed7953"
                          ],
                          [
                            0.7777777777777778,
                            "#fb9f3a"
                          ],
                          [
                            0.8888888888888888,
                            "#fdca26"
                          ],
                          [
                            1,
                            "#f0f921"
                          ]
                        ],
                        "type": "heatmap"
                      }
                    ],
                    "heatmapgl": [
                      {
                        "colorbar": {
                          "outlinewidth": 0,
                          "ticks": ""
                        },
                        "colorscale": [
                          [
                            0,
                            "#0d0887"
                          ],
                          [
                            0.1111111111111111,
                            "#46039f"
                          ],
                          [
                            0.2222222222222222,
                            "#7201a8"
                          ],
                          [
                            0.3333333333333333,
                            "#9c179e"
                          ],
                          [
                            0.4444444444444444,
                            "#bd3786"
                          ],
                          [
                            0.5555555555555556,
                            "#d8576b"
                          ],
                          [
                            0.6666666666666666,
                            "#ed7953"
                          ],
                          [
                            0.7777777777777778,
                            "#fb9f3a"
                          ],
                          [
                            0.8888888888888888,
                            "#fdca26"
                          ],
                          [
                            1,
                            "#f0f921"
                          ]
                        ],
                        "type": "heatmapgl"
                      }
                    ],
                    "histogram": [
                      {
                        "marker": {
                          "pattern": {
                            "fillmode": "overlay",
                            "size": 10,
                            "solidity": 0.2
                          }
                        },
                        "type": "histogram"
                      }
                    ],
                    "histogram2d": [
                      {
                        "colorbar": {
                          "outlinewidth": 0,
                          "ticks": ""
                        },
                        "colorscale": [
                          [
                            0,
                            "#0d0887"
                          ],
                          [
                            0.1111111111111111,
                            "#46039f"
                          ],
                          [
                            0.2222222222222222,
                            "#7201a8"
                          ],
                          [
                            0.3333333333333333,
                            "#9c179e"
                          ],
                          [
                            0.4444444444444444,
                            "#bd3786"
                          ],
                          [
                            0.5555555555555556,
                            "#d8576b"
                          ],
                          [
                            0.6666666666666666,
                            "#ed7953"
                          ],
                          [
                            0.7777777777777778,
                            "#fb9f3a"
                          ],
                          [
                            0.8888888888888888,
                            "#fdca26"
                          ],
                          [
                            1,
                            "#f0f921"
                          ]
                        ],
                        "type": "histogram2d"
                      }
                    ],
                    "histogram2dcontour": [
                      {
                        "colorbar": {
                          "outlinewidth": 0,
                          "ticks": ""
                        },
                        "colorscale": [
                          [
                            0,
                            "#0d0887"
                          ],
                          [
                            0.1111111111111111,
                            "#46039f"
                          ],
                          [
                            0.2222222222222222,
                            "#7201a8"
                          ],
                          [
                            0.3333333333333333,
                            "#9c179e"
                          ],
                          [
                            0.4444444444444444,
                            "#bd3786"
                          ],
                          [
                            0.5555555555555556,
                            "#d8576b"
                          ],
                          [
                            0.6666666666666666,
                            "#ed7953"
                          ],
                          [
                            0.7777777777777778,
                            "#fb9f3a"
                          ],
                          [
                            0.8888888888888888,
                            "#fdca26"
                          ],
                          [
                            1,
                            "#f0f921"
                          ]
                        ],
                        "type": "histogram2dcontour"
                      }
                    ],
                    "mesh3d": [
                      {
                        "colorbar": {
                          "outlinewidth": 0,
                          "ticks": ""
                        },
                        "type": "mesh3d"
                      }
                    ],
                    "parcoords": [
                      {
                        "line": {
                          "colorbar": {
                            "outlinewidth": 0,
                            "ticks": ""
                          }
                        },
                        "type": "parcoords"
                      }
                    ],
                    "pie": [
                      {
                        "automargin": true,
                        "type": "pie"
                      }
                    ],
                    "scatter": [
                      {
                        "fillpattern": {
                          "fillmode": "overlay",
                          "size": 10,
                          "solidity": 0.2
                        },
                        "type": "scatter"
                      }
                    ],
                    "scatter3d": [
                      {
                        "line": {
                          "colorbar": {
                            "outlinewidth": 0,
                            "ticks": ""
                          }
                        },
                        "marker": {
                          "colorbar": {
                            "outlinewidth": 0,
                            "ticks": ""
                          }
                        },
                        "type": "scatter3d"
                      }
                    ],
                    "scattercarpet": [
                      {
                        "marker": {
                          "colorbar": {
                            "outlinewidth": 0,
                            "ticks": ""
                          }
                        },
                        "type": "scattercarpet"
                      }
                    ],
                    "scattergeo": [
                      {
                        "marker": {
                          "colorbar": {
                            "outlinewidth": 0,
                            "ticks": ""
                          }
                        },
                        "type": "scattergeo"
                      }
                    ],
                    "scattergl": [
                      {
                        "marker": {
                          "colorbar": {
                            "outlinewidth": 0,
                            "ticks": ""
                          }
                        },
                        "type": "scattergl"
                      }
                    ],
                    "scattermapbox": [
                      {
                        "marker": {
                          "colorbar": {
                            "outlinewidth": 0,
                            "ticks": ""
                          }
                        },
                        "type": "scattermapbox"
                      }
                    ],
                    "scatterpolar": [
                      {
                        "marker": {
                          "colorbar": {
                            "outlinewidth": 0,
                            "ticks": ""
                          }
                        },
                        "type": "scatterpolar"
                      }
                    ],
                    "scatterpolargl": [
                      {
                        "marker": {
                          "colorbar": {
                            "outlinewidth": 0,
                            "ticks": ""
                          }
                        },
                        "type": "scatterpolargl"
                      }
                    ],
                    "scatterternary": [
                      {
                        "marker": {
                          "colorbar": {
                            "outlinewidth": 0,
                            "ticks": ""
                          }
                        },
                        "type": "scatterternary"
                      }
                    ],
                    "surface": [
                      {
                        "colorbar": {
                          "outlinewidth": 0,
                          "ticks": ""
                        },
                        "colorscale": [
                          [
                            0,
                            "#0d0887"
                          ],
                          [
                            0.1111111111111111,
                            "#46039f"
                          ],
                          [
                            0.2222222222222222,
                            "#7201a8"
                          ],
                          [
                            0.3333333333333333,
                            "#9c179e"
                          ],
                          [
                            0.4444444444444444,
                            "#bd3786"
                          ],
                          [
                            0.5555555555555556,
                            "#d8576b"
                          ],
                          [
                            0.6666666666666666,
                            "#ed7953"
                          ],
                          [
                            0.7777777777777778,
                            "#fb9f3a"
                          ],
                          [
                            0.8888888888888888,
                            "#fdca26"
                          ],
                          [
                            1,
                            "#f0f921"
                          ]
                        ],
                        "type": "surface"
                      }
                    ],
                    "table": [
                      {
                        "cells": {
                          "fill": {
                            "color": "#EBF0F8"
                          },
                          "line": {
                            "color": "white"
                          }
                        },
                        "header": {
                          "fill": {
                            "color": "#C8D4E3"
                          },
                          "line": {
                            "color": "white"
                          }
                        },
                        "type": "table"
                      }
                    ]
                  },
                  "layout": {
                    "annotationdefaults": {
                      "arrowcolor": "#2a3f5f",
                      "arrowhead": 0,
                      "arrowwidth": 1
                    },
                    "autotypenumbers": "strict",
                    "coloraxis": {
                      "colorbar": {
                        "outlinewidth": 0,
                        "ticks": ""
                      }
                    },
                    "colorscale": {
                      "diverging": [
                        [
                          0,
                          "#8e0152"
                        ],
                        [
                          0.1,
                          "#c51b7d"
                        ],
                        [
                          0.2,
                          "#de77ae"
                        ],
                        [
                          0.3,
                          "#f1b6da"
                        ],
                        [
                          0.4,
                          "#fde0ef"
                        ],
                        [
                          0.5,
                          "#f7f7f7"
                        ],
                        [
                          0.6,
                          "#e6f5d0"
                        ],
                        [
                          0.7,
                          "#b8e186"
                        ],
                        [
                          0.8,
                          "#7fbc41"
                        ],
                        [
                          0.9,
                          "#4d9221"
                        ],
                        [
                          1,
                          "#276419"
                        ]
                      ],
                      "sequential": [
                        [
                          0,
                          "#0d0887"
                        ],
                        [
                          0.1111111111111111,
                          "#46039f"
                        ],
                        [
                          0.2222222222222222,
                          "#7201a8"
                        ],
                        [
                          0.3333333333333333,
                          "#9c179e"
                        ],
                        [
                          0.4444444444444444,
                          "#bd3786"
                        ],
                        [
                          0.5555555555555556,
                          "#d8576b"
                        ],
                        [
                          0.6666666666666666,
                          "#ed7953"
                        ],
                        [
                          0.7777777777777778,
                          "#fb9f3a"
                        ],
                        [
                          0.8888888888888888,
                          "#fdca26"
                        ],
                        [
                          1,
                          "#f0f921"
                        ]
                      ],
                      "sequentialminus": [
                        [
                          0,
                          "#0d0887"
                        ],
                        [
                          0.1111111111111111,
                          "#46039f"
                        ],
                        [
                          0.2222222222222222,
                          "#7201a8"
                        ],
                        [
                          0.3333333333333333,
                          "#9c179e"
                        ],
                        [
                          0.4444444444444444,
                          "#bd3786"
                        ],
                        [
                          0.5555555555555556,
                          "#d8576b"
                        ],
                        [
                          0.6666666666666666,
                          "#ed7953"
                        ],
                        [
                          0.7777777777777778,
                          "#fb9f3a"
                        ],
                        [
                          0.8888888888888888,
                          "#fdca26"
                        ],
                        [
                          1,
                          "#f0f921"
                        ]
                      ]
                    },
                    "colorway": [
                      "#636efa",
                      "#EF553B",
                      "#00cc96",
                      "#ab63fa",
                      "#FFA15A",
                      "#19d3f3",
                      "#FF6692",
                      "#B6E880",
                      "#FF97FF",
                      "#FECB52"
                    ],
                    "font": {
                      "color": "#2a3f5f"
                    },
                    "geo": {
                      "bgcolor": "white",
                      "lakecolor": "white",
                      "landcolor": "#E5ECF6",
                      "showlakes": true,
                      "showland": true,
                      "subunitcolor": "white"
                    },
                    "hoverlabel": {
                      "align": "left"
                    },
                    "hovermode": "closest",
                    "mapbox": {
                      "style": "light"
                    },
                    "paper_bgcolor": "white",
                    "plot_bgcolor": "#E5ECF6",
                    "polar": {
                      "angularaxis": {
                        "gridcolor": "white",
                        "linecolor": "white",
                        "ticks": ""
                      },
                      "bgcolor": "#E5ECF6",
                      "radialaxis": {
                        "gridcolor": "white",
                        "linecolor": "white",
                        "ticks": ""
                      }
                    },
                    "scene": {
                      "xaxis": {
                        "backgroundcolor": "#E5ECF6",
                        "gridcolor": "white",
                        "gridwidth": 2,
                        "linecolor": "white",
                        "showbackground": true,
                        "ticks": "",
                        "zerolinecolor": "white"
                      },
                      "yaxis": {
                        "backgroundcolor": "#E5ECF6",
                        "gridcolor": "white",
                        "gridwidth": 2,
                        "linecolor": "white",
                        "showbackground": true,
                        "ticks": "",
                        "zerolinecolor": "white"
                      },
                      "zaxis": {
                        "backgroundcolor": "#E5ECF6",
                        "gridcolor": "white",
                        "gridwidth": 2,
                        "linecolor": "white",
                        "showbackground": true,
                        "ticks": "",
                        "zerolinecolor": "white"
                      }
                    },
                    "shapedefaults": {
                      "line": {
                        "color": "#2a3f5f"
                      }
                    },
                    "ternary": {
                      "aaxis": {
                        "gridcolor": "white",
                        "linecolor": "white",
                        "ticks": ""
                      },
                      "baxis": {
                        "gridcolor": "white",
                        "linecolor": "white",
                        "ticks": ""
                      },
                      "bgcolor": "#E5ECF6",
                      "caxis": {
                        "gridcolor": "white",
                        "linecolor": "white",
                        "ticks": ""
                      }
                    },
                    "title": {
                      "x": 0.05
                    },
                    "xaxis": {
                      "automargin": true,
                      "gridcolor": "white",
                      "linecolor": "white",
                      "ticks": "",
                      "title": {
                        "standoff": 15
                      },
                      "zerolinecolor": "white",
                      "zerolinewidth": 2
                    },
                    "yaxis": {
                      "automargin": true,
                      "gridcolor": "white",
                      "linecolor": "white",
                      "ticks": "",
                      "title": {
                        "standoff": 15
                      },
                      "zerolinecolor": "white",
                      "zerolinewidth": 2
                    }
                  }
                },
                "title": {
                  "text": "Boxes Shipped per Product Category"
                },
                "xaxis": {
                  "anchor": "y",
                  "categoryarray": [
                    "Dark Chocolate",
                    "Flavored Chocolate",
                    "Milk & White Chocolate",
                    "Nut-based Chocolate",
                    "Specialty Chocolate"
                  ],
                  "categoryorder": "array",
                  "domain": [
                    0,
                    1
                  ],
                  "title": {
                    "text": "Product Category"
                  }
                },
                "yaxis": {
                  "anchor": "x",
                  "domain": [
                    0,
                    1
                  ],
                  "title": {
                    "text": "Total Boxes Shipped"
                  }
                }
              }
            }
          },
          "metadata": {},
          "output_type": "display_data"
        }
      ],
      "source": [
        "# Aggregate total boxes shipped by product category\n",
        "boxes_per_category = df.groupby(\"Product Category\", as_index=False)[\"Boxes Shipped\"].sum()\n",
        "\n",
        "# Create Bar Chart in Plotly\n",
        "fig_boxes_category = px.bar(boxes_per_category, \n",
        "                            x=\"Product Category\", \n",
        "                            y=\"Boxes Shipped\", \n",
        "                            color=\"Product Category\",\n",
        "                            title=\"Boxes Shipped per Product Category\",\n",
        "                            labels={\"Boxes Shipped\": \"Total Boxes Shipped\", \"Product Category\": \"Product Category\"},\n",
        "                            color_discrete_sequence=custom_palette)\n",
        "\n",
        "fig_boxes_category.show()"
      ]
    },
    {
      "cell_type": "code",
      "execution_count": 24,
      "metadata": {},
      "outputs": [
        {
          "data": {
            "application/vnd.plotly.v1+json": {
              "config": {
                "plotlyServerURL": "https://plot.ly"
              },
              "data": [
                {
                  "alignmentgroup": "True",
                  "hovertemplate": "Product=%{x}<br>Total Sales ($)=%{y}<extra></extra>",
                  "legendgroup": "50% Dark Bites",
                  "marker": {
                    "color": "#636efa",
                    "pattern": {
                      "shape": ""
                    }
                  },
                  "name": "50% Dark Bites",
                  "offsetgroup": "50% Dark Bites",
                  "orientation": "v",
                  "showlegend": true,
                  "textposition": "auto",
                  "type": "bar",
                  "x": [
                    "50% Dark Bites"
                  ],
                  "xaxis": "x",
                  "y": [
                    341712
                  ],
                  "yaxis": "y"
                },
                {
                  "alignmentgroup": "True",
                  "hovertemplate": "Product=%{x}<br>Total Sales ($)=%{y}<extra></extra>",
                  "legendgroup": "70% Dark Bites",
                  "marker": {
                    "color": "#EF553B",
                    "pattern": {
                      "shape": ""
                    }
                  },
                  "name": "70% Dark Bites",
                  "offsetgroup": "70% Dark Bites",
                  "orientation": "v",
                  "showlegend": true,
                  "textposition": "auto",
                  "type": "bar",
                  "x": [
                    "70% Dark Bites"
                  ],
                  "xaxis": "x",
                  "y": [
                    211610
                  ],
                  "yaxis": "y"
                },
                {
                  "alignmentgroup": "True",
                  "hovertemplate": "Product=%{x}<br>Total Sales ($)=%{y}<extra></extra>",
                  "legendgroup": "85% Dark Bars",
                  "marker": {
                    "color": "#00cc96",
                    "pattern": {
                      "shape": ""
                    }
                  },
                  "name": "85% Dark Bars",
                  "offsetgroup": "85% Dark Bars",
                  "orientation": "v",
                  "showlegend": true,
                  "textposition": "auto",
                  "type": "bar",
                  "x": [
                    "85% Dark Bars"
                  ],
                  "xaxis": "x",
                  "y": [
                    299229
                  ],
                  "yaxis": "y"
                },
                {
                  "alignmentgroup": "True",
                  "hovertemplate": "Product=%{x}<br>Total Sales ($)=%{y}<extra></extra>",
                  "legendgroup": "99% Dark & Pure",
                  "marker": {
                    "color": "#ab63fa",
                    "pattern": {
                      "shape": ""
                    }
                  },
                  "name": "99% Dark & Pure",
                  "offsetgroup": "99% Dark & Pure",
                  "orientation": "v",
                  "showlegend": true,
                  "textposition": "auto",
                  "type": "bar",
                  "x": [
                    "99% Dark & Pure"
                  ],
                  "xaxis": "x",
                  "y": [
                    299796
                  ],
                  "yaxis": "y"
                },
                {
                  "alignmentgroup": "True",
                  "hovertemplate": "Product=%{x}<br>Total Sales ($)=%{y}<extra></extra>",
                  "legendgroup": "After Nines",
                  "marker": {
                    "color": "#FFA15A",
                    "pattern": {
                      "shape": ""
                    }
                  },
                  "name": "After Nines",
                  "offsetgroup": "After Nines",
                  "orientation": "v",
                  "showlegend": true,
                  "textposition": "auto",
                  "type": "bar",
                  "x": [
                    "After Nines"
                  ],
                  "xaxis": "x",
                  "y": [
                    261331
                  ],
                  "yaxis": "y"
                },
                {
                  "alignmentgroup": "True",
                  "hovertemplate": "Product=%{x}<br>Total Sales ($)=%{y}<extra></extra>",
                  "legendgroup": "Almond Choco",
                  "marker": {
                    "color": "#19d3f3",
                    "pattern": {
                      "shape": ""
                    }
                  },
                  "name": "Almond Choco",
                  "offsetgroup": "Almond Choco",
                  "orientation": "v",
                  "showlegend": true,
                  "textposition": "auto",
                  "type": "bar",
                  "x": [
                    "Almond Choco"
                  ],
                  "xaxis": "x",
                  "y": [
                    277536
                  ],
                  "yaxis": "y"
                },
                {
                  "alignmentgroup": "True",
                  "hovertemplate": "Product=%{x}<br>Total Sales ($)=%{y}<extra></extra>",
                  "legendgroup": "Baker's Choco Chips",
                  "marker": {
                    "color": "#FF6692",
                    "pattern": {
                      "shape": ""
                    }
                  },
                  "name": "Baker's Choco Chips",
                  "offsetgroup": "Baker's Choco Chips",
                  "orientation": "v",
                  "showlegend": true,
                  "textposition": "auto",
                  "type": "bar",
                  "x": [
                    "Baker's Choco Chips"
                  ],
                  "xaxis": "x",
                  "y": [
                    249613
                  ],
                  "yaxis": "y"
                },
                {
                  "alignmentgroup": "True",
                  "hovertemplate": "Product=%{x}<br>Total Sales ($)=%{y}<extra></extra>",
                  "legendgroup": "Caramel Stuffed Bars",
                  "marker": {
                    "color": "#B6E880",
                    "pattern": {
                      "shape": ""
                    }
                  },
                  "name": "Caramel Stuffed Bars",
                  "offsetgroup": "Caramel Stuffed Bars",
                  "orientation": "v",
                  "showlegend": true,
                  "textposition": "auto",
                  "type": "bar",
                  "x": [
                    "Caramel Stuffed Bars"
                  ],
                  "xaxis": "x",
                  "y": [
                    231588
                  ],
                  "yaxis": "y"
                },
                {
                  "alignmentgroup": "True",
                  "hovertemplate": "Product=%{x}<br>Total Sales ($)=%{y}<extra></extra>",
                  "legendgroup": "Choco Coated Almonds",
                  "marker": {
                    "color": "#FF97FF",
                    "pattern": {
                      "shape": ""
                    }
                  },
                  "name": "Choco Coated Almonds",
                  "offsetgroup": "Choco Coated Almonds",
                  "orientation": "v",
                  "showlegend": true,
                  "textposition": "auto",
                  "type": "bar",
                  "x": [
                    "Choco Coated Almonds"
                  ],
                  "xaxis": "x",
                  "y": [
                    241486
                  ],
                  "yaxis": "y"
                },
                {
                  "alignmentgroup": "True",
                  "hovertemplate": "Product=%{x}<br>Total Sales ($)=%{y}<extra></extra>",
                  "legendgroup": "Drinking Coco",
                  "marker": {
                    "color": "#FECB52",
                    "pattern": {
                      "shape": ""
                    }
                  },
                  "name": "Drinking Coco",
                  "offsetgroup": "Drinking Coco",
                  "orientation": "v",
                  "showlegend": true,
                  "textposition": "auto",
                  "type": "bar",
                  "x": [
                    "Drinking Coco"
                  ],
                  "xaxis": "x",
                  "y": [
                    256655
                  ],
                  "yaxis": "y"
                },
                {
                  "alignmentgroup": "True",
                  "hovertemplate": "Product=%{x}<br>Total Sales ($)=%{y}<extra></extra>",
                  "legendgroup": "Eclairs",
                  "marker": {
                    "color": "#636efa",
                    "pattern": {
                      "shape": ""
                    }
                  },
                  "name": "Eclairs",
                  "offsetgroup": "Eclairs",
                  "orientation": "v",
                  "showlegend": true,
                  "textposition": "auto",
                  "type": "bar",
                  "x": [
                    "Eclairs"
                  ],
                  "xaxis": "x",
                  "y": [
                    312445
                  ],
                  "yaxis": "y"
                },
                {
                  "alignmentgroup": "True",
                  "hovertemplate": "Product=%{x}<br>Total Sales ($)=%{y}<extra></extra>",
                  "legendgroup": "Fruit & Nut Bars",
                  "marker": {
                    "color": "#EF553B",
                    "pattern": {
                      "shape": ""
                    }
                  },
                  "name": "Fruit & Nut Bars",
                  "offsetgroup": "Fruit & Nut Bars",
                  "orientation": "v",
                  "showlegend": true,
                  "textposition": "auto",
                  "type": "bar",
                  "x": [
                    "Fruit & Nut Bars"
                  ],
                  "xaxis": "x",
                  "y": [
                    259147
                  ],
                  "yaxis": "y"
                },
                {
                  "alignmentgroup": "True",
                  "hovertemplate": "Product=%{x}<br>Total Sales ($)=%{y}<extra></extra>",
                  "legendgroup": "Manuka Honey Choco",
                  "marker": {
                    "color": "#00cc96",
                    "pattern": {
                      "shape": ""
                    }
                  },
                  "name": "Manuka Honey Choco",
                  "offsetgroup": "Manuka Honey Choco",
                  "orientation": "v",
                  "showlegend": true,
                  "textposition": "auto",
                  "type": "bar",
                  "x": [
                    "Manuka Honey Choco"
                  ],
                  "xaxis": "x",
                  "y": [
                    275541
                  ],
                  "yaxis": "y"
                },
                {
                  "alignmentgroup": "True",
                  "hovertemplate": "Product=%{x}<br>Total Sales ($)=%{y}<extra></extra>",
                  "legendgroup": "Milk Bars",
                  "marker": {
                    "color": "#ab63fa",
                    "pattern": {
                      "shape": ""
                    }
                  },
                  "name": "Milk Bars",
                  "offsetgroup": "Milk Bars",
                  "orientation": "v",
                  "showlegend": true,
                  "textposition": "auto",
                  "type": "bar",
                  "x": [
                    "Milk Bars"
                  ],
                  "xaxis": "x",
                  "y": [
                    269248
                  ],
                  "yaxis": "y"
                },
                {
                  "alignmentgroup": "True",
                  "hovertemplate": "Product=%{x}<br>Total Sales ($)=%{y}<extra></extra>",
                  "legendgroup": "Mint Chip Choco",
                  "marker": {
                    "color": "#FFA15A",
                    "pattern": {
                      "shape": ""
                    }
                  },
                  "name": "Mint Chip Choco",
                  "offsetgroup": "Mint Chip Choco",
                  "orientation": "v",
                  "showlegend": true,
                  "textposition": "auto",
                  "type": "bar",
                  "x": [
                    "Mint Chip Choco"
                  ],
                  "xaxis": "x",
                  "y": [
                    283969
                  ],
                  "yaxis": "y"
                },
                {
                  "alignmentgroup": "True",
                  "hovertemplate": "Product=%{x}<br>Total Sales ($)=%{y}<extra></extra>",
                  "legendgroup": "Orange Choco",
                  "marker": {
                    "color": "#19d3f3",
                    "pattern": {
                      "shape": ""
                    }
                  },
                  "name": "Orange Choco",
                  "offsetgroup": "Orange Choco",
                  "orientation": "v",
                  "showlegend": true,
                  "textposition": "auto",
                  "type": "bar",
                  "x": [
                    "Orange Choco"
                  ],
                  "xaxis": "x",
                  "y": [
                    256144
                  ],
                  "yaxis": "y"
                },
                {
                  "alignmentgroup": "True",
                  "hovertemplate": "Product=%{x}<br>Total Sales ($)=%{y}<extra></extra>",
                  "legendgroup": "Organic Choco Syrup",
                  "marker": {
                    "color": "#FF6692",
                    "pattern": {
                      "shape": ""
                    }
                  },
                  "name": "Organic Choco Syrup",
                  "offsetgroup": "Organic Choco Syrup",
                  "orientation": "v",
                  "showlegend": true,
                  "textposition": "auto",
                  "type": "bar",
                  "x": [
                    "Organic Choco Syrup"
                  ],
                  "xaxis": "x",
                  "y": [
                    294700
                  ],
                  "yaxis": "y"
                },
                {
                  "alignmentgroup": "True",
                  "hovertemplate": "Product=%{x}<br>Total Sales ($)=%{y}<extra></extra>",
                  "legendgroup": "Peanut Butter Cubes",
                  "marker": {
                    "color": "#B6E880",
                    "pattern": {
                      "shape": ""
                    }
                  },
                  "name": "Peanut Butter Cubes",
                  "offsetgroup": "Peanut Butter Cubes",
                  "orientation": "v",
                  "showlegend": true,
                  "textposition": "auto",
                  "type": "bar",
                  "x": [
                    "Peanut Butter Cubes"
                  ],
                  "xaxis": "x",
                  "y": [
                    324842
                  ],
                  "yaxis": "y"
                },
                {
                  "alignmentgroup": "True",
                  "hovertemplate": "Product=%{x}<br>Total Sales ($)=%{y}<extra></extra>",
                  "legendgroup": "Raspberry Choco",
                  "marker": {
                    "color": "#FF97FF",
                    "pattern": {
                      "shape": ""
                    }
                  },
                  "name": "Raspberry Choco",
                  "offsetgroup": "Raspberry Choco",
                  "orientation": "v",
                  "showlegend": true,
                  "textposition": "auto",
                  "type": "bar",
                  "x": [
                    "Raspberry Choco"
                  ],
                  "xaxis": "x",
                  "y": [
                    264740
                  ],
                  "yaxis": "y"
                },
                {
                  "alignmentgroup": "True",
                  "hovertemplate": "Product=%{x}<br>Total Sales ($)=%{y}<extra></extra>",
                  "legendgroup": "Smooth Sliky Salty",
                  "marker": {
                    "color": "#FECB52",
                    "pattern": {
                      "shape": ""
                    }
                  },
                  "name": "Smooth Sliky Salty",
                  "offsetgroup": "Smooth Sliky Salty",
                  "orientation": "v",
                  "showlegend": true,
                  "textposition": "auto",
                  "type": "bar",
                  "x": [
                    "Smooth Sliky Salty"
                  ],
                  "xaxis": "x",
                  "y": [
                    349692
                  ],
                  "yaxis": "y"
                },
                {
                  "alignmentgroup": "True",
                  "hovertemplate": "Product=%{x}<br>Total Sales ($)=%{y}<extra></extra>",
                  "legendgroup": "Spicy Special Slims",
                  "marker": {
                    "color": "#636efa",
                    "pattern": {
                      "shape": ""
                    }
                  },
                  "name": "Spicy Special Slims",
                  "offsetgroup": "Spicy Special Slims",
                  "orientation": "v",
                  "showlegend": true,
                  "textposition": "auto",
                  "type": "bar",
                  "x": [
                    "Spicy Special Slims"
                  ],
                  "xaxis": "x",
                  "y": [
                    293454
                  ],
                  "yaxis": "y"
                },
                {
                  "alignmentgroup": "True",
                  "hovertemplate": "Product=%{x}<br>Total Sales ($)=%{y}<extra></extra>",
                  "legendgroup": "White Choc",
                  "marker": {
                    "color": "#EF553B",
                    "pattern": {
                      "shape": ""
                    }
                  },
                  "name": "White Choc",
                  "offsetgroup": "White Choc",
                  "orientation": "v",
                  "showlegend": true,
                  "textposition": "auto",
                  "type": "bar",
                  "x": [
                    "White Choc"
                  ],
                  "xaxis": "x",
                  "y": [
                    329147
                  ],
                  "yaxis": "y"
                }
              ],
              "layout": {
                "barmode": "relative",
                "height": 500,
                "legend": {
                  "title": {
                    "text": "Product"
                  },
                  "tracegroupgap": 0
                },
                "template": {
                  "data": {
                    "bar": [
                      {
                        "error_x": {
                          "color": "#2a3f5f"
                        },
                        "error_y": {
                          "color": "#2a3f5f"
                        },
                        "marker": {
                          "line": {
                            "color": "#E5ECF6",
                            "width": 0.5
                          },
                          "pattern": {
                            "fillmode": "overlay",
                            "size": 10,
                            "solidity": 0.2
                          }
                        },
                        "type": "bar"
                      }
                    ],
                    "barpolar": [
                      {
                        "marker": {
                          "line": {
                            "color": "#E5ECF6",
                            "width": 0.5
                          },
                          "pattern": {
                            "fillmode": "overlay",
                            "size": 10,
                            "solidity": 0.2
                          }
                        },
                        "type": "barpolar"
                      }
                    ],
                    "carpet": [
                      {
                        "aaxis": {
                          "endlinecolor": "#2a3f5f",
                          "gridcolor": "white",
                          "linecolor": "white",
                          "minorgridcolor": "white",
                          "startlinecolor": "#2a3f5f"
                        },
                        "baxis": {
                          "endlinecolor": "#2a3f5f",
                          "gridcolor": "white",
                          "linecolor": "white",
                          "minorgridcolor": "white",
                          "startlinecolor": "#2a3f5f"
                        },
                        "type": "carpet"
                      }
                    ],
                    "choropleth": [
                      {
                        "colorbar": {
                          "outlinewidth": 0,
                          "ticks": ""
                        },
                        "type": "choropleth"
                      }
                    ],
                    "contour": [
                      {
                        "colorbar": {
                          "outlinewidth": 0,
                          "ticks": ""
                        },
                        "colorscale": [
                          [
                            0,
                            "#0d0887"
                          ],
                          [
                            0.1111111111111111,
                            "#46039f"
                          ],
                          [
                            0.2222222222222222,
                            "#7201a8"
                          ],
                          [
                            0.3333333333333333,
                            "#9c179e"
                          ],
                          [
                            0.4444444444444444,
                            "#bd3786"
                          ],
                          [
                            0.5555555555555556,
                            "#d8576b"
                          ],
                          [
                            0.6666666666666666,
                            "#ed7953"
                          ],
                          [
                            0.7777777777777778,
                            "#fb9f3a"
                          ],
                          [
                            0.8888888888888888,
                            "#fdca26"
                          ],
                          [
                            1,
                            "#f0f921"
                          ]
                        ],
                        "type": "contour"
                      }
                    ],
                    "contourcarpet": [
                      {
                        "colorbar": {
                          "outlinewidth": 0,
                          "ticks": ""
                        },
                        "type": "contourcarpet"
                      }
                    ],
                    "heatmap": [
                      {
                        "colorbar": {
                          "outlinewidth": 0,
                          "ticks": ""
                        },
                        "colorscale": [
                          [
                            0,
                            "#0d0887"
                          ],
                          [
                            0.1111111111111111,
                            "#46039f"
                          ],
                          [
                            0.2222222222222222,
                            "#7201a8"
                          ],
                          [
                            0.3333333333333333,
                            "#9c179e"
                          ],
                          [
                            0.4444444444444444,
                            "#bd3786"
                          ],
                          [
                            0.5555555555555556,
                            "#d8576b"
                          ],
                          [
                            0.6666666666666666,
                            "#ed7953"
                          ],
                          [
                            0.7777777777777778,
                            "#fb9f3a"
                          ],
                          [
                            0.8888888888888888,
                            "#fdca26"
                          ],
                          [
                            1,
                            "#f0f921"
                          ]
                        ],
                        "type": "heatmap"
                      }
                    ],
                    "heatmapgl": [
                      {
                        "colorbar": {
                          "outlinewidth": 0,
                          "ticks": ""
                        },
                        "colorscale": [
                          [
                            0,
                            "#0d0887"
                          ],
                          [
                            0.1111111111111111,
                            "#46039f"
                          ],
                          [
                            0.2222222222222222,
                            "#7201a8"
                          ],
                          [
                            0.3333333333333333,
                            "#9c179e"
                          ],
                          [
                            0.4444444444444444,
                            "#bd3786"
                          ],
                          [
                            0.5555555555555556,
                            "#d8576b"
                          ],
                          [
                            0.6666666666666666,
                            "#ed7953"
                          ],
                          [
                            0.7777777777777778,
                            "#fb9f3a"
                          ],
                          [
                            0.8888888888888888,
                            "#fdca26"
                          ],
                          [
                            1,
                            "#f0f921"
                          ]
                        ],
                        "type": "heatmapgl"
                      }
                    ],
                    "histogram": [
                      {
                        "marker": {
                          "pattern": {
                            "fillmode": "overlay",
                            "size": 10,
                            "solidity": 0.2
                          }
                        },
                        "type": "histogram"
                      }
                    ],
                    "histogram2d": [
                      {
                        "colorbar": {
                          "outlinewidth": 0,
                          "ticks": ""
                        },
                        "colorscale": [
                          [
                            0,
                            "#0d0887"
                          ],
                          [
                            0.1111111111111111,
                            "#46039f"
                          ],
                          [
                            0.2222222222222222,
                            "#7201a8"
                          ],
                          [
                            0.3333333333333333,
                            "#9c179e"
                          ],
                          [
                            0.4444444444444444,
                            "#bd3786"
                          ],
                          [
                            0.5555555555555556,
                            "#d8576b"
                          ],
                          [
                            0.6666666666666666,
                            "#ed7953"
                          ],
                          [
                            0.7777777777777778,
                            "#fb9f3a"
                          ],
                          [
                            0.8888888888888888,
                            "#fdca26"
                          ],
                          [
                            1,
                            "#f0f921"
                          ]
                        ],
                        "type": "histogram2d"
                      }
                    ],
                    "histogram2dcontour": [
                      {
                        "colorbar": {
                          "outlinewidth": 0,
                          "ticks": ""
                        },
                        "colorscale": [
                          [
                            0,
                            "#0d0887"
                          ],
                          [
                            0.1111111111111111,
                            "#46039f"
                          ],
                          [
                            0.2222222222222222,
                            "#7201a8"
                          ],
                          [
                            0.3333333333333333,
                            "#9c179e"
                          ],
                          [
                            0.4444444444444444,
                            "#bd3786"
                          ],
                          [
                            0.5555555555555556,
                            "#d8576b"
                          ],
                          [
                            0.6666666666666666,
                            "#ed7953"
                          ],
                          [
                            0.7777777777777778,
                            "#fb9f3a"
                          ],
                          [
                            0.8888888888888888,
                            "#fdca26"
                          ],
                          [
                            1,
                            "#f0f921"
                          ]
                        ],
                        "type": "histogram2dcontour"
                      }
                    ],
                    "mesh3d": [
                      {
                        "colorbar": {
                          "outlinewidth": 0,
                          "ticks": ""
                        },
                        "type": "mesh3d"
                      }
                    ],
                    "parcoords": [
                      {
                        "line": {
                          "colorbar": {
                            "outlinewidth": 0,
                            "ticks": ""
                          }
                        },
                        "type": "parcoords"
                      }
                    ],
                    "pie": [
                      {
                        "automargin": true,
                        "type": "pie"
                      }
                    ],
                    "scatter": [
                      {
                        "fillpattern": {
                          "fillmode": "overlay",
                          "size": 10,
                          "solidity": 0.2
                        },
                        "type": "scatter"
                      }
                    ],
                    "scatter3d": [
                      {
                        "line": {
                          "colorbar": {
                            "outlinewidth": 0,
                            "ticks": ""
                          }
                        },
                        "marker": {
                          "colorbar": {
                            "outlinewidth": 0,
                            "ticks": ""
                          }
                        },
                        "type": "scatter3d"
                      }
                    ],
                    "scattercarpet": [
                      {
                        "marker": {
                          "colorbar": {
                            "outlinewidth": 0,
                            "ticks": ""
                          }
                        },
                        "type": "scattercarpet"
                      }
                    ],
                    "scattergeo": [
                      {
                        "marker": {
                          "colorbar": {
                            "outlinewidth": 0,
                            "ticks": ""
                          }
                        },
                        "type": "scattergeo"
                      }
                    ],
                    "scattergl": [
                      {
                        "marker": {
                          "colorbar": {
                            "outlinewidth": 0,
                            "ticks": ""
                          }
                        },
                        "type": "scattergl"
                      }
                    ],
                    "scattermapbox": [
                      {
                        "marker": {
                          "colorbar": {
                            "outlinewidth": 0,
                            "ticks": ""
                          }
                        },
                        "type": "scattermapbox"
                      }
                    ],
                    "scatterpolar": [
                      {
                        "marker": {
                          "colorbar": {
                            "outlinewidth": 0,
                            "ticks": ""
                          }
                        },
                        "type": "scatterpolar"
                      }
                    ],
                    "scatterpolargl": [
                      {
                        "marker": {
                          "colorbar": {
                            "outlinewidth": 0,
                            "ticks": ""
                          }
                        },
                        "type": "scatterpolargl"
                      }
                    ],
                    "scatterternary": [
                      {
                        "marker": {
                          "colorbar": {
                            "outlinewidth": 0,
                            "ticks": ""
                          }
                        },
                        "type": "scatterternary"
                      }
                    ],
                    "surface": [
                      {
                        "colorbar": {
                          "outlinewidth": 0,
                          "ticks": ""
                        },
                        "colorscale": [
                          [
                            0,
                            "#0d0887"
                          ],
                          [
                            0.1111111111111111,
                            "#46039f"
                          ],
                          [
                            0.2222222222222222,
                            "#7201a8"
                          ],
                          [
                            0.3333333333333333,
                            "#9c179e"
                          ],
                          [
                            0.4444444444444444,
                            "#bd3786"
                          ],
                          [
                            0.5555555555555556,
                            "#d8576b"
                          ],
                          [
                            0.6666666666666666,
                            "#ed7953"
                          ],
                          [
                            0.7777777777777778,
                            "#fb9f3a"
                          ],
                          [
                            0.8888888888888888,
                            "#fdca26"
                          ],
                          [
                            1,
                            "#f0f921"
                          ]
                        ],
                        "type": "surface"
                      }
                    ],
                    "table": [
                      {
                        "cells": {
                          "fill": {
                            "color": "#EBF0F8"
                          },
                          "line": {
                            "color": "white"
                          }
                        },
                        "header": {
                          "fill": {
                            "color": "#C8D4E3"
                          },
                          "line": {
                            "color": "white"
                          }
                        },
                        "type": "table"
                      }
                    ]
                  },
                  "layout": {
                    "annotationdefaults": {
                      "arrowcolor": "#2a3f5f",
                      "arrowhead": 0,
                      "arrowwidth": 1
                    },
                    "autotypenumbers": "strict",
                    "coloraxis": {
                      "colorbar": {
                        "outlinewidth": 0,
                        "ticks": ""
                      }
                    },
                    "colorscale": {
                      "diverging": [
                        [
                          0,
                          "#8e0152"
                        ],
                        [
                          0.1,
                          "#c51b7d"
                        ],
                        [
                          0.2,
                          "#de77ae"
                        ],
                        [
                          0.3,
                          "#f1b6da"
                        ],
                        [
                          0.4,
                          "#fde0ef"
                        ],
                        [
                          0.5,
                          "#f7f7f7"
                        ],
                        [
                          0.6,
                          "#e6f5d0"
                        ],
                        [
                          0.7,
                          "#b8e186"
                        ],
                        [
                          0.8,
                          "#7fbc41"
                        ],
                        [
                          0.9,
                          "#4d9221"
                        ],
                        [
                          1,
                          "#276419"
                        ]
                      ],
                      "sequential": [
                        [
                          0,
                          "#0d0887"
                        ],
                        [
                          0.1111111111111111,
                          "#46039f"
                        ],
                        [
                          0.2222222222222222,
                          "#7201a8"
                        ],
                        [
                          0.3333333333333333,
                          "#9c179e"
                        ],
                        [
                          0.4444444444444444,
                          "#bd3786"
                        ],
                        [
                          0.5555555555555556,
                          "#d8576b"
                        ],
                        [
                          0.6666666666666666,
                          "#ed7953"
                        ],
                        [
                          0.7777777777777778,
                          "#fb9f3a"
                        ],
                        [
                          0.8888888888888888,
                          "#fdca26"
                        ],
                        [
                          1,
                          "#f0f921"
                        ]
                      ],
                      "sequentialminus": [
                        [
                          0,
                          "#0d0887"
                        ],
                        [
                          0.1111111111111111,
                          "#46039f"
                        ],
                        [
                          0.2222222222222222,
                          "#7201a8"
                        ],
                        [
                          0.3333333333333333,
                          "#9c179e"
                        ],
                        [
                          0.4444444444444444,
                          "#bd3786"
                        ],
                        [
                          0.5555555555555556,
                          "#d8576b"
                        ],
                        [
                          0.6666666666666666,
                          "#ed7953"
                        ],
                        [
                          0.7777777777777778,
                          "#fb9f3a"
                        ],
                        [
                          0.8888888888888888,
                          "#fdca26"
                        ],
                        [
                          1,
                          "#f0f921"
                        ]
                      ]
                    },
                    "colorway": [
                      "#636efa",
                      "#EF553B",
                      "#00cc96",
                      "#ab63fa",
                      "#FFA15A",
                      "#19d3f3",
                      "#FF6692",
                      "#B6E880",
                      "#FF97FF",
                      "#FECB52"
                    ],
                    "font": {
                      "color": "#2a3f5f"
                    },
                    "geo": {
                      "bgcolor": "white",
                      "lakecolor": "white",
                      "landcolor": "#E5ECF6",
                      "showlakes": true,
                      "showland": true,
                      "subunitcolor": "white"
                    },
                    "hoverlabel": {
                      "align": "left"
                    },
                    "hovermode": "closest",
                    "mapbox": {
                      "style": "light"
                    },
                    "paper_bgcolor": "white",
                    "plot_bgcolor": "#E5ECF6",
                    "polar": {
                      "angularaxis": {
                        "gridcolor": "white",
                        "linecolor": "white",
                        "ticks": ""
                      },
                      "bgcolor": "#E5ECF6",
                      "radialaxis": {
                        "gridcolor": "white",
                        "linecolor": "white",
                        "ticks": ""
                      }
                    },
                    "scene": {
                      "xaxis": {
                        "backgroundcolor": "#E5ECF6",
                        "gridcolor": "white",
                        "gridwidth": 2,
                        "linecolor": "white",
                        "showbackground": true,
                        "ticks": "",
                        "zerolinecolor": "white"
                      },
                      "yaxis": {
                        "backgroundcolor": "#E5ECF6",
                        "gridcolor": "white",
                        "gridwidth": 2,
                        "linecolor": "white",
                        "showbackground": true,
                        "ticks": "",
                        "zerolinecolor": "white"
                      },
                      "zaxis": {
                        "backgroundcolor": "#E5ECF6",
                        "gridcolor": "white",
                        "gridwidth": 2,
                        "linecolor": "white",
                        "showbackground": true,
                        "ticks": "",
                        "zerolinecolor": "white"
                      }
                    },
                    "shapedefaults": {
                      "line": {
                        "color": "#2a3f5f"
                      }
                    },
                    "ternary": {
                      "aaxis": {
                        "gridcolor": "white",
                        "linecolor": "white",
                        "ticks": ""
                      },
                      "baxis": {
                        "gridcolor": "white",
                        "linecolor": "white",
                        "ticks": ""
                      },
                      "bgcolor": "#E5ECF6",
                      "caxis": {
                        "gridcolor": "white",
                        "linecolor": "white",
                        "ticks": ""
                      }
                    },
                    "title": {
                      "x": 0.05
                    },
                    "xaxis": {
                      "automargin": true,
                      "gridcolor": "white",
                      "linecolor": "white",
                      "ticks": "",
                      "title": {
                        "standoff": 15
                      },
                      "zerolinecolor": "white",
                      "zerolinewidth": 2
                    },
                    "yaxis": {
                      "automargin": true,
                      "gridcolor": "white",
                      "linecolor": "white",
                      "ticks": "",
                      "title": {
                        "standoff": 15
                      },
                      "zerolinecolor": "white",
                      "zerolinewidth": 2
                    }
                  }
                },
                "title": {
                  "text": "Top-Selling Chocolate Products by Revenue"
                },
                "xaxis": {
                  "anchor": "y",
                  "categoryarray": [
                    "50% Dark Bites",
                    "70% Dark Bites",
                    "85% Dark Bars",
                    "99% Dark & Pure",
                    "After Nines",
                    "Almond Choco",
                    "Baker's Choco Chips",
                    "Caramel Stuffed Bars",
                    "Choco Coated Almonds",
                    "Drinking Coco",
                    "Eclairs",
                    "Fruit & Nut Bars",
                    "Manuka Honey Choco",
                    "Milk Bars",
                    "Mint Chip Choco",
                    "Orange Choco",
                    "Organic Choco Syrup",
                    "Peanut Butter Cubes",
                    "Raspberry Choco",
                    "Smooth Sliky Salty",
                    "Spicy Special Slims",
                    "White Choc"
                  ],
                  "categoryorder": "array",
                  "domain": [
                    0,
                    1
                  ],
                  "title": {
                    "text": "Product"
                  }
                },
                "yaxis": {
                  "anchor": "x",
                  "domain": [
                    0,
                    1
                  ],
                  "title": {
                    "text": "Total Sales ($)"
                  }
                }
              }
            }
          },
          "metadata": {},
          "output_type": "display_data"
        },
        {
          "data": {
            "application/vnd.plotly.v1+json": {
              "config": {
                "plotlyServerURL": "https://plot.ly"
              },
              "data": [
                {
                  "hovertemplate": "<b>%{hovertext}</b><br><br>Product=50% Dark Bites<br>Total Boxes Shipped=%{x}<br>Total Sales ($)=%{marker.size}<extra></extra>",
                  "hovertext": [
                    "50% Dark Bites"
                  ],
                  "legendgroup": "50% Dark Bites",
                  "marker": {
                    "color": "#636efa",
                    "size": [
                      341712
                    ],
                    "sizemode": "area",
                    "sizeref": 874.23,
                    "symbol": "circle"
                  },
                  "mode": "markers",
                  "name": "50% Dark Bites",
                  "orientation": "v",
                  "showlegend": true,
                  "type": "scatter",
                  "x": [
                    9792
                  ],
                  "xaxis": "x",
                  "y": [
                    341712
                  ],
                  "yaxis": "y"
                },
                {
                  "hovertemplate": "<b>%{hovertext}</b><br><br>Product=70% Dark Bites<br>Total Boxes Shipped=%{x}<br>Total Sales ($)=%{marker.size}<extra></extra>",
                  "hovertext": [
                    "70% Dark Bites"
                  ],
                  "legendgroup": "70% Dark Bites",
                  "marker": {
                    "color": "#EF553B",
                    "size": [
                      211610
                    ],
                    "sizemode": "area",
                    "sizeref": 874.23,
                    "symbol": "circle"
                  },
                  "mode": "markers",
                  "name": "70% Dark Bites",
                  "orientation": "v",
                  "showlegend": true,
                  "type": "scatter",
                  "x": [
                    8015
                  ],
                  "xaxis": "x",
                  "y": [
                    211610
                  ],
                  "yaxis": "y"
                },
                {
                  "hovertemplate": "<b>%{hovertext}</b><br><br>Product=85% Dark Bars<br>Total Boxes Shipped=%{x}<br>Total Sales ($)=%{marker.size}<extra></extra>",
                  "hovertext": [
                    "85% Dark Bars"
                  ],
                  "legendgroup": "85% Dark Bars",
                  "marker": {
                    "color": "#00cc96",
                    "size": [
                      299229
                    ],
                    "sizemode": "area",
                    "sizeref": 874.23,
                    "symbol": "circle"
                  },
                  "mode": "markers",
                  "name": "85% Dark Bars",
                  "orientation": "v",
                  "showlegend": true,
                  "type": "scatter",
                  "x": [
                    7793
                  ],
                  "xaxis": "x",
                  "y": [
                    299229
                  ],
                  "yaxis": "y"
                },
                {
                  "hovertemplate": "<b>%{hovertext}</b><br><br>Product=99% Dark & Pure<br>Total Boxes Shipped=%{x}<br>Total Sales ($)=%{marker.size}<extra></extra>",
                  "hovertext": [
                    "99% Dark & Pure"
                  ],
                  "legendgroup": "99% Dark & Pure",
                  "marker": {
                    "color": "#ab63fa",
                    "size": [
                      299796
                    ],
                    "sizemode": "area",
                    "sizeref": 874.23,
                    "symbol": "circle"
                  },
                  "mode": "markers",
                  "name": "99% Dark & Pure",
                  "orientation": "v",
                  "showlegend": true,
                  "type": "scatter",
                  "x": [
                    8127
                  ],
                  "xaxis": "x",
                  "y": [
                    299796
                  ],
                  "yaxis": "y"
                },
                {
                  "hovertemplate": "<b>%{hovertext}</b><br><br>Product=After Nines<br>Total Boxes Shipped=%{x}<br>Total Sales ($)=%{marker.size}<extra></extra>",
                  "hovertext": [
                    "After Nines"
                  ],
                  "legendgroup": "After Nines",
                  "marker": {
                    "color": "#FFA15A",
                    "size": [
                      261331
                    ],
                    "sizemode": "area",
                    "sizeref": 874.23,
                    "symbol": "circle"
                  },
                  "mode": "markers",
                  "name": "After Nines",
                  "orientation": "v",
                  "showlegend": true,
                  "type": "scatter",
                  "x": [
                    8257
                  ],
                  "xaxis": "x",
                  "y": [
                    261331
                  ],
                  "yaxis": "y"
                },
                {
                  "hovertemplate": "<b>%{hovertext}</b><br><br>Product=Almond Choco<br>Total Boxes Shipped=%{x}<br>Total Sales ($)=%{marker.size}<extra></extra>",
                  "hovertext": [
                    "Almond Choco"
                  ],
                  "legendgroup": "Almond Choco",
                  "marker": {
                    "color": "#19d3f3",
                    "size": [
                      277536
                    ],
                    "sizemode": "area",
                    "sizeref": 874.23,
                    "symbol": "circle"
                  },
                  "mode": "markers",
                  "name": "Almond Choco",
                  "orientation": "v",
                  "showlegend": true,
                  "type": "scatter",
                  "x": [
                    6736
                  ],
                  "xaxis": "x",
                  "y": [
                    277536
                  ],
                  "yaxis": "y"
                },
                {
                  "hovertemplate": "<b>%{hovertext}</b><br><br>Product=Baker's Choco Chips<br>Total Boxes Shipped=%{x}<br>Total Sales ($)=%{marker.size}<extra></extra>",
                  "hovertext": [
                    "Baker's Choco Chips"
                  ],
                  "legendgroup": "Baker's Choco Chips",
                  "marker": {
                    "color": "#FF6692",
                    "size": [
                      249613
                    ],
                    "sizemode": "area",
                    "sizeref": 874.23,
                    "symbol": "circle"
                  },
                  "mode": "markers",
                  "name": "Baker's Choco Chips",
                  "orientation": "v",
                  "showlegend": true,
                  "type": "scatter",
                  "x": [
                    6998
                  ],
                  "xaxis": "x",
                  "y": [
                    249613
                  ],
                  "yaxis": "y"
                },
                {
                  "hovertemplate": "<b>%{hovertext}</b><br><br>Product=Caramel Stuffed Bars<br>Total Boxes Shipped=%{x}<br>Total Sales ($)=%{marker.size}<extra></extra>",
                  "hovertext": [
                    "Caramel Stuffed Bars"
                  ],
                  "legendgroup": "Caramel Stuffed Bars",
                  "marker": {
                    "color": "#B6E880",
                    "size": [
                      231588
                    ],
                    "sizemode": "area",
                    "sizeref": 874.23,
                    "symbol": "circle"
                  },
                  "mode": "markers",
                  "name": "Caramel Stuffed Bars",
                  "orientation": "v",
                  "showlegend": true,
                  "type": "scatter",
                  "x": [
                    8717
                  ],
                  "xaxis": "x",
                  "y": [
                    231588
                  ],
                  "yaxis": "y"
                },
                {
                  "hovertemplate": "<b>%{hovertext}</b><br><br>Product=Choco Coated Almonds<br>Total Boxes Shipped=%{x}<br>Total Sales ($)=%{marker.size}<extra></extra>",
                  "hovertext": [
                    "Choco Coated Almonds"
                  ],
                  "legendgroup": "Choco Coated Almonds",
                  "marker": {
                    "color": "#FF97FF",
                    "size": [
                      241486
                    ],
                    "sizemode": "area",
                    "sizeref": 874.23,
                    "symbol": "circle"
                  },
                  "mode": "markers",
                  "name": "Choco Coated Almonds",
                  "orientation": "v",
                  "showlegend": true,
                  "type": "scatter",
                  "x": [
                    6464
                  ],
                  "xaxis": "x",
                  "y": [
                    241486
                  ],
                  "yaxis": "y"
                },
                {
                  "hovertemplate": "<b>%{hovertext}</b><br><br>Product=Drinking Coco<br>Total Boxes Shipped=%{x}<br>Total Sales ($)=%{marker.size}<extra></extra>",
                  "hovertext": [
                    "Drinking Coco"
                  ],
                  "legendgroup": "Drinking Coco",
                  "marker": {
                    "color": "#FECB52",
                    "size": [
                      256655
                    ],
                    "sizemode": "area",
                    "sizeref": 874.23,
                    "symbol": "circle"
                  },
                  "mode": "markers",
                  "name": "Drinking Coco",
                  "orientation": "v",
                  "showlegend": true,
                  "type": "scatter",
                  "x": [
                    8660
                  ],
                  "xaxis": "x",
                  "y": [
                    256655
                  ],
                  "yaxis": "y"
                },
                {
                  "hovertemplate": "<b>%{hovertext}</b><br><br>Product=Eclairs<br>Total Boxes Shipped=%{x}<br>Total Sales ($)=%{marker.size}<extra></extra>",
                  "hovertext": [
                    "Eclairs"
                  ],
                  "legendgroup": "Eclairs",
                  "marker": {
                    "color": "#636efa",
                    "size": [
                      312445
                    ],
                    "sizemode": "area",
                    "sizeref": 874.23,
                    "symbol": "circle"
                  },
                  "mode": "markers",
                  "name": "Eclairs",
                  "orientation": "v",
                  "showlegend": true,
                  "type": "scatter",
                  "x": [
                    8757
                  ],
                  "xaxis": "x",
                  "y": [
                    312445
                  ],
                  "yaxis": "y"
                },
                {
                  "hovertemplate": "<b>%{hovertext}</b><br><br>Product=Fruit & Nut Bars<br>Total Boxes Shipped=%{x}<br>Total Sales ($)=%{marker.size}<extra></extra>",
                  "hovertext": [
                    "Fruit & Nut Bars"
                  ],
                  "legendgroup": "Fruit & Nut Bars",
                  "marker": {
                    "color": "#EF553B",
                    "size": [
                      259147
                    ],
                    "sizemode": "area",
                    "sizeref": 874.23,
                    "symbol": "circle"
                  },
                  "mode": "markers",
                  "name": "Fruit & Nut Bars",
                  "orientation": "v",
                  "showlegend": true,
                  "type": "scatter",
                  "x": [
                    7738
                  ],
                  "xaxis": "x",
                  "y": [
                    259147
                  ],
                  "yaxis": "y"
                },
                {
                  "hovertemplate": "<b>%{hovertext}</b><br><br>Product=Manuka Honey Choco<br>Total Boxes Shipped=%{x}<br>Total Sales ($)=%{marker.size}<extra></extra>",
                  "hovertext": [
                    "Manuka Honey Choco"
                  ],
                  "legendgroup": "Manuka Honey Choco",
                  "marker": {
                    "color": "#00cc96",
                    "size": [
                      275541
                    ],
                    "sizemode": "area",
                    "sizeref": 874.23,
                    "symbol": "circle"
                  },
                  "mode": "markers",
                  "name": "Manuka Honey Choco",
                  "orientation": "v",
                  "showlegend": true,
                  "type": "scatter",
                  "x": [
                    7781
                  ],
                  "xaxis": "x",
                  "y": [
                    275541
                  ],
                  "yaxis": "y"
                },
                {
                  "hovertemplate": "<b>%{hovertext}</b><br><br>Product=Milk Bars<br>Total Boxes Shipped=%{x}<br>Total Sales ($)=%{marker.size}<extra></extra>",
                  "hovertext": [
                    "Milk Bars"
                  ],
                  "legendgroup": "Milk Bars",
                  "marker": {
                    "color": "#ab63fa",
                    "size": [
                      269248
                    ],
                    "sizemode": "area",
                    "sizeref": 874.23,
                    "symbol": "circle"
                  },
                  "mode": "markers",
                  "name": "Milk Bars",
                  "orientation": "v",
                  "showlegend": true,
                  "type": "scatter",
                  "x": [
                    8330
                  ],
                  "xaxis": "x",
                  "y": [
                    269248
                  ],
                  "yaxis": "y"
                },
                {
                  "hovertemplate": "<b>%{hovertext}</b><br><br>Product=Mint Chip Choco<br>Total Boxes Shipped=%{x}<br>Total Sales ($)=%{marker.size}<extra></extra>",
                  "hovertext": [
                    "Mint Chip Choco"
                  ],
                  "legendgroup": "Mint Chip Choco",
                  "marker": {
                    "color": "#FFA15A",
                    "size": [
                      283969
                    ],
                    "sizemode": "area",
                    "sizeref": 874.23,
                    "symbol": "circle"
                  },
                  "mode": "markers",
                  "name": "Mint Chip Choco",
                  "orientation": "v",
                  "showlegend": true,
                  "type": "scatter",
                  "x": [
                    8207
                  ],
                  "xaxis": "x",
                  "y": [
                    283969
                  ],
                  "yaxis": "y"
                },
                {
                  "hovertemplate": "<b>%{hovertext}</b><br><br>Product=Orange Choco<br>Total Boxes Shipped=%{x}<br>Total Sales ($)=%{marker.size}<extra></extra>",
                  "hovertext": [
                    "Orange Choco"
                  ],
                  "legendgroup": "Orange Choco",
                  "marker": {
                    "color": "#19d3f3",
                    "size": [
                      256144
                    ],
                    "sizemode": "area",
                    "sizeref": 874.23,
                    "symbol": "circle"
                  },
                  "mode": "markers",
                  "name": "Orange Choco",
                  "orientation": "v",
                  "showlegend": true,
                  "type": "scatter",
                  "x": [
                    7732
                  ],
                  "xaxis": "x",
                  "y": [
                    256144
                  ],
                  "yaxis": "y"
                },
                {
                  "hovertemplate": "<b>%{hovertext}</b><br><br>Product=Organic Choco Syrup<br>Total Boxes Shipped=%{x}<br>Total Sales ($)=%{marker.size}<extra></extra>",
                  "hovertext": [
                    "Organic Choco Syrup"
                  ],
                  "legendgroup": "Organic Choco Syrup",
                  "marker": {
                    "color": "#FF6692",
                    "size": [
                      294700
                    ],
                    "sizemode": "area",
                    "sizeref": 874.23,
                    "symbol": "circle"
                  },
                  "mode": "markers",
                  "name": "Organic Choco Syrup",
                  "orientation": "v",
                  "showlegend": true,
                  "type": "scatter",
                  "x": [
                    7749
                  ],
                  "xaxis": "x",
                  "y": [
                    294700
                  ],
                  "yaxis": "y"
                },
                {
                  "hovertemplate": "<b>%{hovertext}</b><br><br>Product=Peanut Butter Cubes<br>Total Boxes Shipped=%{x}<br>Total Sales ($)=%{marker.size}<extra></extra>",
                  "hovertext": [
                    "Peanut Butter Cubes"
                  ],
                  "legendgroup": "Peanut Butter Cubes",
                  "marker": {
                    "color": "#B6E880",
                    "size": [
                      324842
                    ],
                    "sizemode": "area",
                    "sizeref": 874.23,
                    "symbol": "circle"
                  },
                  "mode": "markers",
                  "name": "Peanut Butter Cubes",
                  "orientation": "v",
                  "showlegend": true,
                  "type": "scatter",
                  "x": [
                    8304
                  ],
                  "xaxis": "x",
                  "y": [
                    324842
                  ],
                  "yaxis": "y"
                },
                {
                  "hovertemplate": "<b>%{hovertext}</b><br><br>Product=Raspberry Choco<br>Total Boxes Shipped=%{x}<br>Total Sales ($)=%{marker.size}<extra></extra>",
                  "hovertext": [
                    "Raspberry Choco"
                  ],
                  "legendgroup": "Raspberry Choco",
                  "marker": {
                    "color": "#FF97FF",
                    "size": [
                      264740
                    ],
                    "sizemode": "area",
                    "sizeref": 874.23,
                    "symbol": "circle"
                  },
                  "mode": "markers",
                  "name": "Raspberry Choco",
                  "orientation": "v",
                  "showlegend": true,
                  "type": "scatter",
                  "x": [
                    7115
                  ],
                  "xaxis": "x",
                  "y": [
                    264740
                  ],
                  "yaxis": "y"
                },
                {
                  "hovertemplate": "<b>%{hovertext}</b><br><br>Product=Smooth Sliky Salty<br>Total Boxes Shipped=%{x}<br>Total Sales ($)=%{marker.size}<extra></extra>",
                  "hovertext": [
                    "Smooth Sliky Salty"
                  ],
                  "legendgroup": "Smooth Sliky Salty",
                  "marker": {
                    "color": "#FECB52",
                    "size": [
                      349692
                    ],
                    "sizemode": "area",
                    "sizeref": 874.23,
                    "symbol": "circle"
                  },
                  "mode": "markers",
                  "name": "Smooth Sliky Salty",
                  "orientation": "v",
                  "showlegend": true,
                  "type": "scatter",
                  "x": [
                    8810
                  ],
                  "xaxis": "x",
                  "y": [
                    349692
                  ],
                  "yaxis": "y"
                },
                {
                  "hovertemplate": "<b>%{hovertext}</b><br><br>Product=Spicy Special Slims<br>Total Boxes Shipped=%{x}<br>Total Sales ($)=%{marker.size}<extra></extra>",
                  "hovertext": [
                    "Spicy Special Slims"
                  ],
                  "legendgroup": "Spicy Special Slims",
                  "marker": {
                    "color": "#636efa",
                    "size": [
                      293454
                    ],
                    "sizemode": "area",
                    "sizeref": 874.23,
                    "symbol": "circle"
                  },
                  "mode": "markers",
                  "name": "Spicy Special Slims",
                  "orientation": "v",
                  "showlegend": true,
                  "type": "scatter",
                  "x": [
                    8685
                  ],
                  "xaxis": "x",
                  "y": [
                    293454
                  ],
                  "yaxis": "y"
                },
                {
                  "hovertemplate": "<b>%{hovertext}</b><br><br>Product=White Choc<br>Total Boxes Shipped=%{x}<br>Total Sales ($)=%{marker.size}<extra></extra>",
                  "hovertext": [
                    "White Choc"
                  ],
                  "legendgroup": "White Choc",
                  "marker": {
                    "color": "#EF553B",
                    "size": [
                      329147
                    ],
                    "sizemode": "area",
                    "sizeref": 874.23,
                    "symbol": "circle"
                  },
                  "mode": "markers",
                  "name": "White Choc",
                  "orientation": "v",
                  "showlegend": true,
                  "type": "scatter",
                  "x": [
                    8240
                  ],
                  "xaxis": "x",
                  "y": [
                    329147
                  ],
                  "yaxis": "y"
                }
              ],
              "layout": {
                "legend": {
                  "itemsizing": "constant",
                  "title": {
                    "text": "Product"
                  },
                  "tracegroupgap": 0
                },
                "template": {
                  "data": {
                    "bar": [
                      {
                        "error_x": {
                          "color": "#2a3f5f"
                        },
                        "error_y": {
                          "color": "#2a3f5f"
                        },
                        "marker": {
                          "line": {
                            "color": "#E5ECF6",
                            "width": 0.5
                          },
                          "pattern": {
                            "fillmode": "overlay",
                            "size": 10,
                            "solidity": 0.2
                          }
                        },
                        "type": "bar"
                      }
                    ],
                    "barpolar": [
                      {
                        "marker": {
                          "line": {
                            "color": "#E5ECF6",
                            "width": 0.5
                          },
                          "pattern": {
                            "fillmode": "overlay",
                            "size": 10,
                            "solidity": 0.2
                          }
                        },
                        "type": "barpolar"
                      }
                    ],
                    "carpet": [
                      {
                        "aaxis": {
                          "endlinecolor": "#2a3f5f",
                          "gridcolor": "white",
                          "linecolor": "white",
                          "minorgridcolor": "white",
                          "startlinecolor": "#2a3f5f"
                        },
                        "baxis": {
                          "endlinecolor": "#2a3f5f",
                          "gridcolor": "white",
                          "linecolor": "white",
                          "minorgridcolor": "white",
                          "startlinecolor": "#2a3f5f"
                        },
                        "type": "carpet"
                      }
                    ],
                    "choropleth": [
                      {
                        "colorbar": {
                          "outlinewidth": 0,
                          "ticks": ""
                        },
                        "type": "choropleth"
                      }
                    ],
                    "contour": [
                      {
                        "colorbar": {
                          "outlinewidth": 0,
                          "ticks": ""
                        },
                        "colorscale": [
                          [
                            0,
                            "#0d0887"
                          ],
                          [
                            0.1111111111111111,
                            "#46039f"
                          ],
                          [
                            0.2222222222222222,
                            "#7201a8"
                          ],
                          [
                            0.3333333333333333,
                            "#9c179e"
                          ],
                          [
                            0.4444444444444444,
                            "#bd3786"
                          ],
                          [
                            0.5555555555555556,
                            "#d8576b"
                          ],
                          [
                            0.6666666666666666,
                            "#ed7953"
                          ],
                          [
                            0.7777777777777778,
                            "#fb9f3a"
                          ],
                          [
                            0.8888888888888888,
                            "#fdca26"
                          ],
                          [
                            1,
                            "#f0f921"
                          ]
                        ],
                        "type": "contour"
                      }
                    ],
                    "contourcarpet": [
                      {
                        "colorbar": {
                          "outlinewidth": 0,
                          "ticks": ""
                        },
                        "type": "contourcarpet"
                      }
                    ],
                    "heatmap": [
                      {
                        "colorbar": {
                          "outlinewidth": 0,
                          "ticks": ""
                        },
                        "colorscale": [
                          [
                            0,
                            "#0d0887"
                          ],
                          [
                            0.1111111111111111,
                            "#46039f"
                          ],
                          [
                            0.2222222222222222,
                            "#7201a8"
                          ],
                          [
                            0.3333333333333333,
                            "#9c179e"
                          ],
                          [
                            0.4444444444444444,
                            "#bd3786"
                          ],
                          [
                            0.5555555555555556,
                            "#d8576b"
                          ],
                          [
                            0.6666666666666666,
                            "#ed7953"
                          ],
                          [
                            0.7777777777777778,
                            "#fb9f3a"
                          ],
                          [
                            0.8888888888888888,
                            "#fdca26"
                          ],
                          [
                            1,
                            "#f0f921"
                          ]
                        ],
                        "type": "heatmap"
                      }
                    ],
                    "heatmapgl": [
                      {
                        "colorbar": {
                          "outlinewidth": 0,
                          "ticks": ""
                        },
                        "colorscale": [
                          [
                            0,
                            "#0d0887"
                          ],
                          [
                            0.1111111111111111,
                            "#46039f"
                          ],
                          [
                            0.2222222222222222,
                            "#7201a8"
                          ],
                          [
                            0.3333333333333333,
                            "#9c179e"
                          ],
                          [
                            0.4444444444444444,
                            "#bd3786"
                          ],
                          [
                            0.5555555555555556,
                            "#d8576b"
                          ],
                          [
                            0.6666666666666666,
                            "#ed7953"
                          ],
                          [
                            0.7777777777777778,
                            "#fb9f3a"
                          ],
                          [
                            0.8888888888888888,
                            "#fdca26"
                          ],
                          [
                            1,
                            "#f0f921"
                          ]
                        ],
                        "type": "heatmapgl"
                      }
                    ],
                    "histogram": [
                      {
                        "marker": {
                          "pattern": {
                            "fillmode": "overlay",
                            "size": 10,
                            "solidity": 0.2
                          }
                        },
                        "type": "histogram"
                      }
                    ],
                    "histogram2d": [
                      {
                        "colorbar": {
                          "outlinewidth": 0,
                          "ticks": ""
                        },
                        "colorscale": [
                          [
                            0,
                            "#0d0887"
                          ],
                          [
                            0.1111111111111111,
                            "#46039f"
                          ],
                          [
                            0.2222222222222222,
                            "#7201a8"
                          ],
                          [
                            0.3333333333333333,
                            "#9c179e"
                          ],
                          [
                            0.4444444444444444,
                            "#bd3786"
                          ],
                          [
                            0.5555555555555556,
                            "#d8576b"
                          ],
                          [
                            0.6666666666666666,
                            "#ed7953"
                          ],
                          [
                            0.7777777777777778,
                            "#fb9f3a"
                          ],
                          [
                            0.8888888888888888,
                            "#fdca26"
                          ],
                          [
                            1,
                            "#f0f921"
                          ]
                        ],
                        "type": "histogram2d"
                      }
                    ],
                    "histogram2dcontour": [
                      {
                        "colorbar": {
                          "outlinewidth": 0,
                          "ticks": ""
                        },
                        "colorscale": [
                          [
                            0,
                            "#0d0887"
                          ],
                          [
                            0.1111111111111111,
                            "#46039f"
                          ],
                          [
                            0.2222222222222222,
                            "#7201a8"
                          ],
                          [
                            0.3333333333333333,
                            "#9c179e"
                          ],
                          [
                            0.4444444444444444,
                            "#bd3786"
                          ],
                          [
                            0.5555555555555556,
                            "#d8576b"
                          ],
                          [
                            0.6666666666666666,
                            "#ed7953"
                          ],
                          [
                            0.7777777777777778,
                            "#fb9f3a"
                          ],
                          [
                            0.8888888888888888,
                            "#fdca26"
                          ],
                          [
                            1,
                            "#f0f921"
                          ]
                        ],
                        "type": "histogram2dcontour"
                      }
                    ],
                    "mesh3d": [
                      {
                        "colorbar": {
                          "outlinewidth": 0,
                          "ticks": ""
                        },
                        "type": "mesh3d"
                      }
                    ],
                    "parcoords": [
                      {
                        "line": {
                          "colorbar": {
                            "outlinewidth": 0,
                            "ticks": ""
                          }
                        },
                        "type": "parcoords"
                      }
                    ],
                    "pie": [
                      {
                        "automargin": true,
                        "type": "pie"
                      }
                    ],
                    "scatter": [
                      {
                        "fillpattern": {
                          "fillmode": "overlay",
                          "size": 10,
                          "solidity": 0.2
                        },
                        "type": "scatter"
                      }
                    ],
                    "scatter3d": [
                      {
                        "line": {
                          "colorbar": {
                            "outlinewidth": 0,
                            "ticks": ""
                          }
                        },
                        "marker": {
                          "colorbar": {
                            "outlinewidth": 0,
                            "ticks": ""
                          }
                        },
                        "type": "scatter3d"
                      }
                    ],
                    "scattercarpet": [
                      {
                        "marker": {
                          "colorbar": {
                            "outlinewidth": 0,
                            "ticks": ""
                          }
                        },
                        "type": "scattercarpet"
                      }
                    ],
                    "scattergeo": [
                      {
                        "marker": {
                          "colorbar": {
                            "outlinewidth": 0,
                            "ticks": ""
                          }
                        },
                        "type": "scattergeo"
                      }
                    ],
                    "scattergl": [
                      {
                        "marker": {
                          "colorbar": {
                            "outlinewidth": 0,
                            "ticks": ""
                          }
                        },
                        "type": "scattergl"
                      }
                    ],
                    "scattermapbox": [
                      {
                        "marker": {
                          "colorbar": {
                            "outlinewidth": 0,
                            "ticks": ""
                          }
                        },
                        "type": "scattermapbox"
                      }
                    ],
                    "scatterpolar": [
                      {
                        "marker": {
                          "colorbar": {
                            "outlinewidth": 0,
                            "ticks": ""
                          }
                        },
                        "type": "scatterpolar"
                      }
                    ],
                    "scatterpolargl": [
                      {
                        "marker": {
                          "colorbar": {
                            "outlinewidth": 0,
                            "ticks": ""
                          }
                        },
                        "type": "scatterpolargl"
                      }
                    ],
                    "scatterternary": [
                      {
                        "marker": {
                          "colorbar": {
                            "outlinewidth": 0,
                            "ticks": ""
                          }
                        },
                        "type": "scatterternary"
                      }
                    ],
                    "surface": [
                      {
                        "colorbar": {
                          "outlinewidth": 0,
                          "ticks": ""
                        },
                        "colorscale": [
                          [
                            0,
                            "#0d0887"
                          ],
                          [
                            0.1111111111111111,
                            "#46039f"
                          ],
                          [
                            0.2222222222222222,
                            "#7201a8"
                          ],
                          [
                            0.3333333333333333,
                            "#9c179e"
                          ],
                          [
                            0.4444444444444444,
                            "#bd3786"
                          ],
                          [
                            0.5555555555555556,
                            "#d8576b"
                          ],
                          [
                            0.6666666666666666,
                            "#ed7953"
                          ],
                          [
                            0.7777777777777778,
                            "#fb9f3a"
                          ],
                          [
                            0.8888888888888888,
                            "#fdca26"
                          ],
                          [
                            1,
                            "#f0f921"
                          ]
                        ],
                        "type": "surface"
                      }
                    ],
                    "table": [
                      {
                        "cells": {
                          "fill": {
                            "color": "#EBF0F8"
                          },
                          "line": {
                            "color": "white"
                          }
                        },
                        "header": {
                          "fill": {
                            "color": "#C8D4E3"
                          },
                          "line": {
                            "color": "white"
                          }
                        },
                        "type": "table"
                      }
                    ]
                  },
                  "layout": {
                    "annotationdefaults": {
                      "arrowcolor": "#2a3f5f",
                      "arrowhead": 0,
                      "arrowwidth": 1
                    },
                    "autotypenumbers": "strict",
                    "coloraxis": {
                      "colorbar": {
                        "outlinewidth": 0,
                        "ticks": ""
                      }
                    },
                    "colorscale": {
                      "diverging": [
                        [
                          0,
                          "#8e0152"
                        ],
                        [
                          0.1,
                          "#c51b7d"
                        ],
                        [
                          0.2,
                          "#de77ae"
                        ],
                        [
                          0.3,
                          "#f1b6da"
                        ],
                        [
                          0.4,
                          "#fde0ef"
                        ],
                        [
                          0.5,
                          "#f7f7f7"
                        ],
                        [
                          0.6,
                          "#e6f5d0"
                        ],
                        [
                          0.7,
                          "#b8e186"
                        ],
                        [
                          0.8,
                          "#7fbc41"
                        ],
                        [
                          0.9,
                          "#4d9221"
                        ],
                        [
                          1,
                          "#276419"
                        ]
                      ],
                      "sequential": [
                        [
                          0,
                          "#0d0887"
                        ],
                        [
                          0.1111111111111111,
                          "#46039f"
                        ],
                        [
                          0.2222222222222222,
                          "#7201a8"
                        ],
                        [
                          0.3333333333333333,
                          "#9c179e"
                        ],
                        [
                          0.4444444444444444,
                          "#bd3786"
                        ],
                        [
                          0.5555555555555556,
                          "#d8576b"
                        ],
                        [
                          0.6666666666666666,
                          "#ed7953"
                        ],
                        [
                          0.7777777777777778,
                          "#fb9f3a"
                        ],
                        [
                          0.8888888888888888,
                          "#fdca26"
                        ],
                        [
                          1,
                          "#f0f921"
                        ]
                      ],
                      "sequentialminus": [
                        [
                          0,
                          "#0d0887"
                        ],
                        [
                          0.1111111111111111,
                          "#46039f"
                        ],
                        [
                          0.2222222222222222,
                          "#7201a8"
                        ],
                        [
                          0.3333333333333333,
                          "#9c179e"
                        ],
                        [
                          0.4444444444444444,
                          "#bd3786"
                        ],
                        [
                          0.5555555555555556,
                          "#d8576b"
                        ],
                        [
                          0.6666666666666666,
                          "#ed7953"
                        ],
                        [
                          0.7777777777777778,
                          "#fb9f3a"
                        ],
                        [
                          0.8888888888888888,
                          "#fdca26"
                        ],
                        [
                          1,
                          "#f0f921"
                        ]
                      ]
                    },
                    "colorway": [
                      "#636efa",
                      "#EF553B",
                      "#00cc96",
                      "#ab63fa",
                      "#FFA15A",
                      "#19d3f3",
                      "#FF6692",
                      "#B6E880",
                      "#FF97FF",
                      "#FECB52"
                    ],
                    "font": {
                      "color": "#2a3f5f"
                    },
                    "geo": {
                      "bgcolor": "white",
                      "lakecolor": "white",
                      "landcolor": "#E5ECF6",
                      "showlakes": true,
                      "showland": true,
                      "subunitcolor": "white"
                    },
                    "hoverlabel": {
                      "align": "left"
                    },
                    "hovermode": "closest",
                    "mapbox": {
                      "style": "light"
                    },
                    "paper_bgcolor": "white",
                    "plot_bgcolor": "#E5ECF6",
                    "polar": {
                      "angularaxis": {
                        "gridcolor": "white",
                        "linecolor": "white",
                        "ticks": ""
                      },
                      "bgcolor": "#E5ECF6",
                      "radialaxis": {
                        "gridcolor": "white",
                        "linecolor": "white",
                        "ticks": ""
                      }
                    },
                    "scene": {
                      "xaxis": {
                        "backgroundcolor": "#E5ECF6",
                        "gridcolor": "white",
                        "gridwidth": 2,
                        "linecolor": "white",
                        "showbackground": true,
                        "ticks": "",
                        "zerolinecolor": "white"
                      },
                      "yaxis": {
                        "backgroundcolor": "#E5ECF6",
                        "gridcolor": "white",
                        "gridwidth": 2,
                        "linecolor": "white",
                        "showbackground": true,
                        "ticks": "",
                        "zerolinecolor": "white"
                      },
                      "zaxis": {
                        "backgroundcolor": "#E5ECF6",
                        "gridcolor": "white",
                        "gridwidth": 2,
                        "linecolor": "white",
                        "showbackground": true,
                        "ticks": "",
                        "zerolinecolor": "white"
                      }
                    },
                    "shapedefaults": {
                      "line": {
                        "color": "#2a3f5f"
                      }
                    },
                    "ternary": {
                      "aaxis": {
                        "gridcolor": "white",
                        "linecolor": "white",
                        "ticks": ""
                      },
                      "baxis": {
                        "gridcolor": "white",
                        "linecolor": "white",
                        "ticks": ""
                      },
                      "bgcolor": "#E5ECF6",
                      "caxis": {
                        "gridcolor": "white",
                        "linecolor": "white",
                        "ticks": ""
                      }
                    },
                    "title": {
                      "x": 0.05
                    },
                    "xaxis": {
                      "automargin": true,
                      "gridcolor": "white",
                      "linecolor": "white",
                      "ticks": "",
                      "title": {
                        "standoff": 15
                      },
                      "zerolinecolor": "white",
                      "zerolinewidth": 2
                    },
                    "yaxis": {
                      "automargin": true,
                      "gridcolor": "white",
                      "linecolor": "white",
                      "ticks": "",
                      "title": {
                        "standoff": 15
                      },
                      "zerolinecolor": "white",
                      "zerolinewidth": 2
                    }
                  }
                },
                "title": {
                  "text": "Relationship Between Boxes Shipped & Sales Revenue"
                },
                "xaxis": {
                  "anchor": "y",
                  "domain": [
                    0,
                    1
                  ],
                  "title": {
                    "text": "Total Boxes Shipped"
                  }
                },
                "yaxis": {
                  "anchor": "x",
                  "domain": [
                    0,
                    1
                  ],
                  "title": {
                    "text": "Total Sales ($)"
                  }
                }
              }
            }
          },
          "metadata": {},
          "output_type": "display_data"
        }
      ],
      "source": [
        "# --- Bar Chart: Top-Selling Chocolate Products by Revenue ---\n",
        "# Aggregate total sales by product name\n",
        "product_sales = df.groupby(\"Product\", as_index=False)[\"Amount\"].sum()\n",
        "\n",
        "# Create bar chart\n",
        "fig_bar = px.bar(product_sales, \n",
        "                 x=\"Product\", \n",
        "                 y=\"Amount\", \n",
        "                 color=\"Product\",\n",
        "                 title=\"Top-Selling Chocolate Products by Revenue\",\n",
        "                 labels={\"Amount\": \"Total Sales ($)\"},\n",
        "                 height=500)\n",
        "\n",
        "fig_bar.show()\n",
        "\n",
        "# --- Bubble Chart: Relationship Between Boxes Shipped & Sales Revenue ---\n",
        "# Aggregate data for correlation analysis\n",
        "correlation_data = df.groupby(\"Product\", as_index=False).agg({\"Boxes Shipped\": \"sum\", \"Amount\": \"sum\"})\n",
        "\n",
        "# Create Bubble Chart\n",
        "fig_bubble = px.scatter(correlation_data, \n",
        "                         x=\"Boxes Shipped\", \n",
        "                         y=\"Amount\", \n",
        "                         size=\"Amount\", \n",
        "                         color=\"Product\",\n",
        "                         title=\"Relationship Between Boxes Shipped & Sales Revenue\",\n",
        "                         labels={\"Boxes Shipped\": \"Total Boxes Shipped\", \"Amount\": \"Total Sales ($)\"},\n",
        "                         hover_name=\"Product\")\n",
        "\n",
        "fig_bubble.show()"
      ]
    },
    {
      "cell_type": "markdown",
      "metadata": {},
      "source": [
        "<div style='background-color:#714737; padding: 15px; border-radius: 5px;'>\n",
        "<h2 style='color:#FEFEFE; text-align:center;'>Conclusion</h2>\n",
        "</div>\n"
      ]
    },
    {
      "cell_type": "markdown",
      "metadata": {
        "vscode": {
          "languageId": "markdown"
        }
      },
      "source": [
        "This analysis explored key factors influencing chocolate sales performance across time, geography, and product lines. Four main hypotheses were examined through visualizations and statistical testing.\n",
        "\n",
        "<h4 style='color:#714737;'>Key Findings</h4>\n",
        "\n",
        "<h5 style='color:#714737;'>1. Hypothesis 1 </h5>\n",
        "This hypothesis which proposed that chocolate sales follow seasonal trends, was visually confirmed. Line charts and heatmaps clearly showed higher sales volumes in key holiday months such as December and February. While statistical tests were limited due to aggregated monthly data (one value per group), the visual evidence strongly supports the presence of seasonality in chocolate sales.\n",
        "\n",
        "<h5 style='color:#714737;'>2. Hypothesis 2 & 3 </h5>\n",
        "These hypotheses which investigated differences in sales across countries and revenue efficiency across product categories, led us to retain the null hypotheses. Statistical tests showed no significant differences in total sales between countries, and no meaningful correlation between boxes shipped and total sales amount. Likewise, while certain product categories were expected to generate higher revenue per box, the results showed no statistically significant advantage compared to other categories.\n"
      ]
    },
    {
      "cell_type": "markdown",
      "metadata": {},
      "source": [
        "---\n"
      ]
    }
  ],
  "metadata": {
    "accelerator": "GPU",
    "colab": {
      "name": "Data Practitioner Jupyter Notebook.ipynb",
      "provenance": [],
      "toc_visible": true
    },
    "kernelspec": {
      "display_name": ".venv",
      "language": "python",
      "name": "python3"
    },
    "language_info": {
      "codemirror_mode": {
        "name": "ipython",
        "version": 3
      },
      "file_extension": ".py",
      "mimetype": "text/x-python",
      "name": "python",
      "nbconvert_exporter": "python",
      "pygments_lexer": "ipython3",
      "version": "3.12.8"
    },
    "orig_nbformat": 2
  },
  "nbformat": 4,
  "nbformat_minor": 2
}
